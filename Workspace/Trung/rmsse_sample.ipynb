{
 "cells": [
  {
   "cell_type": "code",
   "execution_count": 8,
   "metadata": {},
   "outputs": [
    {
     "name": "stdout",
     "output_type": "stream",
     "text": [
      "RMSSE: 0.28867513459481287\n"
     ]
    }
   ],
   "source": [
    "import sys\n",
    "import os\n",
    "import numpy as np\n",
    "\n",
    "# Add seminar_1 to sys.path\n",
    "sys.path.append(os.path.abspath(os.path.join(os.getcwd(), \"../../\")))\n",
    "from metric_calculator.rmsse import rmsse\n",
    "\n",
    "\n",
    "# Sample training data (historical data)\n",
    "train = np.array([10, 12, 15, 18, 21, 25, 30])\n",
    "\n",
    "# Sample actual values (observed values in the test period)\n",
    "actual = np.array([32, 35, 40, 42])\n",
    "\n",
    "# Sample forecasted values (predicted values)\n",
    "forecast = np.array([31, 36, 39, 41])\n",
    "\n",
    "# Compute RMSSE\n",
    "rmsse_value = rmsse(train, actual, forecast)\n",
    "print(\"RMSSE:\", rmsse_value)"
   ]
  }
 ],
 "metadata": {
  "kernelspec": {
   "display_name": "Python 3",
   "language": "python",
   "name": "python3"
  },
  "language_info": {
   "codemirror_mode": {
    "name": "ipython",
    "version": 3
   },
   "file_extension": ".py",
   "mimetype": "text/x-python",
   "name": "python",
   "nbconvert_exporter": "python",
   "pygments_lexer": "ipython3",
   "version": "3.12.7"
  }
 },
 "nbformat": 4,
 "nbformat_minor": 2
}
