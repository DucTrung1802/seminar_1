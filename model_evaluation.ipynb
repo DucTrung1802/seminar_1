{
 "cells": [
  {
   "cell_type": "markdown",
   "metadata": {},
   "source": [
    "# Model Evaluation"
   ]
  },
  {
   "cell_type": "markdown",
   "metadata": {},
   "source": [
    "## Imoprt libraries"
   ]
  },
  {
   "cell_type": "code",
   "execution_count": 24,
   "metadata": {},
   "outputs": [],
   "source": [
    "import pandas as pd\n",
    "from dataclasses import dataclass\n",
    "from enum import Enum\n",
    "from typing import List\n",
    "import os"
   ]
  },
  {
   "cell_type": "markdown",
   "metadata": {},
   "source": [
    "## Settings"
   ]
  },
  {
   "cell_type": "code",
   "execution_count": 25,
   "metadata": {},
   "outputs": [],
   "source": [
    "RESULT_PARENT_DIRECTORY = \"Result\""
   ]
  },
  {
   "cell_type": "markdown",
   "metadata": {},
   "source": [
    "## Enums"
   ]
  },
  {
   "cell_type": "code",
   "execution_count": 26,
   "metadata": {},
   "outputs": [],
   "source": [
    "class Metric(Enum):\n",
    "    RMSSE = 0  # Root Mean Squared Scaled Error"
   ]
  },
  {
   "cell_type": "markdown",
   "metadata": {},
   "source": [
    "## Classes"
   ]
  },
  {
   "cell_type": "code",
   "execution_count": 27,
   "metadata": {},
   "outputs": [],
   "source": [
    "@dataclass\n",
    "class Evaluation:\n",
    "    name: str\n",
    "    data_frame: pd.DataFrame\n",
    "\n",
    "\n",
    "@dataclass\n",
    "class MetricResult:\n",
    "    data_frame_name: str\n",
    "    metric: Metric\n",
    "    point: float\n",
    "\n",
    "\n",
    "@dataclass\n",
    "class Result:\n",
    "    author: str\n",
    "    evaluation_list: List[Evaluation]\n",
    "    metric_result_list: List[MetricResult]"
   ]
  },
  {
   "cell_type": "markdown",
   "metadata": {},
   "source": [
    "## Helper Functions"
   ]
  },
  {
   "cell_type": "code",
   "execution_count": 28,
   "metadata": {},
   "outputs": [],
   "source": [
    "def read_result(parent_directory: str):\n",
    "    # Check if the given path exists and is a directory\n",
    "    if not os.path.isdir(parent_directory):\n",
    "        raise NotADirectoryError(f\"Directory '{parent_directory}' is not found.\")\n",
    "\n",
    "    # Get a list of all subdirectories within the parent directory\n",
    "    subdirectories = [\n",
    "        d\n",
    "        for d in os.listdir(parent_directory)\n",
    "        if os.path.isdir(os.path.join(parent_directory, d))\n",
    "    ]\n",
    "\n",
    "    # Check if there are any subdirectories; if not, raise an error\n",
    "    if not subdirectories:\n",
    "        raise NotADirectoryError(\"Author subdirectories are not found.\")"
   ]
  },
  {
   "cell_type": "markdown",
   "metadata": {},
   "source": [
    "## Main Flow"
   ]
  },
  {
   "cell_type": "markdown",
   "metadata": {},
   "source": [
    "### Read Results"
   ]
  },
  {
   "cell_type": "code",
   "execution_count": 29,
   "metadata": {},
   "outputs": [],
   "source": [
    "read_result(\"Result\")"
   ]
  }
 ],
 "metadata": {
  "kernelspec": {
   "display_name": "Python 3",
   "language": "python",
   "name": "python3"
  },
  "language_info": {
   "codemirror_mode": {
    "name": "ipython",
    "version": 3
   },
   "file_extension": ".py",
   "mimetype": "text/x-python",
   "name": "python",
   "nbconvert_exporter": "python",
   "pygments_lexer": "ipython3",
   "version": "3.12.7"
  }
 },
 "nbformat": 4,
 "nbformat_minor": 2
}
