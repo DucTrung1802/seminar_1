{
 "cells": [
  {
   "cell_type": "code",
   "execution_count": 39,
   "metadata": {},
   "outputs": [],
   "source": [
    "import pandas as pd\n",
    "import random\n",
    "from enum import Enum"
   ]
  },
  {
   "cell_type": "code",
   "execution_count": 40,
   "metadata": {},
   "outputs": [],
   "source": [
    "random.seed(10)"
   ]
  },
  {
   "cell_type": "code",
   "execution_count": 41,
   "metadata": {},
   "outputs": [],
   "source": [
    "class State(Enum):\n",
    "    CA_1 = \"CA_1\"\n",
    "    CA_2 = \"CA_2\"\n",
    "    CA_3 = \"CA_3\"\n",
    "    CA_4 = \"CA_4\"\n",
    "    TX_1 = \"TX_1\"\n",
    "    TX_2 = \"TX_2\"\n",
    "    TX_3 = \"TX_3\"\n",
    "    WI_1 = \"WI_1\"\n",
    "    WI_2 = \"WI_2\"\n",
    "    WI_3 = \"WI_3\""
   ]
  },
  {
   "cell_type": "code",
   "execution_count": 42,
   "metadata": {},
   "outputs": [],
   "source": [
    "MODEL_NAME: str = \"model_name\"\n",
    "STATE_NAME: State = State.CA_1\n",
    "STATE_NAME_LIST: State = [State.CA_1, State.CA_2, State.CA_3, State.CA_4]"
   ]
  },
  {
   "cell_type": "code",
   "execution_count": 43,
   "metadata": {},
   "outputs": [],
   "source": [
    "# Generate data\n",
    "id_range = [(1914 + i) for i in range(28)]\n",
    "date_range = pd.date_range(start=\"2016-04-25\", periods=28, freq=\"D\")\n",
    "d_values = [f\"d_{1914 + i}\" for i in range(28)]\n",
    "\n",
    "# Create DataFrame\n",
    "for state in STATE_NAME_LIST:\n",
    "    df = pd.DataFrame(\n",
    "        {\n",
    "            \"id\": id_range,\n",
    "            \"date\": date_range,\n",
    "            \"d\": d_values,\n",
    "            f\"{state.value}\": [random.randint(5000, 20000) for _ in range(28)],\n",
    "        }\n",
    "    )\n",
    "\n",
    "    df.to_csv(f\"{state.value}_{MODEL_NAME}.csv\", index=False)"
   ]
  }
 ],
 "metadata": {
  "kernelspec": {
   "display_name": "Python 3",
   "language": "python",
   "name": "python3"
  },
  "language_info": {
   "codemirror_mode": {
    "name": "ipython",
    "version": 3
   },
   "file_extension": ".py",
   "mimetype": "text/x-python",
   "name": "python",
   "nbconvert_exporter": "python",
   "pygments_lexer": "ipython3",
   "version": "3.12.7"
  }
 },
 "nbformat": 4,
 "nbformat_minor": 2
}
