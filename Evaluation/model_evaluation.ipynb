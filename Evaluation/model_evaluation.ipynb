{
 "cells": [
  {
   "cell_type": "markdown",
   "metadata": {},
   "source": [
    "# Model Evaluation"
   ]
  },
  {
   "cell_type": "markdown",
   "metadata": {},
   "source": [
    "## Imoprt libraries"
   ]
  },
  {
   "cell_type": "code",
   "execution_count": 46,
   "metadata": {},
   "outputs": [],
   "source": [
    "import numpy as np\n",
    "import pandas as pd\n",
    "from dataclasses import dataclass\n",
    "from enum import Enum\n",
    "from typing import List\n",
    "import os"
   ]
  },
  {
   "cell_type": "markdown",
   "metadata": {},
   "source": [
    "## Settings"
   ]
  },
  {
   "cell_type": "code",
   "execution_count": 47,
   "metadata": {},
   "outputs": [],
   "source": [
    "RESULT_PARENT_DIRECTORY_PATH = os.path.join(\"Result\")\n",
    "TEST_DATA_FRAME_PATH = os.path.join(\"test_data_frame.csv\")\n",
    "REVENUE_TEST_DATA_FRAME_PATH = os.path.join(\n",
    "    os.pardir, \"datasets\", \"revenue_test_data_by_date_store.csv\"\n",
    ")"
   ]
  },
  {
   "cell_type": "markdown",
   "metadata": {},
   "source": [
    "## Enums"
   ]
  },
  {
   "cell_type": "code",
   "execution_count": 48,
   "metadata": {},
   "outputs": [],
   "source": [
    "class Metric(Enum):\n",
    "    RMSSE = 0  # Root Mean Squared Scaled Error"
   ]
  },
  {
   "cell_type": "markdown",
   "metadata": {},
   "source": [
    "## Classes"
   ]
  },
  {
   "cell_type": "code",
   "execution_count": 49,
   "metadata": {},
   "outputs": [],
   "source": [
    "@dataclass\n",
    "class Data_Frame:\n",
    "    name: str\n",
    "    data_frame: pd.DataFrame\n",
    "\n",
    "\n",
    "@dataclass\n",
    "class MetricResult:\n",
    "    data_frame_name: str\n",
    "    metric: Metric\n",
    "    point: float\n",
    "\n",
    "\n",
    "@dataclass\n",
    "class Result:\n",
    "    author: str\n",
    "    data_frame_list: List[Data_Frame]\n",
    "    metric_result_list: List[MetricResult]"
   ]
  },
  {
   "cell_type": "markdown",
   "metadata": {},
   "source": [
    "## Helper Functions"
   ]
  },
  {
   "cell_type": "markdown",
   "metadata": {},
   "source": [
    "### Create test data frame"
   ]
  },
  {
   "cell_type": "code",
   "execution_count": 50,
   "metadata": {},
   "outputs": [],
   "source": [
    "def create_test_data_frame() -> pd.DataFrame:\n",
    "    if os.path.isfile(TEST_DATA_FRAME_PATH):\n",
    "        print(f\"Test data frame already exists at {TEST_DATA_FRAME_PATH}\")\n",
    "        test_df = pd.read_csv(TEST_DATA_FRAME_PATH)\n",
    "        return test_df.copy()\n",
    "\n",
    "    if not os.path.isfile(REVENUE_TEST_DATA_FRAME_PATH):\n",
    "        raise FileNotFoundError(\n",
    "            f\"Revenue test data frame not found at {REVENUE_TEST_DATA_FRAME_PATH}.\"\n",
    "        )\n",
    "\n",
    "    revenue_test_df = pd.read_csv(REVENUE_TEST_DATA_FRAME_PATH)\n",
    "\n",
    "    pivoted_revenue_test_df = revenue_test_df.pivot(\n",
    "        index=[\"date\", \"d\"], columns=\"store_id\", values=\"revenue\"\n",
    "    ).reset_index()\n",
    "\n",
    "    pivoted_revenue_test_df.insert(0, \"id\", [(i + 1) for i in range(1941)])\n",
    "\n",
    "    pivoted_revenue_test_df.to_csv(TEST_DATA_FRAME_PATH, index=False)\n",
    "\n",
    "    return pivoted_revenue_test_df.copy()"
   ]
  },
  {
   "cell_type": "markdown",
   "metadata": {},
   "source": [
    "### Read results"
   ]
  },
  {
   "cell_type": "code",
   "execution_count": 51,
   "metadata": {},
   "outputs": [],
   "source": [
    "def read_result(parent_directory: str) -> List[Result]:\n",
    "    # Check if the given path exists and is a directory\n",
    "    if not os.path.isdir(parent_directory):\n",
    "        raise NotADirectoryError(f\"Directory '{parent_directory}' is not found.\")\n",
    "\n",
    "    # Get a list of all subdirectories within the parent directory\n",
    "    member_subdirectories = [\n",
    "        d\n",
    "        for d in os.listdir(parent_directory)\n",
    "        if os.path.isdir(os.path.join(parent_directory, d))\n",
    "    ]\n",
    "\n",
    "    # Check if there are any subdirectories; if not, raise an error\n",
    "    if not member_subdirectories:\n",
    "        raise NotADirectoryError(\"Author subdirectories are not found.\")\n",
    "\n",
    "    result_list: List[Result] = []\n",
    "\n",
    "    for member in member_subdirectories:\n",
    "        result = Result(author=member, data_frame_list=[], metric_result_list=[])\n",
    "\n",
    "        member_path = os.path.join(parent_directory, member)\n",
    "\n",
    "        csv_files = [\n",
    "            f\n",
    "            for f in os.listdir(member_path)\n",
    "            if f.endswith(\".csv\") and os.path.isfile(os.path.join(member_path, f))\n",
    "        ]\n",
    "\n",
    "        for csv_file in csv_files:\n",
    "            data_frame = Data_Frame(name=csv_file, data_frame=pd.read_csv(csv_file))\n",
    "            result.data_frame_list.append(data_frame)\n",
    "\n",
    "        result_list.append(result)\n",
    "\n",
    "    return result_list"
   ]
  },
  {
   "cell_type": "markdown",
   "metadata": {},
   "source": [
    "## Main Flow"
   ]
  },
  {
   "cell_type": "markdown",
   "metadata": {},
   "source": [
    "### Create test data frame"
   ]
  },
  {
   "cell_type": "code",
   "execution_count": 52,
   "metadata": {},
   "outputs": [],
   "source": [
    "test_df = create_test_data_frame()"
   ]
  },
  {
   "cell_type": "code",
   "execution_count": 53,
   "metadata": {},
   "outputs": [],
   "source": [
    "# test_df"
   ]
  },
  {
   "cell_type": "markdown",
   "metadata": {},
   "source": [
    "### Read results"
   ]
  },
  {
   "cell_type": "code",
   "execution_count": 54,
   "metadata": {},
   "outputs": [],
   "source": [
    "result_list = read_result(RESULT_PARENT_DIRECTORY_PATH)"
   ]
  },
  {
   "cell_type": "code",
   "execution_count": 55,
   "metadata": {},
   "outputs": [],
   "source": [
    "if not result_list:\n",
    "    raise FileNotFoundError(\"No data frame found.\")"
   ]
  },
  {
   "cell_type": "markdown",
   "metadata": {},
   "source": [
    "### Evaluate models"
   ]
  },
  {
   "cell_type": "markdown",
   "metadata": {},
   "source": [
    "#### Metric: Root Mean Squared Scaled Error"
   ]
  },
  {
   "cell_type": "code",
   "execution_count": 56,
   "metadata": {},
   "outputs": [],
   "source": [
    "def rmsse(train: np.ndarray, actual: np.ndarray, forecast: np.ndarray) -> float:\n",
    "    \"\"\"\n",
    "    Compute Root Mean Squared Scaled Error (RMSSE) based on the correct formula.\n",
    "\n",
    "    Parameters:\n",
    "        actual (np.ndarray): Array of actual values for the test period\n",
    "        forecast (np.ndarray): Array of forecasted values\n",
    "        train (np.ndarray): Array of historical (training) data\n",
    "\n",
    "    Returns:\n",
    "        float: RMSSE value\n",
    "    \"\"\"\n",
    "    # Compute scale denominator\n",
    "    denominator = np.mean(np.square(np.diff(train)))\n",
    "\n",
    "    if denominator == 0:\n",
    "        return np.nan  # Avoid division by zero\n",
    "\n",
    "    # Compute numerator\n",
    "    numerator = np.mean(np.square(actual - forecast))\n",
    "\n",
    "    return np.sqrt(numerator / denominator)"
   ]
  }
 ],
 "metadata": {
  "kernelspec": {
   "display_name": "Python 3",
   "language": "python",
   "name": "python3"
  },
  "language_info": {
   "codemirror_mode": {
    "name": "ipython",
    "version": 3
   },
   "file_extension": ".py",
   "mimetype": "text/x-python",
   "name": "python",
   "nbconvert_exporter": "python",
   "pygments_lexer": "ipython3",
   "version": "3.12.7"
  }
 },
 "nbformat": 4,
 "nbformat_minor": 2
}
