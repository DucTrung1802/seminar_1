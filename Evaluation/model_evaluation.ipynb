{
 "cells": [
  {
   "cell_type": "markdown",
   "metadata": {},
   "source": [
    "# Model Evaluation"
   ]
  },
  {
   "cell_type": "markdown",
   "metadata": {},
   "source": [
    "## Imoprt libraries"
   ]
  },
  {
   "cell_type": "code",
   "execution_count": 1,
   "metadata": {},
   "outputs": [],
   "source": [
    "import numpy as np\n",
    "import pandas as pd\n",
    "from dataclasses import dataclass, field\n",
    "from enum import Enum\n",
    "from typing import List\n",
    "import os\n",
    "import plotly.express as px\n",
    "import plotly.graph_objects as go\n",
    "from plotly.subplots import make_subplots"
   ]
  },
  {
   "cell_type": "markdown",
   "metadata": {},
   "source": [
    "## Settings"
   ]
  },
  {
   "cell_type": "code",
   "execution_count": 2,
   "metadata": {},
   "outputs": [],
   "source": [
    "SETTING_RESULT_PARENT_DIRECTORY_PATH = os.path.join(\"Result\")\n",
    "SETTING_TEST_DATA_FRAME_PATH = os.path.join(\"test_data_frame.csv\")\n",
    "SETTING_REVENUE_TEST_DATA_FRAME_PATH = os.path.join(\n",
    "    os.pardir, \"datasets\", \"revenue_test_data_by_date_store.csv\"\n",
    ")\n",
    "SETTING_ALL_STATES = [\n",
    "    \"CA_1\",\n",
    "    \"CA_2\",\n",
    "    \"CA_3\",\n",
    "    \"CA_4\",\n",
    "    \"TX_1\",\n",
    "    \"TX_2\",\n",
    "    \"TX_3\",\n",
    "    \"WI_1\",\n",
    "    \"WI_2\",\n",
    "    \"WI_3\",\n",
    "]\n",
    "SETTING_STATES = [\"CA_3\"]\n",
    "SETTING_FIRST_FORECAST_DAY = 1914"
   ]
  },
  {
   "cell_type": "markdown",
   "metadata": {},
   "source": [
    "## Enums"
   ]
  },
  {
   "cell_type": "code",
   "execution_count": 3,
   "metadata": {},
   "outputs": [],
   "source": [
    "class Metric(Enum):\n",
    "    MASE = \"MASE\"  # Mean Absolute Scaled Error\n",
    "    RMSSE = \"RMSSE\"  # Root Mean Squared Scaled Error\n",
    "    WRMSSE = \"WRMSSE\"  # Weighted Root Mean Squared Scaled Error"
   ]
  },
  {
   "cell_type": "markdown",
   "metadata": {},
   "source": [
    "## Classes"
   ]
  },
  {
   "cell_type": "code",
   "execution_count": 4,
   "metadata": {},
   "outputs": [],
   "source": [
    "@dataclass\n",
    "class Model:\n",
    "    name: str\n",
    "    state: str\n",
    "    data_frame: pd.DataFrame\n",
    "\n",
    "\n",
    "@dataclass\n",
    "class MetricResult:\n",
    "    model_name: str\n",
    "    state: str\n",
    "    metric: Metric = None\n",
    "    value: float = None\n",
    "\n",
    "\n",
    "@dataclass\n",
    "class Result:\n",
    "    author: str\n",
    "    model_list: List[Model] = field(default_factory=list)\n",
    "    metric_result_list: List[MetricResult] = field(default_factory=list)\n",
    "\n",
    "\n",
    "@dataclass\n",
    "class LineData:\n",
    "    id: str\n",
    "    data: pd.DataFrame"
   ]
  },
  {
   "cell_type": "markdown",
   "metadata": {},
   "source": [
    "## Metric formulas"
   ]
  },
  {
   "cell_type": "markdown",
   "metadata": {},
   "source": [
    "### Mean Absolute Scaled Error"
   ]
  },
  {
   "cell_type": "code",
   "execution_count": 5,
   "metadata": {},
   "outputs": [],
   "source": [
    "def mase(train: np.ndarray, actual: np.ndarray, forecast: np.ndarray) -> float:\n",
    "    \"\"\"\n",
    "    Compute Mean Absolute Scaled Error (MASE) based on the correct formula.\n",
    "\n",
    "    Args:\n",
    "        train (np.ndarray): Array of historical (training) data\n",
    "        actual (np.ndarray): Array of actual values for the test period\n",
    "        forecast (np.ndarray): Array of forecasted values\n",
    "\n",
    "    Returns:\n",
    "        float: MASE value\n",
    "    \"\"\"\n",
    "\n",
    "    # Compute scale denominator\n",
    "    denominator = np.mean(np.abs(np.diff(train)))\n",
    "\n",
    "    if denominator == 0:\n",
    "        return np.nan  # Avoid division by zero\n",
    "\n",
    "    # Compute numerator\n",
    "    numerator = np.mean(np.abs(actual - forecast))\n",
    "\n",
    "    return np.sqrt(numerator / denominator)"
   ]
  },
  {
   "cell_type": "markdown",
   "metadata": {},
   "source": [
    "### Root Mean Squared Scaled Error"
   ]
  },
  {
   "cell_type": "code",
   "execution_count": 6,
   "metadata": {},
   "outputs": [],
   "source": [
    "def rmsse(train: np.ndarray, actual: np.ndarray, forecast: np.ndarray) -> float:\n",
    "    \"\"\"\n",
    "    Compute Root Mean Squared Scaled Error (RMSSE) based on the correct formula.\n",
    "\n",
    "    Parameters:\n",
    "        train (np.ndarray): Array of historical (training) data\n",
    "        actual (np.ndarray): Array of actual values for the test period\n",
    "        forecast (np.ndarray): Array of forecasted values\n",
    "\n",
    "    Returns:\n",
    "        float: RMSSE value\n",
    "    \"\"\"\n",
    "\n",
    "    # Compute scale denominator\n",
    "    denominator = np.mean(np.square(np.diff(train)))\n",
    "\n",
    "    if denominator == 0:\n",
    "        return np.nan  # Avoid division by zero\n",
    "\n",
    "    # Compute numerator\n",
    "    numerator = np.mean(np.square(actual - forecast))\n",
    "\n",
    "    return np.sqrt(numerator / denominator)"
   ]
  },
  {
   "cell_type": "markdown",
   "metadata": {},
   "source": [
    "## Helper Functions"
   ]
  },
  {
   "cell_type": "markdown",
   "metadata": {},
   "source": [
    "### Create test data frame"
   ]
  },
  {
   "cell_type": "code",
   "execution_count": 7,
   "metadata": {},
   "outputs": [],
   "source": [
    "def create_test_data_frame() -> pd.DataFrame:\n",
    "    if os.path.isfile(SETTING_TEST_DATA_FRAME_PATH):\n",
    "        print(f\"Test data frame already exists at {SETTING_TEST_DATA_FRAME_PATH}\")\n",
    "        test_df = pd.read_csv(SETTING_TEST_DATA_FRAME_PATH)\n",
    "        return test_df.copy()\n",
    "\n",
    "    if not os.path.isfile(SETTING_REVENUE_TEST_DATA_FRAME_PATH):\n",
    "        raise FileNotFoundError(\n",
    "            f\"Revenue test data frame not found at {SETTING_REVENUE_TEST_DATA_FRAME_PATH}.\"\n",
    "        )\n",
    "\n",
    "    revenue_test_df = pd.read_csv(SETTING_REVENUE_TEST_DATA_FRAME_PATH)\n",
    "\n",
    "    pivoted_revenue_test_df = revenue_test_df.pivot(\n",
    "        index=[\"date\", \"d\", \"weekday\"], columns=\"store_id\", values=\"revenue\"\n",
    "    ).reset_index()\n",
    "\n",
    "    pivoted_revenue_test_df.insert(0, \"id\", [(i + 1) for i in range(1941)])\n",
    "\n",
    "    pivoted_revenue_test_df.to_csv(SETTING_TEST_DATA_FRAME_PATH, index=False)\n",
    "\n",
    "    return pivoted_revenue_test_df.copy()"
   ]
  },
  {
   "cell_type": "markdown",
   "metadata": {},
   "source": [
    "### Read results"
   ]
  },
  {
   "cell_type": "code",
   "execution_count": 8,
   "metadata": {},
   "outputs": [],
   "source": [
    "def read_result(parent_directory: str) -> List[Result]:\n",
    "    # Check if the given path exists and is a directory\n",
    "    if not os.path.isdir(parent_directory):\n",
    "        raise NotADirectoryError(f\"Directory '{parent_directory}' is not found.\")\n",
    "\n",
    "    # Get a list of all subdirectories within the parent directory\n",
    "    member_subdirectories = [\n",
    "        d\n",
    "        for d in os.listdir(parent_directory)\n",
    "        if os.path.isdir(os.path.join(parent_directory, d))\n",
    "    ]\n",
    "\n",
    "    # Check if there are any subdirectories; if not, raise an error\n",
    "    if not member_subdirectories:\n",
    "        raise NotADirectoryError(\"Author subdirectories are not found.\")\n",
    "\n",
    "    result_list: List[Result] = []\n",
    "\n",
    "    for member in member_subdirectories:\n",
    "        result = Result(author=member, model_list=[], metric_result_list=[])\n",
    "\n",
    "        member_path = os.path.join(parent_directory, member)\n",
    "\n",
    "        csv_files = [\n",
    "            f\n",
    "            for f in os.listdir(member_path)\n",
    "            if f.endswith(\".csv\") and os.path.isfile(os.path.join(member_path, f))\n",
    "        ]\n",
    "\n",
    "        for csv_file in csv_files:\n",
    "            data_frame = pd.read_csv(os.path.join(member_path, csv_file))\n",
    "            state = set(data_frame.columns) & set(SETTING_STATES)\n",
    "\n",
    "            if len(state) == 0:\n",
    "                raise ValueError(\n",
    "                    f\"Data frame contains no state! Author: '{member}', Model: '{csv_file}'\"\n",
    "                )\n",
    "\n",
    "            model = Model(\n",
    "                name=csv_file.split(\".\")[0],\n",
    "                data_frame=data_frame,\n",
    "                state=state.pop(),\n",
    "            )\n",
    "            result.model_list.append(model)\n",
    "\n",
    "        if len(result.model_list) > 0:\n",
    "            result_list.append(result)\n",
    "\n",
    "    return result_list"
   ]
  },
  {
   "cell_type": "markdown",
   "metadata": {},
   "source": [
    "### Evaluate results"
   ]
  },
  {
   "cell_type": "code",
   "execution_count": 9,
   "metadata": {},
   "outputs": [],
   "source": [
    "def evaluate(\n",
    "    evaluated_data_frame: pd.DataFrame,\n",
    "    test_data_frame: pd.DataFrame,\n",
    "    metric: Metric,\n",
    "    state: str,\n",
    "    weight: np.ndarray = None,\n",
    ") -> float:\n",
    "    train = test_data_frame[test_data_frame[\"id\"] < SETTING_FIRST_FORECAST_DAY]\n",
    "    actual = test_data_frame[test_data_frame[\"id\"] >= SETTING_FIRST_FORECAST_DAY]\n",
    "\n",
    "    value = 0.0\n",
    "    match metric:\n",
    "        case Metric.MASE:\n",
    "            value = mase(\n",
    "                train=train[state].to_numpy(),\n",
    "                actual=actual[state].to_numpy(),\n",
    "                forecast=evaluated_data_frame[state].to_numpy(),\n",
    "            )\n",
    "\n",
    "        case Metric.RMSSE:\n",
    "            value = rmsse(\n",
    "                train=train[state].to_numpy(),\n",
    "                actual=actual[state].to_numpy(),\n",
    "                forecast=evaluated_data_frame[state].to_numpy(),\n",
    "            )\n",
    "\n",
    "        case Metric.WMSSE:\n",
    "            pass\n",
    "            # if weight is None:\n",
    "            #     raise ValueError(\"'weight' must be an 1D array.\")\n",
    "\n",
    "            # value = np.sum(\n",
    "            #     weight\n",
    "            #     * np.array(\n",
    "            #         [\n",
    "            #             rmsse(\n",
    "            #                 train=train[state].to_numpy(),\n",
    "            #                 actual=actual[state].to_numpy(),\n",
    "            #                 forecast=evaluated_data_frame[state].to_numpy(),\n",
    "            #             )\n",
    "            #             for state in SETTING_STATES\n",
    "            #         ]\n",
    "            #     )\n",
    "            # )\n",
    "\n",
    "    return value\n",
    "\n",
    "\n",
    "def evaluate_result(\n",
    "    result_list: List[Result],\n",
    "    test_data_frame: pd.DataFrame,\n",
    "    metric: Metric,\n",
    "    weight: np.ndarray = None,\n",
    "):\n",
    "    for result in result_list:\n",
    "        for model in result.model_list:\n",
    "            metric_result = MetricResult(\n",
    "                model_name=model.name,\n",
    "                state=model.state,\n",
    "                metric=metric,\n",
    "                value=evaluate(\n",
    "                    model.data_frame, test_data_frame, metric, model.state, weight\n",
    "                ),\n",
    "            )\n",
    "            result.metric_result_list.append(metric_result)"
   ]
  },
  {
   "cell_type": "markdown",
   "metadata": {},
   "source": [
    "### Summarize results"
   ]
  },
  {
   "cell_type": "code",
   "execution_count": 10,
   "metadata": {},
   "outputs": [],
   "source": [
    "def summarize_result(result_list: List[Result]):\n",
    "    if not result_list or len(result_list) == 0:\n",
    "        print(\"No results to summarize!\")\n",
    "\n",
    "    df = pd.DataFrame(columns=[\"id\", \"author\", \"model\", \"state\", \"metric\", \"value\"])\n",
    "\n",
    "    for result in result_list:\n",
    "        for metric_result in result.metric_result_list:\n",
    "            new_row = {\n",
    "                \"id\": f\"{result.author}_{metric_result.model_name}\",\n",
    "                \"author\": f\"{result.author}\",\n",
    "                \"model\": f\"{metric_result.model_name}\",\n",
    "                \"state\": f\"{metric_result.state}\",\n",
    "                \"metric\": f\"{metric_result.metric.value}\",\n",
    "                \"value\": metric_result.value,\n",
    "            }\n",
    "            df.loc[len(df)] = new_row\n",
    "\n",
    "    df.to_csv(\"result_summary.csv\", index=False)\n",
    "\n",
    "    return df"
   ]
  },
  {
   "cell_type": "markdown",
   "metadata": {},
   "source": [
    "### Revenue by year"
   ]
  },
  {
   "cell_type": "code",
   "execution_count": 11,
   "metadata": {},
   "outputs": [],
   "source": [
    "def revenue_by_year(data_frame: pd.DataFrame, year: int = None, states: List[str] = []):\n",
    "    if \"date\" not in data_frame.columns:\n",
    "        raise ValueError(\n",
    "            \"Invalid argument: The DataFrame must contain a 'date' column.\"\n",
    "        )\n",
    "\n",
    "    data_frame = data_frame.copy()\n",
    "\n",
    "    # Extract the year from the 'date' column and add it as a new column\n",
    "    data_frame[\"year\"] = pd.to_datetime(data_frame[\"date\"]).dt.year\n",
    "\n",
    "    remaining_states = list(set(SETTING_ALL_STATES) - set(states))\n",
    "    # Drop some columns\n",
    "    data_frame = data_frame.drop(\n",
    "        columns=[\"id\", \"date\", \"d\", \"weekday\"] + remaining_states\n",
    "    )\n",
    "\n",
    "    if year:\n",
    "        min_year = data_frame[\"year\"].min()\n",
    "        max_year = data_frame[\"year\"].max()\n",
    "        if year < min_year or year > max_year:\n",
    "            print(\n",
    "                f\"Invalid argument: Year {year} is out of range. Range: {min_year} - {max_year}.\"\n",
    "            )\n",
    "        else:\n",
    "            data_frame = data_frame[data_frame[\"year\"] == year]\n",
    "\n",
    "    # Group by the year and sum the revenue\n",
    "    revenue = data_frame.groupby(\"year\").sum().reset_index()\n",
    "\n",
    "    return revenue"
   ]
  },
  {
   "cell_type": "markdown",
   "metadata": {},
   "source": [
    "## Visualze results"
   ]
  },
  {
   "cell_type": "markdown",
   "metadata": {},
   "source": [
    "### Horizontal bar chart"
   ]
  },
  {
   "cell_type": "code",
   "execution_count": 12,
   "metadata": {},
   "outputs": [],
   "source": [
    "def plot_horizontal_bar_chart(summarize_result: pd.DataFrame, top_result: int = None):\n",
    "    n_result = len(summarize_result)\n",
    "    if top_result:\n",
    "        n_result = int(top_result)\n",
    "\n",
    "    top_models = (\n",
    "        summarize_result.nsmallest(n_result, \"value\")\n",
    "        .sort_values(\"value\", ascending=False)\n",
    "        .reset_index(drop=True)\n",
    "    )\n",
    "\n",
    "    fig = go.Figure(\n",
    "        go.Bar(\n",
    "            x=top_models[\"value\"].astype(\"float\").tolist(),\n",
    "            y=top_models[\"id\"].tolist(),\n",
    "            orientation=\"h\",\n",
    "            text=top_models[\"value\"].astype(\"float\").round(3).tolist(),\n",
    "            textposition=\"outside\",\n",
    "        )\n",
    "    )\n",
    "    fig.update_xaxes(range=[0, float(top_models[\"value\"].max()) * 1.1])\n",
    "    fig.update_layout(\n",
    "        title={\n",
    "            \"text\": f\"RMSSE value of top {n_result} models. (Smaller is better).\",\n",
    "            \"x\": 0.5,\n",
    "            \"xanchor\": \"center\",\n",
    "        }\n",
    "    )\n",
    "    fig.show()\n",
    "\n",
    "    return top_models"
   ]
  },
  {
   "cell_type": "markdown",
   "metadata": {},
   "source": [
    "### Line chart"
   ]
  },
  {
   "cell_type": "code",
   "execution_count": 13,
   "metadata": {},
   "outputs": [],
   "source": [
    "def plot_line_chart(\n",
    "    test_data: pd.DataFrame, result_list: List[Result], top_models: pd.DataFrame\n",
    "):\n",
    "    # Create a lookup dictionary for quick access\n",
    "    author_model_map = {\n",
    "        (result.author, model.name): model\n",
    "        for result in result_list\n",
    "        for model in result.model_list\n",
    "    }\n",
    "\n",
    "    top_line_data = [\n",
    "        LineData(\n",
    "            id=row.id,\n",
    "            data=author_model_map[(row.author, row.model)]\n",
    "            .data_frame[SETTING_STATES]\n",
    "            .to_numpy()\n",
    "            .ravel(),\n",
    "        )\n",
    "        for _, row in top_models.iterrows()\n",
    "        if (row.author, row.model) in author_model_map\n",
    "    ]\n",
    "\n",
    "    if len(top_line_data) == 0:\n",
    "        print(\"No model to plot.\")\n",
    "        return\n",
    "\n",
    "    fig = go.Figure()\n",
    "\n",
    "    # Plot actual revenue data\n",
    "    fig.add_trace(\n",
    "        go.Scatter(\n",
    "            x=test_data[\"date\"],\n",
    "            y=test_data[\"CA_3\"],\n",
    "            mode=\"lines\",\n",
    "            name=\"Actual Revenue\",\n",
    "            line=dict(width=4),\n",
    "        )\n",
    "    )\n",
    "\n",
    "    # Plot each top model's data\n",
    "    for line_data in top_line_data:\n",
    "        fig.add_trace(\n",
    "            go.Scatter(\n",
    "                x=test_data[\"date\"],  # Assuming same x-axis for all\n",
    "                y=line_data.data,  # Model prediction data\n",
    "                mode=\"lines\",\n",
    "                name=f\"Model {line_data.id}\",  # Naming each model uniquely\n",
    "            )\n",
    "        )\n",
    "\n",
    "    fig.update_layout(xaxis_title=\"Time\", yaxis_title=\"Revenue\")\n",
    "    fig.update_layout(\n",
    "        title={\n",
    "            \"text\": f\"Predict result of top {len(top_models)} models.\",\n",
    "            \"x\": 0.5,\n",
    "            \"xanchor\": \"center\",\n",
    "        }\n",
    "    )\n",
    "    fig.show()"
   ]
  },
  {
   "cell_type": "markdown",
   "metadata": {},
   "source": [
    "## Main Flow"
   ]
  },
  {
   "cell_type": "markdown",
   "metadata": {},
   "source": [
    "### Create train data frame"
   ]
  },
  {
   "cell_type": "code",
   "execution_count": 14,
   "metadata": {},
   "outputs": [
    {
     "name": "stdout",
     "output_type": "stream",
     "text": [
      "Test data frame already exists at test_data_frame.csv\n"
     ]
    }
   ],
   "source": [
    "train_df = create_test_data_frame()\n",
    "train_df = train_df[train_df[\"id\"] < SETTING_FIRST_FORECAST_DAY]"
   ]
  },
  {
   "cell_type": "code",
   "execution_count": 15,
   "metadata": {},
   "outputs": [
    {
     "data": {
      "text/html": [
       "<div>\n",
       "<style scoped>\n",
       "    .dataframe tbody tr th:only-of-type {\n",
       "        vertical-align: middle;\n",
       "    }\n",
       "\n",
       "    .dataframe tbody tr th {\n",
       "        vertical-align: top;\n",
       "    }\n",
       "\n",
       "    .dataframe thead th {\n",
       "        text-align: right;\n",
       "    }\n",
       "</style>\n",
       "<table border=\"1\" class=\"dataframe\">\n",
       "  <thead>\n",
       "    <tr style=\"text-align: right;\">\n",
       "      <th></th>\n",
       "      <th>id</th>\n",
       "      <th>date</th>\n",
       "      <th>d</th>\n",
       "      <th>weekday</th>\n",
       "      <th>CA_1</th>\n",
       "      <th>CA_2</th>\n",
       "      <th>CA_3</th>\n",
       "      <th>CA_4</th>\n",
       "      <th>TX_1</th>\n",
       "      <th>TX_2</th>\n",
       "      <th>TX_3</th>\n",
       "      <th>WI_1</th>\n",
       "      <th>WI_2</th>\n",
       "      <th>WI_3</th>\n",
       "    </tr>\n",
       "  </thead>\n",
       "  <tbody>\n",
       "    <tr>\n",
       "      <th>0</th>\n",
       "      <td>1</td>\n",
       "      <td>2011-01-29</td>\n",
       "      <td>d_1</td>\n",
       "      <td>Saturday</td>\n",
       "      <td>10933.16</td>\n",
       "      <td>9101.52</td>\n",
       "      <td>11679.83</td>\n",
       "      <td>4561.59</td>\n",
       "      <td>6586.68</td>\n",
       "      <td>9915.78</td>\n",
       "      <td>7597.99</td>\n",
       "      <td>6454.72</td>\n",
       "      <td>5451.46</td>\n",
       "      <td>9367.88</td>\n",
       "    </tr>\n",
       "    <tr>\n",
       "      <th>1</th>\n",
       "      <td>2</td>\n",
       "      <td>2011-01-30</td>\n",
       "      <td>d_2</td>\n",
       "      <td>Sunday</td>\n",
       "      <td>9787.06</td>\n",
       "      <td>8417.53</td>\n",
       "      <td>12161.46</td>\n",
       "      <td>4681.41</td>\n",
       "      <td>6610.60</td>\n",
       "      <td>9804.54</td>\n",
       "      <td>7356.54</td>\n",
       "      <td>5645.77</td>\n",
       "      <td>4636.86</td>\n",
       "      <td>9868.80</td>\n",
       "    </tr>\n",
       "    <tr>\n",
       "      <th>2</th>\n",
       "      <td>3</td>\n",
       "      <td>2011-01-31</td>\n",
       "      <td>d_3</td>\n",
       "      <td>Monday</td>\n",
       "      <td>7201.38</td>\n",
       "      <td>5320.51</td>\n",
       "      <td>9123.86</td>\n",
       "      <td>3637.98</td>\n",
       "      <td>4551.97</td>\n",
       "      <td>6651.16</td>\n",
       "      <td>5406.70</td>\n",
       "      <td>3640.12</td>\n",
       "      <td>4621.58</td>\n",
       "      <td>7551.65</td>\n",
       "    </tr>\n",
       "    <tr>\n",
       "      <th>3</th>\n",
       "      <td>4</td>\n",
       "      <td>2011-02-01</td>\n",
       "      <td>d_4</td>\n",
       "      <td>Tuesday</td>\n",
       "      <td>7407.74</td>\n",
       "      <td>5550.56</td>\n",
       "      <td>10249.78</td>\n",
       "      <td>3708.92</td>\n",
       "      <td>5374.39</td>\n",
       "      <td>6985.60</td>\n",
       "      <td>5597.97</td>\n",
       "      <td>2949.96</td>\n",
       "      <td>5754.75</td>\n",
       "      <td>7181.53</td>\n",
       "    </tr>\n",
       "    <tr>\n",
       "      <th>4</th>\n",
       "      <td>5</td>\n",
       "      <td>2011-02-02</td>\n",
       "      <td>d_5</td>\n",
       "      <td>Wednesday</td>\n",
       "      <td>6566.12</td>\n",
       "      <td>5229.72</td>\n",
       "      <td>9538.65</td>\n",
       "      <td>3841.14</td>\n",
       "      <td>4347.07</td>\n",
       "      <td>6039.05</td>\n",
       "      <td>4069.74</td>\n",
       "      <td>2.96</td>\n",
       "      <td>2679.19</td>\n",
       "      <td>4646.31</td>\n",
       "    </tr>\n",
       "    <tr>\n",
       "      <th>...</th>\n",
       "      <td>...</td>\n",
       "      <td>...</td>\n",
       "      <td>...</td>\n",
       "      <td>...</td>\n",
       "      <td>...</td>\n",
       "      <td>...</td>\n",
       "      <td>...</td>\n",
       "      <td>...</td>\n",
       "      <td>...</td>\n",
       "      <td>...</td>\n",
       "      <td>...</td>\n",
       "      <td>...</td>\n",
       "      <td>...</td>\n",
       "      <td>...</td>\n",
       "    </tr>\n",
       "    <tr>\n",
       "      <th>1908</th>\n",
       "      <td>1909</td>\n",
       "      <td>2016-04-20</td>\n",
       "      <td>d_1909</td>\n",
       "      <td>Wednesday</td>\n",
       "      <td>12347.85</td>\n",
       "      <td>11564.22</td>\n",
       "      <td>18113.40</td>\n",
       "      <td>7978.28</td>\n",
       "      <td>8950.16</td>\n",
       "      <td>11278.96</td>\n",
       "      <td>11092.53</td>\n",
       "      <td>9949.23</td>\n",
       "      <td>12212.21</td>\n",
       "      <td>9341.89</td>\n",
       "    </tr>\n",
       "    <tr>\n",
       "      <th>1909</th>\n",
       "      <td>1910</td>\n",
       "      <td>2016-04-21</td>\n",
       "      <td>d_1910</td>\n",
       "      <td>Thursday</td>\n",
       "      <td>11687.99</td>\n",
       "      <td>10746.54</td>\n",
       "      <td>16230.51</td>\n",
       "      <td>8169.58</td>\n",
       "      <td>8260.00</td>\n",
       "      <td>11409.73</td>\n",
       "      <td>11535.43</td>\n",
       "      <td>10361.39</td>\n",
       "      <td>12796.87</td>\n",
       "      <td>9212.23</td>\n",
       "    </tr>\n",
       "    <tr>\n",
       "      <th>1910</th>\n",
       "      <td>1911</td>\n",
       "      <td>2016-04-22</td>\n",
       "      <td>d_1911</td>\n",
       "      <td>Friday</td>\n",
       "      <td>14205.08</td>\n",
       "      <td>14654.14</td>\n",
       "      <td>18491.01</td>\n",
       "      <td>8301.77</td>\n",
       "      <td>9499.88</td>\n",
       "      <td>12494.57</td>\n",
       "      <td>11889.90</td>\n",
       "      <td>12292.56</td>\n",
       "      <td>14251.83</td>\n",
       "      <td>10959.56</td>\n",
       "    </tr>\n",
       "    <tr>\n",
       "      <th>1911</th>\n",
       "      <td>1912</td>\n",
       "      <td>2016-04-23</td>\n",
       "      <td>d_1912</td>\n",
       "      <td>Saturday</td>\n",
       "      <td>18317.93</td>\n",
       "      <td>19846.12</td>\n",
       "      <td>24861.53</td>\n",
       "      <td>9911.55</td>\n",
       "      <td>11373.50</td>\n",
       "      <td>14575.46</td>\n",
       "      <td>13093.63</td>\n",
       "      <td>14332.14</td>\n",
       "      <td>15761.02</td>\n",
       "      <td>13120.79</td>\n",
       "    </tr>\n",
       "    <tr>\n",
       "      <th>1912</th>\n",
       "      <td>1913</td>\n",
       "      <td>2016-04-24</td>\n",
       "      <td>d_1913</td>\n",
       "      <td>Sunday</td>\n",
       "      <td>20029.72</td>\n",
       "      <td>20513.38</td>\n",
       "      <td>26999.77</td>\n",
       "      <td>10951.73</td>\n",
       "      <td>13011.24</td>\n",
       "      <td>14696.53</td>\n",
       "      <td>13903.61</td>\n",
       "      <td>14858.97</td>\n",
       "      <td>15066.13</td>\n",
       "      <td>12892.99</td>\n",
       "    </tr>\n",
       "  </tbody>\n",
       "</table>\n",
       "<p>1913 rows × 14 columns</p>\n",
       "</div>"
      ],
      "text/plain": [
       "        id        date       d    weekday      CA_1      CA_2      CA_3  \\\n",
       "0        1  2011-01-29     d_1   Saturday  10933.16   9101.52  11679.83   \n",
       "1        2  2011-01-30     d_2     Sunday   9787.06   8417.53  12161.46   \n",
       "2        3  2011-01-31     d_3     Monday   7201.38   5320.51   9123.86   \n",
       "3        4  2011-02-01     d_4    Tuesday   7407.74   5550.56  10249.78   \n",
       "4        5  2011-02-02     d_5  Wednesday   6566.12   5229.72   9538.65   \n",
       "...    ...         ...     ...        ...       ...       ...       ...   \n",
       "1908  1909  2016-04-20  d_1909  Wednesday  12347.85  11564.22  18113.40   \n",
       "1909  1910  2016-04-21  d_1910   Thursday  11687.99  10746.54  16230.51   \n",
       "1910  1911  2016-04-22  d_1911     Friday  14205.08  14654.14  18491.01   \n",
       "1911  1912  2016-04-23  d_1912   Saturday  18317.93  19846.12  24861.53   \n",
       "1912  1913  2016-04-24  d_1913     Sunday  20029.72  20513.38  26999.77   \n",
       "\n",
       "          CA_4      TX_1      TX_2      TX_3      WI_1      WI_2      WI_3  \n",
       "0      4561.59   6586.68   9915.78   7597.99   6454.72   5451.46   9367.88  \n",
       "1      4681.41   6610.60   9804.54   7356.54   5645.77   4636.86   9868.80  \n",
       "2      3637.98   4551.97   6651.16   5406.70   3640.12   4621.58   7551.65  \n",
       "3      3708.92   5374.39   6985.60   5597.97   2949.96   5754.75   7181.53  \n",
       "4      3841.14   4347.07   6039.05   4069.74      2.96   2679.19   4646.31  \n",
       "...        ...       ...       ...       ...       ...       ...       ...  \n",
       "1908   7978.28   8950.16  11278.96  11092.53   9949.23  12212.21   9341.89  \n",
       "1909   8169.58   8260.00  11409.73  11535.43  10361.39  12796.87   9212.23  \n",
       "1910   8301.77   9499.88  12494.57  11889.90  12292.56  14251.83  10959.56  \n",
       "1911   9911.55  11373.50  14575.46  13093.63  14332.14  15761.02  13120.79  \n",
       "1912  10951.73  13011.24  14696.53  13903.61  14858.97  15066.13  12892.99  \n",
       "\n",
       "[1913 rows x 14 columns]"
      ]
     },
     "execution_count": 15,
     "metadata": {},
     "output_type": "execute_result"
    }
   ],
   "source": [
    "train_df"
   ]
  },
  {
   "cell_type": "markdown",
   "metadata": {},
   "source": [
    "### Create test data frame"
   ]
  },
  {
   "cell_type": "code",
   "execution_count": 16,
   "metadata": {},
   "outputs": [
    {
     "name": "stdout",
     "output_type": "stream",
     "text": [
      "Test data frame already exists at test_data_frame.csv\n"
     ]
    }
   ],
   "source": [
    "test_df = create_test_data_frame()"
   ]
  },
  {
   "cell_type": "code",
   "execution_count": 17,
   "metadata": {},
   "outputs": [
    {
     "data": {
      "text/html": [
       "<div>\n",
       "<style scoped>\n",
       "    .dataframe tbody tr th:only-of-type {\n",
       "        vertical-align: middle;\n",
       "    }\n",
       "\n",
       "    .dataframe tbody tr th {\n",
       "        vertical-align: top;\n",
       "    }\n",
       "\n",
       "    .dataframe thead th {\n",
       "        text-align: right;\n",
       "    }\n",
       "</style>\n",
       "<table border=\"1\" class=\"dataframe\">\n",
       "  <thead>\n",
       "    <tr style=\"text-align: right;\">\n",
       "      <th></th>\n",
       "      <th>id</th>\n",
       "      <th>date</th>\n",
       "      <th>d</th>\n",
       "      <th>weekday</th>\n",
       "      <th>CA_1</th>\n",
       "      <th>CA_2</th>\n",
       "      <th>CA_3</th>\n",
       "      <th>CA_4</th>\n",
       "      <th>TX_1</th>\n",
       "      <th>TX_2</th>\n",
       "      <th>TX_3</th>\n",
       "      <th>WI_1</th>\n",
       "      <th>WI_2</th>\n",
       "      <th>WI_3</th>\n",
       "    </tr>\n",
       "  </thead>\n",
       "  <tbody>\n",
       "    <tr>\n",
       "      <th>0</th>\n",
       "      <td>1</td>\n",
       "      <td>2011-01-29</td>\n",
       "      <td>d_1</td>\n",
       "      <td>Saturday</td>\n",
       "      <td>10933.16</td>\n",
       "      <td>9101.52</td>\n",
       "      <td>11679.83</td>\n",
       "      <td>4561.59</td>\n",
       "      <td>6586.68</td>\n",
       "      <td>9915.78</td>\n",
       "      <td>7597.99</td>\n",
       "      <td>6454.72</td>\n",
       "      <td>5451.46</td>\n",
       "      <td>9367.88</td>\n",
       "    </tr>\n",
       "    <tr>\n",
       "      <th>1</th>\n",
       "      <td>2</td>\n",
       "      <td>2011-01-30</td>\n",
       "      <td>d_2</td>\n",
       "      <td>Sunday</td>\n",
       "      <td>9787.06</td>\n",
       "      <td>8417.53</td>\n",
       "      <td>12161.46</td>\n",
       "      <td>4681.41</td>\n",
       "      <td>6610.60</td>\n",
       "      <td>9804.54</td>\n",
       "      <td>7356.54</td>\n",
       "      <td>5645.77</td>\n",
       "      <td>4636.86</td>\n",
       "      <td>9868.80</td>\n",
       "    </tr>\n",
       "    <tr>\n",
       "      <th>2</th>\n",
       "      <td>3</td>\n",
       "      <td>2011-01-31</td>\n",
       "      <td>d_3</td>\n",
       "      <td>Monday</td>\n",
       "      <td>7201.38</td>\n",
       "      <td>5320.51</td>\n",
       "      <td>9123.86</td>\n",
       "      <td>3637.98</td>\n",
       "      <td>4551.97</td>\n",
       "      <td>6651.16</td>\n",
       "      <td>5406.70</td>\n",
       "      <td>3640.12</td>\n",
       "      <td>4621.58</td>\n",
       "      <td>7551.65</td>\n",
       "    </tr>\n",
       "    <tr>\n",
       "      <th>3</th>\n",
       "      <td>4</td>\n",
       "      <td>2011-02-01</td>\n",
       "      <td>d_4</td>\n",
       "      <td>Tuesday</td>\n",
       "      <td>7407.74</td>\n",
       "      <td>5550.56</td>\n",
       "      <td>10249.78</td>\n",
       "      <td>3708.92</td>\n",
       "      <td>5374.39</td>\n",
       "      <td>6985.60</td>\n",
       "      <td>5597.97</td>\n",
       "      <td>2949.96</td>\n",
       "      <td>5754.75</td>\n",
       "      <td>7181.53</td>\n",
       "    </tr>\n",
       "    <tr>\n",
       "      <th>4</th>\n",
       "      <td>5</td>\n",
       "      <td>2011-02-02</td>\n",
       "      <td>d_5</td>\n",
       "      <td>Wednesday</td>\n",
       "      <td>6566.12</td>\n",
       "      <td>5229.72</td>\n",
       "      <td>9538.65</td>\n",
       "      <td>3841.14</td>\n",
       "      <td>4347.07</td>\n",
       "      <td>6039.05</td>\n",
       "      <td>4069.74</td>\n",
       "      <td>2.96</td>\n",
       "      <td>2679.19</td>\n",
       "      <td>4646.31</td>\n",
       "    </tr>\n",
       "    <tr>\n",
       "      <th>...</th>\n",
       "      <td>...</td>\n",
       "      <td>...</td>\n",
       "      <td>...</td>\n",
       "      <td>...</td>\n",
       "      <td>...</td>\n",
       "      <td>...</td>\n",
       "      <td>...</td>\n",
       "      <td>...</td>\n",
       "      <td>...</td>\n",
       "      <td>...</td>\n",
       "      <td>...</td>\n",
       "      <td>...</td>\n",
       "      <td>...</td>\n",
       "      <td>...</td>\n",
       "    </tr>\n",
       "    <tr>\n",
       "      <th>1936</th>\n",
       "      <td>1937</td>\n",
       "      <td>2016-05-18</td>\n",
       "      <td>d_1937</td>\n",
       "      <td>Wednesday</td>\n",
       "      <td>12920.62</td>\n",
       "      <td>12766.25</td>\n",
       "      <td>17780.83</td>\n",
       "      <td>8116.41</td>\n",
       "      <td>9851.97</td>\n",
       "      <td>11121.03</td>\n",
       "      <td>12078.07</td>\n",
       "      <td>9605.89</td>\n",
       "      <td>12928.75</td>\n",
       "      <td>9163.29</td>\n",
       "    </tr>\n",
       "    <tr>\n",
       "      <th>1937</th>\n",
       "      <td>1938</td>\n",
       "      <td>2016-05-19</td>\n",
       "      <td>d_1938</td>\n",
       "      <td>Thursday</td>\n",
       "      <td>13259.90</td>\n",
       "      <td>13432.94</td>\n",
       "      <td>18635.35</td>\n",
       "      <td>8367.57</td>\n",
       "      <td>8403.09</td>\n",
       "      <td>10474.33</td>\n",
       "      <td>11196.76</td>\n",
       "      <td>10478.86</td>\n",
       "      <td>13547.39</td>\n",
       "      <td>9660.13</td>\n",
       "    </tr>\n",
       "    <tr>\n",
       "      <th>1938</th>\n",
       "      <td>1939</td>\n",
       "      <td>2016-05-20</td>\n",
       "      <td>d_1939</td>\n",
       "      <td>Friday</td>\n",
       "      <td>13999.65</td>\n",
       "      <td>15545.28</td>\n",
       "      <td>18219.23</td>\n",
       "      <td>8960.17</td>\n",
       "      <td>11296.88</td>\n",
       "      <td>13832.01</td>\n",
       "      <td>14667.00</td>\n",
       "      <td>11358.75</td>\n",
       "      <td>14139.33</td>\n",
       "      <td>11982.37</td>\n",
       "    </tr>\n",
       "    <tr>\n",
       "      <th>1939</th>\n",
       "      <td>1940</td>\n",
       "      <td>2016-05-21</td>\n",
       "      <td>d_1940</td>\n",
       "      <td>Saturday</td>\n",
       "      <td>18637.70</td>\n",
       "      <td>24088.59</td>\n",
       "      <td>23849.52</td>\n",
       "      <td>9768.51</td>\n",
       "      <td>13137.35</td>\n",
       "      <td>15212.81</td>\n",
       "      <td>15696.64</td>\n",
       "      <td>14614.05</td>\n",
       "      <td>15020.25</td>\n",
       "      <td>12370.23</td>\n",
       "    </tr>\n",
       "    <tr>\n",
       "      <th>1940</th>\n",
       "      <td>1941</td>\n",
       "      <td>2016-05-22</td>\n",
       "      <td>d_1941</td>\n",
       "      <td>Sunday</td>\n",
       "      <td>21110.44</td>\n",
       "      <td>22019.30</td>\n",
       "      <td>27275.84</td>\n",
       "      <td>11863.05</td>\n",
       "      <td>14645.54</td>\n",
       "      <td>17631.81</td>\n",
       "      <td>17164.13</td>\n",
       "      <td>15332.95</td>\n",
       "      <td>14821.51</td>\n",
       "      <td>13432.85</td>\n",
       "    </tr>\n",
       "  </tbody>\n",
       "</table>\n",
       "<p>1941 rows × 14 columns</p>\n",
       "</div>"
      ],
      "text/plain": [
       "        id        date       d    weekday      CA_1      CA_2      CA_3  \\\n",
       "0        1  2011-01-29     d_1   Saturday  10933.16   9101.52  11679.83   \n",
       "1        2  2011-01-30     d_2     Sunday   9787.06   8417.53  12161.46   \n",
       "2        3  2011-01-31     d_3     Monday   7201.38   5320.51   9123.86   \n",
       "3        4  2011-02-01     d_4    Tuesday   7407.74   5550.56  10249.78   \n",
       "4        5  2011-02-02     d_5  Wednesday   6566.12   5229.72   9538.65   \n",
       "...    ...         ...     ...        ...       ...       ...       ...   \n",
       "1936  1937  2016-05-18  d_1937  Wednesday  12920.62  12766.25  17780.83   \n",
       "1937  1938  2016-05-19  d_1938   Thursday  13259.90  13432.94  18635.35   \n",
       "1938  1939  2016-05-20  d_1939     Friday  13999.65  15545.28  18219.23   \n",
       "1939  1940  2016-05-21  d_1940   Saturday  18637.70  24088.59  23849.52   \n",
       "1940  1941  2016-05-22  d_1941     Sunday  21110.44  22019.30  27275.84   \n",
       "\n",
       "          CA_4      TX_1      TX_2      TX_3      WI_1      WI_2      WI_3  \n",
       "0      4561.59   6586.68   9915.78   7597.99   6454.72   5451.46   9367.88  \n",
       "1      4681.41   6610.60   9804.54   7356.54   5645.77   4636.86   9868.80  \n",
       "2      3637.98   4551.97   6651.16   5406.70   3640.12   4621.58   7551.65  \n",
       "3      3708.92   5374.39   6985.60   5597.97   2949.96   5754.75   7181.53  \n",
       "4      3841.14   4347.07   6039.05   4069.74      2.96   2679.19   4646.31  \n",
       "...        ...       ...       ...       ...       ...       ...       ...  \n",
       "1936   8116.41   9851.97  11121.03  12078.07   9605.89  12928.75   9163.29  \n",
       "1937   8367.57   8403.09  10474.33  11196.76  10478.86  13547.39   9660.13  \n",
       "1938   8960.17  11296.88  13832.01  14667.00  11358.75  14139.33  11982.37  \n",
       "1939   9768.51  13137.35  15212.81  15696.64  14614.05  15020.25  12370.23  \n",
       "1940  11863.05  14645.54  17631.81  17164.13  15332.95  14821.51  13432.85  \n",
       "\n",
       "[1941 rows x 14 columns]"
      ]
     },
     "execution_count": 17,
     "metadata": {},
     "output_type": "execute_result"
    }
   ],
   "source": [
    "test_df"
   ]
  },
  {
   "cell_type": "markdown",
   "metadata": {},
   "source": [
    "### Read results"
   ]
  },
  {
   "cell_type": "code",
   "execution_count": 18,
   "metadata": {},
   "outputs": [],
   "source": [
    "result_list = read_result(SETTING_RESULT_PARENT_DIRECTORY_PATH)"
   ]
  },
  {
   "cell_type": "code",
   "execution_count": 19,
   "metadata": {},
   "outputs": [],
   "source": [
    "if not result_list:\n",
    "    raise FileNotFoundError(\"No data frame found.\")"
   ]
  },
  {
   "cell_type": "markdown",
   "metadata": {},
   "source": [
    "### Create revenue by year data frame"
   ]
  },
  {
   "cell_type": "code",
   "execution_count": 20,
   "metadata": {},
   "outputs": [
    {
     "data": {
      "text/html": [
       "<div>\n",
       "<style scoped>\n",
       "    .dataframe tbody tr th:only-of-type {\n",
       "        vertical-align: middle;\n",
       "    }\n",
       "\n",
       "    .dataframe tbody tr th {\n",
       "        vertical-align: top;\n",
       "    }\n",
       "\n",
       "    .dataframe thead th {\n",
       "        text-align: right;\n",
       "    }\n",
       "</style>\n",
       "<table border=\"1\" class=\"dataframe\">\n",
       "  <thead>\n",
       "    <tr style=\"text-align: right;\">\n",
       "      <th></th>\n",
       "      <th>date</th>\n",
       "      <th>CA_3</th>\n",
       "    </tr>\n",
       "  </thead>\n",
       "  <tbody>\n",
       "    <tr>\n",
       "      <th>1913</th>\n",
       "      <td>2016-04-25</td>\n",
       "      <td>21662.51</td>\n",
       "    </tr>\n",
       "    <tr>\n",
       "      <th>1914</th>\n",
       "      <td>2016-04-26</td>\n",
       "      <td>17924.10</td>\n",
       "    </tr>\n",
       "    <tr>\n",
       "      <th>1915</th>\n",
       "      <td>2016-04-27</td>\n",
       "      <td>16858.21</td>\n",
       "    </tr>\n",
       "    <tr>\n",
       "      <th>1916</th>\n",
       "      <td>2016-04-28</td>\n",
       "      <td>16662.98</td>\n",
       "    </tr>\n",
       "    <tr>\n",
       "      <th>1917</th>\n",
       "      <td>2016-04-29</td>\n",
       "      <td>19288.78</td>\n",
       "    </tr>\n",
       "    <tr>\n",
       "      <th>1918</th>\n",
       "      <td>2016-04-30</td>\n",
       "      <td>24333.26</td>\n",
       "    </tr>\n",
       "    <tr>\n",
       "      <th>1919</th>\n",
       "      <td>2016-05-01</td>\n",
       "      <td>26670.55</td>\n",
       "    </tr>\n",
       "    <tr>\n",
       "      <th>1920</th>\n",
       "      <td>2016-05-02</td>\n",
       "      <td>22582.73</td>\n",
       "    </tr>\n",
       "    <tr>\n",
       "      <th>1921</th>\n",
       "      <td>2016-05-03</td>\n",
       "      <td>20335.42</td>\n",
       "    </tr>\n",
       "    <tr>\n",
       "      <th>1922</th>\n",
       "      <td>2016-05-04</td>\n",
       "      <td>20043.67</td>\n",
       "    </tr>\n",
       "    <tr>\n",
       "      <th>1923</th>\n",
       "      <td>2016-05-05</td>\n",
       "      <td>19542.70</td>\n",
       "    </tr>\n",
       "    <tr>\n",
       "      <th>1924</th>\n",
       "      <td>2016-05-06</td>\n",
       "      <td>19599.12</td>\n",
       "    </tr>\n",
       "    <tr>\n",
       "      <th>1925</th>\n",
       "      <td>2016-05-07</td>\n",
       "      <td>24941.17</td>\n",
       "    </tr>\n",
       "    <tr>\n",
       "      <th>1926</th>\n",
       "      <td>2016-05-08</td>\n",
       "      <td>22905.84</td>\n",
       "    </tr>\n",
       "    <tr>\n",
       "      <th>1927</th>\n",
       "      <td>2016-05-09</td>\n",
       "      <td>23045.47</td>\n",
       "    </tr>\n",
       "    <tr>\n",
       "      <th>1928</th>\n",
       "      <td>2016-05-10</td>\n",
       "      <td>20180.77</td>\n",
       "    </tr>\n",
       "    <tr>\n",
       "      <th>1929</th>\n",
       "      <td>2016-05-11</td>\n",
       "      <td>20375.92</td>\n",
       "    </tr>\n",
       "    <tr>\n",
       "      <th>1930</th>\n",
       "      <td>2016-05-12</td>\n",
       "      <td>17510.73</td>\n",
       "    </tr>\n",
       "    <tr>\n",
       "      <th>1931</th>\n",
       "      <td>2016-05-13</td>\n",
       "      <td>19829.86</td>\n",
       "    </tr>\n",
       "    <tr>\n",
       "      <th>1932</th>\n",
       "      <td>2016-05-14</td>\n",
       "      <td>24562.27</td>\n",
       "    </tr>\n",
       "    <tr>\n",
       "      <th>1933</th>\n",
       "      <td>2016-05-15</td>\n",
       "      <td>27210.84</td>\n",
       "    </tr>\n",
       "    <tr>\n",
       "      <th>1934</th>\n",
       "      <td>2016-05-16</td>\n",
       "      <td>20218.10</td>\n",
       "    </tr>\n",
       "    <tr>\n",
       "      <th>1935</th>\n",
       "      <td>2016-05-17</td>\n",
       "      <td>18372.20</td>\n",
       "    </tr>\n",
       "    <tr>\n",
       "      <th>1936</th>\n",
       "      <td>2016-05-18</td>\n",
       "      <td>17780.83</td>\n",
       "    </tr>\n",
       "    <tr>\n",
       "      <th>1937</th>\n",
       "      <td>2016-05-19</td>\n",
       "      <td>18635.35</td>\n",
       "    </tr>\n",
       "    <tr>\n",
       "      <th>1938</th>\n",
       "      <td>2016-05-20</td>\n",
       "      <td>18219.23</td>\n",
       "    </tr>\n",
       "    <tr>\n",
       "      <th>1939</th>\n",
       "      <td>2016-05-21</td>\n",
       "      <td>23849.52</td>\n",
       "    </tr>\n",
       "    <tr>\n",
       "      <th>1940</th>\n",
       "      <td>2016-05-22</td>\n",
       "      <td>27275.84</td>\n",
       "    </tr>\n",
       "  </tbody>\n",
       "</table>\n",
       "</div>"
      ],
      "text/plain": [
       "            date      CA_3\n",
       "1913  2016-04-25  21662.51\n",
       "1914  2016-04-26  17924.10\n",
       "1915  2016-04-27  16858.21\n",
       "1916  2016-04-28  16662.98\n",
       "1917  2016-04-29  19288.78\n",
       "1918  2016-04-30  24333.26\n",
       "1919  2016-05-01  26670.55\n",
       "1920  2016-05-02  22582.73\n",
       "1921  2016-05-03  20335.42\n",
       "1922  2016-05-04  20043.67\n",
       "1923  2016-05-05  19542.70\n",
       "1924  2016-05-06  19599.12\n",
       "1925  2016-05-07  24941.17\n",
       "1926  2016-05-08  22905.84\n",
       "1927  2016-05-09  23045.47\n",
       "1928  2016-05-10  20180.77\n",
       "1929  2016-05-11  20375.92\n",
       "1930  2016-05-12  17510.73\n",
       "1931  2016-05-13  19829.86\n",
       "1932  2016-05-14  24562.27\n",
       "1933  2016-05-15  27210.84\n",
       "1934  2016-05-16  20218.10\n",
       "1935  2016-05-17  18372.20\n",
       "1936  2016-05-18  17780.83\n",
       "1937  2016-05-19  18635.35\n",
       "1938  2016-05-20  18219.23\n",
       "1939  2016-05-21  23849.52\n",
       "1940  2016-05-22  27275.84"
      ]
     },
     "execution_count": 20,
     "metadata": {},
     "output_type": "execute_result"
    }
   ],
   "source": [
    "test_df_last_28_day = test_df[test_df[\"id\"] >= SETTING_FIRST_FORECAST_DAY]\n",
    "test_revenue_CA_3 = test_df_last_28_day[[\"date\", \"CA_3\"]]\n",
    "test_revenue_CA_3"
   ]
  },
  {
   "cell_type": "code",
   "execution_count": 21,
   "metadata": {},
   "outputs": [],
   "source": [
    "# revenue_by_year_df_2011_2015 = revenue_by_year_df[revenue_by_year_df[\"year\"] < 2016]\n",
    "# revenue_by_year_df_2011 = revenue_by_year_df[revenue_by_year_df[\"year\"] == 2011]\n",
    "# revenue_by_year_df_2012 = revenue_by_year_df[revenue_by_year_df[\"year\"] == 2012]\n",
    "# revenue_by_year_df_2013 = revenue_by_year_df[revenue_by_year_df[\"year\"] == 2013]\n",
    "# revenue_by_year_df_2014 = revenue_by_year_df[revenue_by_year_df[\"year\"] == 2014]\n",
    "# revenue_by_year_df_2015 = revenue_by_year_df[revenue_by_year_df[\"year\"] == 2015]"
   ]
  },
  {
   "cell_type": "code",
   "execution_count": 22,
   "metadata": {},
   "outputs": [],
   "source": [
    "# fig = px.line(revenue_by_year_df_2011_2015, x=\"year\", y=revenue_by_year_df.columns)\n",
    "# fig.show()"
   ]
  },
  {
   "cell_type": "code",
   "execution_count": 23,
   "metadata": {},
   "outputs": [],
   "source": [
    "# rows, cols = 1, 5\n",
    "\n",
    "# fig = make_subplots(\n",
    "#     rows=rows,\n",
    "#     cols=cols,\n",
    "#     subplot_titles=[\n",
    "#         f\"Revenue in {i}\" for i in range(2011, 2016)\n",
    "#     ],  # Auto-generate titles\n",
    "#     specs=[\n",
    "#         [{\"type\": \"pie\"} for _ in range(cols)] for _ in range(rows)\n",
    "#     ],  # Generate pie types\n",
    "# )\n",
    "\n",
    "# count = 0\n",
    "# for year in range(2011, 2016):\n",
    "#     df = revenue_by_year_df.drop(columns=\"year\")[\n",
    "#         revenue_by_year_df[\"year\"] == year\n",
    "#     ].melt(var_name=\"state\", value_name=\"revenue\")\n",
    "\n",
    "#     fig.add_trace(\n",
    "#         go.Pie(\n",
    "#             labels=df[\"state\"],  # Categories\n",
    "#             values=df[\"revenue\"],  # Corresponding values\n",
    "#             domain=dict(x=[0, 1], y=[0, 1]),  # Expands pie size\n",
    "#         ),\n",
    "#         row=1,\n",
    "#         col=1 + count,\n",
    "#     )\n",
    "#     count += 1\n",
    "\n",
    "# fig.update_layout(\n",
    "#     showlegend=True,  # Hide legends for a cleaner look\n",
    "#     margin=dict(l=10, r=10, t=50, b=10),  # Reduce margins\n",
    "# )\n",
    "\n",
    "# fig.show()"
   ]
  },
  {
   "cell_type": "code",
   "execution_count": 24,
   "metadata": {},
   "outputs": [],
   "source": [
    "# revenue_by_year_df_2011_2015"
   ]
  },
  {
   "cell_type": "code",
   "execution_count": 25,
   "metadata": {},
   "outputs": [],
   "source": [
    "# # Create a copy of the original DataFrame with only the 'year' column\n",
    "# revenue_by_year_df_2011_2015_percentage = revenue_by_year_df_2011_2015[[\"year\"]].copy()\n",
    "\n",
    "# # Compute total revenue for each year\n",
    "# total_revenue = revenue_by_year_df_2011_2015.iloc[:, 1:].sum(axis=1)\n",
    "\n",
    "# # Calculate percentage for each state efficiently\n",
    "# state_columns = revenue_by_year_df_2011_2015.columns[1:]\n",
    "# revenue_by_year_df_2011_2015_percentage[state_columns + \"_percentage\"] = (\n",
    "#     revenue_by_year_df_2011_2015[state_columns].div(total_revenue, axis=0) * 100\n",
    "# )\n",
    "\n",
    "# # Display the result\n",
    "# revenue_by_year_df_2011_2015_percentage"
   ]
  },
  {
   "cell_type": "code",
   "execution_count": 26,
   "metadata": {},
   "outputs": [],
   "source": [
    "# revenue_by_year_df_2011_2015_weight = revenue_by_year_df_2011_2015_percentage.drop(\n",
    "#     columns=\"year\"\n",
    "# ).sum(axis=0)\n",
    "# total_revenue = revenue_by_year_df_2011_2015_weight.sum()\n",
    "# revenue_by_year_df_2011_2015_weight = (\n",
    "#     revenue_by_year_df_2011_2015_weight / total_revenue\n",
    "# ).to_numpy()\n",
    "# revenue_by_year_df_2011_2015_weight"
   ]
  },
  {
   "cell_type": "markdown",
   "metadata": {},
   "source": [
    "### Evaluate models"
   ]
  },
  {
   "cell_type": "markdown",
   "metadata": {},
   "source": [
    "#### Metric: Mean Absolute Scaled Error"
   ]
  },
  {
   "cell_type": "code",
   "execution_count": 27,
   "metadata": {},
   "outputs": [],
   "source": [
    "# evaluate_result(result_list=result_list, test_data_frame=test_df, metric=Metric.MASE)"
   ]
  },
  {
   "cell_type": "markdown",
   "metadata": {},
   "source": [
    "#### Metric: Root Mean Squared Scaled Error"
   ]
  },
  {
   "cell_type": "code",
   "execution_count": 28,
   "metadata": {},
   "outputs": [],
   "source": [
    "evaluate_result(result_list=result_list, test_data_frame=test_df, metric=Metric.RMSSE)"
   ]
  },
  {
   "cell_type": "markdown",
   "metadata": {},
   "source": [
    "#### Metric: Weighted Root Mean Squared Scaled Error"
   ]
  },
  {
   "cell_type": "code",
   "execution_count": 29,
   "metadata": {},
   "outputs": [],
   "source": [
    "# evaluate_result(\n",
    "#     result_list=result_list,\n",
    "#     test_data_frame=test_df,\n",
    "#     metric=Metric.WMSSE,\n",
    "#     weight=revenue_by_year_df_2011_2015_weight,\n",
    "# )"
   ]
  },
  {
   "cell_type": "markdown",
   "metadata": {},
   "source": [
    "### Summarize models"
   ]
  },
  {
   "cell_type": "code",
   "execution_count": 30,
   "metadata": {},
   "outputs": [
    {
     "data": {
      "text/html": [
       "<div>\n",
       "<style scoped>\n",
       "    .dataframe tbody tr th:only-of-type {\n",
       "        vertical-align: middle;\n",
       "    }\n",
       "\n",
       "    .dataframe tbody tr th {\n",
       "        vertical-align: top;\n",
       "    }\n",
       "\n",
       "    .dataframe thead th {\n",
       "        text-align: right;\n",
       "    }\n",
       "</style>\n",
       "<table border=\"1\" class=\"dataframe\">\n",
       "  <thead>\n",
       "    <tr style=\"text-align: right;\">\n",
       "      <th></th>\n",
       "      <th>id</th>\n",
       "      <th>author</th>\n",
       "      <th>model</th>\n",
       "      <th>state</th>\n",
       "      <th>metric</th>\n",
       "      <th>value</th>\n",
       "    </tr>\n",
       "  </thead>\n",
       "  <tbody>\n",
       "    <tr>\n",
       "      <th>0</th>\n",
       "      <td>Duc_full_var</td>\n",
       "      <td>Duc</td>\n",
       "      <td>full_var</td>\n",
       "      <td>CA_3</td>\n",
       "      <td>RMSSE</td>\n",
       "      <td>0.756620</td>\n",
       "    </tr>\n",
       "    <tr>\n",
       "      <th>1</th>\n",
       "      <td>Duc_full_varma</td>\n",
       "      <td>Duc</td>\n",
       "      <td>full_varma</td>\n",
       "      <td>CA_3</td>\n",
       "      <td>RMSSE</td>\n",
       "      <td>0.553348</td>\n",
       "    </tr>\n",
       "    <tr>\n",
       "      <th>2</th>\n",
       "      <td>Duc_full_varmax</td>\n",
       "      <td>Duc</td>\n",
       "      <td>full_varmax</td>\n",
       "      <td>CA_3</td>\n",
       "      <td>RMSSE</td>\n",
       "      <td>0.440189</td>\n",
       "    </tr>\n",
       "    <tr>\n",
       "      <th>3</th>\n",
       "      <td>Huong_CA_3_SARIMA</td>\n",
       "      <td>Huong</td>\n",
       "      <td>CA_3_SARIMA</td>\n",
       "      <td>CA_3</td>\n",
       "      <td>RMSSE</td>\n",
       "      <td>0.493740</td>\n",
       "    </tr>\n",
       "    <tr>\n",
       "      <th>4</th>\n",
       "      <td>Phuong_ARIMAX_CA3</td>\n",
       "      <td>Phuong</td>\n",
       "      <td>ARIMAX_CA3</td>\n",
       "      <td>CA_3</td>\n",
       "      <td>RMSSE</td>\n",
       "      <td>0.449312</td>\n",
       "    </tr>\n",
       "    <tr>\n",
       "      <th>5</th>\n",
       "      <td>Phuong_SARIMAX_CA3</td>\n",
       "      <td>Phuong</td>\n",
       "      <td>SARIMAX_CA3</td>\n",
       "      <td>CA_3</td>\n",
       "      <td>RMSSE</td>\n",
       "      <td>0.454733</td>\n",
       "    </tr>\n",
       "    <tr>\n",
       "      <th>6</th>\n",
       "      <td>Uyen_CA_3_Markov_Regression</td>\n",
       "      <td>Uyen</td>\n",
       "      <td>CA_3_Markov_Regression</td>\n",
       "      <td>CA_3</td>\n",
       "      <td>RMSSE</td>\n",
       "      <td>2.190763</td>\n",
       "    </tr>\n",
       "  </tbody>\n",
       "</table>\n",
       "</div>"
      ],
      "text/plain": [
       "                            id  author                   model state metric  \\\n",
       "0                 Duc_full_var     Duc                full_var  CA_3  RMSSE   \n",
       "1               Duc_full_varma     Duc              full_varma  CA_3  RMSSE   \n",
       "2              Duc_full_varmax     Duc             full_varmax  CA_3  RMSSE   \n",
       "3            Huong_CA_3_SARIMA   Huong             CA_3_SARIMA  CA_3  RMSSE   \n",
       "4            Phuong_ARIMAX_CA3  Phuong              ARIMAX_CA3  CA_3  RMSSE   \n",
       "5           Phuong_SARIMAX_CA3  Phuong             SARIMAX_CA3  CA_3  RMSSE   \n",
       "6  Uyen_CA_3_Markov_Regression    Uyen  CA_3_Markov_Regression  CA_3  RMSSE   \n",
       "\n",
       "      value  \n",
       "0  0.756620  \n",
       "1  0.553348  \n",
       "2  0.440189  \n",
       "3  0.493740  \n",
       "4  0.449312  \n",
       "5  0.454733  \n",
       "6  2.190763  "
      ]
     },
     "execution_count": 30,
     "metadata": {},
     "output_type": "execute_result"
    }
   ],
   "source": [
    "summary_result = summarize_result(result_list)\n",
    "summary_result"
   ]
  },
  {
   "cell_type": "markdown",
   "metadata": {},
   "source": [
    "### Visualize models"
   ]
  },
  {
   "cell_type": "code",
   "execution_count": 31,
   "metadata": {},
   "outputs": [
    {
     "data": {
      "application/vnd.plotly.v1+json": {
       "config": {
        "plotlyServerURL": "https://plot.ly"
       },
       "data": [
        {
         "orientation": "h",
         "text": [
          "2.191",
          "0.757",
          "0.553",
          "0.494",
          "0.455",
          "0.449",
          "0.44"
         ],
         "textposition": "outside",
         "type": "bar",
         "x": [
          2.19076279829826,
          0.756620020070363,
          0.5533477450218767,
          0.49374039793228924,
          0.4547328382957869,
          0.4493121284901713,
          0.4401893233961762
         ],
         "y": [
          "Uyen_CA_3_Markov_Regression",
          "Duc_full_var",
          "Duc_full_varma",
          "Huong_CA_3_SARIMA",
          "Phuong_SARIMAX_CA3",
          "Phuong_ARIMAX_CA3",
          "Duc_full_varmax"
         ]
        }
       ],
       "layout": {
        "template": {
         "data": {
          "bar": [
           {
            "error_x": {
             "color": "#2a3f5f"
            },
            "error_y": {
             "color": "#2a3f5f"
            },
            "marker": {
             "line": {
              "color": "#E5ECF6",
              "width": 0.5
             },
             "pattern": {
              "fillmode": "overlay",
              "size": 10,
              "solidity": 0.2
             }
            },
            "type": "bar"
           }
          ],
          "barpolar": [
           {
            "marker": {
             "line": {
              "color": "#E5ECF6",
              "width": 0.5
             },
             "pattern": {
              "fillmode": "overlay",
              "size": 10,
              "solidity": 0.2
             }
            },
            "type": "barpolar"
           }
          ],
          "carpet": [
           {
            "aaxis": {
             "endlinecolor": "#2a3f5f",
             "gridcolor": "white",
             "linecolor": "white",
             "minorgridcolor": "white",
             "startlinecolor": "#2a3f5f"
            },
            "baxis": {
             "endlinecolor": "#2a3f5f",
             "gridcolor": "white",
             "linecolor": "white",
             "minorgridcolor": "white",
             "startlinecolor": "#2a3f5f"
            },
            "type": "carpet"
           }
          ],
          "choropleth": [
           {
            "colorbar": {
             "outlinewidth": 0,
             "ticks": ""
            },
            "type": "choropleth"
           }
          ],
          "contour": [
           {
            "colorbar": {
             "outlinewidth": 0,
             "ticks": ""
            },
            "colorscale": [
             [
              0,
              "#0d0887"
             ],
             [
              0.1111111111111111,
              "#46039f"
             ],
             [
              0.2222222222222222,
              "#7201a8"
             ],
             [
              0.3333333333333333,
              "#9c179e"
             ],
             [
              0.4444444444444444,
              "#bd3786"
             ],
             [
              0.5555555555555556,
              "#d8576b"
             ],
             [
              0.6666666666666666,
              "#ed7953"
             ],
             [
              0.7777777777777778,
              "#fb9f3a"
             ],
             [
              0.8888888888888888,
              "#fdca26"
             ],
             [
              1,
              "#f0f921"
             ]
            ],
            "type": "contour"
           }
          ],
          "contourcarpet": [
           {
            "colorbar": {
             "outlinewidth": 0,
             "ticks": ""
            },
            "type": "contourcarpet"
           }
          ],
          "heatmap": [
           {
            "colorbar": {
             "outlinewidth": 0,
             "ticks": ""
            },
            "colorscale": [
             [
              0,
              "#0d0887"
             ],
             [
              0.1111111111111111,
              "#46039f"
             ],
             [
              0.2222222222222222,
              "#7201a8"
             ],
             [
              0.3333333333333333,
              "#9c179e"
             ],
             [
              0.4444444444444444,
              "#bd3786"
             ],
             [
              0.5555555555555556,
              "#d8576b"
             ],
             [
              0.6666666666666666,
              "#ed7953"
             ],
             [
              0.7777777777777778,
              "#fb9f3a"
             ],
             [
              0.8888888888888888,
              "#fdca26"
             ],
             [
              1,
              "#f0f921"
             ]
            ],
            "type": "heatmap"
           }
          ],
          "histogram": [
           {
            "marker": {
             "pattern": {
              "fillmode": "overlay",
              "size": 10,
              "solidity": 0.2
             }
            },
            "type": "histogram"
           }
          ],
          "histogram2d": [
           {
            "colorbar": {
             "outlinewidth": 0,
             "ticks": ""
            },
            "colorscale": [
             [
              0,
              "#0d0887"
             ],
             [
              0.1111111111111111,
              "#46039f"
             ],
             [
              0.2222222222222222,
              "#7201a8"
             ],
             [
              0.3333333333333333,
              "#9c179e"
             ],
             [
              0.4444444444444444,
              "#bd3786"
             ],
             [
              0.5555555555555556,
              "#d8576b"
             ],
             [
              0.6666666666666666,
              "#ed7953"
             ],
             [
              0.7777777777777778,
              "#fb9f3a"
             ],
             [
              0.8888888888888888,
              "#fdca26"
             ],
             [
              1,
              "#f0f921"
             ]
            ],
            "type": "histogram2d"
           }
          ],
          "histogram2dcontour": [
           {
            "colorbar": {
             "outlinewidth": 0,
             "ticks": ""
            },
            "colorscale": [
             [
              0,
              "#0d0887"
             ],
             [
              0.1111111111111111,
              "#46039f"
             ],
             [
              0.2222222222222222,
              "#7201a8"
             ],
             [
              0.3333333333333333,
              "#9c179e"
             ],
             [
              0.4444444444444444,
              "#bd3786"
             ],
             [
              0.5555555555555556,
              "#d8576b"
             ],
             [
              0.6666666666666666,
              "#ed7953"
             ],
             [
              0.7777777777777778,
              "#fb9f3a"
             ],
             [
              0.8888888888888888,
              "#fdca26"
             ],
             [
              1,
              "#f0f921"
             ]
            ],
            "type": "histogram2dcontour"
           }
          ],
          "mesh3d": [
           {
            "colorbar": {
             "outlinewidth": 0,
             "ticks": ""
            },
            "type": "mesh3d"
           }
          ],
          "parcoords": [
           {
            "line": {
             "colorbar": {
              "outlinewidth": 0,
              "ticks": ""
             }
            },
            "type": "parcoords"
           }
          ],
          "pie": [
           {
            "automargin": true,
            "type": "pie"
           }
          ],
          "scatter": [
           {
            "fillpattern": {
             "fillmode": "overlay",
             "size": 10,
             "solidity": 0.2
            },
            "type": "scatter"
           }
          ],
          "scatter3d": [
           {
            "line": {
             "colorbar": {
              "outlinewidth": 0,
              "ticks": ""
             }
            },
            "marker": {
             "colorbar": {
              "outlinewidth": 0,
              "ticks": ""
             }
            },
            "type": "scatter3d"
           }
          ],
          "scattercarpet": [
           {
            "marker": {
             "colorbar": {
              "outlinewidth": 0,
              "ticks": ""
             }
            },
            "type": "scattercarpet"
           }
          ],
          "scattergeo": [
           {
            "marker": {
             "colorbar": {
              "outlinewidth": 0,
              "ticks": ""
             }
            },
            "type": "scattergeo"
           }
          ],
          "scattergl": [
           {
            "marker": {
             "colorbar": {
              "outlinewidth": 0,
              "ticks": ""
             }
            },
            "type": "scattergl"
           }
          ],
          "scattermap": [
           {
            "marker": {
             "colorbar": {
              "outlinewidth": 0,
              "ticks": ""
             }
            },
            "type": "scattermap"
           }
          ],
          "scattermapbox": [
           {
            "marker": {
             "colorbar": {
              "outlinewidth": 0,
              "ticks": ""
             }
            },
            "type": "scattermapbox"
           }
          ],
          "scatterpolar": [
           {
            "marker": {
             "colorbar": {
              "outlinewidth": 0,
              "ticks": ""
             }
            },
            "type": "scatterpolar"
           }
          ],
          "scatterpolargl": [
           {
            "marker": {
             "colorbar": {
              "outlinewidth": 0,
              "ticks": ""
             }
            },
            "type": "scatterpolargl"
           }
          ],
          "scatterternary": [
           {
            "marker": {
             "colorbar": {
              "outlinewidth": 0,
              "ticks": ""
             }
            },
            "type": "scatterternary"
           }
          ],
          "surface": [
           {
            "colorbar": {
             "outlinewidth": 0,
             "ticks": ""
            },
            "colorscale": [
             [
              0,
              "#0d0887"
             ],
             [
              0.1111111111111111,
              "#46039f"
             ],
             [
              0.2222222222222222,
              "#7201a8"
             ],
             [
              0.3333333333333333,
              "#9c179e"
             ],
             [
              0.4444444444444444,
              "#bd3786"
             ],
             [
              0.5555555555555556,
              "#d8576b"
             ],
             [
              0.6666666666666666,
              "#ed7953"
             ],
             [
              0.7777777777777778,
              "#fb9f3a"
             ],
             [
              0.8888888888888888,
              "#fdca26"
             ],
             [
              1,
              "#f0f921"
             ]
            ],
            "type": "surface"
           }
          ],
          "table": [
           {
            "cells": {
             "fill": {
              "color": "#EBF0F8"
             },
             "line": {
              "color": "white"
             }
            },
            "header": {
             "fill": {
              "color": "#C8D4E3"
             },
             "line": {
              "color": "white"
             }
            },
            "type": "table"
           }
          ]
         },
         "layout": {
          "annotationdefaults": {
           "arrowcolor": "#2a3f5f",
           "arrowhead": 0,
           "arrowwidth": 1
          },
          "autotypenumbers": "strict",
          "coloraxis": {
           "colorbar": {
            "outlinewidth": 0,
            "ticks": ""
           }
          },
          "colorscale": {
           "diverging": [
            [
             0,
             "#8e0152"
            ],
            [
             0.1,
             "#c51b7d"
            ],
            [
             0.2,
             "#de77ae"
            ],
            [
             0.3,
             "#f1b6da"
            ],
            [
             0.4,
             "#fde0ef"
            ],
            [
             0.5,
             "#f7f7f7"
            ],
            [
             0.6,
             "#e6f5d0"
            ],
            [
             0.7,
             "#b8e186"
            ],
            [
             0.8,
             "#7fbc41"
            ],
            [
             0.9,
             "#4d9221"
            ],
            [
             1,
             "#276419"
            ]
           ],
           "sequential": [
            [
             0,
             "#0d0887"
            ],
            [
             0.1111111111111111,
             "#46039f"
            ],
            [
             0.2222222222222222,
             "#7201a8"
            ],
            [
             0.3333333333333333,
             "#9c179e"
            ],
            [
             0.4444444444444444,
             "#bd3786"
            ],
            [
             0.5555555555555556,
             "#d8576b"
            ],
            [
             0.6666666666666666,
             "#ed7953"
            ],
            [
             0.7777777777777778,
             "#fb9f3a"
            ],
            [
             0.8888888888888888,
             "#fdca26"
            ],
            [
             1,
             "#f0f921"
            ]
           ],
           "sequentialminus": [
            [
             0,
             "#0d0887"
            ],
            [
             0.1111111111111111,
             "#46039f"
            ],
            [
             0.2222222222222222,
             "#7201a8"
            ],
            [
             0.3333333333333333,
             "#9c179e"
            ],
            [
             0.4444444444444444,
             "#bd3786"
            ],
            [
             0.5555555555555556,
             "#d8576b"
            ],
            [
             0.6666666666666666,
             "#ed7953"
            ],
            [
             0.7777777777777778,
             "#fb9f3a"
            ],
            [
             0.8888888888888888,
             "#fdca26"
            ],
            [
             1,
             "#f0f921"
            ]
           ]
          },
          "colorway": [
           "#636efa",
           "#EF553B",
           "#00cc96",
           "#ab63fa",
           "#FFA15A",
           "#19d3f3",
           "#FF6692",
           "#B6E880",
           "#FF97FF",
           "#FECB52"
          ],
          "font": {
           "color": "#2a3f5f"
          },
          "geo": {
           "bgcolor": "white",
           "lakecolor": "white",
           "landcolor": "#E5ECF6",
           "showlakes": true,
           "showland": true,
           "subunitcolor": "white"
          },
          "hoverlabel": {
           "align": "left"
          },
          "hovermode": "closest",
          "mapbox": {
           "style": "light"
          },
          "paper_bgcolor": "white",
          "plot_bgcolor": "#E5ECF6",
          "polar": {
           "angularaxis": {
            "gridcolor": "white",
            "linecolor": "white",
            "ticks": ""
           },
           "bgcolor": "#E5ECF6",
           "radialaxis": {
            "gridcolor": "white",
            "linecolor": "white",
            "ticks": ""
           }
          },
          "scene": {
           "xaxis": {
            "backgroundcolor": "#E5ECF6",
            "gridcolor": "white",
            "gridwidth": 2,
            "linecolor": "white",
            "showbackground": true,
            "ticks": "",
            "zerolinecolor": "white"
           },
           "yaxis": {
            "backgroundcolor": "#E5ECF6",
            "gridcolor": "white",
            "gridwidth": 2,
            "linecolor": "white",
            "showbackground": true,
            "ticks": "",
            "zerolinecolor": "white"
           },
           "zaxis": {
            "backgroundcolor": "#E5ECF6",
            "gridcolor": "white",
            "gridwidth": 2,
            "linecolor": "white",
            "showbackground": true,
            "ticks": "",
            "zerolinecolor": "white"
           }
          },
          "shapedefaults": {
           "line": {
            "color": "#2a3f5f"
           }
          },
          "ternary": {
           "aaxis": {
            "gridcolor": "white",
            "linecolor": "white",
            "ticks": ""
           },
           "baxis": {
            "gridcolor": "white",
            "linecolor": "white",
            "ticks": ""
           },
           "bgcolor": "#E5ECF6",
           "caxis": {
            "gridcolor": "white",
            "linecolor": "white",
            "ticks": ""
           }
          },
          "title": {
           "x": 0.05
          },
          "xaxis": {
           "automargin": true,
           "gridcolor": "white",
           "linecolor": "white",
           "ticks": "",
           "title": {
            "standoff": 15
           },
           "zerolinecolor": "white",
           "zerolinewidth": 2
          },
          "yaxis": {
           "automargin": true,
           "gridcolor": "white",
           "linecolor": "white",
           "ticks": "",
           "title": {
            "standoff": 15
           },
           "zerolinecolor": "white",
           "zerolinewidth": 2
          }
         }
        },
        "title": {
         "text": "RMSSE value of top 7 models. (Smaller is better).",
         "x": 0.5,
         "xanchor": "center"
        },
        "xaxis": {
         "range": [
          0,
          2.409839078128086
         ]
        }
       }
      }
     },
     "metadata": {},
     "output_type": "display_data"
    }
   ],
   "source": [
    "top_models = plot_horizontal_bar_chart(summary_result)"
   ]
  },
  {
   "cell_type": "code",
   "execution_count": 32,
   "metadata": {},
   "outputs": [
    {
     "data": {
      "application/vnd.plotly.v1+json": {
       "config": {
        "plotlyServerURL": "https://plot.ly"
       },
       "data": [
        {
         "line": {
          "width": 4
         },
         "mode": "lines",
         "name": "Actual Revenue",
         "type": "scatter",
         "x": [
          "2016-04-25",
          "2016-04-26",
          "2016-04-27",
          "2016-04-28",
          "2016-04-29",
          "2016-04-30",
          "2016-05-01",
          "2016-05-02",
          "2016-05-03",
          "2016-05-04",
          "2016-05-05",
          "2016-05-06",
          "2016-05-07",
          "2016-05-08",
          "2016-05-09",
          "2016-05-10",
          "2016-05-11",
          "2016-05-12",
          "2016-05-13",
          "2016-05-14",
          "2016-05-15",
          "2016-05-16",
          "2016-05-17",
          "2016-05-18",
          "2016-05-19",
          "2016-05-20",
          "2016-05-21",
          "2016-05-22"
         ],
         "y": {
          "bdata": "PQrXo6An1UBmZmZmBoHRQArXo3CNdtBAhetRuL5F0EC4HoXrMdbSQD0K16NQw9dAMzMzM6ML2kCF61G4rg3WQBSuR+Ha29NAFK5H4eqS00DNzMzMrBXTQOF6FK7HI9NAFK5H4Upb2EApXI/CdV7WQEjhehRegdZAexSuRzG100AUrkfh+uXTQIXrUbiuGdFApHA9Cndd00B7FK5HkfzXQClcj8K1ktpAZmZmZoa+00DNzMzMDPHRQOxRuB41XdFAZmZmZtYy0kCF61G4zsrRQHsUrkdhStdAKVyPwvWi2kA=",
          "dtype": "f8"
         }
        },
        {
         "mode": "lines",
         "name": "Model Uyen_CA_3_Markov_Regression",
         "type": "scatter",
         "x": [
          "2016-04-25",
          "2016-04-26",
          "2016-04-27",
          "2016-04-28",
          "2016-04-29",
          "2016-04-30",
          "2016-05-01",
          "2016-05-02",
          "2016-05-03",
          "2016-05-04",
          "2016-05-05",
          "2016-05-06",
          "2016-05-07",
          "2016-05-08",
          "2016-05-09",
          "2016-05-10",
          "2016-05-11",
          "2016-05-12",
          "2016-05-13",
          "2016-05-14",
          "2016-05-15",
          "2016-05-16",
          "2016-05-17",
          "2016-05-18",
          "2016-05-19",
          "2016-05-20",
          "2016-05-21",
          "2016-05-22"
         ],
         "y": {
          "bdata": "6fGuhVFt1UAGc4AlgaHUQHD8Zgu5jdFAFSmqEvN4zUAuuD+S/yLNQH7k1oFlJNFARa2di2wi2kBqcQSersncQJT2ajc/09tAC2VnAL522EANbAKyuHHVQIQRBTbgR9VAB9V1QVsB2ED7jkbLsTHcQNWKmq8F3t5ABtI7xNC43UCtdb48shfaQLPIdn9H3tZAFVW9lxGo1kBoLJ3DqnHZQN0K9FwNu91A/u9Bu5Q14EAQ86n7DyPfQCs0L0TBTttAmhOYwD/u10AkIxpc0K7XQHHP/LpvhNpANVZI5YHg3kA=",
          "dtype": "f8"
         }
        },
        {
         "mode": "lines",
         "name": "Model Duc_full_var",
         "type": "scatter",
         "x": [
          "2016-04-25",
          "2016-04-26",
          "2016-04-27",
          "2016-04-28",
          "2016-04-29",
          "2016-04-30",
          "2016-05-01",
          "2016-05-02",
          "2016-05-03",
          "2016-05-04",
          "2016-05-05",
          "2016-05-06",
          "2016-05-07",
          "2016-05-08",
          "2016-05-09",
          "2016-05-10",
          "2016-05-11",
          "2016-05-12",
          "2016-05-13",
          "2016-05-14",
          "2016-05-15",
          "2016-05-16",
          "2016-05-17",
          "2016-05-18",
          "2016-05-19",
          "2016-05-20",
          "2016-05-21",
          "2016-05-22"
         ],
         "y": {
          "bdata": "29xfZyCQ0UBA7i9WpJDTQMV9jbGzJ9NAnA8G/aEw0EC8x9KemYjSQNERSXe5T9lAiOvUEmVh10DmKFqi4XrUQLI0gR+W89JAh3k3MQVj1UBSXk5VVmjTQCg0OCr4xNVAQGkiwcuC2UCwmt6S6xfbQLe9sRNxYdVAMMUxVGPE10AwYalW78bUQG2pWKo2WtNAkDY2TIGv00CM3HWFKmHXQDPX7rVW7tdAnUjsUb3x1EABbrlRf1rTQLqRE6i3qNNAosvAN+A+0UB0Ym9ZuO7SQCrbyymTGddAJHXuG1k610A=",
          "dtype": "f8"
         }
        },
        {
         "mode": "lines",
         "name": "Model Duc_full_varma",
         "type": "scatter",
         "x": [
          "2016-04-25",
          "2016-04-26",
          "2016-04-27",
          "2016-04-28",
          "2016-04-29",
          "2016-04-30",
          "2016-05-01",
          "2016-05-02",
          "2016-05-03",
          "2016-05-04",
          "2016-05-05",
          "2016-05-06",
          "2016-05-07",
          "2016-05-08",
          "2016-05-09",
          "2016-05-10",
          "2016-05-11",
          "2016-05-12",
          "2016-05-13",
          "2016-05-14",
          "2016-05-15",
          "2016-05-16",
          "2016-05-17",
          "2016-05-18",
          "2016-05-19",
          "2016-05-20",
          "2016-05-21",
          "2016-05-22"
         ],
         "y": {
          "bdata": "+/1uGATr0UBkIc7BkpzRQFgeb3ZxfMxARGnVeTEv0ECroIWWtTPSQKD0C2wB3NdAnCwd9Ih62kDUXJIZabHUQNRnOm/aptFAVGOyxeix0kAcBJfwpqjSQJzP74V3mNNAqMg+4AE02EDEWDJQVevbQOy90iLUUNVAoLqqzGOH00BQek4uFSPSQM8ijM1KI9JAIGMHJ9rH0kCQZOt0ifTXQJS2inngytpAxYQMvkON1ECIq6kl1d7SQBA/TBixNNFA0B6KKz470ECI8wA5+1rSQEhmJWlbgddAvLI5ndgj20A=",
          "dtype": "f8"
         }
        },
        {
         "mode": "lines",
         "name": "Model Huong_CA_3_SARIMA",
         "type": "scatter",
         "x": [
          "2016-04-25",
          "2016-04-26",
          "2016-04-27",
          "2016-04-28",
          "2016-04-29",
          "2016-04-30",
          "2016-05-01",
          "2016-05-02",
          "2016-05-03",
          "2016-05-04",
          "2016-05-05",
          "2016-05-06",
          "2016-05-07",
          "2016-05-08",
          "2016-05-09",
          "2016-05-10",
          "2016-05-11",
          "2016-05-12",
          "2016-05-13",
          "2016-05-14",
          "2016-05-15",
          "2016-05-16",
          "2016-05-17",
          "2016-05-18",
          "2016-05-19",
          "2016-05-20",
          "2016-05-21",
          "2016-05-22"
         ],
         "y": {
          "bdata": "lxsMdZjI1ED3Hi45rsbSQKH0hZAiFtJASl6dY6N00UBlGk0uLyfSQLCtn/57S9dAX1yq0vkB2UCz7h8LAUzUQGzrp/8zWNJAcayL217A0UB8m/7s4VTRQMEffv4N69FAuVFkrdsB10Ckx+9tV7jYQG9/LhqxINRAcSGP4Lc00kAUXKyo5aTRQFh06zVRRNFAMZqV7cnY0UDkLOxpp/TWQKeyKOySrdhArKjBNN0Y1EAhk4yc2y7SQErRyr0OodFAamgDsFFD0UDNr+YAVtbRQJTeN74C99ZAMgQAx9+w2EA=",
          "dtype": "f8"
         }
        },
        {
         "mode": "lines",
         "name": "Model Phuong_SARIMAX_CA3",
         "type": "scatter",
         "x": [
          "2016-04-25",
          "2016-04-26",
          "2016-04-27",
          "2016-04-28",
          "2016-04-29",
          "2016-04-30",
          "2016-05-01",
          "2016-05-02",
          "2016-05-03",
          "2016-05-04",
          "2016-05-05",
          "2016-05-06",
          "2016-05-07",
          "2016-05-08",
          "2016-05-09",
          "2016-05-10",
          "2016-05-11",
          "2016-05-12",
          "2016-05-13",
          "2016-05-14",
          "2016-05-15",
          "2016-05-16",
          "2016-05-17",
          "2016-05-18",
          "2016-05-19",
          "2016-05-20",
          "2016-05-21",
          "2016-05-22"
         ],
         "y": {
          "bdata": "gFEVqHOK1EDnybk0BVzSQHI4FWeLrNFAhO0aBLBi0UC23ZrXfBzUQFqj7d6e69hAYskE1dul2kCCSaOMlLPVQLMIBCpcvNNALIU90iQh00BH/cplPPXSQKsRuwf5I9RAAZ6vu1Dg2EDAmCUqSqjaQCw+GeVoRNRAbxDf41JT0kDBZmXRcrbRQHlmbYvRfNFAmyceu0260kDVEZ0evYXXQEypjdsPSNlA+tl/bL9R1EAHJfp/aVvSQFaEVHLVvtFA1XBbfHCM0UAM1TmSIsPSQEixV4kbi9dAfNn9vT1S2UA=",
          "dtype": "f8"
         }
        },
        {
         "mode": "lines",
         "name": "Model Phuong_ARIMAX_CA3",
         "type": "scatter",
         "x": [
          "2016-04-25",
          "2016-04-26",
          "2016-04-27",
          "2016-04-28",
          "2016-04-29",
          "2016-04-30",
          "2016-05-01",
          "2016-05-02",
          "2016-05-03",
          "2016-05-04",
          "2016-05-05",
          "2016-05-06",
          "2016-05-07",
          "2016-05-08",
          "2016-05-09",
          "2016-05-10",
          "2016-05-11",
          "2016-05-12",
          "2016-05-13",
          "2016-05-14",
          "2016-05-15",
          "2016-05-16",
          "2016-05-17",
          "2016-05-18",
          "2016-05-19",
          "2016-05-20",
          "2016-05-21",
          "2016-05-22"
         ],
         "y": {
          "bdata": "akTNTrke1UCcAjY0DLjSQHVM/pubb9FAIAQ1EJkZ0UAy8+XMjzPUQAbF71Lvd9hAJpz3kwBd2kCFFQU3ODbWQKFvjlfvHdRA8/mg/JXa0kAzrIt7s4XSQEf9phdENtRA86TQUfp02EABxPKPpFbaQJ8yRUeDy9RApnvz11a40kAzVpO69HnRQNSugmoqJtFAUQOYzCjT0kBm3QHjWAzXQDVfku6x6thAra1qravG1EDA1GpRfLjSQJr91TryftFAgyUueDgs0UB73F0hutXSQLVv+GGGCddA1D6qf6Pk2EA=",
          "dtype": "f8"
         }
        },
        {
         "mode": "lines",
         "name": "Model Duc_full_varmax",
         "type": "scatter",
         "x": [
          "2016-04-25",
          "2016-04-26",
          "2016-04-27",
          "2016-04-28",
          "2016-04-29",
          "2016-04-30",
          "2016-05-01",
          "2016-05-02",
          "2016-05-03",
          "2016-05-04",
          "2016-05-05",
          "2016-05-06",
          "2016-05-07",
          "2016-05-08",
          "2016-05-09",
          "2016-05-10",
          "2016-05-11",
          "2016-05-12",
          "2016-05-13",
          "2016-05-14",
          "2016-05-15",
          "2016-05-16",
          "2016-05-17",
          "2016-05-18",
          "2016-05-19",
          "2016-05-20",
          "2016-05-21",
          "2016-05-22"
         ],
         "y": {
          "bdata": "hKoC6rt700BrBVKUyafRQOigHYQdAc1AOPMC5HiFz0DkiHolTpzRQHiBRF2RMddA5GeZ3Unj3EAs70OLuxXWQNMBQGrpAtRAHLFxMSpS0kAYX/ev5qvRQIDfxls1d9RAuAkouFD+10DNrLE7i1rXQDTyQeZ3odZA7OMdpz/100DwjrBvK7HQQOQeH1lGQ9FAACjNi0rB0kB4Q8pwsSfXQOSuRmpx8tlA9MKoVgF51ED8VTYJjC3TQACdlnCuW9BAFOYvcJlt0EAo+COsXo/SQNiS8bFk29ZATMR92CA+2kA=",
          "dtype": "f8"
         }
        }
       ],
       "layout": {
        "template": {
         "data": {
          "bar": [
           {
            "error_x": {
             "color": "#2a3f5f"
            },
            "error_y": {
             "color": "#2a3f5f"
            },
            "marker": {
             "line": {
              "color": "#E5ECF6",
              "width": 0.5
             },
             "pattern": {
              "fillmode": "overlay",
              "size": 10,
              "solidity": 0.2
             }
            },
            "type": "bar"
           }
          ],
          "barpolar": [
           {
            "marker": {
             "line": {
              "color": "#E5ECF6",
              "width": 0.5
             },
             "pattern": {
              "fillmode": "overlay",
              "size": 10,
              "solidity": 0.2
             }
            },
            "type": "barpolar"
           }
          ],
          "carpet": [
           {
            "aaxis": {
             "endlinecolor": "#2a3f5f",
             "gridcolor": "white",
             "linecolor": "white",
             "minorgridcolor": "white",
             "startlinecolor": "#2a3f5f"
            },
            "baxis": {
             "endlinecolor": "#2a3f5f",
             "gridcolor": "white",
             "linecolor": "white",
             "minorgridcolor": "white",
             "startlinecolor": "#2a3f5f"
            },
            "type": "carpet"
           }
          ],
          "choropleth": [
           {
            "colorbar": {
             "outlinewidth": 0,
             "ticks": ""
            },
            "type": "choropleth"
           }
          ],
          "contour": [
           {
            "colorbar": {
             "outlinewidth": 0,
             "ticks": ""
            },
            "colorscale": [
             [
              0,
              "#0d0887"
             ],
             [
              0.1111111111111111,
              "#46039f"
             ],
             [
              0.2222222222222222,
              "#7201a8"
             ],
             [
              0.3333333333333333,
              "#9c179e"
             ],
             [
              0.4444444444444444,
              "#bd3786"
             ],
             [
              0.5555555555555556,
              "#d8576b"
             ],
             [
              0.6666666666666666,
              "#ed7953"
             ],
             [
              0.7777777777777778,
              "#fb9f3a"
             ],
             [
              0.8888888888888888,
              "#fdca26"
             ],
             [
              1,
              "#f0f921"
             ]
            ],
            "type": "contour"
           }
          ],
          "contourcarpet": [
           {
            "colorbar": {
             "outlinewidth": 0,
             "ticks": ""
            },
            "type": "contourcarpet"
           }
          ],
          "heatmap": [
           {
            "colorbar": {
             "outlinewidth": 0,
             "ticks": ""
            },
            "colorscale": [
             [
              0,
              "#0d0887"
             ],
             [
              0.1111111111111111,
              "#46039f"
             ],
             [
              0.2222222222222222,
              "#7201a8"
             ],
             [
              0.3333333333333333,
              "#9c179e"
             ],
             [
              0.4444444444444444,
              "#bd3786"
             ],
             [
              0.5555555555555556,
              "#d8576b"
             ],
             [
              0.6666666666666666,
              "#ed7953"
             ],
             [
              0.7777777777777778,
              "#fb9f3a"
             ],
             [
              0.8888888888888888,
              "#fdca26"
             ],
             [
              1,
              "#f0f921"
             ]
            ],
            "type": "heatmap"
           }
          ],
          "histogram": [
           {
            "marker": {
             "pattern": {
              "fillmode": "overlay",
              "size": 10,
              "solidity": 0.2
             }
            },
            "type": "histogram"
           }
          ],
          "histogram2d": [
           {
            "colorbar": {
             "outlinewidth": 0,
             "ticks": ""
            },
            "colorscale": [
             [
              0,
              "#0d0887"
             ],
             [
              0.1111111111111111,
              "#46039f"
             ],
             [
              0.2222222222222222,
              "#7201a8"
             ],
             [
              0.3333333333333333,
              "#9c179e"
             ],
             [
              0.4444444444444444,
              "#bd3786"
             ],
             [
              0.5555555555555556,
              "#d8576b"
             ],
             [
              0.6666666666666666,
              "#ed7953"
             ],
             [
              0.7777777777777778,
              "#fb9f3a"
             ],
             [
              0.8888888888888888,
              "#fdca26"
             ],
             [
              1,
              "#f0f921"
             ]
            ],
            "type": "histogram2d"
           }
          ],
          "histogram2dcontour": [
           {
            "colorbar": {
             "outlinewidth": 0,
             "ticks": ""
            },
            "colorscale": [
             [
              0,
              "#0d0887"
             ],
             [
              0.1111111111111111,
              "#46039f"
             ],
             [
              0.2222222222222222,
              "#7201a8"
             ],
             [
              0.3333333333333333,
              "#9c179e"
             ],
             [
              0.4444444444444444,
              "#bd3786"
             ],
             [
              0.5555555555555556,
              "#d8576b"
             ],
             [
              0.6666666666666666,
              "#ed7953"
             ],
             [
              0.7777777777777778,
              "#fb9f3a"
             ],
             [
              0.8888888888888888,
              "#fdca26"
             ],
             [
              1,
              "#f0f921"
             ]
            ],
            "type": "histogram2dcontour"
           }
          ],
          "mesh3d": [
           {
            "colorbar": {
             "outlinewidth": 0,
             "ticks": ""
            },
            "type": "mesh3d"
           }
          ],
          "parcoords": [
           {
            "line": {
             "colorbar": {
              "outlinewidth": 0,
              "ticks": ""
             }
            },
            "type": "parcoords"
           }
          ],
          "pie": [
           {
            "automargin": true,
            "type": "pie"
           }
          ],
          "scatter": [
           {
            "fillpattern": {
             "fillmode": "overlay",
             "size": 10,
             "solidity": 0.2
            },
            "type": "scatter"
           }
          ],
          "scatter3d": [
           {
            "line": {
             "colorbar": {
              "outlinewidth": 0,
              "ticks": ""
             }
            },
            "marker": {
             "colorbar": {
              "outlinewidth": 0,
              "ticks": ""
             }
            },
            "type": "scatter3d"
           }
          ],
          "scattercarpet": [
           {
            "marker": {
             "colorbar": {
              "outlinewidth": 0,
              "ticks": ""
             }
            },
            "type": "scattercarpet"
           }
          ],
          "scattergeo": [
           {
            "marker": {
             "colorbar": {
              "outlinewidth": 0,
              "ticks": ""
             }
            },
            "type": "scattergeo"
           }
          ],
          "scattergl": [
           {
            "marker": {
             "colorbar": {
              "outlinewidth": 0,
              "ticks": ""
             }
            },
            "type": "scattergl"
           }
          ],
          "scattermap": [
           {
            "marker": {
             "colorbar": {
              "outlinewidth": 0,
              "ticks": ""
             }
            },
            "type": "scattermap"
           }
          ],
          "scattermapbox": [
           {
            "marker": {
             "colorbar": {
              "outlinewidth": 0,
              "ticks": ""
             }
            },
            "type": "scattermapbox"
           }
          ],
          "scatterpolar": [
           {
            "marker": {
             "colorbar": {
              "outlinewidth": 0,
              "ticks": ""
             }
            },
            "type": "scatterpolar"
           }
          ],
          "scatterpolargl": [
           {
            "marker": {
             "colorbar": {
              "outlinewidth": 0,
              "ticks": ""
             }
            },
            "type": "scatterpolargl"
           }
          ],
          "scatterternary": [
           {
            "marker": {
             "colorbar": {
              "outlinewidth": 0,
              "ticks": ""
             }
            },
            "type": "scatterternary"
           }
          ],
          "surface": [
           {
            "colorbar": {
             "outlinewidth": 0,
             "ticks": ""
            },
            "colorscale": [
             [
              0,
              "#0d0887"
             ],
             [
              0.1111111111111111,
              "#46039f"
             ],
             [
              0.2222222222222222,
              "#7201a8"
             ],
             [
              0.3333333333333333,
              "#9c179e"
             ],
             [
              0.4444444444444444,
              "#bd3786"
             ],
             [
              0.5555555555555556,
              "#d8576b"
             ],
             [
              0.6666666666666666,
              "#ed7953"
             ],
             [
              0.7777777777777778,
              "#fb9f3a"
             ],
             [
              0.8888888888888888,
              "#fdca26"
             ],
             [
              1,
              "#f0f921"
             ]
            ],
            "type": "surface"
           }
          ],
          "table": [
           {
            "cells": {
             "fill": {
              "color": "#EBF0F8"
             },
             "line": {
              "color": "white"
             }
            },
            "header": {
             "fill": {
              "color": "#C8D4E3"
             },
             "line": {
              "color": "white"
             }
            },
            "type": "table"
           }
          ]
         },
         "layout": {
          "annotationdefaults": {
           "arrowcolor": "#2a3f5f",
           "arrowhead": 0,
           "arrowwidth": 1
          },
          "autotypenumbers": "strict",
          "coloraxis": {
           "colorbar": {
            "outlinewidth": 0,
            "ticks": ""
           }
          },
          "colorscale": {
           "diverging": [
            [
             0,
             "#8e0152"
            ],
            [
             0.1,
             "#c51b7d"
            ],
            [
             0.2,
             "#de77ae"
            ],
            [
             0.3,
             "#f1b6da"
            ],
            [
             0.4,
             "#fde0ef"
            ],
            [
             0.5,
             "#f7f7f7"
            ],
            [
             0.6,
             "#e6f5d0"
            ],
            [
             0.7,
             "#b8e186"
            ],
            [
             0.8,
             "#7fbc41"
            ],
            [
             0.9,
             "#4d9221"
            ],
            [
             1,
             "#276419"
            ]
           ],
           "sequential": [
            [
             0,
             "#0d0887"
            ],
            [
             0.1111111111111111,
             "#46039f"
            ],
            [
             0.2222222222222222,
             "#7201a8"
            ],
            [
             0.3333333333333333,
             "#9c179e"
            ],
            [
             0.4444444444444444,
             "#bd3786"
            ],
            [
             0.5555555555555556,
             "#d8576b"
            ],
            [
             0.6666666666666666,
             "#ed7953"
            ],
            [
             0.7777777777777778,
             "#fb9f3a"
            ],
            [
             0.8888888888888888,
             "#fdca26"
            ],
            [
             1,
             "#f0f921"
            ]
           ],
           "sequentialminus": [
            [
             0,
             "#0d0887"
            ],
            [
             0.1111111111111111,
             "#46039f"
            ],
            [
             0.2222222222222222,
             "#7201a8"
            ],
            [
             0.3333333333333333,
             "#9c179e"
            ],
            [
             0.4444444444444444,
             "#bd3786"
            ],
            [
             0.5555555555555556,
             "#d8576b"
            ],
            [
             0.6666666666666666,
             "#ed7953"
            ],
            [
             0.7777777777777778,
             "#fb9f3a"
            ],
            [
             0.8888888888888888,
             "#fdca26"
            ],
            [
             1,
             "#f0f921"
            ]
           ]
          },
          "colorway": [
           "#636efa",
           "#EF553B",
           "#00cc96",
           "#ab63fa",
           "#FFA15A",
           "#19d3f3",
           "#FF6692",
           "#B6E880",
           "#FF97FF",
           "#FECB52"
          ],
          "font": {
           "color": "#2a3f5f"
          },
          "geo": {
           "bgcolor": "white",
           "lakecolor": "white",
           "landcolor": "#E5ECF6",
           "showlakes": true,
           "showland": true,
           "subunitcolor": "white"
          },
          "hoverlabel": {
           "align": "left"
          },
          "hovermode": "closest",
          "mapbox": {
           "style": "light"
          },
          "paper_bgcolor": "white",
          "plot_bgcolor": "#E5ECF6",
          "polar": {
           "angularaxis": {
            "gridcolor": "white",
            "linecolor": "white",
            "ticks": ""
           },
           "bgcolor": "#E5ECF6",
           "radialaxis": {
            "gridcolor": "white",
            "linecolor": "white",
            "ticks": ""
           }
          },
          "scene": {
           "xaxis": {
            "backgroundcolor": "#E5ECF6",
            "gridcolor": "white",
            "gridwidth": 2,
            "linecolor": "white",
            "showbackground": true,
            "ticks": "",
            "zerolinecolor": "white"
           },
           "yaxis": {
            "backgroundcolor": "#E5ECF6",
            "gridcolor": "white",
            "gridwidth": 2,
            "linecolor": "white",
            "showbackground": true,
            "ticks": "",
            "zerolinecolor": "white"
           },
           "zaxis": {
            "backgroundcolor": "#E5ECF6",
            "gridcolor": "white",
            "gridwidth": 2,
            "linecolor": "white",
            "showbackground": true,
            "ticks": "",
            "zerolinecolor": "white"
           }
          },
          "shapedefaults": {
           "line": {
            "color": "#2a3f5f"
           }
          },
          "ternary": {
           "aaxis": {
            "gridcolor": "white",
            "linecolor": "white",
            "ticks": ""
           },
           "baxis": {
            "gridcolor": "white",
            "linecolor": "white",
            "ticks": ""
           },
           "bgcolor": "#E5ECF6",
           "caxis": {
            "gridcolor": "white",
            "linecolor": "white",
            "ticks": ""
           }
          },
          "title": {
           "x": 0.05
          },
          "xaxis": {
           "automargin": true,
           "gridcolor": "white",
           "linecolor": "white",
           "ticks": "",
           "title": {
            "standoff": 15
           },
           "zerolinecolor": "white",
           "zerolinewidth": 2
          },
          "yaxis": {
           "automargin": true,
           "gridcolor": "white",
           "linecolor": "white",
           "ticks": "",
           "title": {
            "standoff": 15
           },
           "zerolinecolor": "white",
           "zerolinewidth": 2
          }
         }
        },
        "title": {
         "text": "Predict result of top 7 models.",
         "x": 0.5,
         "xanchor": "center"
        },
        "xaxis": {
         "title": {
          "text": "Time"
         }
        },
        "yaxis": {
         "title": {
          "text": "Revenue"
         }
        }
       }
      }
     },
     "metadata": {},
     "output_type": "display_data"
    }
   ],
   "source": [
    "plot_line_chart(test_revenue_CA_3, result_list, top_models)"
   ]
  },
  {
   "cell_type": "code",
   "execution_count": 33,
   "metadata": {},
   "outputs": [
    {
     "data": {
      "application/vnd.microsoft.datawrangler.viewer.v0+json": {
       "columns": [
        {
         "name": "index",
         "rawType": "int64",
         "type": "integer"
        },
        {
         "name": "id",
         "rawType": "int64",
         "type": "integer"
        },
        {
         "name": "date",
         "rawType": "object",
         "type": "string"
        },
        {
         "name": "d",
         "rawType": "object",
         "type": "string"
        },
        {
         "name": "weekday",
         "rawType": "object",
         "type": "string"
        },
        {
         "name": "CA_1",
         "rawType": "float64",
         "type": "float"
        },
        {
         "name": "CA_2",
         "rawType": "float64",
         "type": "float"
        },
        {
         "name": "CA_3",
         "rawType": "float64",
         "type": "float"
        },
        {
         "name": "CA_4",
         "rawType": "float64",
         "type": "float"
        },
        {
         "name": "TX_1",
         "rawType": "float64",
         "type": "float"
        },
        {
         "name": "TX_2",
         "rawType": "float64",
         "type": "float"
        },
        {
         "name": "TX_3",
         "rawType": "float64",
         "type": "float"
        },
        {
         "name": "WI_1",
         "rawType": "float64",
         "type": "float"
        },
        {
         "name": "WI_2",
         "rawType": "float64",
         "type": "float"
        },
        {
         "name": "WI_3",
         "rawType": "float64",
         "type": "float"
        }
       ],
       "conversionMethod": "pd.DataFrame",
       "ref": "0cd31db5-3c26-49d0-aadd-9cca45580b78",
       "rows": [
        [
         "0",
         "1",
         "2011-01-29",
         "d_1",
         "Saturday",
         "10933.16",
         "9101.52",
         "11679.83",
         "4561.59",
         "6586.68",
         "9915.78",
         "7597.99",
         "6454.72",
         "5451.46",
         "9367.88"
        ],
        [
         "1",
         "2",
         "2011-01-30",
         "d_2",
         "Sunday",
         "9787.06",
         "8417.53",
         "12161.46",
         "4681.41",
         "6610.6",
         "9804.54",
         "7356.54",
         "5645.77",
         "4636.86",
         "9868.8"
        ],
        [
         "2",
         "3",
         "2011-01-31",
         "d_3",
         "Monday",
         "7201.38",
         "5320.51",
         "9123.86",
         "3637.98",
         "4551.97",
         "6651.16",
         "5406.7",
         "3640.12",
         "4621.58",
         "7551.65"
        ],
        [
         "3",
         "4",
         "2011-02-01",
         "d_4",
         "Tuesday",
         "7407.74",
         "5550.56",
         "10249.78",
         "3708.92",
         "5374.39",
         "6985.6",
         "5597.97",
         "2949.96",
         "5754.75",
         "7181.53"
        ],
        [
         "4",
         "5",
         "2011-02-02",
         "d_5",
         "Wednesday",
         "6566.12",
         "5229.72",
         "9538.65",
         "3841.14",
         "4347.07",
         "6039.05",
         "4069.74",
         "2.96",
         "2679.19",
         "4646.31"
        ],
        [
         "5",
         "6",
         "2011-02-03",
         "d_6",
         "Thursday",
         "7945.73",
         "5722.88",
         "10407.26",
         "3420.46",
         "6769.82",
         "8363.24",
         "6875.96",
         "4584.89",
         "5250.77",
         "10036.37"
        ],
        [
         "6",
         "7",
         "2011-02-04",
         "d_7",
         "Friday",
         "8546.76",
         "7099.03",
         "11640.09",
         "3965.84",
         "4435.84",
         "6608.13",
         "4960.6",
         "5925.37",
         "5552.65",
         "10054.75"
        ],
        [
         "7",
         "8",
         "2011-02-05",
         "d_8",
         "Saturday",
         "13375.4",
         "10396.81",
         "13721.66",
         "4990.9",
         "7226.66",
         "9818.03",
         "6918.25",
         "7852.61",
         "6342.72",
         "12804.71"
        ],
        [
         "8",
         "9",
         "2011-02-06",
         "d_9",
         "Sunday",
         "10591.43",
         "8288.25",
         "14462.15",
         "4714.09",
         "7866.75",
         "10130.28",
         "7555.79",
         "4030.75",
         "4772.57",
         "11085.5"
        ],
        [
         "9",
         "10",
         "2011-02-07",
         "d_10",
         "Monday",
         "7704.54",
         "5987.1",
         "11940.49",
         "3985.17",
         "5456.29",
         "7874.0",
         "5920.59",
         "3788.93",
         "4688.76",
         "7818.83"
        ],
        [
         "10",
         "11",
         "2011-02-08",
         "d_11",
         "Tuesday",
         "7848.65",
         "6006.15",
         "11286.13",
         "3633.39",
         "4458.54",
         "6799.66",
         "5406.49",
         "3578.48",
         "4024.12",
         "7837.78"
        ],
        [
         "11",
         "12",
         "2011-02-09",
         "d_12",
         "Wednesday",
         "6937.64",
         "5486.01",
         "10938.55",
         "3368.97",
         "5150.65",
         "6615.14",
         "4987.9",
         "3823.02",
         "4954.99",
         "8145.82"
        ],
        [
         "12",
         "13",
         "2011-02-10",
         "d_13",
         "Thursday",
         "7759.82",
         "6223.39",
         "12148.75",
         "3877.91",
         "5093.34",
         "6811.0",
         "4482.26",
         "3789.99",
         "4724.16",
         "7831.38"
        ],
        [
         "13",
         "14",
         "2011-02-11",
         "d_14",
         "Friday",
         "8589.23",
         "7580.03",
         "11778.01",
         "3862.11",
         "5740.67",
         "7871.46",
         "5614.91",
         "5706.64",
         "5518.13",
         "9722.92"
        ],
        [
         "14",
         "15",
         "2011-02-12",
         "d_15",
         "Saturday",
         "11516.6",
         "10513.28",
         "13604.53",
         "4219.47",
         "7846.17",
         "10695.95",
         "8229.49",
         "7081.01",
         "6007.37",
         "12871.03"
        ],
        [
         "15",
         "16",
         "2011-02-13",
         "d_16",
         "Sunday",
         "12010.84",
         "10703.71",
         "15408.56",
         "5455.49",
         "9367.68",
         "13496.41",
         "9508.51",
         "5930.25",
         "6153.61",
         "12728.77"
        ],
        [
         "16",
         "17",
         "2011-02-14",
         "d_17",
         "Monday",
         "7357.19",
         "5217.48",
         "9192.63",
         "3460.92",
         "5250.06",
         "7514.52",
         "5862.15",
         "4233.86",
         "3930.46",
         "7709.62"
        ],
        [
         "17",
         "18",
         "2011-02-15",
         "d_18",
         "Tuesday",
         "6376.43",
         "5559.33",
         "9894.83",
         "3986.9",
         "5899.28",
         "7941.27",
         "6378.15",
         "3735.15",
         "5357.41",
         "9149.56"
        ],
        [
         "18",
         "19",
         "2011-02-16",
         "d_19",
         "Wednesday",
         "5993.4",
         "5421.54",
         "9895.3",
         "3528.21",
         "5348.45",
         "7306.55",
         "5571.37",
         "3898.83",
         "4341.5",
         "7680.44"
        ],
        [
         "19",
         "20",
         "2011-02-17",
         "d_20",
         "Thursday",
         "5798.32",
         "5209.19",
         "8903.18",
         "3168.0",
         "5121.75",
         "6780.45",
         "5514.03",
         "4260.88",
         "4684.15",
         "7749.04"
        ],
        [
         "20",
         "21",
         "2011-02-18",
         "d_21",
         "Friday",
         "8667.37",
         "6704.45",
         "9306.4",
         "4241.65",
         "5677.73",
         "7511.26",
         "6084.96",
         "5325.99",
         "5103.2",
         "8844.98"
        ],
        [
         "21",
         "22",
         "2011-02-19",
         "d_22",
         "Saturday",
         "11221.92",
         "9046.66",
         "13070.74",
         "4712.79",
         "7407.07",
         "10549.29",
         "7965.51",
         "7269.88",
         "5655.45",
         "10751.52"
        ],
        [
         "22",
         "23",
         "2011-02-20",
         "d_23",
         "Sunday",
         "10639.78",
         "9486.79",
         "13522.98",
         "4452.87",
         "7528.32",
         "11312.32",
         "8137.24",
         "3804.05",
         "4378.82",
         "8106.27"
        ],
        [
         "23",
         "24",
         "2011-02-21",
         "d_24",
         "Monday",
         "8847.26",
         "7926.37",
         "12338.05",
         "4425.69",
         "5311.86",
         "8108.14",
         "5941.78",
         "2529.23",
         "3739.07",
         "6380.12"
        ],
        [
         "24",
         "25",
         "2011-02-22",
         "d_25",
         "Tuesday",
         "6355.31",
         "5394.3",
         "9707.96",
         "3528.56",
         "5088.61",
         "7175.33",
         "5237.19",
         "3084.69",
         "3454.59",
         "6354.15"
        ],
        [
         "25",
         "26",
         "2011-02-23",
         "d_26",
         "Wednesday",
         "6197.29",
         "5550.77",
         "8883.16",
         "3555.49",
         "4414.97",
         "6120.26",
         "5161.41",
         "3705.03",
         "4622.56",
         "6859.33"
        ],
        [
         "26",
         "27",
         "2011-02-24",
         "d_27",
         "Thursday",
         "5991.66",
         "4855.61",
         "8966.16",
         "3090.91",
         "5122.85",
         "6642.92",
         "4859.74",
         "3935.63",
         "4119.24",
         "6401.62"
        ],
        [
         "27",
         "28",
         "2011-02-25",
         "d_28",
         "Friday",
         "7513.57",
         "6354.13",
         "10104.59",
         "3781.53",
         "4890.25",
         "6920.27",
         "5175.12",
         "5156.45",
         "4198.68",
         "7682.28"
        ],
        [
         "28",
         "29",
         "2011-02-26",
         "d_29",
         "Saturday",
         "9827.54",
         "9773.58",
         "13527.7",
         "4511.62",
         "6909.7300000000005",
         "10042.35",
         "6586.89",
         "6327.69",
         "5327.42",
         "9004.97"
        ],
        [
         "29",
         "30",
         "2011-02-27",
         "d_30",
         "Sunday",
         "9947.56",
         "8389.28",
         "12572.61",
         "4692.87",
         "7063.87",
         "10532.49",
         "7314.1",
         "5236.99",
         "4394.63",
         "9306.85"
        ],
        [
         "30",
         "31",
         "2011-02-28",
         "d_31",
         "Monday",
         "6152.81",
         "5522.2",
         "10293.09",
         "3769.12",
         "5242.16",
         "7381.18",
         "5429.12",
         "4040.03",
         "4118.63",
         "6846.32"
        ],
        [
         "31",
         "32",
         "2011-03-01",
         "d_32",
         "Tuesday",
         "7105.39",
         "5510.73",
         "10659.85",
         "3903.39",
         "5096.65",
         "8150.36",
         "5674.71",
         "4122.21",
         "4552.36",
         "7764.53"
        ],
        [
         "32",
         "33",
         "2011-03-02",
         "d_33",
         "Wednesday",
         "6679.9400000000005",
         "5575.73",
         "10591.43",
         "3624.16",
         "5002.81",
         "6845.14",
         "5001.84",
         "3553.84",
         "4529.37",
         "8592.28"
        ],
        [
         "33",
         "34",
         "2011-03-03",
         "d_34",
         "Thursday",
         "7233.0",
         "6160.62",
         "10878.99",
         "3742.89",
         "5034.9800000000005",
         "7195.16",
         "5728.4",
         "4091.21",
         "5216.52",
         "9236.21"
        ],
        [
         "34",
         "35",
         "2011-03-04",
         "d_35",
         "Friday",
         "8303.6",
         "6297.09",
         "10436.19",
         "4142.97",
         "4649.03",
         "7403.22",
         "5583.88",
         "4476.08",
         "4531.73",
         "8196.77"
        ],
        [
         "35",
         "36",
         "2011-03-05",
         "d_36",
         "Saturday",
         "10823.55",
         "9888.36",
         "13811.14",
         "4565.52",
         "7115.14",
         "10224.45",
         "7862.69",
         "5435.49",
         "5566.16",
         "10951.26"
        ],
        [
         "36",
         "37",
         "2011-03-06",
         "d_37",
         "Sunday",
         "12041.49",
         "10155.66",
         "16542.05",
         "5628.63",
         "7985.27",
         "12249.42",
         "7803.3",
         "5413.84",
         "5083.65",
         "11402.09"
        ],
        [
         "37",
         "38",
         "2011-03-07",
         "d_38",
         "Monday",
         "8182.63",
         "5738.98",
         "11756.0",
         "4245.24",
         "6145.66",
         "8404.36",
         "6369.02",
         "3848.77",
         "4487.4",
         "7805.78"
        ],
        [
         "38",
         "39",
         "2011-03-08",
         "d_39",
         "Tuesday",
         "7624.81",
         "5441.57",
         "10863.58",
         "3925.97",
         "4949.96",
         "6881.1900000000005",
         "5347.57",
         "3697.88",
         "4811.78",
         "7701.52"
        ],
        [
         "39",
         "40",
         "2011-03-09",
         "d_40",
         "Wednesday",
         "7082.99",
         "5593.31",
         "9776.68",
         "3527.26",
         "5855.31",
         "7159.33",
         "5474.74",
         "3093.65",
         "3957.53",
         "7251.02"
        ],
        [
         "40",
         "41",
         "2011-03-10",
         "d_41",
         "Thursday",
         "6738.09",
         "5759.67",
         "10846.68",
         "3895.54",
         "4851.22",
         "6892.01",
         "5191.39",
         "4085.65",
         "4279.51",
         "7564.97"
        ],
        [
         "41",
         "42",
         "2011-03-11",
         "d_42",
         "Friday",
         "8580.3",
         "7232.88",
         "10719.77",
         "4027.85",
         "5404.5",
         "7922.74",
         "5846.58",
         "5165.46",
         "4335.5",
         "8880.25"
        ],
        [
         "42",
         "43",
         "2011-03-12",
         "d_43",
         "Saturday",
         "10785.64",
         "9566.6",
         "12864.32",
         "4651.86",
         "7474.39",
         "9901.75",
         "7185.81",
         "6145.43",
         "5936.82",
         "11151.39"
        ],
        [
         "43",
         "44",
         "2011-03-13",
         "d_44",
         "Sunday",
         "10987.76",
         "9675.59",
         "14319.84",
         "4836.76",
         "7635.31",
         "10981.61",
         "7759.09",
         "5158.6",
         "4562.61",
         "10062.48"
        ],
        [
         "44",
         "45",
         "2011-03-14",
         "d_45",
         "Monday",
         "7551.39",
         "5788.02",
         "11284.29",
         "4227.43",
         "5822.35",
         "8378.45",
         "5912.21",
         "3658.69",
         "4439.99",
         "8779.12"
        ],
        [
         "45",
         "46",
         "2011-03-15",
         "d_46",
         "Tuesday",
         "6341.98",
         "5327.71",
         "9877.19",
         "3688.34",
         "6514.98",
         "7781.34",
         "5918.43",
         "4079.82",
         "4534.93",
         "8487.35"
        ],
        [
         "46",
         "47",
         "2011-03-16",
         "d_47",
         "Wednesday",
         "6861.56",
         "5724.27",
         "10111.95",
         "4017.91",
         "5116.57",
         "6934.07",
         "5728.45",
         "4293.6",
         "4218.69",
         "7069.26"
        ],
        [
         "47",
         "48",
         "2011-03-17",
         "d_48",
         "Thursday",
         "6663.34",
         "5935.47",
         "9768.25",
         "3481.41",
         "5439.55",
         "7219.36",
         "5111.26",
         "3571.52",
         "3786.34",
         "6532.84"
        ],
        [
         "48",
         "49",
         "2011-03-18",
         "d_49",
         "Friday",
         "7796.06",
         "6472.51",
         "9633.37",
         "4135.52",
         "5725.64",
         "7815.41",
         "5718.27",
         "4956.81",
         "4442.21",
         "8151.34"
        ],
        [
         "49",
         "50",
         "2011-03-19",
         "d_50",
         "Saturday",
         "11266.27",
         "10365.8",
         "14240.72",
         "4518.76",
         "6486.11",
         "9461.14",
         "6117.13",
         "6262.01",
         "5199.64",
         "9529.96"
        ]
       ],
       "shape": {
        "columns": 14,
        "rows": 1941
       }
      },
      "text/html": [
       "<div>\n",
       "<style scoped>\n",
       "    .dataframe tbody tr th:only-of-type {\n",
       "        vertical-align: middle;\n",
       "    }\n",
       "\n",
       "    .dataframe tbody tr th {\n",
       "        vertical-align: top;\n",
       "    }\n",
       "\n",
       "    .dataframe thead th {\n",
       "        text-align: right;\n",
       "    }\n",
       "</style>\n",
       "<table border=\"1\" class=\"dataframe\">\n",
       "  <thead>\n",
       "    <tr style=\"text-align: right;\">\n",
       "      <th></th>\n",
       "      <th>id</th>\n",
       "      <th>date</th>\n",
       "      <th>d</th>\n",
       "      <th>weekday</th>\n",
       "      <th>CA_1</th>\n",
       "      <th>CA_2</th>\n",
       "      <th>CA_3</th>\n",
       "      <th>CA_4</th>\n",
       "      <th>TX_1</th>\n",
       "      <th>TX_2</th>\n",
       "      <th>TX_3</th>\n",
       "      <th>WI_1</th>\n",
       "      <th>WI_2</th>\n",
       "      <th>WI_3</th>\n",
       "    </tr>\n",
       "  </thead>\n",
       "  <tbody>\n",
       "    <tr>\n",
       "      <th>0</th>\n",
       "      <td>1</td>\n",
       "      <td>2011-01-29</td>\n",
       "      <td>d_1</td>\n",
       "      <td>Saturday</td>\n",
       "      <td>10933.16</td>\n",
       "      <td>9101.52</td>\n",
       "      <td>11679.83</td>\n",
       "      <td>4561.59</td>\n",
       "      <td>6586.68</td>\n",
       "      <td>9915.78</td>\n",
       "      <td>7597.99</td>\n",
       "      <td>6454.72</td>\n",
       "      <td>5451.46</td>\n",
       "      <td>9367.88</td>\n",
       "    </tr>\n",
       "    <tr>\n",
       "      <th>1</th>\n",
       "      <td>2</td>\n",
       "      <td>2011-01-30</td>\n",
       "      <td>d_2</td>\n",
       "      <td>Sunday</td>\n",
       "      <td>9787.06</td>\n",
       "      <td>8417.53</td>\n",
       "      <td>12161.46</td>\n",
       "      <td>4681.41</td>\n",
       "      <td>6610.60</td>\n",
       "      <td>9804.54</td>\n",
       "      <td>7356.54</td>\n",
       "      <td>5645.77</td>\n",
       "      <td>4636.86</td>\n",
       "      <td>9868.80</td>\n",
       "    </tr>\n",
       "    <tr>\n",
       "      <th>2</th>\n",
       "      <td>3</td>\n",
       "      <td>2011-01-31</td>\n",
       "      <td>d_3</td>\n",
       "      <td>Monday</td>\n",
       "      <td>7201.38</td>\n",
       "      <td>5320.51</td>\n",
       "      <td>9123.86</td>\n",
       "      <td>3637.98</td>\n",
       "      <td>4551.97</td>\n",
       "      <td>6651.16</td>\n",
       "      <td>5406.70</td>\n",
       "      <td>3640.12</td>\n",
       "      <td>4621.58</td>\n",
       "      <td>7551.65</td>\n",
       "    </tr>\n",
       "    <tr>\n",
       "      <th>3</th>\n",
       "      <td>4</td>\n",
       "      <td>2011-02-01</td>\n",
       "      <td>d_4</td>\n",
       "      <td>Tuesday</td>\n",
       "      <td>7407.74</td>\n",
       "      <td>5550.56</td>\n",
       "      <td>10249.78</td>\n",
       "      <td>3708.92</td>\n",
       "      <td>5374.39</td>\n",
       "      <td>6985.60</td>\n",
       "      <td>5597.97</td>\n",
       "      <td>2949.96</td>\n",
       "      <td>5754.75</td>\n",
       "      <td>7181.53</td>\n",
       "    </tr>\n",
       "    <tr>\n",
       "      <th>4</th>\n",
       "      <td>5</td>\n",
       "      <td>2011-02-02</td>\n",
       "      <td>d_5</td>\n",
       "      <td>Wednesday</td>\n",
       "      <td>6566.12</td>\n",
       "      <td>5229.72</td>\n",
       "      <td>9538.65</td>\n",
       "      <td>3841.14</td>\n",
       "      <td>4347.07</td>\n",
       "      <td>6039.05</td>\n",
       "      <td>4069.74</td>\n",
       "      <td>2.96</td>\n",
       "      <td>2679.19</td>\n",
       "      <td>4646.31</td>\n",
       "    </tr>\n",
       "    <tr>\n",
       "      <th>...</th>\n",
       "      <td>...</td>\n",
       "      <td>...</td>\n",
       "      <td>...</td>\n",
       "      <td>...</td>\n",
       "      <td>...</td>\n",
       "      <td>...</td>\n",
       "      <td>...</td>\n",
       "      <td>...</td>\n",
       "      <td>...</td>\n",
       "      <td>...</td>\n",
       "      <td>...</td>\n",
       "      <td>...</td>\n",
       "      <td>...</td>\n",
       "      <td>...</td>\n",
       "    </tr>\n",
       "    <tr>\n",
       "      <th>1936</th>\n",
       "      <td>1937</td>\n",
       "      <td>2016-05-18</td>\n",
       "      <td>d_1937</td>\n",
       "      <td>Wednesday</td>\n",
       "      <td>12920.62</td>\n",
       "      <td>12766.25</td>\n",
       "      <td>17780.83</td>\n",
       "      <td>8116.41</td>\n",
       "      <td>9851.97</td>\n",
       "      <td>11121.03</td>\n",
       "      <td>12078.07</td>\n",
       "      <td>9605.89</td>\n",
       "      <td>12928.75</td>\n",
       "      <td>9163.29</td>\n",
       "    </tr>\n",
       "    <tr>\n",
       "      <th>1937</th>\n",
       "      <td>1938</td>\n",
       "      <td>2016-05-19</td>\n",
       "      <td>d_1938</td>\n",
       "      <td>Thursday</td>\n",
       "      <td>13259.90</td>\n",
       "      <td>13432.94</td>\n",
       "      <td>18635.35</td>\n",
       "      <td>8367.57</td>\n",
       "      <td>8403.09</td>\n",
       "      <td>10474.33</td>\n",
       "      <td>11196.76</td>\n",
       "      <td>10478.86</td>\n",
       "      <td>13547.39</td>\n",
       "      <td>9660.13</td>\n",
       "    </tr>\n",
       "    <tr>\n",
       "      <th>1938</th>\n",
       "      <td>1939</td>\n",
       "      <td>2016-05-20</td>\n",
       "      <td>d_1939</td>\n",
       "      <td>Friday</td>\n",
       "      <td>13999.65</td>\n",
       "      <td>15545.28</td>\n",
       "      <td>18219.23</td>\n",
       "      <td>8960.17</td>\n",
       "      <td>11296.88</td>\n",
       "      <td>13832.01</td>\n",
       "      <td>14667.00</td>\n",
       "      <td>11358.75</td>\n",
       "      <td>14139.33</td>\n",
       "      <td>11982.37</td>\n",
       "    </tr>\n",
       "    <tr>\n",
       "      <th>1939</th>\n",
       "      <td>1940</td>\n",
       "      <td>2016-05-21</td>\n",
       "      <td>d_1940</td>\n",
       "      <td>Saturday</td>\n",
       "      <td>18637.70</td>\n",
       "      <td>24088.59</td>\n",
       "      <td>23849.52</td>\n",
       "      <td>9768.51</td>\n",
       "      <td>13137.35</td>\n",
       "      <td>15212.81</td>\n",
       "      <td>15696.64</td>\n",
       "      <td>14614.05</td>\n",
       "      <td>15020.25</td>\n",
       "      <td>12370.23</td>\n",
       "    </tr>\n",
       "    <tr>\n",
       "      <th>1940</th>\n",
       "      <td>1941</td>\n",
       "      <td>2016-05-22</td>\n",
       "      <td>d_1941</td>\n",
       "      <td>Sunday</td>\n",
       "      <td>21110.44</td>\n",
       "      <td>22019.30</td>\n",
       "      <td>27275.84</td>\n",
       "      <td>11863.05</td>\n",
       "      <td>14645.54</td>\n",
       "      <td>17631.81</td>\n",
       "      <td>17164.13</td>\n",
       "      <td>15332.95</td>\n",
       "      <td>14821.51</td>\n",
       "      <td>13432.85</td>\n",
       "    </tr>\n",
       "  </tbody>\n",
       "</table>\n",
       "<p>1941 rows × 14 columns</p>\n",
       "</div>"
      ],
      "text/plain": [
       "        id        date       d    weekday      CA_1      CA_2      CA_3  \\\n",
       "0        1  2011-01-29     d_1   Saturday  10933.16   9101.52  11679.83   \n",
       "1        2  2011-01-30     d_2     Sunday   9787.06   8417.53  12161.46   \n",
       "2        3  2011-01-31     d_3     Monday   7201.38   5320.51   9123.86   \n",
       "3        4  2011-02-01     d_4    Tuesday   7407.74   5550.56  10249.78   \n",
       "4        5  2011-02-02     d_5  Wednesday   6566.12   5229.72   9538.65   \n",
       "...    ...         ...     ...        ...       ...       ...       ...   \n",
       "1936  1937  2016-05-18  d_1937  Wednesday  12920.62  12766.25  17780.83   \n",
       "1937  1938  2016-05-19  d_1938   Thursday  13259.90  13432.94  18635.35   \n",
       "1938  1939  2016-05-20  d_1939     Friday  13999.65  15545.28  18219.23   \n",
       "1939  1940  2016-05-21  d_1940   Saturday  18637.70  24088.59  23849.52   \n",
       "1940  1941  2016-05-22  d_1941     Sunday  21110.44  22019.30  27275.84   \n",
       "\n",
       "          CA_4      TX_1      TX_2      TX_3      WI_1      WI_2      WI_3  \n",
       "0      4561.59   6586.68   9915.78   7597.99   6454.72   5451.46   9367.88  \n",
       "1      4681.41   6610.60   9804.54   7356.54   5645.77   4636.86   9868.80  \n",
       "2      3637.98   4551.97   6651.16   5406.70   3640.12   4621.58   7551.65  \n",
       "3      3708.92   5374.39   6985.60   5597.97   2949.96   5754.75   7181.53  \n",
       "4      3841.14   4347.07   6039.05   4069.74      2.96   2679.19   4646.31  \n",
       "...        ...       ...       ...       ...       ...       ...       ...  \n",
       "1936   8116.41   9851.97  11121.03  12078.07   9605.89  12928.75   9163.29  \n",
       "1937   8367.57   8403.09  10474.33  11196.76  10478.86  13547.39   9660.13  \n",
       "1938   8960.17  11296.88  13832.01  14667.00  11358.75  14139.33  11982.37  \n",
       "1939   9768.51  13137.35  15212.81  15696.64  14614.05  15020.25  12370.23  \n",
       "1940  11863.05  14645.54  17631.81  17164.13  15332.95  14821.51  13432.85  \n",
       "\n",
       "[1941 rows x 14 columns]"
      ]
     },
     "execution_count": 33,
     "metadata": {},
     "output_type": "execute_result"
    }
   ],
   "source": [
    "test_df"
   ]
  },
  {
   "cell_type": "code",
   "execution_count": 40,
   "metadata": {},
   "outputs": [
    {
     "data": {
      "application/vnd.plotly.v1+json": {
       "config": {
        "plotlyServerURL": "https://plot.ly"
       },
       "data": [
        {
         "mode": "lines",
         "name": "Train data",
         "type": "scatter",
         "x": [
          "2011-01-29",
          "2011-01-30",
          "2011-01-31",
          "2011-02-01",
          "2011-02-02",
          "2011-02-03",
          "2011-02-04",
          "2011-02-05",
          "2011-02-06",
          "2011-02-07",
          "2011-02-08",
          "2011-02-09",
          "2011-02-10",
          "2011-02-11",
          "2011-02-12",
          "2011-02-13",
          "2011-02-14",
          "2011-02-15",
          "2011-02-16",
          "2011-02-17",
          "2011-02-18",
          "2011-02-19",
          "2011-02-20",
          "2011-02-21",
          "2011-02-22",
          "2011-02-23",
          "2011-02-24",
          "2011-02-25",
          "2011-02-26",
          "2011-02-27",
          "2011-02-28",
          "2011-03-01",
          "2011-03-02",
          "2011-03-03",
          "2011-03-04",
          "2011-03-05",
          "2011-03-06",
          "2011-03-07",
          "2011-03-08",
          "2011-03-09",
          "2011-03-10",
          "2011-03-11",
          "2011-03-12",
          "2011-03-13",
          "2011-03-14",
          "2011-03-15",
          "2011-03-16",
          "2011-03-17",
          "2011-03-18",
          "2011-03-19",
          "2011-03-20",
          "2011-03-21",
          "2011-03-22",
          "2011-03-23",
          "2011-03-24",
          "2011-03-25",
          "2011-03-26",
          "2011-03-27",
          "2011-03-28",
          "2011-03-29",
          "2011-03-30",
          "2011-03-31",
          "2011-04-01",
          "2011-04-02",
          "2011-04-03",
          "2011-04-04",
          "2011-04-05",
          "2011-04-06",
          "2011-04-07",
          "2011-04-08",
          "2011-04-09",
          "2011-04-10",
          "2011-04-11",
          "2011-04-12",
          "2011-04-13",
          "2011-04-14",
          "2011-04-15",
          "2011-04-16",
          "2011-04-17",
          "2011-04-18",
          "2011-04-19",
          "2011-04-20",
          "2011-04-21",
          "2011-04-22",
          "2011-04-23",
          "2011-04-24",
          "2011-04-25",
          "2011-04-26",
          "2011-04-27",
          "2011-04-28",
          "2011-04-29",
          "2011-04-30",
          "2011-05-01",
          "2011-05-02",
          "2011-05-03",
          "2011-05-04",
          "2011-05-05",
          "2011-05-06",
          "2011-05-07",
          "2011-05-08",
          "2011-05-09",
          "2011-05-10",
          "2011-05-11",
          "2011-05-12",
          "2011-05-13",
          "2011-05-14",
          "2011-05-15",
          "2011-05-16",
          "2011-05-17",
          "2011-05-18",
          "2011-05-19",
          "2011-05-20",
          "2011-05-21",
          "2011-05-22",
          "2011-05-23",
          "2011-05-24",
          "2011-05-25",
          "2011-05-26",
          "2011-05-27",
          "2011-05-28",
          "2011-05-29",
          "2011-05-30",
          "2011-05-31",
          "2011-06-01",
          "2011-06-02",
          "2011-06-03",
          "2011-06-04",
          "2011-06-05",
          "2011-06-06",
          "2011-06-07",
          "2011-06-08",
          "2011-06-09",
          "2011-06-10",
          "2011-06-11",
          "2011-06-12",
          "2011-06-13",
          "2011-06-14",
          "2011-06-15",
          "2011-06-16",
          "2011-06-17",
          "2011-06-18",
          "2011-06-19",
          "2011-06-20",
          "2011-06-21",
          "2011-06-22",
          "2011-06-23",
          "2011-06-24",
          "2011-06-25",
          "2011-06-26",
          "2011-06-27",
          "2011-06-28",
          "2011-06-29",
          "2011-06-30",
          "2011-07-01",
          "2011-07-02",
          "2011-07-03",
          "2011-07-04",
          "2011-07-05",
          "2011-07-06",
          "2011-07-07",
          "2011-07-08",
          "2011-07-09",
          "2011-07-10",
          "2011-07-11",
          "2011-07-12",
          "2011-07-13",
          "2011-07-14",
          "2011-07-15",
          "2011-07-16",
          "2011-07-17",
          "2011-07-18",
          "2011-07-19",
          "2011-07-20",
          "2011-07-21",
          "2011-07-22",
          "2011-07-23",
          "2011-07-24",
          "2011-07-25",
          "2011-07-26",
          "2011-07-27",
          "2011-07-28",
          "2011-07-29",
          "2011-07-30",
          "2011-07-31",
          "2011-08-01",
          "2011-08-02",
          "2011-08-03",
          "2011-08-04",
          "2011-08-05",
          "2011-08-06",
          "2011-08-07",
          "2011-08-08",
          "2011-08-09",
          "2011-08-10",
          "2011-08-11",
          "2011-08-12",
          "2011-08-13",
          "2011-08-14",
          "2011-08-15",
          "2011-08-16",
          "2011-08-17",
          "2011-08-18",
          "2011-08-19",
          "2011-08-20",
          "2011-08-21",
          "2011-08-22",
          "2011-08-23",
          "2011-08-24",
          "2011-08-25",
          "2011-08-26",
          "2011-08-27",
          "2011-08-28",
          "2011-08-29",
          "2011-08-30",
          "2011-08-31",
          "2011-09-01",
          "2011-09-02",
          "2011-09-03",
          "2011-09-04",
          "2011-09-05",
          "2011-09-06",
          "2011-09-07",
          "2011-09-08",
          "2011-09-09",
          "2011-09-10",
          "2011-09-11",
          "2011-09-12",
          "2011-09-13",
          "2011-09-14",
          "2011-09-15",
          "2011-09-16",
          "2011-09-17",
          "2011-09-18",
          "2011-09-19",
          "2011-09-20",
          "2011-09-21",
          "2011-09-22",
          "2011-09-23",
          "2011-09-24",
          "2011-09-25",
          "2011-09-26",
          "2011-09-27",
          "2011-09-28",
          "2011-09-29",
          "2011-09-30",
          "2011-10-01",
          "2011-10-02",
          "2011-10-03",
          "2011-10-04",
          "2011-10-05",
          "2011-10-06",
          "2011-10-07",
          "2011-10-08",
          "2011-10-09",
          "2011-10-10",
          "2011-10-11",
          "2011-10-12",
          "2011-10-13",
          "2011-10-14",
          "2011-10-15",
          "2011-10-16",
          "2011-10-17",
          "2011-10-18",
          "2011-10-19",
          "2011-10-20",
          "2011-10-21",
          "2011-10-22",
          "2011-10-23",
          "2011-10-24",
          "2011-10-25",
          "2011-10-26",
          "2011-10-27",
          "2011-10-28",
          "2011-10-29",
          "2011-10-30",
          "2011-10-31",
          "2011-11-01",
          "2011-11-02",
          "2011-11-03",
          "2011-11-04",
          "2011-11-05",
          "2011-11-06",
          "2011-11-07",
          "2011-11-08",
          "2011-11-09",
          "2011-11-10",
          "2011-11-11",
          "2011-11-12",
          "2011-11-13",
          "2011-11-14",
          "2011-11-15",
          "2011-11-16",
          "2011-11-17",
          "2011-11-18",
          "2011-11-19",
          "2011-11-20",
          "2011-11-21",
          "2011-11-22",
          "2011-11-23",
          "2011-11-24",
          "2011-11-25",
          "2011-11-26",
          "2011-11-27",
          "2011-11-28",
          "2011-11-29",
          "2011-11-30",
          "2011-12-01",
          "2011-12-02",
          "2011-12-03",
          "2011-12-04",
          "2011-12-05",
          "2011-12-06",
          "2011-12-07",
          "2011-12-08",
          "2011-12-09",
          "2011-12-10",
          "2011-12-11",
          "2011-12-12",
          "2011-12-13",
          "2011-12-14",
          "2011-12-15",
          "2011-12-16",
          "2011-12-17",
          "2011-12-18",
          "2011-12-19",
          "2011-12-20",
          "2011-12-21",
          "2011-12-22",
          "2011-12-23",
          "2011-12-24",
          "2011-12-25",
          "2011-12-26",
          "2011-12-27",
          "2011-12-28",
          "2011-12-29",
          "2011-12-30",
          "2011-12-31",
          "2012-01-01",
          "2012-01-02",
          "2012-01-03",
          "2012-01-04",
          "2012-01-05",
          "2012-01-06",
          "2012-01-07",
          "2012-01-08",
          "2012-01-09",
          "2012-01-10",
          "2012-01-11",
          "2012-01-12",
          "2012-01-13",
          "2012-01-14",
          "2012-01-15",
          "2012-01-16",
          "2012-01-17",
          "2012-01-18",
          "2012-01-19",
          "2012-01-20",
          "2012-01-21",
          "2012-01-22",
          "2012-01-23",
          "2012-01-24",
          "2012-01-25",
          "2012-01-26",
          "2012-01-27",
          "2012-01-28",
          "2012-01-29",
          "2012-01-30",
          "2012-01-31",
          "2012-02-01",
          "2012-02-02",
          "2012-02-03",
          "2012-02-04",
          "2012-02-05",
          "2012-02-06",
          "2012-02-07",
          "2012-02-08",
          "2012-02-09",
          "2012-02-10",
          "2012-02-11",
          "2012-02-12",
          "2012-02-13",
          "2012-02-14",
          "2012-02-15",
          "2012-02-16",
          "2012-02-17",
          "2012-02-18",
          "2012-02-19",
          "2012-02-20",
          "2012-02-21",
          "2012-02-22",
          "2012-02-23",
          "2012-02-24",
          "2012-02-25",
          "2012-02-26",
          "2012-02-27",
          "2012-02-28",
          "2012-02-29",
          "2012-03-01",
          "2012-03-02",
          "2012-03-03",
          "2012-03-04",
          "2012-03-05",
          "2012-03-06",
          "2012-03-07",
          "2012-03-08",
          "2012-03-09",
          "2012-03-10",
          "2012-03-11",
          "2012-03-12",
          "2012-03-13",
          "2012-03-14",
          "2012-03-15",
          "2012-03-16",
          "2012-03-17",
          "2012-03-18",
          "2012-03-19",
          "2012-03-20",
          "2012-03-21",
          "2012-03-22",
          "2012-03-23",
          "2012-03-24",
          "2012-03-25",
          "2012-03-26",
          "2012-03-27",
          "2012-03-28",
          "2012-03-29",
          "2012-03-30",
          "2012-03-31",
          "2012-04-01",
          "2012-04-02",
          "2012-04-03",
          "2012-04-04",
          "2012-04-05",
          "2012-04-06",
          "2012-04-07",
          "2012-04-08",
          "2012-04-09",
          "2012-04-10",
          "2012-04-11",
          "2012-04-12",
          "2012-04-13",
          "2012-04-14",
          "2012-04-15",
          "2012-04-16",
          "2012-04-17",
          "2012-04-18",
          "2012-04-19",
          "2012-04-20",
          "2012-04-21",
          "2012-04-22",
          "2012-04-23",
          "2012-04-24",
          "2012-04-25",
          "2012-04-26",
          "2012-04-27",
          "2012-04-28",
          "2012-04-29",
          "2012-04-30",
          "2012-05-01",
          "2012-05-02",
          "2012-05-03",
          "2012-05-04",
          "2012-05-05",
          "2012-05-06",
          "2012-05-07",
          "2012-05-08",
          "2012-05-09",
          "2012-05-10",
          "2012-05-11",
          "2012-05-12",
          "2012-05-13",
          "2012-05-14",
          "2012-05-15",
          "2012-05-16",
          "2012-05-17",
          "2012-05-18",
          "2012-05-19",
          "2012-05-20",
          "2012-05-21",
          "2012-05-22",
          "2012-05-23",
          "2012-05-24",
          "2012-05-25",
          "2012-05-26",
          "2012-05-27",
          "2012-05-28",
          "2012-05-29",
          "2012-05-30",
          "2012-05-31",
          "2012-06-01",
          "2012-06-02",
          "2012-06-03",
          "2012-06-04",
          "2012-06-05",
          "2012-06-06",
          "2012-06-07",
          "2012-06-08",
          "2012-06-09",
          "2012-06-10",
          "2012-06-11",
          "2012-06-12",
          "2012-06-13",
          "2012-06-14",
          "2012-06-15",
          "2012-06-16",
          "2012-06-17",
          "2012-06-18",
          "2012-06-19",
          "2012-06-20",
          "2012-06-21",
          "2012-06-22",
          "2012-06-23",
          "2012-06-24",
          "2012-06-25",
          "2012-06-26",
          "2012-06-27",
          "2012-06-28",
          "2012-06-29",
          "2012-06-30",
          "2012-07-01",
          "2012-07-02",
          "2012-07-03",
          "2012-07-04",
          "2012-07-05",
          "2012-07-06",
          "2012-07-07",
          "2012-07-08",
          "2012-07-09",
          "2012-07-10",
          "2012-07-11",
          "2012-07-12",
          "2012-07-13",
          "2012-07-14",
          "2012-07-15",
          "2012-07-16",
          "2012-07-17",
          "2012-07-18",
          "2012-07-19",
          "2012-07-20",
          "2012-07-21",
          "2012-07-22",
          "2012-07-23",
          "2012-07-24",
          "2012-07-25",
          "2012-07-26",
          "2012-07-27",
          "2012-07-28",
          "2012-07-29",
          "2012-07-30",
          "2012-07-31",
          "2012-08-01",
          "2012-08-02",
          "2012-08-03",
          "2012-08-04",
          "2012-08-05",
          "2012-08-06",
          "2012-08-07",
          "2012-08-08",
          "2012-08-09",
          "2012-08-10",
          "2012-08-11",
          "2012-08-12",
          "2012-08-13",
          "2012-08-14",
          "2012-08-15",
          "2012-08-16",
          "2012-08-17",
          "2012-08-18",
          "2012-08-19",
          "2012-08-20",
          "2012-08-21",
          "2012-08-22",
          "2012-08-23",
          "2012-08-24",
          "2012-08-25",
          "2012-08-26",
          "2012-08-27",
          "2012-08-28",
          "2012-08-29",
          "2012-08-30",
          "2012-08-31",
          "2012-09-01",
          "2012-09-02",
          "2012-09-03",
          "2012-09-04",
          "2012-09-05",
          "2012-09-06",
          "2012-09-07",
          "2012-09-08",
          "2012-09-09",
          "2012-09-10",
          "2012-09-11",
          "2012-09-12",
          "2012-09-13",
          "2012-09-14",
          "2012-09-15",
          "2012-09-16",
          "2012-09-17",
          "2012-09-18",
          "2012-09-19",
          "2012-09-20",
          "2012-09-21",
          "2012-09-22",
          "2012-09-23",
          "2012-09-24",
          "2012-09-25",
          "2012-09-26",
          "2012-09-27",
          "2012-09-28",
          "2012-09-29",
          "2012-09-30",
          "2012-10-01",
          "2012-10-02",
          "2012-10-03",
          "2012-10-04",
          "2012-10-05",
          "2012-10-06",
          "2012-10-07",
          "2012-10-08",
          "2012-10-09",
          "2012-10-10",
          "2012-10-11",
          "2012-10-12",
          "2012-10-13",
          "2012-10-14",
          "2012-10-15",
          "2012-10-16",
          "2012-10-17",
          "2012-10-18",
          "2012-10-19",
          "2012-10-20",
          "2012-10-21",
          "2012-10-22",
          "2012-10-23",
          "2012-10-24",
          "2012-10-25",
          "2012-10-26",
          "2012-10-27",
          "2012-10-28",
          "2012-10-29",
          "2012-10-30",
          "2012-10-31",
          "2012-11-01",
          "2012-11-02",
          "2012-11-03",
          "2012-11-04",
          "2012-11-05",
          "2012-11-06",
          "2012-11-07",
          "2012-11-08",
          "2012-11-09",
          "2012-11-10",
          "2012-11-11",
          "2012-11-12",
          "2012-11-13",
          "2012-11-14",
          "2012-11-15",
          "2012-11-16",
          "2012-11-17",
          "2012-11-18",
          "2012-11-19",
          "2012-11-20",
          "2012-11-21",
          "2012-11-22",
          "2012-11-23",
          "2012-11-24",
          "2012-11-25",
          "2012-11-26",
          "2012-11-27",
          "2012-11-28",
          "2012-11-29",
          "2012-11-30",
          "2012-12-01",
          "2012-12-02",
          "2012-12-03",
          "2012-12-04",
          "2012-12-05",
          "2012-12-06",
          "2012-12-07",
          "2012-12-08",
          "2012-12-09",
          "2012-12-10",
          "2012-12-11",
          "2012-12-12",
          "2012-12-13",
          "2012-12-14",
          "2012-12-15",
          "2012-12-16",
          "2012-12-17",
          "2012-12-18",
          "2012-12-19",
          "2012-12-20",
          "2012-12-21",
          "2012-12-22",
          "2012-12-23",
          "2012-12-24",
          "2012-12-25",
          "2012-12-26",
          "2012-12-27",
          "2012-12-28",
          "2012-12-29",
          "2012-12-30",
          "2012-12-31",
          "2013-01-01",
          "2013-01-02",
          "2013-01-03",
          "2013-01-04",
          "2013-01-05",
          "2013-01-06",
          "2013-01-07",
          "2013-01-08",
          "2013-01-09",
          "2013-01-10",
          "2013-01-11",
          "2013-01-12",
          "2013-01-13",
          "2013-01-14",
          "2013-01-15",
          "2013-01-16",
          "2013-01-17",
          "2013-01-18",
          "2013-01-19",
          "2013-01-20",
          "2013-01-21",
          "2013-01-22",
          "2013-01-23",
          "2013-01-24",
          "2013-01-25",
          "2013-01-26",
          "2013-01-27",
          "2013-01-28",
          "2013-01-29",
          "2013-01-30",
          "2013-01-31",
          "2013-02-01",
          "2013-02-02",
          "2013-02-03",
          "2013-02-04",
          "2013-02-05",
          "2013-02-06",
          "2013-02-07",
          "2013-02-08",
          "2013-02-09",
          "2013-02-10",
          "2013-02-11",
          "2013-02-12",
          "2013-02-13",
          "2013-02-14",
          "2013-02-15",
          "2013-02-16",
          "2013-02-17",
          "2013-02-18",
          "2013-02-19",
          "2013-02-20",
          "2013-02-21",
          "2013-02-22",
          "2013-02-23",
          "2013-02-24",
          "2013-02-25",
          "2013-02-26",
          "2013-02-27",
          "2013-02-28",
          "2013-03-01",
          "2013-03-02",
          "2013-03-03",
          "2013-03-04",
          "2013-03-05",
          "2013-03-06",
          "2013-03-07",
          "2013-03-08",
          "2013-03-09",
          "2013-03-10",
          "2013-03-11",
          "2013-03-12",
          "2013-03-13",
          "2013-03-14",
          "2013-03-15",
          "2013-03-16",
          "2013-03-17",
          "2013-03-18",
          "2013-03-19",
          "2013-03-20",
          "2013-03-21",
          "2013-03-22",
          "2013-03-23",
          "2013-03-24",
          "2013-03-25",
          "2013-03-26",
          "2013-03-27",
          "2013-03-28",
          "2013-03-29",
          "2013-03-30",
          "2013-03-31",
          "2013-04-01",
          "2013-04-02",
          "2013-04-03",
          "2013-04-04",
          "2013-04-05",
          "2013-04-06",
          "2013-04-07",
          "2013-04-08",
          "2013-04-09",
          "2013-04-10",
          "2013-04-11",
          "2013-04-12",
          "2013-04-13",
          "2013-04-14",
          "2013-04-15",
          "2013-04-16",
          "2013-04-17",
          "2013-04-18",
          "2013-04-19",
          "2013-04-20",
          "2013-04-21",
          "2013-04-22",
          "2013-04-23",
          "2013-04-24",
          "2013-04-25",
          "2013-04-26",
          "2013-04-27",
          "2013-04-28",
          "2013-04-29",
          "2013-04-30",
          "2013-05-01",
          "2013-05-02",
          "2013-05-03",
          "2013-05-04",
          "2013-05-05",
          "2013-05-06",
          "2013-05-07",
          "2013-05-08",
          "2013-05-09",
          "2013-05-10",
          "2013-05-11",
          "2013-05-12",
          "2013-05-13",
          "2013-05-14",
          "2013-05-15",
          "2013-05-16",
          "2013-05-17",
          "2013-05-18",
          "2013-05-19",
          "2013-05-20",
          "2013-05-21",
          "2013-05-22",
          "2013-05-23",
          "2013-05-24",
          "2013-05-25",
          "2013-05-26",
          "2013-05-27",
          "2013-05-28",
          "2013-05-29",
          "2013-05-30",
          "2013-05-31",
          "2013-06-01",
          "2013-06-02",
          "2013-06-03",
          "2013-06-04",
          "2013-06-05",
          "2013-06-06",
          "2013-06-07",
          "2013-06-08",
          "2013-06-09",
          "2013-06-10",
          "2013-06-11",
          "2013-06-12",
          "2013-06-13",
          "2013-06-14",
          "2013-06-15",
          "2013-06-16",
          "2013-06-17",
          "2013-06-18",
          "2013-06-19",
          "2013-06-20",
          "2013-06-21",
          "2013-06-22",
          "2013-06-23",
          "2013-06-24",
          "2013-06-25",
          "2013-06-26",
          "2013-06-27",
          "2013-06-28",
          "2013-06-29",
          "2013-06-30",
          "2013-07-01",
          "2013-07-02",
          "2013-07-03",
          "2013-07-04",
          "2013-07-05",
          "2013-07-06",
          "2013-07-07",
          "2013-07-08",
          "2013-07-09",
          "2013-07-10",
          "2013-07-11",
          "2013-07-12",
          "2013-07-13",
          "2013-07-14",
          "2013-07-15",
          "2013-07-16",
          "2013-07-17",
          "2013-07-18",
          "2013-07-19",
          "2013-07-20",
          "2013-07-21",
          "2013-07-22",
          "2013-07-23",
          "2013-07-24",
          "2013-07-25",
          "2013-07-26",
          "2013-07-27",
          "2013-07-28",
          "2013-07-29",
          "2013-07-30",
          "2013-07-31",
          "2013-08-01",
          "2013-08-02",
          "2013-08-03",
          "2013-08-04",
          "2013-08-05",
          "2013-08-06",
          "2013-08-07",
          "2013-08-08",
          "2013-08-09",
          "2013-08-10",
          "2013-08-11",
          "2013-08-12",
          "2013-08-13",
          "2013-08-14",
          "2013-08-15",
          "2013-08-16",
          "2013-08-17",
          "2013-08-18",
          "2013-08-19",
          "2013-08-20",
          "2013-08-21",
          "2013-08-22",
          "2013-08-23",
          "2013-08-24",
          "2013-08-25",
          "2013-08-26",
          "2013-08-27",
          "2013-08-28",
          "2013-08-29",
          "2013-08-30",
          "2013-08-31",
          "2013-09-01",
          "2013-09-02",
          "2013-09-03",
          "2013-09-04",
          "2013-09-05",
          "2013-09-06",
          "2013-09-07",
          "2013-09-08",
          "2013-09-09",
          "2013-09-10",
          "2013-09-11",
          "2013-09-12",
          "2013-09-13",
          "2013-09-14",
          "2013-09-15",
          "2013-09-16",
          "2013-09-17",
          "2013-09-18",
          "2013-09-19",
          "2013-09-20",
          "2013-09-21",
          "2013-09-22",
          "2013-09-23",
          "2013-09-24",
          "2013-09-25",
          "2013-09-26",
          "2013-09-27",
          "2013-09-28",
          "2013-09-29",
          "2013-09-30",
          "2013-10-01",
          "2013-10-02",
          "2013-10-03",
          "2013-10-04",
          "2013-10-05",
          "2013-10-06",
          "2013-10-07",
          "2013-10-08",
          "2013-10-09",
          "2013-10-10",
          "2013-10-11",
          "2013-10-12",
          "2013-10-13",
          "2013-10-14",
          "2013-10-15",
          "2013-10-16",
          "2013-10-17",
          "2013-10-18",
          "2013-10-19",
          "2013-10-20",
          "2013-10-21",
          "2013-10-22",
          "2013-10-23",
          "2013-10-24",
          "2013-10-25",
          "2013-10-26",
          "2013-10-27",
          "2013-10-28",
          "2013-10-29",
          "2013-10-30",
          "2013-10-31",
          "2013-11-01",
          "2013-11-02",
          "2013-11-03",
          "2013-11-04",
          "2013-11-05",
          "2013-11-06",
          "2013-11-07",
          "2013-11-08",
          "2013-11-09",
          "2013-11-10",
          "2013-11-11",
          "2013-11-12",
          "2013-11-13",
          "2013-11-14",
          "2013-11-15",
          "2013-11-16",
          "2013-11-17",
          "2013-11-18",
          "2013-11-19",
          "2013-11-20",
          "2013-11-21",
          "2013-11-22",
          "2013-11-23",
          "2013-11-24",
          "2013-11-25",
          "2013-11-26",
          "2013-11-27",
          "2013-11-28",
          "2013-11-29",
          "2013-11-30",
          "2013-12-01",
          "2013-12-02",
          "2013-12-03",
          "2013-12-04",
          "2013-12-05",
          "2013-12-06",
          "2013-12-07",
          "2013-12-08",
          "2013-12-09",
          "2013-12-10",
          "2013-12-11",
          "2013-12-12",
          "2013-12-13",
          "2013-12-14",
          "2013-12-15",
          "2013-12-16",
          "2013-12-17",
          "2013-12-18",
          "2013-12-19",
          "2013-12-20",
          "2013-12-21",
          "2013-12-22",
          "2013-12-23",
          "2013-12-24",
          "2013-12-25",
          "2013-12-26",
          "2013-12-27",
          "2013-12-28",
          "2013-12-29",
          "2013-12-30",
          "2013-12-31",
          "2014-01-01",
          "2014-01-02",
          "2014-01-03",
          "2014-01-04",
          "2014-01-05",
          "2014-01-06",
          "2014-01-07",
          "2014-01-08",
          "2014-01-09",
          "2014-01-10",
          "2014-01-11",
          "2014-01-12",
          "2014-01-13",
          "2014-01-14",
          "2014-01-15",
          "2014-01-16",
          "2014-01-17",
          "2014-01-18",
          "2014-01-19",
          "2014-01-20",
          "2014-01-21",
          "2014-01-22",
          "2014-01-23",
          "2014-01-24",
          "2014-01-25",
          "2014-01-26",
          "2014-01-27",
          "2014-01-28",
          "2014-01-29",
          "2014-01-30",
          "2014-01-31",
          "2014-02-01",
          "2014-02-02",
          "2014-02-03",
          "2014-02-04",
          "2014-02-05",
          "2014-02-06",
          "2014-02-07",
          "2014-02-08",
          "2014-02-09",
          "2014-02-10",
          "2014-02-11",
          "2014-02-12",
          "2014-02-13",
          "2014-02-14",
          "2014-02-15",
          "2014-02-16",
          "2014-02-17",
          "2014-02-18",
          "2014-02-19",
          "2014-02-20",
          "2014-02-21",
          "2014-02-22",
          "2014-02-23",
          "2014-02-24",
          "2014-02-25",
          "2014-02-26",
          "2014-02-27",
          "2014-02-28",
          "2014-03-01",
          "2014-03-02",
          "2014-03-03",
          "2014-03-04",
          "2014-03-05",
          "2014-03-06",
          "2014-03-07",
          "2014-03-08",
          "2014-03-09",
          "2014-03-10",
          "2014-03-11",
          "2014-03-12",
          "2014-03-13",
          "2014-03-14",
          "2014-03-15",
          "2014-03-16",
          "2014-03-17",
          "2014-03-18",
          "2014-03-19",
          "2014-03-20",
          "2014-03-21",
          "2014-03-22",
          "2014-03-23",
          "2014-03-24",
          "2014-03-25",
          "2014-03-26",
          "2014-03-27",
          "2014-03-28",
          "2014-03-29",
          "2014-03-30",
          "2014-03-31",
          "2014-04-01",
          "2014-04-02",
          "2014-04-03",
          "2014-04-04",
          "2014-04-05",
          "2014-04-06",
          "2014-04-07",
          "2014-04-08",
          "2014-04-09",
          "2014-04-10",
          "2014-04-11",
          "2014-04-12",
          "2014-04-13",
          "2014-04-14",
          "2014-04-15",
          "2014-04-16",
          "2014-04-17",
          "2014-04-18",
          "2014-04-19",
          "2014-04-20",
          "2014-04-21",
          "2014-04-22",
          "2014-04-23",
          "2014-04-24",
          "2014-04-25",
          "2014-04-26",
          "2014-04-27",
          "2014-04-28",
          "2014-04-29",
          "2014-04-30",
          "2014-05-01",
          "2014-05-02",
          "2014-05-03",
          "2014-05-04",
          "2014-05-05",
          "2014-05-06",
          "2014-05-07",
          "2014-05-08",
          "2014-05-09",
          "2014-05-10",
          "2014-05-11",
          "2014-05-12",
          "2014-05-13",
          "2014-05-14",
          "2014-05-15",
          "2014-05-16",
          "2014-05-17",
          "2014-05-18",
          "2014-05-19",
          "2014-05-20",
          "2014-05-21",
          "2014-05-22",
          "2014-05-23",
          "2014-05-24",
          "2014-05-25",
          "2014-05-26",
          "2014-05-27",
          "2014-05-28",
          "2014-05-29",
          "2014-05-30",
          "2014-05-31",
          "2014-06-01",
          "2014-06-02",
          "2014-06-03",
          "2014-06-04",
          "2014-06-05",
          "2014-06-06",
          "2014-06-07",
          "2014-06-08",
          "2014-06-09",
          "2014-06-10",
          "2014-06-11",
          "2014-06-12",
          "2014-06-13",
          "2014-06-14",
          "2014-06-15",
          "2014-06-16",
          "2014-06-17",
          "2014-06-18",
          "2014-06-19",
          "2014-06-20",
          "2014-06-21",
          "2014-06-22",
          "2014-06-23",
          "2014-06-24",
          "2014-06-25",
          "2014-06-26",
          "2014-06-27",
          "2014-06-28",
          "2014-06-29",
          "2014-06-30",
          "2014-07-01",
          "2014-07-02",
          "2014-07-03",
          "2014-07-04",
          "2014-07-05",
          "2014-07-06",
          "2014-07-07",
          "2014-07-08",
          "2014-07-09",
          "2014-07-10",
          "2014-07-11",
          "2014-07-12",
          "2014-07-13",
          "2014-07-14",
          "2014-07-15",
          "2014-07-16",
          "2014-07-17",
          "2014-07-18",
          "2014-07-19",
          "2014-07-20",
          "2014-07-21",
          "2014-07-22",
          "2014-07-23",
          "2014-07-24",
          "2014-07-25",
          "2014-07-26",
          "2014-07-27",
          "2014-07-28",
          "2014-07-29",
          "2014-07-30",
          "2014-07-31",
          "2014-08-01",
          "2014-08-02",
          "2014-08-03",
          "2014-08-04",
          "2014-08-05",
          "2014-08-06",
          "2014-08-07",
          "2014-08-08",
          "2014-08-09",
          "2014-08-10",
          "2014-08-11",
          "2014-08-12",
          "2014-08-13",
          "2014-08-14",
          "2014-08-15",
          "2014-08-16",
          "2014-08-17",
          "2014-08-18",
          "2014-08-19",
          "2014-08-20",
          "2014-08-21",
          "2014-08-22",
          "2014-08-23",
          "2014-08-24",
          "2014-08-25",
          "2014-08-26",
          "2014-08-27",
          "2014-08-28",
          "2014-08-29",
          "2014-08-30",
          "2014-08-31",
          "2014-09-01",
          "2014-09-02",
          "2014-09-03",
          "2014-09-04",
          "2014-09-05",
          "2014-09-06",
          "2014-09-07",
          "2014-09-08",
          "2014-09-09",
          "2014-09-10",
          "2014-09-11",
          "2014-09-12",
          "2014-09-13",
          "2014-09-14",
          "2014-09-15",
          "2014-09-16",
          "2014-09-17",
          "2014-09-18",
          "2014-09-19",
          "2014-09-20",
          "2014-09-21",
          "2014-09-22",
          "2014-09-23",
          "2014-09-24",
          "2014-09-25",
          "2014-09-26",
          "2014-09-27",
          "2014-09-28",
          "2014-09-29",
          "2014-09-30",
          "2014-10-01",
          "2014-10-02",
          "2014-10-03",
          "2014-10-04",
          "2014-10-05",
          "2014-10-06",
          "2014-10-07",
          "2014-10-08",
          "2014-10-09",
          "2014-10-10",
          "2014-10-11",
          "2014-10-12",
          "2014-10-13",
          "2014-10-14",
          "2014-10-15",
          "2014-10-16",
          "2014-10-17",
          "2014-10-18",
          "2014-10-19",
          "2014-10-20",
          "2014-10-21",
          "2014-10-22",
          "2014-10-23",
          "2014-10-24",
          "2014-10-25",
          "2014-10-26",
          "2014-10-27",
          "2014-10-28",
          "2014-10-29",
          "2014-10-30",
          "2014-10-31",
          "2014-11-01",
          "2014-11-02",
          "2014-11-03",
          "2014-11-04",
          "2014-11-05",
          "2014-11-06",
          "2014-11-07",
          "2014-11-08",
          "2014-11-09",
          "2014-11-10",
          "2014-11-11",
          "2014-11-12",
          "2014-11-13",
          "2014-11-14",
          "2014-11-15",
          "2014-11-16",
          "2014-11-17",
          "2014-11-18",
          "2014-11-19",
          "2014-11-20",
          "2014-11-21",
          "2014-11-22",
          "2014-11-23",
          "2014-11-24",
          "2014-11-25",
          "2014-11-26",
          "2014-11-27",
          "2014-11-28",
          "2014-11-29",
          "2014-11-30",
          "2014-12-01",
          "2014-12-02",
          "2014-12-03",
          "2014-12-04",
          "2014-12-05",
          "2014-12-06",
          "2014-12-07",
          "2014-12-08",
          "2014-12-09",
          "2014-12-10",
          "2014-12-11",
          "2014-12-12",
          "2014-12-13",
          "2014-12-14",
          "2014-12-15",
          "2014-12-16",
          "2014-12-17",
          "2014-12-18",
          "2014-12-19",
          "2014-12-20",
          "2014-12-21",
          "2014-12-22",
          "2014-12-23",
          "2014-12-24",
          "2014-12-25",
          "2014-12-26",
          "2014-12-27",
          "2014-12-28",
          "2014-12-29",
          "2014-12-30",
          "2014-12-31",
          "2015-01-01",
          "2015-01-02",
          "2015-01-03",
          "2015-01-04",
          "2015-01-05",
          "2015-01-06",
          "2015-01-07",
          "2015-01-08",
          "2015-01-09",
          "2015-01-10",
          "2015-01-11",
          "2015-01-12",
          "2015-01-13",
          "2015-01-14",
          "2015-01-15",
          "2015-01-16",
          "2015-01-17",
          "2015-01-18",
          "2015-01-19",
          "2015-01-20",
          "2015-01-21",
          "2015-01-22",
          "2015-01-23",
          "2015-01-24",
          "2015-01-25",
          "2015-01-26",
          "2015-01-27",
          "2015-01-28",
          "2015-01-29",
          "2015-01-30",
          "2015-01-31",
          "2015-02-01",
          "2015-02-02",
          "2015-02-03",
          "2015-02-04",
          "2015-02-05",
          "2015-02-06",
          "2015-02-07",
          "2015-02-08",
          "2015-02-09",
          "2015-02-10",
          "2015-02-11",
          "2015-02-12",
          "2015-02-13",
          "2015-02-14",
          "2015-02-15",
          "2015-02-16",
          "2015-02-17",
          "2015-02-18",
          "2015-02-19",
          "2015-02-20",
          "2015-02-21",
          "2015-02-22",
          "2015-02-23",
          "2015-02-24",
          "2015-02-25",
          "2015-02-26",
          "2015-02-27",
          "2015-02-28",
          "2015-03-01",
          "2015-03-02",
          "2015-03-03",
          "2015-03-04",
          "2015-03-05",
          "2015-03-06",
          "2015-03-07",
          "2015-03-08",
          "2015-03-09",
          "2015-03-10",
          "2015-03-11",
          "2015-03-12",
          "2015-03-13",
          "2015-03-14",
          "2015-03-15",
          "2015-03-16",
          "2015-03-17",
          "2015-03-18",
          "2015-03-19",
          "2015-03-20",
          "2015-03-21",
          "2015-03-22",
          "2015-03-23",
          "2015-03-24",
          "2015-03-25",
          "2015-03-26",
          "2015-03-27",
          "2015-03-28",
          "2015-03-29",
          "2015-03-30",
          "2015-03-31",
          "2015-04-01",
          "2015-04-02",
          "2015-04-03",
          "2015-04-04",
          "2015-04-05",
          "2015-04-06",
          "2015-04-07",
          "2015-04-08",
          "2015-04-09",
          "2015-04-10",
          "2015-04-11",
          "2015-04-12",
          "2015-04-13",
          "2015-04-14",
          "2015-04-15",
          "2015-04-16",
          "2015-04-17",
          "2015-04-18",
          "2015-04-19",
          "2015-04-20",
          "2015-04-21",
          "2015-04-22",
          "2015-04-23",
          "2015-04-24",
          "2015-04-25",
          "2015-04-26",
          "2015-04-27",
          "2015-04-28",
          "2015-04-29",
          "2015-04-30",
          "2015-05-01",
          "2015-05-02",
          "2015-05-03",
          "2015-05-04",
          "2015-05-05",
          "2015-05-06",
          "2015-05-07",
          "2015-05-08",
          "2015-05-09",
          "2015-05-10",
          "2015-05-11",
          "2015-05-12",
          "2015-05-13",
          "2015-05-14",
          "2015-05-15",
          "2015-05-16",
          "2015-05-17",
          "2015-05-18",
          "2015-05-19",
          "2015-05-20",
          "2015-05-21",
          "2015-05-22",
          "2015-05-23",
          "2015-05-24",
          "2015-05-25",
          "2015-05-26",
          "2015-05-27",
          "2015-05-28",
          "2015-05-29",
          "2015-05-30",
          "2015-05-31",
          "2015-06-01",
          "2015-06-02",
          "2015-06-03",
          "2015-06-04",
          "2015-06-05",
          "2015-06-06",
          "2015-06-07",
          "2015-06-08",
          "2015-06-09",
          "2015-06-10",
          "2015-06-11",
          "2015-06-12",
          "2015-06-13",
          "2015-06-14",
          "2015-06-15",
          "2015-06-16",
          "2015-06-17",
          "2015-06-18",
          "2015-06-19",
          "2015-06-20",
          "2015-06-21",
          "2015-06-22",
          "2015-06-23",
          "2015-06-24",
          "2015-06-25",
          "2015-06-26",
          "2015-06-27",
          "2015-06-28",
          "2015-06-29",
          "2015-06-30",
          "2015-07-01",
          "2015-07-02",
          "2015-07-03",
          "2015-07-04",
          "2015-07-05",
          "2015-07-06",
          "2015-07-07",
          "2015-07-08",
          "2015-07-09",
          "2015-07-10",
          "2015-07-11",
          "2015-07-12",
          "2015-07-13",
          "2015-07-14",
          "2015-07-15",
          "2015-07-16",
          "2015-07-17",
          "2015-07-18",
          "2015-07-19",
          "2015-07-20",
          "2015-07-21",
          "2015-07-22",
          "2015-07-23",
          "2015-07-24",
          "2015-07-25",
          "2015-07-26",
          "2015-07-27",
          "2015-07-28",
          "2015-07-29",
          "2015-07-30",
          "2015-07-31",
          "2015-08-01",
          "2015-08-02",
          "2015-08-03",
          "2015-08-04",
          "2015-08-05",
          "2015-08-06",
          "2015-08-07",
          "2015-08-08",
          "2015-08-09",
          "2015-08-10",
          "2015-08-11",
          "2015-08-12",
          "2015-08-13",
          "2015-08-14",
          "2015-08-15",
          "2015-08-16",
          "2015-08-17",
          "2015-08-18",
          "2015-08-19",
          "2015-08-20",
          "2015-08-21",
          "2015-08-22",
          "2015-08-23",
          "2015-08-24",
          "2015-08-25",
          "2015-08-26",
          "2015-08-27",
          "2015-08-28",
          "2015-08-29",
          "2015-08-30",
          "2015-08-31",
          "2015-09-01",
          "2015-09-02",
          "2015-09-03",
          "2015-09-04",
          "2015-09-05",
          "2015-09-06",
          "2015-09-07",
          "2015-09-08",
          "2015-09-09",
          "2015-09-10",
          "2015-09-11",
          "2015-09-12",
          "2015-09-13",
          "2015-09-14",
          "2015-09-15",
          "2015-09-16",
          "2015-09-17",
          "2015-09-18",
          "2015-09-19",
          "2015-09-20",
          "2015-09-21",
          "2015-09-22",
          "2015-09-23",
          "2015-09-24",
          "2015-09-25",
          "2015-09-26",
          "2015-09-27",
          "2015-09-28",
          "2015-09-29",
          "2015-09-30",
          "2015-10-01",
          "2015-10-02",
          "2015-10-03",
          "2015-10-04",
          "2015-10-05",
          "2015-10-06",
          "2015-10-07",
          "2015-10-08",
          "2015-10-09",
          "2015-10-10",
          "2015-10-11",
          "2015-10-12",
          "2015-10-13",
          "2015-10-14",
          "2015-10-15",
          "2015-10-16",
          "2015-10-17",
          "2015-10-18",
          "2015-10-19",
          "2015-10-20",
          "2015-10-21",
          "2015-10-22",
          "2015-10-23",
          "2015-10-24",
          "2015-10-25",
          "2015-10-26",
          "2015-10-27",
          "2015-10-28",
          "2015-10-29",
          "2015-10-30",
          "2015-10-31",
          "2015-11-01",
          "2015-11-02",
          "2015-11-03",
          "2015-11-04",
          "2015-11-05",
          "2015-11-06",
          "2015-11-07",
          "2015-11-08",
          "2015-11-09",
          "2015-11-10",
          "2015-11-11",
          "2015-11-12",
          "2015-11-13",
          "2015-11-14",
          "2015-11-15",
          "2015-11-16",
          "2015-11-17",
          "2015-11-18",
          "2015-11-19",
          "2015-11-20",
          "2015-11-21",
          "2015-11-22",
          "2015-11-23",
          "2015-11-24",
          "2015-11-25",
          "2015-11-26",
          "2015-11-27",
          "2015-11-28",
          "2015-11-29",
          "2015-11-30",
          "2015-12-01",
          "2015-12-02",
          "2015-12-03",
          "2015-12-04",
          "2015-12-05",
          "2015-12-06",
          "2015-12-07",
          "2015-12-08",
          "2015-12-09",
          "2015-12-10",
          "2015-12-11",
          "2015-12-12",
          "2015-12-13",
          "2015-12-14",
          "2015-12-15",
          "2015-12-16",
          "2015-12-17",
          "2015-12-18",
          "2015-12-19",
          "2015-12-20",
          "2015-12-21",
          "2015-12-22",
          "2015-12-23",
          "2015-12-24",
          "2015-12-25",
          "2015-12-26",
          "2015-12-27",
          "2015-12-28",
          "2015-12-29",
          "2015-12-30",
          "2015-12-31",
          "2016-01-01",
          "2016-01-02",
          "2016-01-03",
          "2016-01-04",
          "2016-01-05",
          "2016-01-06",
          "2016-01-07",
          "2016-01-08",
          "2016-01-09",
          "2016-01-10",
          "2016-01-11",
          "2016-01-12",
          "2016-01-13",
          "2016-01-14",
          "2016-01-15",
          "2016-01-16",
          "2016-01-17",
          "2016-01-18",
          "2016-01-19",
          "2016-01-20",
          "2016-01-21",
          "2016-01-22",
          "2016-01-23",
          "2016-01-24",
          "2016-01-25",
          "2016-01-26",
          "2016-01-27",
          "2016-01-28",
          "2016-01-29",
          "2016-01-30",
          "2016-01-31",
          "2016-02-01",
          "2016-02-02",
          "2016-02-03",
          "2016-02-04",
          "2016-02-05",
          "2016-02-06",
          "2016-02-07",
          "2016-02-08",
          "2016-02-09",
          "2016-02-10",
          "2016-02-11",
          "2016-02-12",
          "2016-02-13",
          "2016-02-14",
          "2016-02-15",
          "2016-02-16",
          "2016-02-17",
          "2016-02-18",
          "2016-02-19",
          "2016-02-20",
          "2016-02-21",
          "2016-02-22",
          "2016-02-23",
          "2016-02-24",
          "2016-02-25",
          "2016-02-26",
          "2016-02-27",
          "2016-02-28",
          "2016-02-29",
          "2016-03-01",
          "2016-03-02",
          "2016-03-03",
          "2016-03-04",
          "2016-03-05",
          "2016-03-06",
          "2016-03-07",
          "2016-03-08",
          "2016-03-09",
          "2016-03-10",
          "2016-03-11",
          "2016-03-12",
          "2016-03-13",
          "2016-03-14",
          "2016-03-15",
          "2016-03-16",
          "2016-03-17",
          "2016-03-18",
          "2016-03-19",
          "2016-03-20",
          "2016-03-21",
          "2016-03-22",
          "2016-03-23",
          "2016-03-24",
          "2016-03-25",
          "2016-03-26",
          "2016-03-27",
          "2016-03-28",
          "2016-03-29",
          "2016-03-30",
          "2016-03-31",
          "2016-04-01",
          "2016-04-02",
          "2016-04-03",
          "2016-04-04",
          "2016-04-05",
          "2016-04-06",
          "2016-04-07",
          "2016-04-08",
          "2016-04-09",
          "2016-04-10",
          "2016-04-11",
          "2016-04-12",
          "2016-04-13",
          "2016-04-14",
          "2016-04-15",
          "2016-04-16",
          "2016-04-17",
          "2016-04-18",
          "2016-04-19",
          "2016-04-20",
          "2016-04-21",
          "2016-04-22",
          "2016-04-23",
          "2016-04-24"
         ],
         "y": {
          "bdata": "16NwPerPxkAUrkfhusDHQEjhehTu0cFAcT0K1+MExEAzMzMzU6HCQHsUrkehU8RAUrgehQu8xkCuR+F61MzKQDMzMzMTP8xAhetRuD5Sx0A9CtejEAvGQGZmZmZGXcVAAAAAAGC6x0B7FK5HAQHHQHE9CtdDkspA4XoUrkcYzkA9CtejUPTBQNejcD1qU8NAZmZmZqZTw0CkcD0Kl2PBQDMzMzMzLcJAhetRuF6HyUAK16NwfWnKQGZmZmYGGchAFK5H4fr1wkCuR+F6lFnBQK5H4XoUg8FAUrgehUu8w0CamZmZ2WvKQEjhehROjshAUrgehYsaxEDNzMzM7NHEQKRwPQq3r8RAhetRuH4/xUAfhetRGGLEQLgeheuR+cpAMzMzM4Mn0EAAAAAAAPbGQNejcD3KN8VApHA9ClcYw0CkcD0KVy/FQPYoXI/i78RAXI/C9SggyUBSuB6F6/fLQOxRuB4lCsZAH4XrUZhKw0CamZmZ+b/DQAAAAAAgFMNAw/UoXK/QwkCPwvUoXNDLQK5H4Xp0Y8xAAAAAACAGxkD2KFyPgojDQClcj8IVLcFAMzMzM7MDv0CPwvUofC/FQK5H4Xq0icpAMzMzM3MaykDD9ShczxnEQM3MzMxsDMBAXI/C9Sj0wUAzMzMzkyzCQD0K16Nw/cZAmpmZmVn+y0D2KFyPojHOQClcj8K1P8lAuB6F63HdxUCF61G4HmPFQIXrUbjeKsVA4XoUrkcoxUCamZmZWc/KQD0K16PQV85AzczMzEwwxkC4HoXrMejCQArXo3D9G8JAUrgehWsFw0BI4XoUziHGQClcj8L198lAUrgeheuZy0BxPQrX47DFQLgehetxcsJA9ihcj0L/wkAzMzMzs17CQOxRuB4FtMVAUrgeheu2yUAAAAAAgB3JQI/C9Sj8i8JA9ihcj+KMwkBcj8L1aE/BQHE9CtdDJcBAH4XrUZgPwkD2KFyPQibIQKRwPQrXWchArkfherQsx0BSuB6Fq/fGQNejcD2KmsRAmpmZmXl+wkBSuB6Fq/3FQPYoXI+CqshAFK5H4frwxkAzMzMzM0DIQFyPwvVIWcVA4XoUrgcixECPwvUo3DrEQAAAAABAEsZAexSuR4Fbx0CF61G43pPKQM3MzMwsZ8RAPQrXo3DKwkDNzMzMbCTBQEjhehRu38FA7FG4HuVfw0B7FK5HAXTIQGZmZmYmrshAw/UoXO/Hw0AfhetReA3CQB+F61EY58FASOF6FC5QwkDhehSuRxXDQPYoXI/iT8VAj8L1KDypxUBxPQrX4/fGQEjhehQOqsJAMzMzM7MUxkBmZmZmZjPFQKRwPQr3sshApHA9CjeyzEDXo3A9arrNQM3MzMwMu8hA16NwPervx0ApXI/C1WDHQD0K16MQIsVAFK5H4RpmyEDXo3A9CtjIQFyPwvUon8xAFK5H4dp7x0AUrkfhGq3FQI/C9Sj8kMZAFK5H4VoPxUDsUbgeBR/GQIXrUbj+bchA7FG4HuUiyUBSuB6Fqw/IQLgehetR68VAH4XrUVhUxkCamZmZ+RDFQClcj8IVf8ZAuB6F69Gcx0AzMzMzs3DKQOxRuB5l0sRAKVyPwjX6wUCuR+F6NO/CQPYoXI9C+8NASOF6FO67ykDXo3A9ysnNQOxRuB6Ff8pAhetRuN4MxkCPwvUo3OTKQFK4HoULGspAXI/C9ShHy0DXo3A9qubKQHE9CtcjVM5AhetRuD7FzkCF61G43mzJQI/C9Sj8TMZA7FG4HqWRxEDNzMzMzFLFQEjhehSOBMdA7FG4HuXWykBmZmZmBvjNQM3MzMxMccdAj8L1KJyXxEApXI/ClRvFQEjhehSuJcVAj8L1KHwTyEDsUbge5SHMQFyPwvVIM8xApHA9CneqxUA9CtejUPDDQGZmZmbmWsNA9ihcj0IVxEB7FK5H4RPGQGZmZmYGO8tASOF6FA44zUDD9ShcDyrKQLgehesxcclAZmZmZqYzyUDsUbgehVTHQB+F61FYdcdAH4XrUbjfykBmZmZmFhnQQIXrUbjeeMpAZmZmZub4yUCF61G4HiDMQKRwPQoXOsZApHA9CnfdyEB7FK5HwQHNQEjhehTOJdBAw/UoXI+YykDXo3A9qjHJQEjhehSOA8ZA16NwPYqNxEBxPQrX4wTHQFyPwvVIoc1AZmZmZpZm0ED2KFyPIvTKQHsUrkcBiMZApHA9CrflxUBxPQrXA3PEQArXo3DdEMZA9ihcj6Ioy0DhehSuh4XMQBSuR+G6kcVAzczMzKwcxEDsUbgehQzDQPYoXI/Ch8dA7FG4HoXRyUCPwvUoHHHMQJqZmZkZ38xAcT0K10OHzUDNzMzMjE3MQPYoXI8iRstArkfhelQYyUCPwvUonOTLQI/C9Sg84M9AuB6F6wFZ0UDD9ShcrzTIQArXo3B9usZAAAAAACDAxUDD9ShcD8LFQGZmZmZGDMlAmpmZmTmPzECkcD0Kd3PQQK5H4XoUIMpAZmZmZqYfx0DD9ShcDzLHQGZmZmYmuMVAUrgehcvQx0ApXI/ClWrNQFK4HoWrMNBA9ihcj2Krx0CF61G4HlTHQKRwPQpXAsZAuB6F67Gow0BSuB6FSwrHQKRwPQrXWNFAUrgehes00UApXI/CNU/NQBSuR+EaMMxAcT0K1yPqyEC4HoXrsTHJQClcj8KV3cpAZmZmZhZG0EDD9ShcL7HSQIXrUbi+FM9AUrgeheuZyUDD9ShcTwbIQIXrUbi+9cZACtejcP3xykB7FK5HEdrQQBSuR+FKu9FAhetRuF4nzUCkcD0Kl73HQLgehevRWMZAXI/C9ShcxUCkcD0Kd7/HQAAAAABgI9BAMzMzM3Mh0EBcj8L1yCbJQOF6FK7Hc8ZAUrgehQu5xEDXo3A9qpHFQBSuR+E6m8ZArkfhelRJz0AK16Nw7S/QQPYoXI+CicVAhetRuP4qyEDXo3A9atjHQJqZmZmZZMlAw/UoXE9QzEDsUbgeRQrPQJqZmZl5sdJA7FG4HgUvzEA9CtejECXKQIXrUbheP8lA16NwPWqryUDXo3A9iknKQMP1KFzPNc1AzczMzDw60EAfhetRGAzJQDMzMzOzJ8dAuB6F67GhxkAfhetRGJnFQLgeheuxFclAhetRuF7Cz0DhehSuJyvQQHsUrkcBTMlAH4XrUfhryEDNzMzMTCvLQIXrUbj+UMBAhetRuH7Tw0AUrkfhWs7GQD0K16MQtclAAAAAAICIxUBcj8L1iALEQNejcD0q5MJAAAAAAIDpx0BSuB6FCznKQDMzMzNTIM9AhetRuG7P0UAfhetRuMnNQM3MzMzM18pA9ihcj8LpyEAAAAAAoLDJQK5H4Xq0k8pAcT0K1zO20ECuR+F6JNbQQDMzMzMTA81AUrgeheuOyUCkcD0KN0LHQJqZmZnZwMhASOF6FE54yUCuR+F6VI7NQKRwPQq3+85AUrgehQt7ykApXI/C1TvIQK5H4Xp0S8dAKVyPwlUWyUD2KFyPYrXNQMP1KFwPvcdAPQrXo3A96j8pXI/CdbnLQGZmZmZGKMhAmpmZmRlOyEC4HoXrMb3IQD0K16OQE89AH4XrURjEy0CPwvUoXDvFQHsUrkdRZdBAH4XrUbgry0AK16NwnWXJQJqZmZl5HMpAcT0K18MpyUAK16NwfQTRQKRwPQqXLtNAj8L1KPzwzUAfhetR+HLMQDMzMzPzJchAuB6F63GmxUAUrkfhGizLQIXrUbi+Rc9ASOF6FH4i0ECPwvUoPJLNQAAAAAAA8sVAUrgehYteyEDhehSux1vGQM3MzMwMOMlACtejcA3q0UBmZmZmZg3PQEjhehSuTclASOF6FG4KyUAUrkfhepjGQFyPwvUIj8RAH4XrURgUyEApXI/Cda/LQBSuR+GKidBAw/UoXK+5ykAAAAAAQG/KQLgehevxIM1AUrgehQvLzEB7FK5HgfLPQK5H4Xp0odRAH4XrUQjx0kB7FK5HMYXQQAAAAACgNs9AXI/C9Qi0zUCPwvUonLjNQLgehesRQdBA4XoUrvfA1EDhehSup+LTQHE9CtdTL9BA7FG4HsUhyECuR+F6NMTJQI/C9SgcHshASOF6FC5zzUDhehSuxyrSQK5H4XoUwdFAmpmZmckE0kD2KFyPIiTNQJqZmZl5UshAhetRuH7DyEC4HoXrUcTNQKRwPQq3gtBApHA9CrcU0kB7FK5HgdnLQClcj8IVjcdAZmZmZkbxx0DsUbgehSLOQM3MzMwcMtBAcT0K19O300BI4XoUPt/VQKRwPQoncdFAuB6F67Gqz0CamZmZuQDPQD0K16OQpM5ArkfhehRm0EAK16NwzTrTQI/C9Sg8w9RAXI/C9Sgz0UC4HoXrcQbNQIXrUbh+LMpACtejcN2tykAK16NwvTDLQBSuR+GKLtJAFK5H4Vqs0kDhehSu5wjMQKRwPQq3mcpApHA9CpfFykBcj8L16FPJQOF6FK5HSspAhetRuD5g0EBxPQrXs7XTQGZmZmYGT81AcT0K12MmxkAfhetRGGTIQFyPwvUICcdAw/UoXK88zUAK16NwjeTQQI/C9SjcwNJAhetRuE5r0EApXI/ChU/QQClcj8KVGsxASOF6FI7NzEAfhetRmPjPQPYoXI9idNRAXI/C9Xjp0UDhehSutwnQQK5H4XqUgM1A9ihcj8KSy0CkcD0K1xbJQOxRuB4lictAZmZmZvZ30EBSuB6FWy/QQFK4HoWr48pAMzMzM/PsyUAAAAAAoFvIQEjhehROusdAZmZmZoaNykCF61G4zrHQQHsUrkfhldFA16NwPWpZykAzMzMz037HQFK4HoWLXsZAw/UoXC/sxUC4HoXr8b3JQBSuR+G6kM1ASOF6FN7L0EBI4XoUDiLJQM3MzMws9ctAXI/C9SgNy0D2KFyPgizNQAAAAABA6MxA16NwPSqnz0Bcj8L1aCrRQAAAAABwZdFASOF6FO4fz0CuR+F6dDDMQDMzMzPT1spAzczMzCw5zEAfhetRaFbRQMP1KFyP3stAhetRuL7szEDhehSuZw/MQDMzMzMTW8lAuB6F63HCyECuR+F6lC3MQAAAAADQwNBAhetRuP6j0UAUrkfhOkzNQArXo3A9XctApHA9CtdLyEDD9Shcj0TIQFyPwvUoLMxAhetRuJ4VzkD2KFyPwnnNQJqZmZlZDs5AUrgehYvsyUDD9ShcL3jKQOF6FK6HEspA4XoUrvez0EAfhetRmJTSQDMzMzPjJ9NACtejcO040EBI4XoULt/PQDMzMzOT6s1Aw/UoXK/NzkBcj8L1qIzPQKRwPQq3d9JAw/UoXD9D00CPwvUozCrRQJqZmZl5Jc1AzczMzMxcy0BI4XoUzlrMQHE9CtdDjM9AAAAAADDG0UAK16NwHdjQQKRwPQpnQ9BAXI/C9WjFzUB7FK5HYUzMQMP1KFzvnMpAH4XrUThGzEBSuB6F6zzRQClcj8K1F9FAuB6F63GhzEAzMzMz87/JQB+F61FY18lAj8L1KLy3yUBmZmZm5kXMQD0K16NwH9BAFa5H4cqO0UDhehSuN1LQQD0K16OA49BAcT0K18PgzUAUrkfhOjLOQI/C9ShceNBAXI/C9Qg80kD2KFyPYlPUQKRwPQrXt9BA4XoUrlcf0EDNzMzMLOLLQIXrUbg+/8tAFK5H4dpazUAAAAAAsJ3RQAAAAADgSdJAPQrXo9ByzkCamZmZGcvLQNejcD3KKMpAUrgehesizEApXI/CFa7OQJqZmZmZndBASOF6FJ420kDsUbgeZcvNQPYoXI/CU8xAKVyPwjX/ykCuR+F6tB3JQJqZmZnZWMxAKVyPwvXTzkAUrkfhqlPQQHE9CtcjS8pAhetRuH6wy0A9Ctej8IHNQIXrUbg+k89A7FG4HlVF0UDsUbgedUHSQFyPwvXY69NAw/UoXC9+0EC4HoXrUbfPQDMzMzPTHs5AFK5H4Xo80EDhehSu1+HQQHE9CtejU9NAw/UoXG/F00ApXI/C1e/QQMP1KFzfrtBASOF6FO4lz0BxPQrXg4bOQGZmZmamSc1ACtejcB1t00AUrkfhWjDVQPYoXI8yPtBAuB6F6zH3zEB7FK5HgSnMQHE9CtfDkMlAw/UoXK/+zUAfhetRaF7RQI/C9SjMqdNAZmZmZgbmzkBI4XoUrvjKQHsUrkcBYMpAZmZmZubIyEDXo3A9irfPQLgehevRQtNAexSuR+HD0UCkcD0Kl+HUQMP1KFw/S9BAMzMzM7OGzUCF61G4XqPNQI/C9SgcHc9ApHA9Chdt00CPwvUorPnVQFyPwvXIA9JAPQrXo1BDz0DNzMzMLC/LQM3MzMyMk8tAj8L1KNxZzUBSuB6FW+XRQHE9CtdDJtRAmpmZmZmWzUAK16NwXTrMQClcj8JVEclA7FG4HuXeykCkcD0K19nNQHsUrkeBOtJAFK5H4eox00CF61G43lTNQBSuR+E6U8xAw/UoXC8zy0C4HoXrcQHLQPYoXI9CHM1AFK5H4coT00DsUbgehbzTQNejcD26O9FArkfhenSk0EBxPQrX41LQQJqZmZl5YM5AH4XrUdj+z0AzMzMzE6LTQM3MzMxMatRAzczMzHzt0EBxPQrXYzDNQHsUrkdh5MxAzczMzCxKyEBmZmZmhiPNQJqZmZkp2tFAj8L1KLxR0kBSuB6Fy2TMQArXo3C9a8hAH4XrUZhPyEBxPQrXw1DIQJqZmZk5v8pAH4XrUajR0ECamZmZmbrSQFyPwvUI1spArkfhehTex0DsUbgexRHIQClcj8IVx8VA16NwPQrwx0CkcD0KF8DPQFyPwvXYKtFAZmZmZmZaykBSuB6Fa83JQJqZmZm55cZACtejcF0yykD2KFyP4sHNQD0K16PgRNJAzczMzAzN00DXo3A9Sn/PQOF6FK4H88tAZmZmZgZsy0CkcD0Kd5fKQPYoXI/Cyc1AuB6F67E30kDsUbge9W3SQGZmZmYmNcxAhetRuH6FyEAUrkfhWr7HQOxRuB5lvMdA7FG4HoUxy0CamZmZCaTQQK5H4Xo0gdFAH4XrUdiGy0ApXI/CFZXKQOF6FK5HTsxAFK5H4doewkA9CtejsMXCQOF6FK4nEctAAAAAAEDRzUC4HoXrEcHJQM3MzMys4cVA7FG4HqXTxUAK16NwHWTEQI/C9SgcC8lAMzMzMxNA0kDhehSuJ+vRQLgehesxQM9AAAAAAECVy0AzMzMzs8jJQFyPwvXo68pA7FG4HoXvzEBI4XoU/lTRQDMzMzMDKNJArkfhetQMz0A9CtejMBrMQFK4HoUrFMlA9ihcj0JTykBI4XoU7nPKQHE9CtcD49BAzczMzNxx0UBxPQrXQ8XMQGZmZmZGoMxA9ihcjyKqyEBSuB6FSwXMQLgeheuR4cpA9ihcj3K40EAUrkfhup/PQPYoXI/iU8pAPQrXo3C9JEB7FK5HwVHLQOxRuB7lKMpA16NwPYqgy0B7FK5H4QzRQHsUrkfBQs1A4XoUrgcvy0AfhetR2L7EQB+F61E4Cs1AUrgehUt8zkDNzMzMbGLOQPYoXI+SWNJApHA9CqcT00AUrkfhWvfNQOxRuB6lA89AXI/C9Ug4ykCuR+F6tMPMQHE9CtcjgcxAzczMzMzj0kBSuB6Fm7bTQHsUrkchZctAmpmZmfnVyUD2KFyPYr7KQClcj8JVl8lAFK5H4VpczECuR+F69EDSQOF6FK638tBA16NwPYpGzkAfhetR2J7KQJqZmZkZB8lAj8L1KHyPxUAUrkfhOu3LQFK4HoWbiNFA7FG4HnUz0kAUrkfhGtvJQD0K16PwLshAMzMzM1OdxUAUrkfhGhfHQLgehetRT85AuB6F6/Em1UAUrkfhmsHQQJqZmZm5tMxAPQrXo5Buy0AK16Nw3VTKQOxRuB5ll8xApHA9CleyzkC4HoXr8WXRQJqZmZk5XsxAcT0K12NR0UAzMzMzE7/OQOxRuB5F0M9A16NwPUp4xkA9Ctej0OPLQGZmZmZGPtFA4XoUrqeJ0kCPwvUojH7QQD0K16NQNcpAFK5H4dq5ykA9CtejUL7JQIXrUbiebs5Aw/UoXI+/0UDsUbgeFcrTQKRwPQrXKM9AH4XrUbjfyUC4HoXrkQLJQHsUrkeB38pAXI/C9Qjz0EC4HoXrkdTUQK5H4Xpk1tRAzczMzDw20EBSuB6F6+3MQK5H4Xp0U8tAZmZmZibax0AUrkfhugHNQFyPwvUYK9JAMzMzM1Mi1EAAAAAA4KrQQOF6FK6nIc1AKVyPwnUmzUApXI/CtbDLQI/C9Sh8E81AexSuR7E70kBxPQrXE+LTQM3MzMwsPNBAZmZmZgZ2ykCamZmZWTzMQOF6FK4n6MpAH4XrUbgszUBI4XoU7mvRQBSuR+G6cdJAmpmZmTnsy0Bcj8L1SNzKQArXo3Ad18pAuB6F6zHsyUBxPQrXI8rMQLgehetxm9JAmpmZmfmtwUAK16Nw3W3QQDMzMzOTGs9A7FG4HkVXz0CkcD0K13TMQLgeheux4M9AH4XrUdhw0kBI4XoUHnrVQDMzMzPT989AH4XrUdgT0ECF61G43orNQM3MzMxsDM5AUrgehatezkBI4XoUrt/SQArXo3AdCNNA4XoUrifazUDNzMzMDALPQKRwPQrX2MtAFK5H4Xosy0B7FK5HQT/OQAAAAADgBNJArkfhetTw1EBI4XoUjqnPQKRwPQp3yMxAuB6F61Gcy0B7FK5HgdrJQB+F61G4ustAXI/C9XgA0UCF61G4/hzTQArXo3Ad7cpASOF6FI5szEB7FK5HIVTOQOxRuB5l8s1AmpmZmcnM0EBcj8L1KJfRQBSuR+GaxNJA16NwPfpO00BxPQrXY47PQIXrUbj+Ns5AuB6F69Eyz0AUrkfhuifPQEjhehSOzNNA7FG4HrVO0UCamZmZmWDRQB+F61F4BNBApHA9CrffzUAAAAAA4ALNQOF6FK4HQc5APQrXo3CU0kAzMzMzI5HUQArXo3D9zM9A16NwPapBzEAK16Nw/UvLQJqZmZkZEstAhetRuH6lzkD2KFyPcrbQQKRwPQpHGdBAMzMzM1Oh0UCPwvUo/CjNQK5H4Xo0dcpAMzMzM3MpykCF61G4/qDPQM3MzMwMEtNAZmZmZha71UA9CtejEBXSQJqZmZlZAtBAXI/C9RhT0EDXo3A96hzOQMP1KFz/pdBA4XoUrpf600ApXI/CNW3XQHsUrkfxYtNACtejcJ1gz0CPwvUoXL3OQAAAAADARc5AzczMzMwr0ECF61G4jujSQJqZmZmZkdFApHA9Cvfx0EAUrkfhGn3OQGZmZmbmRs5ApHA9ClfizEBcj8L1WDPQQMP1KFwfNNJAAAAAAJDq00AAAAAAABjQQHE9CteDWc5AAAAAAKByzEDD9Shcb/HMQNejcD2qI9BAhetRuK441EC4HoXrwUHUQHsUrkch99JAhetRuM7F0UAK16NwLb/UQEjhehQ+EtJAw/UoXN920kBSuB6FGzHSQM3MzMxMh9VASOF6FH4m0kBI4XoU7sbQQK5H4XokQdJAexSuRwFCz0DhehSul6TQQFK4HoVr5NJAKVyPwpVk1EBSuB6FaxXQQKRwPQq3Ic9AhetRuN6mzkBcj8L1CALPQFK4HoWL9s9AZmZmZtY700DXo3A9epHUQBSuR+Hay89AuB6F67G3zkCamZmZmXvMQLgehevREM9A9ihcj+Iv0EAfhetR+H/TQM3MzMxs39JAUrgehUuiz0BI4XoUjkXMQEjhehRuhc9AcT0K1xPN0UCkcD0Kx6LRQD0K16PQM9RAmpmZmemp1UA9CtejQGjTQDMzMzNDS9BAH4XrUVhz0UDsUbgeFVHQQD0K16Nw69FAzczMzFyR00BI4XoU7v/TQM3MzMwc6dFAMzMzMwOb0ECPwvUovHvNQArXo3C9gM9AMzMzM5ON0UB7FK5H8fHTQB+F61EIh9VAmpmZmUnk0UBmZmZmhirQQKRwPQq3iM1AKVyPwjW2zUAAAAAAsFHQQHE9Ctcj+9JASOF6FA4O1kDNzMzMHD/RQOxRuB7lMdBArkfhepSlzUAUrkfhGmnOQIXrUbh+a9FAAAAAAMBL1ECPwvUobP/TQGZmZmaGydVAmpmZmSmb0UBcj8L1aBTPQArXo3BdBNBAMzMzM6MK0UBcj8L1mFTVQHE9CtfDQthAhetRuC7h0kDsUbge9XfRQMP1KFx/2NBAAAAAAGAEz0CPwvUoHNzQQD0K16PgitNApHA9Cqd21kC4HoXrEWrSQFK4HoVLMtBAcT0K1wOMz0A9CtejMO/NQPYoXI8SgdFA4XoUrseP00CkcD0KBzTWQB+F61E4DNFAcT0K1yPczUBmZmZmRoHNQClcj8J1qsxA16NwPeqUz0DhehSuFyrTQLgeheuRxNNAKVyPwrXYz0C4HoXrYWrQQHsUrkeBb89A16NwPWrazkAzMzMzg2/RQHE9CtczzdVAKVyPwpWz10C4HoXrcSnTQOxRuB4FNNJAH4XrUQjm0EB7FK5HwUDRQM3MzMws4NFAPQrXo5CT1EB7FK5HcaHVQOxRuB71odFA4XoUrsce0EAK16NwPR7QQClcj8KV481Aw/UoXC9+z0DsUbgepSLUQAAAAADAsdVAAAAAAFBg0UDNzMzMrCjOQHsUrkfBX81Aw/UoXE9QzUC4HoXrcS3PQJqZmZmZfNNAj8L1KLx61ECF61G4/prQQNejcD1KpM1AXI/C9Sjl0ECkcD0KVzvIQGZmZmYG8dBAzczMzAxR1UAfhetR+G3XQAAAAACwXNJAzczMzFyU0EB7FK5HIbvPQAAAAACQQNBAUrgehTue0EAfhetRuDXVQOxRuB7FCdZA16NwPQqK00ApXI/CVXHMQK5H4Xr0ms1AXI/C9ch2ykB7FK5HwYvPQArXo3BN09NAUrgehVt51UApXI/C1ePPQB+F61F4ictAMzMzMxNwy0DhehSuB8jKQI/C9Sg8es1AFK5H4fpg00BSuB6FK5zTQAAAAACgws5ASOF6FO5D0EBxPQrXg2vNQFyPwvVI7MJAmpmZmXk2xkB7FK5HgSPNQFyPwvX4SdJAKVyPwoXR0EAAAAAAUG3RQK5H4XpUXMtApHA9Cvcnz0AK16NwTRTQQHE9CtezldNAAAAAACC900A9CtejIFvQQLgehesxVM5AhetRuF4tzUDhehSu5yPLQArXo3C9F9BAKVyPwmUp0kBxPQrXMyrTQB+F61G4tM9AAAAAAGAIzkBxPQrXY5HNQClcj8LVocxAPQrXo1DIy0CF61G4noDRQOF6FK7X69FA7FG4HsWLzkA9CtejsMbIQMP1KFyPwh1A7FG4HqVo0UDhehSu9yvQQHE9CtdTPtBAMzMzM1PA0EBSuB6FGy3QQPYoXI9Cqs5A16NwPeoXyEAUrkfhCgjQQArXo3DtKtJAuB6F63Ga00CamZmZSRLWQFK4HoWLkdFACtejcH3HzkCF61G4bmvQQLgeheux8s5AAAAAABAQ0EAAAAAAMHzVQM3MzMwsmtRAMzMzM1OLz0Bcj8L1KOXLQGZmZmaGk81AZmZmZka2zEAK16NwzXTQQJqZmZk5jdNAw/UoXO8q00AzMzMzg1/RQHsUrkfhx81AH4XrUXgmz0CPwvUo3NXKQIXrUbg+TM5AXI/C9fg100DD9ShcL6DUQClcj8IV8MxAKVyPwpWqykAK16NwHejHQI/C9Sjc7clAw/UoXC8bzUDhehSux2/QQArXo3A9DdVAexSuR2E900CamZmZCTfQQIXrUbieiM9AuB6F69Flz0DNzMzMDE3PQM3MzMzcIddAPQrXoyBT10CF61G4noPRQArXo3Bdk89AzczMzAwt0ED2KFyPYi7RQHsUrkdhWs1AFK5H4UpU0kAzMzMzQ3PTQPYoXI/yI9JArkfhehRCzkCkcD0K16bMQEjhehQOwM1Aw/UoXM9iz0AK16NwvSzTQI/C9Si8PdVAFK5H4br9z0AfhetROArOQHE9CtfDdchACtejcF36y0DXo3A9iozMQHsUrkdxjdZArkfhegRX1kCkcD0K55fRQHsUrkfhT89AZmZmZkYHzUAfhetROO3MQLgehesRmc5AcT0K12Pe0kCPwvUoDOHYQNejcD1KG9RAH4XrUejB0ECkcD0KNyTRQOF6FK5njc9APQrXoxBY0EA9CtejIHfTQHsUrkcxydZAexSuR6Fs0UAK16NwnYTPQM3MzMxMkMtAXI/C9egczEBcj8L1KNnOQEjhehS+OtNACtejcF0H10CuR+F69BjRQIXrUbg+uM1Aj8L1KNzlzUDD9Shcz//NQFK4HoW7NdBASOF6FB7p0kCF61G4DtjVQFK4HoVLbc9A16NwPXqO0UApXI/CFQfRQGZmZmbGsNFAAAAAAJDq0UDD9Shc31PVQD0K16MgpthA16NwPXpa00CamZmZ6XrSQArXo3CdSdFAAAAAAAC70UB7FK5HsVTRQClcj8KFktNAKVyPwnU61kCkcD0KF2/RQAAAAADgs9BA4XoUric60EC4HoXrkX7QQMP1KFxvRNFAmpmZmUkF10A9CtejgOTVQOF6FK53n9BA7FG4HsVTz0BSuB6Fe3LQQK5H4XpEpNBAMzMzM/ORz0AUrkfhOlrUQLgeheuxQddAPQrXo+D20EC4HoXr8bjOQLgehevRRc5Aw/UoXN+20UDNzMzM7GbTQDMzMzNzbNVAXI/C9Qhy1kBxPQrXw7XTQB+F61E4FdJAKVyPwkV60UAUrkfhmqjQQK5H4XqUBNJAZmZmZha400DhehSul1/UQI/C9SgcF9NAexSuR2F60UBSuB6F23zQQOF6FK4nXdBApHA9CgfR0EDXo3A9qizUQGZmZmbmiNVAMzMzM6Mg0UBcj8L1yK7PQKRwPQqXb89AUrgehYt/z0CkcD0KV5/PQM3MzMw8kdFApHA9CgdK0kDD9ShcD03UQFK4HoVLPdBAZmZmZgaDy0DXo3A9CrPMQFK4HoX7WtBA16NwPXq500A9CtejAM3XQMP1KFyfZdNAhetRuE5c00D2KFyPckTSQM3MzMzsD9JAH4XrUcj30UA9CtejEBLVQArXo3CdENZAhetRuK7U1EDNzMzMHF3SQClcj8LlKNFAexSuRwGk0ECPwvUoLDLSQK5H4XrEY9VAzczMzDz300Bcj8L1mPTRQBWuR+GK3tBAuB6F6zFq0EBxPQrXMzzRQFK4HoVbZtFAcT0K1+N/1ECamZmZad7WQJqZmZlJQNJA4XoUrjeu0ECkcD0KV2TOQFK4HoXrTM9AXI/C9YjHz0BxPQrXI1XUQPYoXI/SZNRAUrgehStJ0UB7FK5H0YLTQHE9CtdDKtNAFK5H4apu1kBSuB6FizrTQK5H4XqUWNNACtejcL0w10AUrkfhqr/UQB+F61FYYtNA16NwPdrr0kBI4XoU7oTTQI/C9SjsUtNArkfherTW1UAAAAAAwMrVQMP1KFxfl9JAj8L1KBy50EAfhetRqDrRQMP1KFzvUM9A4XoUrteh0UDNzMzMjO/TQLgehetB7NRAXI/C9Ui80UBmZmZmZvvQQClcj8J15s9ASOF6FI49z0BI4XoULq7QQArXo3C9rNNAZmZmZqa41kDsUbgeFaHRQDMzMzNzOdBAuB6F61Elz0BmZmZm5lLQQHE9CteTwNRAXI/C9fgB10AfhetR2KbXQMP1KFyPxtJAH4XrURja0kBcj8L1WPnRQFK4HoXb6dFAcT0K18N200BxPQrXA0jWQI/C9SgsJNdAmpmZmVnz0kCkcD0KZ2jSQDMzMzOj+dBAcT0K1+OUz0CF61G4PvvQQFyPwvW4rNRAw/UoXM9G2ECkcD0KN0/TQM3MzMxsMdFAcT0K10Pu0EDsUbgelUPQQJqZmZnpFdNACtejcE251kDNzMzMfD/ZQLgeheuB9NFAAAAAAJAT0EBSuB6Fy3/PQArXo3AdM89AexSuR/FN0kDsUbgeRWzUQOxRuB61lNNAFK5H4Woa1kBmZmZmVjfSQClcj8IFE9JAAAAAADDx0EBxPQrX0wHRQGZmZmbGo9VAhetRuC4S2UD2KFyPgjPTQClcj8I1btBAXI/C9diq0UApXI/CBUDSQFyPwvU4tdNAZmZmZna/1kB7FK5HAVfXQHE9CtdDMtJArkfhegQo0UA9CtejALbQQDMzMzMTzNBAexSuR9E+0UDD9Shc33bVQMP1KFzPB9hAzczMzIwE00BmZmZmVt3QQEjhehR+LtBAzczMzNwg0ECamZmZ+WvRQFyPwvV4ndRAcT0K16Nb10CF61G4DojRQEjhehR+V9BAmpmZmfk80kBxPQrXwwjSQClcj8KV79NAzczMzKxb2UCkcD0KFxXaQBSuR+EqzdRA7FG4HiUq0kAK16NwvTDSQBSuR+EKrtFAexSuR1EN0kBSuB6FO8PVQOF6FK5XedhA9ihcjwKA0kCamZmZOT7QQJqZmZmJmNBASOF6FE7QzEBI4XoUbhDRQAAAAABgVtZAXI/C9fjR2ECF61G4jjfTQGZmZmb2wdBAw/UoXK/TzkDhehSuJwfPQLgehevxrtBAXI/C9ch+00CkcD0KF6PWQB+F61HIUNJArkfhejTZzUCamZmZ2RPOQNejcD3qh85AZmZmZqbJzUApXI/CVUzXQB+F61E4uNlA9ihcjzKv1EAfhetRCP/RQAAAAABwkdFA9ihcj4IK0UCF61G4vuzRQDMzMzNjONdAAAAAADB12EC4HoXrEdrTQEjhehReHNJAH4XrUVjUzEDXo3A9KojLQM3MzMyMuc9A7FG4HjU21EAK16Nw/erWQMP1KFxPxdFAcT0K14Ngz0BxPQrXw8zNQD0K16PQ8stA16NwPTrR0EAAAAAAcOTVQAAAAADARtdAPQrXo2Da0UAK16NwHQPRQGZmZmbWY9JAFK5H4bqKxEDhehSuJ5TJQHsUrkdxO9FASOF6FJ4k00DhehSu5+fSQAAAAABgJM9AzczMzAwGz0AzMzMzQ7DRQFK4HoXLA9JA7FG4HuXo1UDD9ShcP7PWQI/C9SicedFA9ihcj3Lk0ECF61G4PlzSQD0K16PQT8RA9ihcj5I00EB7FK5HYS3TQArXo3BNmtRAexSuR8GRzkAUrkfh2lTMQHsUrkdhns1AH4XrUShT0EB7FK5HYX/KQOF6FK5XctJAXI/C9YiM00CF61G4jqbRQI/C9ShMn9BACtejcD2ByEAAAAAAAAAAADMzMzOj1dBAPQrXozDb0EAfhetRGMnSQLgehevxts5A7FG4HmWvzUBmZmZmptrMQGZmZmbGCstA4XoUrhd40kBxPQrXs6fUQNejcD1K4dRASOF6FG5i0kBmZmZmhlrOQIXrUbgeRs5A7FG4HhVG0EAfhetReCnQQAAAAABwxNVAexSuR7Hk10BmZmZmdk7QQMP1KFxvE85AZmZmZgaxy0B7FK5HIYLMQPYoXI8CT89Aj8L1KIxr1UCF61G47urUQAAAAAAQSdNAMzMzM3P0z0BxPQrXg4jOQLgehesRTcxAhetRuL4/zkDD9ShcX8zUQEjhehSu59ZAj8L1KDwO0EB7FK5HIZrNQK5H4XoU4sxAw/UoXA+iy0BxPQrX48/QQGZmZmZGmNVASOF6FM7v10B7FK5H4W3SQHE9CtejhdFAAAAAAEAG0kA9CtejUDLRQAAAAADgyc5A7FG4HvWX2kCF61G4DvvYQClcj8I19NNA16NwPdq900AfhetReAzRQBSuR+E6edNA4XoUrge/0ECamZmZWWPTQLgehevhxtRAZmZmZoYR1UDXo3A9ipHQQHE9CtcjVc5A7FG4HqWgy0CF61G4vgnQQAAAAADAVdJAFK5H4Zoi1UAUrkfhWhTSQJqZmZm5V89AZmZmZkaXzkBcj8L16DnOQGZmZmbGb9BAhetRuI4L1UCamZmZuRjZQAAAAABgedJArkfhemR30kCPwvUofNrQQNejcD1Ki9FA7FG4HiVw0UAzMzMzMyPXQKRwPQrngNpAuB6F63EQ1EAK16Nw7S/SQHsUrkfBsdBAMzMzM4Nl0EDNzMzM/CzRQArXo3A9Z9VArkfheuRb2UDsUbgeNSTTQArXo3C93NBAH4XrUXghz0C4HoXrUQDPQM3MzMzcJdFA16NwPXrb1UA9CtejUNbYQOxRuB6FFtNAFK5H4Xr/z0AzMzMzAxjRQI/C9Sj8is9AcT0K1yNd0EAUrkfhuu/UQLgehetBAtdA16NwPRqG0UAzMzMzIyfRQDMzMzPDEtJAuB6F6yH00EB7FK5HARTUQK5H4XpE49hA4XoUruft2UCkcD0KB6fTQD0K16Ow/tJAmpmZmYnw0kBxPQrXQ/jRQPYoXI8SXNJAMzMzMzOC1kDXo3A9qsbYQNejcD3KMM9ArkfhejSE0UCPwvUovB/QQPYoXI/iydBAcT0K1wME0UCF61G4zsrSQFyPwvX4ldhAzczMzHwi0kBcj8L1WA/QQJqZmZlZb9BASOF6FD5l0ECamZmZGRDRQK5H4Xo0TNZAFK5H4erF10DhehSuN8/RQM3MzMxskdBApHA9CpdAzUCamZmZmXjOQOxRuB7FeNNAexSuR9Hm1UBmZmZmJinYQK5H4XrELNZA16NwPQq30UDD9Shc74vRQK5H4XrEh9BAFK5H4fo60kAAAAAAMOnWQHE9Ctej/tNAFK5H4Sp41EBSuB6Fa5XSQIXrUbjOGNJAFa5H4fpd0EA9Ctej0CvSQOxRuB7l39VAcT0K1yOp10BI4XoU7tPSQFyPwvUI2NBAuB6F67FL0EDNzMzMrITQQNejcD265NJAw/UoXP+s00DD9Shcb3jUQD0K16MQPtdApHA9CjdW0UA9Ctej8JPOQLgehesR3M5ApHA9CvcO0ECF61G4vjTUQHsUrkdxLdZASOF6FL4h1ECF61G4vtTTQLgehesRSdJAexSuR7Eu0kDsUbgexazRQD0K16MgVddAZmZmZhYS2ED2KFyPknTVQBSuR+GqwtNAexSuR2E900BI4XoUDhLRQMP1KFy/sdFAAAAAACCR1UBSuB6FC5zXQJqZmZlZf9RASOF6FH480EDD9Shc7yLRQGZmZmZWxtBASOF6FO7b0EC4HoXrwRvVQOF6FK7HTtRA7FG4HmVZ00BxPQrXk5zQQArXo3D93M9Aw/UoXF/r0EBcj8L1uJHRQOF6FK734NRArkfheoRs1kDD9Shcn9/SQJqZmZlJk9FAmpmZmXmK00DD9Shcb7TTQD0K16MAR9lAuB6F6xHD0UDsUbgeNfPVQNejcD0KgtNAMzMzM1MZ00DXo3A9em/SQOF6FK7X1dJArkfheuRa1EApXI/CxdfVQJqZmZlJ+NdAPQrXoxBH1ECF61G4Xr7RQFK4HoULqdJAZmZmZkYi0kCPwvUorBzSQM3MzMwcfNZAZmZmZsb110C4HoXrYe/TQArXo3CdJNJAuB6F65GF0EBmZmZm1ujQQJqZmZnJ9tFA7FG4HrWS1UCPwvUo3NPVQM3MzMxMh9JA4XoUrjeH0UA9CtejYFjQQKRwPQr3lNBACtejcO0J0kApXI/C1ajXQArXo3C9cNlAFK5H4Zos1kBSuB6FCybUQJqZmZl57dJAzczMzNx40kBcj8L1OLHTQKRwPQpnOdhAPQrXo2C82kBcj8L1uMvVQD0K16NwyNNAKVyPwkUb0kDD9Shcj+XRQOxRuB7FO9JAcT0K1wP110DhehSupyLbQMP1KFxvCtZAPQrXo3Ak00AUrkfhuvvSQB+F61FoCdFASOF6FA4x0UBcj8L1aBjXQMP1KFwP3NhAKVyPwoXj0kAfhetRaNbQQMP1KFwvQM9A4XoUrufEz0DXo3A9utfQQI/C9Sgc0NVAUrgehVvm10BxPQrXo5LSQOF6FK4XitJAw/UoXD/V0UAAAAAAsNTRQOxRuB5FYtNAj8L1KFxi1UAfhetROBXUQMP1KFzfxNdAzczMzAzN0kCamZmZOfjSQNejcD0KE9NAcT0K1wP/0UBxPQrXkyXWQArXo3CtKdpA4XoUrqex0UCamZmZ+cDQQPYoXI9i7s5AZmZmZibtz0AAAAAA0GbSQPYoXI9iU9hA9ihcj6IC2UAfhetRCIvTQLgehetxU9JAZmZmZhbP0UAAAAAAQMrPQMP1KFx/nNJA16NwPTrK1UCkcD0KF33XQGZmZmYmCNJACtejcB1t0EBxPQrXkwPQQMP1KFz/YtFAPQrXo1Bm00CkcD0KBz3ZQOF6FK635dlACtejcF2A1UAfhetRaOnSQIXrUbjeKtJAKVyPwhV80UBI4XoUjhHUQArXo3C9gtdApHA9Cmei0kAzMzMzE87VQLgehethItFAzczMzCxg0UBcj8L1CKzQQAAAAAAACNJAXI/C9SiM1kBI4XoUbi7ZQIXrUbi+R9NASOF6FI7W0EDNzMzM7MPPQKRwPQrXLtBAAAAAABBu0UAAAAAAQD7UQI/C9SgMkdhApHA9CreN0kD2KFyP0jvRQFyPwvXoaNBAH4XrUfim0EBxPQrXw03RQEjhehTe3NNA7FG4HkUk2UA9Ctej0CDSQB+F61GY9dJA9ihcj3I90UAAAAAAoH/QQI/C9Sisa9JAmpmZmXmy1kAzMzMzo/LZQOxRuB71s9JAexSuR1GS0UAfhetRCHbQQD0K16NQFc9APQrXo/AQ0EBcj8L1aOTVQEjhehTeUtdAhetRuP7Y0UApXI/C9VLPQFK4HoWr7s5A16NwPeq3zEAfhetR6BbQQI/C9SgMGNRAmpmZmUld10BSuB6F6+LRQAAAAADgH9BArkfheqQf0UDNzMzMjDfFQFK4HoXrTMhAPQrXo7BP0EDhehSuh8LTQClcj8K1ZdBAcT0K14Ov0EAK16Nw7VfQQMP1KFyfpNFAXI/C9ej10kA9CtejwFTVQJqZmZnJ2ddACtejcO2R0UDhehSut2vQQOxRuB4lG9BACtejcP12z0AK16Nw7STQQBSuR+GqcdRAw/UoXM811kDNzMzMvNrRQBSuR+GqINBAXI/C9djp0ECuR+F61PfQQOxRuB6FkM9AFK5H4do41ECPwvUobJPUQGZmZmaWXdBAmpmZmYkz0UAK16NwDTfQQGZmZmaGE8pA16NwPQrXH0DhehSulzXTQNejcD16JdJAFK5H4cpP0UAzMzMzw2DQQClcj8J1NNBAexSuR2H90EDD9Shc78nMQGZmZmaG49RApHA9Cudu1UCF61G47vHSQM3MzMwcQtFApHA9CvcTz0Bcj8L1qC3RQDMzMzNjCNFAUrgehSvy10AAAAAAkNDYQKRwPQoXrNJAXI/C9bge0EC4HoXr8frMQB+F61GYhc1AcT0K18N70EAK16NwDTTWQOF6FK43oNZACtejcF0e00Bcj8L1qEzOQHsUrkdBUs9AhetRuJ6zzkAK16NwvQHPQK5H4Xrk4NdAexSuR9GR2EAAAAAAIIHTQB+F61E4089A16NwPRqK0ECamZmZiT7QQFyPwvVorNBApHA9Cgc11kAAAAAAsI/ZQAAAAADQpNNAPQrXoxAb0kDXo3A9CivSQGZmZma20tJASOF6FL6B0kBxPQrXM9XWQEjhehQe9tRAw/UoXE8N00CamZmZuW3SQLgeheux3NNASOF6FG7s00CF61G47uDRQArXo3CN5ddAuB6F6zHA1EAAAAAAoLLXQNejcD06fdJAj8L1KCyh0EDhehSuV0fRQHsUrkeBgNJAKVyPwnU010AUrkfhGtvZQNejcD2am9NAH4XrUYhO0UA9CtejgMLQQLgeheuBGdFA9ihcj+Kn0UDhehSuB5vWQEjhehTOd9hAMzMzM+Mi1EDNzMzMrJPTQM3MzMysjNFAzczMzGxe0kCPwvUo3CzRQBSuR+FaoNdAAAAAACDD20AAAAAAMF7UQMP1KFw/19JAzczMzNwT0kBSuB6FG2fRQM3MzMzMGNJA4XoUrkeB10AzMzMzI2TZQArXo3CdBNRAUrgehTuS0UCF61G4bsDRQIXrUbh+09BAFK5H4epe0UDNzMzMnK/XQGZmZmbWLdpAKVyPwnUJ1EAUrkfhqmjRQFyPwvUYlNFACtejcN0T0UAzMzMzA87TQEjhehTeLdhAKVyPwtUi2EDD9Shcz5fRQHE9CtejWdFApHA9CveD0EDNzMzM3A7RQLgeheuh/dRAzczMzDxU10B7FK5H0RbbQClcj8L1zdVAw/UoXC+000A9Ctej8KbRQFK4HoXrmdFAw/UoXF9f00B7FK5HgSjZQB+F61F4sdxA4XoUrvf+1EApXI/C1ebRQClcj8L1GtFAKVyPwoXE0UCamZmZKSLRQHsUrkdxAtZAexSuR3Fc2kAK16NwvdTTQArXo3AtZNJAmpmZmVmw0UB7FK5HQbPPQD0K16PADtJAuB6F62FH2EB7FK5H8V3aQA==",
          "dtype": "f8"
         }
        },
        {
         "line": {
          "color": "orange"
         },
         "mode": "lines",
         "name": "Test data",
         "type": "scatter",
         "x": [
          "2016-04-25",
          "2016-04-26",
          "2016-04-27",
          "2016-04-28",
          "2016-04-29",
          "2016-04-30",
          "2016-05-01",
          "2016-05-02",
          "2016-05-03",
          "2016-05-04",
          "2016-05-05",
          "2016-05-06",
          "2016-05-07",
          "2016-05-08",
          "2016-05-09",
          "2016-05-10",
          "2016-05-11",
          "2016-05-12",
          "2016-05-13",
          "2016-05-14",
          "2016-05-15",
          "2016-05-16",
          "2016-05-17",
          "2016-05-18",
          "2016-05-19",
          "2016-05-20",
          "2016-05-21",
          "2016-05-22"
         ],
         "y": {
          "bdata": "PQrXo6An1UBmZmZmBoHRQArXo3CNdtBAhetRuL5F0EC4HoXrMdbSQD0K16NQw9dAMzMzM6ML2kCF61G4rg3WQBSuR+Ha29NAFK5H4eqS00DNzMzMrBXTQOF6FK7HI9NAFK5H4Upb2EApXI/CdV7WQEjhehRegdZAexSuRzG100AUrkfh+uXTQIXrUbiuGdFApHA9Cndd00B7FK5HkfzXQClcj8K1ktpAZmZmZoa+00DNzMzMDPHRQOxRuB41XdFAZmZmZtYy0kCF61G4zsrRQHsUrkdhStdAKVyPwvWi2kA=",
          "dtype": "f8"
         }
        }
       ],
       "layout": {
        "template": {
         "data": {
          "bar": [
           {
            "error_x": {
             "color": "#2a3f5f"
            },
            "error_y": {
             "color": "#2a3f5f"
            },
            "marker": {
             "line": {
              "color": "#E5ECF6",
              "width": 0.5
             },
             "pattern": {
              "fillmode": "overlay",
              "size": 10,
              "solidity": 0.2
             }
            },
            "type": "bar"
           }
          ],
          "barpolar": [
           {
            "marker": {
             "line": {
              "color": "#E5ECF6",
              "width": 0.5
             },
             "pattern": {
              "fillmode": "overlay",
              "size": 10,
              "solidity": 0.2
             }
            },
            "type": "barpolar"
           }
          ],
          "carpet": [
           {
            "aaxis": {
             "endlinecolor": "#2a3f5f",
             "gridcolor": "white",
             "linecolor": "white",
             "minorgridcolor": "white",
             "startlinecolor": "#2a3f5f"
            },
            "baxis": {
             "endlinecolor": "#2a3f5f",
             "gridcolor": "white",
             "linecolor": "white",
             "minorgridcolor": "white",
             "startlinecolor": "#2a3f5f"
            },
            "type": "carpet"
           }
          ],
          "choropleth": [
           {
            "colorbar": {
             "outlinewidth": 0,
             "ticks": ""
            },
            "type": "choropleth"
           }
          ],
          "contour": [
           {
            "colorbar": {
             "outlinewidth": 0,
             "ticks": ""
            },
            "colorscale": [
             [
              0,
              "#0d0887"
             ],
             [
              0.1111111111111111,
              "#46039f"
             ],
             [
              0.2222222222222222,
              "#7201a8"
             ],
             [
              0.3333333333333333,
              "#9c179e"
             ],
             [
              0.4444444444444444,
              "#bd3786"
             ],
             [
              0.5555555555555556,
              "#d8576b"
             ],
             [
              0.6666666666666666,
              "#ed7953"
             ],
             [
              0.7777777777777778,
              "#fb9f3a"
             ],
             [
              0.8888888888888888,
              "#fdca26"
             ],
             [
              1,
              "#f0f921"
             ]
            ],
            "type": "contour"
           }
          ],
          "contourcarpet": [
           {
            "colorbar": {
             "outlinewidth": 0,
             "ticks": ""
            },
            "type": "contourcarpet"
           }
          ],
          "heatmap": [
           {
            "colorbar": {
             "outlinewidth": 0,
             "ticks": ""
            },
            "colorscale": [
             [
              0,
              "#0d0887"
             ],
             [
              0.1111111111111111,
              "#46039f"
             ],
             [
              0.2222222222222222,
              "#7201a8"
             ],
             [
              0.3333333333333333,
              "#9c179e"
             ],
             [
              0.4444444444444444,
              "#bd3786"
             ],
             [
              0.5555555555555556,
              "#d8576b"
             ],
             [
              0.6666666666666666,
              "#ed7953"
             ],
             [
              0.7777777777777778,
              "#fb9f3a"
             ],
             [
              0.8888888888888888,
              "#fdca26"
             ],
             [
              1,
              "#f0f921"
             ]
            ],
            "type": "heatmap"
           }
          ],
          "histogram": [
           {
            "marker": {
             "pattern": {
              "fillmode": "overlay",
              "size": 10,
              "solidity": 0.2
             }
            },
            "type": "histogram"
           }
          ],
          "histogram2d": [
           {
            "colorbar": {
             "outlinewidth": 0,
             "ticks": ""
            },
            "colorscale": [
             [
              0,
              "#0d0887"
             ],
             [
              0.1111111111111111,
              "#46039f"
             ],
             [
              0.2222222222222222,
              "#7201a8"
             ],
             [
              0.3333333333333333,
              "#9c179e"
             ],
             [
              0.4444444444444444,
              "#bd3786"
             ],
             [
              0.5555555555555556,
              "#d8576b"
             ],
             [
              0.6666666666666666,
              "#ed7953"
             ],
             [
              0.7777777777777778,
              "#fb9f3a"
             ],
             [
              0.8888888888888888,
              "#fdca26"
             ],
             [
              1,
              "#f0f921"
             ]
            ],
            "type": "histogram2d"
           }
          ],
          "histogram2dcontour": [
           {
            "colorbar": {
             "outlinewidth": 0,
             "ticks": ""
            },
            "colorscale": [
             [
              0,
              "#0d0887"
             ],
             [
              0.1111111111111111,
              "#46039f"
             ],
             [
              0.2222222222222222,
              "#7201a8"
             ],
             [
              0.3333333333333333,
              "#9c179e"
             ],
             [
              0.4444444444444444,
              "#bd3786"
             ],
             [
              0.5555555555555556,
              "#d8576b"
             ],
             [
              0.6666666666666666,
              "#ed7953"
             ],
             [
              0.7777777777777778,
              "#fb9f3a"
             ],
             [
              0.8888888888888888,
              "#fdca26"
             ],
             [
              1,
              "#f0f921"
             ]
            ],
            "type": "histogram2dcontour"
           }
          ],
          "mesh3d": [
           {
            "colorbar": {
             "outlinewidth": 0,
             "ticks": ""
            },
            "type": "mesh3d"
           }
          ],
          "parcoords": [
           {
            "line": {
             "colorbar": {
              "outlinewidth": 0,
              "ticks": ""
             }
            },
            "type": "parcoords"
           }
          ],
          "pie": [
           {
            "automargin": true,
            "type": "pie"
           }
          ],
          "scatter": [
           {
            "fillpattern": {
             "fillmode": "overlay",
             "size": 10,
             "solidity": 0.2
            },
            "type": "scatter"
           }
          ],
          "scatter3d": [
           {
            "line": {
             "colorbar": {
              "outlinewidth": 0,
              "ticks": ""
             }
            },
            "marker": {
             "colorbar": {
              "outlinewidth": 0,
              "ticks": ""
             }
            },
            "type": "scatter3d"
           }
          ],
          "scattercarpet": [
           {
            "marker": {
             "colorbar": {
              "outlinewidth": 0,
              "ticks": ""
             }
            },
            "type": "scattercarpet"
           }
          ],
          "scattergeo": [
           {
            "marker": {
             "colorbar": {
              "outlinewidth": 0,
              "ticks": ""
             }
            },
            "type": "scattergeo"
           }
          ],
          "scattergl": [
           {
            "marker": {
             "colorbar": {
              "outlinewidth": 0,
              "ticks": ""
             }
            },
            "type": "scattergl"
           }
          ],
          "scattermap": [
           {
            "marker": {
             "colorbar": {
              "outlinewidth": 0,
              "ticks": ""
             }
            },
            "type": "scattermap"
           }
          ],
          "scattermapbox": [
           {
            "marker": {
             "colorbar": {
              "outlinewidth": 0,
              "ticks": ""
             }
            },
            "type": "scattermapbox"
           }
          ],
          "scatterpolar": [
           {
            "marker": {
             "colorbar": {
              "outlinewidth": 0,
              "ticks": ""
             }
            },
            "type": "scatterpolar"
           }
          ],
          "scatterpolargl": [
           {
            "marker": {
             "colorbar": {
              "outlinewidth": 0,
              "ticks": ""
             }
            },
            "type": "scatterpolargl"
           }
          ],
          "scatterternary": [
           {
            "marker": {
             "colorbar": {
              "outlinewidth": 0,
              "ticks": ""
             }
            },
            "type": "scatterternary"
           }
          ],
          "surface": [
           {
            "colorbar": {
             "outlinewidth": 0,
             "ticks": ""
            },
            "colorscale": [
             [
              0,
              "#0d0887"
             ],
             [
              0.1111111111111111,
              "#46039f"
             ],
             [
              0.2222222222222222,
              "#7201a8"
             ],
             [
              0.3333333333333333,
              "#9c179e"
             ],
             [
              0.4444444444444444,
              "#bd3786"
             ],
             [
              0.5555555555555556,
              "#d8576b"
             ],
             [
              0.6666666666666666,
              "#ed7953"
             ],
             [
              0.7777777777777778,
              "#fb9f3a"
             ],
             [
              0.8888888888888888,
              "#fdca26"
             ],
             [
              1,
              "#f0f921"
             ]
            ],
            "type": "surface"
           }
          ],
          "table": [
           {
            "cells": {
             "fill": {
              "color": "#EBF0F8"
             },
             "line": {
              "color": "white"
             }
            },
            "header": {
             "fill": {
              "color": "#C8D4E3"
             },
             "line": {
              "color": "white"
             }
            },
            "type": "table"
           }
          ]
         },
         "layout": {
          "annotationdefaults": {
           "arrowcolor": "#2a3f5f",
           "arrowhead": 0,
           "arrowwidth": 1
          },
          "autotypenumbers": "strict",
          "coloraxis": {
           "colorbar": {
            "outlinewidth": 0,
            "ticks": ""
           }
          },
          "colorscale": {
           "diverging": [
            [
             0,
             "#8e0152"
            ],
            [
             0.1,
             "#c51b7d"
            ],
            [
             0.2,
             "#de77ae"
            ],
            [
             0.3,
             "#f1b6da"
            ],
            [
             0.4,
             "#fde0ef"
            ],
            [
             0.5,
             "#f7f7f7"
            ],
            [
             0.6,
             "#e6f5d0"
            ],
            [
             0.7,
             "#b8e186"
            ],
            [
             0.8,
             "#7fbc41"
            ],
            [
             0.9,
             "#4d9221"
            ],
            [
             1,
             "#276419"
            ]
           ],
           "sequential": [
            [
             0,
             "#0d0887"
            ],
            [
             0.1111111111111111,
             "#46039f"
            ],
            [
             0.2222222222222222,
             "#7201a8"
            ],
            [
             0.3333333333333333,
             "#9c179e"
            ],
            [
             0.4444444444444444,
             "#bd3786"
            ],
            [
             0.5555555555555556,
             "#d8576b"
            ],
            [
             0.6666666666666666,
             "#ed7953"
            ],
            [
             0.7777777777777778,
             "#fb9f3a"
            ],
            [
             0.8888888888888888,
             "#fdca26"
            ],
            [
             1,
             "#f0f921"
            ]
           ],
           "sequentialminus": [
            [
             0,
             "#0d0887"
            ],
            [
             0.1111111111111111,
             "#46039f"
            ],
            [
             0.2222222222222222,
             "#7201a8"
            ],
            [
             0.3333333333333333,
             "#9c179e"
            ],
            [
             0.4444444444444444,
             "#bd3786"
            ],
            [
             0.5555555555555556,
             "#d8576b"
            ],
            [
             0.6666666666666666,
             "#ed7953"
            ],
            [
             0.7777777777777778,
             "#fb9f3a"
            ],
            [
             0.8888888888888888,
             "#fdca26"
            ],
            [
             1,
             "#f0f921"
            ]
           ]
          },
          "colorway": [
           "#636efa",
           "#EF553B",
           "#00cc96",
           "#ab63fa",
           "#FFA15A",
           "#19d3f3",
           "#FF6692",
           "#B6E880",
           "#FF97FF",
           "#FECB52"
          ],
          "font": {
           "color": "#2a3f5f"
          },
          "geo": {
           "bgcolor": "white",
           "lakecolor": "white",
           "landcolor": "#E5ECF6",
           "showlakes": true,
           "showland": true,
           "subunitcolor": "white"
          },
          "hoverlabel": {
           "align": "left"
          },
          "hovermode": "closest",
          "mapbox": {
           "style": "light"
          },
          "paper_bgcolor": "white",
          "plot_bgcolor": "#E5ECF6",
          "polar": {
           "angularaxis": {
            "gridcolor": "white",
            "linecolor": "white",
            "ticks": ""
           },
           "bgcolor": "#E5ECF6",
           "radialaxis": {
            "gridcolor": "white",
            "linecolor": "white",
            "ticks": ""
           }
          },
          "scene": {
           "xaxis": {
            "backgroundcolor": "#E5ECF6",
            "gridcolor": "white",
            "gridwidth": 2,
            "linecolor": "white",
            "showbackground": true,
            "ticks": "",
            "zerolinecolor": "white"
           },
           "yaxis": {
            "backgroundcolor": "#E5ECF6",
            "gridcolor": "white",
            "gridwidth": 2,
            "linecolor": "white",
            "showbackground": true,
            "ticks": "",
            "zerolinecolor": "white"
           },
           "zaxis": {
            "backgroundcolor": "#E5ECF6",
            "gridcolor": "white",
            "gridwidth": 2,
            "linecolor": "white",
            "showbackground": true,
            "ticks": "",
            "zerolinecolor": "white"
           }
          },
          "shapedefaults": {
           "line": {
            "color": "#2a3f5f"
           }
          },
          "ternary": {
           "aaxis": {
            "gridcolor": "white",
            "linecolor": "white",
            "ticks": ""
           },
           "baxis": {
            "gridcolor": "white",
            "linecolor": "white",
            "ticks": ""
           },
           "bgcolor": "#E5ECF6",
           "caxis": {
            "gridcolor": "white",
            "linecolor": "white",
            "ticks": ""
           }
          },
          "title": {
           "x": 0.05
          },
          "xaxis": {
           "automargin": true,
           "gridcolor": "white",
           "linecolor": "white",
           "ticks": "",
           "title": {
            "standoff": 15
           },
           "zerolinecolor": "white",
           "zerolinewidth": 2
          },
          "yaxis": {
           "automargin": true,
           "gridcolor": "white",
           "linecolor": "white",
           "ticks": "",
           "title": {
            "standoff": 15
           },
           "zerolinecolor": "white",
           "zerolinewidth": 2
          }
         }
        },
        "title": {
         "text": "Revenue by year of supermarket",
         "x": 0.5,
         "xanchor": "center"
        },
        "xaxis": {
         "title": {
          "text": "Time"
         }
        },
        "yaxis": {
         "title": {
          "text": "Revenue"
         }
        }
       }
      }
     },
     "metadata": {},
     "output_type": "display_data"
    }
   ],
   "source": [
    "import plotly.graph_objects as go\n",
    "\n",
    "# Create two separate traces for different ID ranges\n",
    "fig = go.Figure()\n",
    "\n",
    "# First segment (id = 1 to 1913, blue)\n",
    "fig.add_trace(go.Scatter(\n",
    "    x=test_df[test_df[\"id\"] <= 1913][\"date\"],\n",
    "    y=test_df[test_df[\"id\"] <= 1913][\"CA_3\"],\n",
    "    mode='lines',\n",
    "    name='Train data',\n",
    "))\n",
    "\n",
    "# Second segment (id = 1914 to 1941, orange)\n",
    "fig.add_trace(go.Scatter(\n",
    "    x=test_df[test_df[\"id\"] > 1913][\"date\"],\n",
    "    y=test_df[test_df[\"id\"] > 1913][\"CA_3\"],\n",
    "    mode='lines',\n",
    "    name='Test data',\n",
    "    line=dict(color='orange')\n",
    "))\n",
    "\n",
    "# Update layout\n",
    "fig.update_layout(\n",
    "    title={\n",
    "        \"text\": \"Revenue by year of supermarket\",\n",
    "        \"x\": 0.5,\n",
    "        \"xanchor\": \"center\",\n",
    "    },\n",
    "    xaxis_title=\"Time\",\n",
    "    yaxis_title=\"Revenue\"\n",
    ")\n",
    "\n",
    "# Show figure\n",
    "fig.show()\n"
   ]
  }
 ],
 "metadata": {
  "kernelspec": {
   "display_name": "Python 3",
   "language": "python",
   "name": "python3"
  },
  "language_info": {
   "codemirror_mode": {
    "name": "ipython",
    "version": 3
   },
   "file_extension": ".py",
   "mimetype": "text/x-python",
   "name": "python",
   "nbconvert_exporter": "python",
   "pygments_lexer": "ipython3",
   "version": "3.11.9"
  }
 },
 "nbformat": 4,
 "nbformat_minor": 2
}
