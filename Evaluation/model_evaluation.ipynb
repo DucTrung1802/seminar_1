{
 "cells": [
  {
   "cell_type": "markdown",
   "metadata": {},
   "source": [
    "# Model Evaluation"
   ]
  },
  {
   "cell_type": "markdown",
   "metadata": {},
   "source": [
    "## Imoprt libraries"
   ]
  },
  {
   "cell_type": "code",
   "execution_count": 460,
   "metadata": {},
   "outputs": [],
   "source": [
    "import numpy as np\n",
    "import pandas as pd\n",
    "from dataclasses import dataclass, field\n",
    "from enum import Enum\n",
    "from typing import List\n",
    "import os\n",
    "import plotly.express as px\n",
    "import plotly.graph_objects as go\n",
    "from plotly.subplots import make_subplots"
   ]
  },
  {
   "cell_type": "markdown",
   "metadata": {},
   "source": [
    "## Settings"
   ]
  },
  {
   "cell_type": "code",
   "execution_count": 461,
   "metadata": {},
   "outputs": [],
   "source": [
    "SETTING_RESULT_PARENT_DIRECTORY_PATH = os.path.join(\"Result\")\n",
    "SETTING_TEST_DATA_FRAME_PATH = os.path.join(\"test_data_frame.csv\")\n",
    "SETTING_REVENUE_TEST_DATA_FRAME_PATH = os.path.join(\n",
    "    os.pardir, \"datasets\", \"revenue_test_data_by_date_store.csv\"\n",
    ")\n",
    "SETTING_STATES = [\n",
    "    \"CA_1\",\n",
    "    \"CA_2\",\n",
    "    \"CA_3\",\n",
    "    \"CA_4\",\n",
    "    \"TX_1\",\n",
    "    \"TX_2\",\n",
    "    \"TX_3\",\n",
    "    \"WI_1\",\n",
    "    \"WI_2\",\n",
    "    \"WI_3\",\n",
    "]\n",
    "SETTING_FIRST_FORECAST_DAY = 1914"
   ]
  },
  {
   "cell_type": "markdown",
   "metadata": {},
   "source": [
    "## Enums"
   ]
  },
  {
   "cell_type": "code",
   "execution_count": 462,
   "metadata": {},
   "outputs": [],
   "source": [
    "class Metric(Enum):\n",
    "    MASE = 0  # Mean Absolute Scaled Error\n",
    "    RMSSE = 1  # Root Mean Squared Scaled Error\n",
    "    WMSSE = 2  # Weighted Root Mean Squared Scaled Error"
   ]
  },
  {
   "cell_type": "markdown",
   "metadata": {},
   "source": [
    "## Classes"
   ]
  },
  {
   "cell_type": "code",
   "execution_count": 463,
   "metadata": {},
   "outputs": [],
   "source": [
    "@dataclass\n",
    "class Data_Frame:\n",
    "    name: str\n",
    "    data_frame: pd.DataFrame\n",
    "\n",
    "\n",
    "@dataclass\n",
    "class MetricResult:\n",
    "    data_frame_name: str\n",
    "    metric: Metric\n",
    "    value: float\n",
    "\n",
    "\n",
    "@dataclass\n",
    "class Result:\n",
    "    author: str\n",
    "    data_frame_list: List[Data_Frame] = field(default_factory=list)\n",
    "    metric_result_list: List[MetricResult] = field(default_factory=list)"
   ]
  },
  {
   "cell_type": "markdown",
   "metadata": {},
   "source": [
    "## Metric formulas"
   ]
  },
  {
   "cell_type": "markdown",
   "metadata": {},
   "source": [
    "### Mean Absolute Scaled Error"
   ]
  },
  {
   "cell_type": "code",
   "execution_count": 464,
   "metadata": {},
   "outputs": [],
   "source": [
    "def mase(train: np.ndarray, actual: np.ndarray, forecast: np.ndarray) -> float:\n",
    "    \"\"\"\n",
    "    Compute Mean Absolute Scaled Error (MASE) based on the correct formula.\n",
    "\n",
    "    Args:\n",
    "        train (np.ndarray): Array of historical (training) data\n",
    "        actual (np.ndarray): Array of actual values for the test period\n",
    "        forecast (np.ndarray): Array of forecasted values\n",
    "\n",
    "    Returns:\n",
    "        float: MASE value\n",
    "    \"\"\"\n",
    "\n",
    "    # Compute scale denominator\n",
    "    denominator = np.mean(np.abs(np.diff(train)))\n",
    "\n",
    "    if denominator == 0:\n",
    "        return np.nan  # Avoid division by zero\n",
    "\n",
    "    # Compute numerator\n",
    "    numerator = np.mean(np.abs(actual - forecast))\n",
    "\n",
    "    return np.sqrt(numerator / denominator)"
   ]
  },
  {
   "cell_type": "markdown",
   "metadata": {},
   "source": [
    "### Root Mean Squared Scaled Error"
   ]
  },
  {
   "cell_type": "code",
   "execution_count": 465,
   "metadata": {},
   "outputs": [],
   "source": [
    "def rmsse(train: np.ndarray, actual: np.ndarray, forecast: np.ndarray) -> float:\n",
    "    \"\"\"\n",
    "    Compute Root Mean Squared Scaled Error (RMSSE) based on the correct formula.\n",
    "\n",
    "    Parameters:\n",
    "        train (np.ndarray): Array of historical (training) data\n",
    "        actual (np.ndarray): Array of actual values for the test period\n",
    "        forecast (np.ndarray): Array of forecasted values\n",
    "\n",
    "    Returns:\n",
    "        float: RMSSE value\n",
    "    \"\"\"\n",
    "\n",
    "    # Compute scale denominator\n",
    "    denominator = np.mean(np.square(np.diff(train)))\n",
    "\n",
    "    if denominator == 0:\n",
    "        return np.nan  # Avoid division by zero\n",
    "\n",
    "    # Compute numerator\n",
    "    numerator = np.mean(np.square(actual - forecast))\n",
    "\n",
    "    return np.sqrt(numerator / denominator)"
   ]
  },
  {
   "cell_type": "markdown",
   "metadata": {},
   "source": [
    "## Helper Functions"
   ]
  },
  {
   "cell_type": "markdown",
   "metadata": {},
   "source": [
    "### Create test data frame"
   ]
  },
  {
   "cell_type": "code",
   "execution_count": 466,
   "metadata": {},
   "outputs": [],
   "source": [
    "def create_test_data_frame() -> pd.DataFrame:\n",
    "    if os.path.isfile(SETTING_TEST_DATA_FRAME_PATH):\n",
    "        print(f\"Test data frame already exists at {SETTING_TEST_DATA_FRAME_PATH}\")\n",
    "        test_df = pd.read_csv(SETTING_TEST_DATA_FRAME_PATH)\n",
    "        return test_df.copy()\n",
    "\n",
    "    if not os.path.isfile(SETTING_REVENUE_TEST_DATA_FRAME_PATH):\n",
    "        raise FileNotFoundError(\n",
    "            f\"Revenue test data frame not found at {SETTING_REVENUE_TEST_DATA_FRAME_PATH}.\"\n",
    "        )\n",
    "\n",
    "    revenue_test_df = pd.read_csv(SETTING_REVENUE_TEST_DATA_FRAME_PATH)\n",
    "\n",
    "    pivoted_revenue_test_df = revenue_test_df.pivot(\n",
    "        index=[\"date\", \"d\", \"weekday\"], columns=\"store_id\", values=\"revenue\"\n",
    "    ).reset_index()\n",
    "\n",
    "    pivoted_revenue_test_df.insert(0, \"id\", [(i + 1) for i in range(1941)])\n",
    "\n",
    "    pivoted_revenue_test_df.to_csv(SETTING_TEST_DATA_FRAME_PATH, index=False)\n",
    "\n",
    "    return pivoted_revenue_test_df.copy()"
   ]
  },
  {
   "cell_type": "markdown",
   "metadata": {},
   "source": [
    "### Read results"
   ]
  },
  {
   "cell_type": "code",
   "execution_count": 467,
   "metadata": {},
   "outputs": [],
   "source": [
    "def read_result(parent_directory: str) -> List[Result]:\n",
    "    # Check if the given path exists and is a directory\n",
    "    if not os.path.isdir(parent_directory):\n",
    "        raise NotADirectoryError(f\"Directory '{parent_directory}' is not found.\")\n",
    "\n",
    "    # Get a list of all subdirectories within the parent directory\n",
    "    member_subdirectories = [\n",
    "        d\n",
    "        for d in os.listdir(parent_directory)\n",
    "        if os.path.isdir(os.path.join(parent_directory, d))\n",
    "    ]\n",
    "\n",
    "    # Check if there are any subdirectories; if not, raise an error\n",
    "    if not member_subdirectories:\n",
    "        raise NotADirectoryError(\"Author subdirectories are not found.\")\n",
    "\n",
    "    result_list: List[Result] = []\n",
    "\n",
    "    for member in member_subdirectories:\n",
    "        result = Result(author=member, data_frame_list=[], metric_result_list=[])\n",
    "\n",
    "        member_path = os.path.join(parent_directory, member)\n",
    "\n",
    "        csv_files = [\n",
    "            f\n",
    "            for f in os.listdir(member_path)\n",
    "            if f.endswith(\".csv\") and os.path.isfile(os.path.join(member_path, f))\n",
    "        ]\n",
    "\n",
    "        for csv_file in csv_files:\n",
    "            data_frame = Data_Frame(name=csv_file, data_frame=pd.read_csv(csv_file))\n",
    "            result.data_frame_list.append(data_frame)\n",
    "\n",
    "        result_list.append(result)\n",
    "\n",
    "    return result_list"
   ]
  },
  {
   "cell_type": "markdown",
   "metadata": {},
   "source": [
    "### Evaluate results"
   ]
  },
  {
   "cell_type": "code",
   "execution_count": 468,
   "metadata": {},
   "outputs": [],
   "source": [
    "def evaluate(\n",
    "    evaluated_data_frame: pd.DataFrame,\n",
    "    test_data_frame: pd.DataFrame,\n",
    "    metric: Metric,\n",
    "    weight: np.ndarray = None,\n",
    ") -> float:\n",
    "    train = test_data_frame[test_data_frame[\"id\"] < SETTING_FIRST_FORECAST_DAY]\n",
    "    actual = test_data_frame[test_data_frame[\"id\"] >= SETTING_FIRST_FORECAST_DAY]\n",
    "\n",
    "    match metric:\n",
    "        case Metric.MASE:\n",
    "            value = np.mean(\n",
    "                np.array(\n",
    "                    [\n",
    "                        mase(\n",
    "                            train=train[state].to_numpy(),\n",
    "                            actual=actual[state].to_numpy(),\n",
    "                            forecast=evaluated_data_frame[state].to_numpy(),\n",
    "                        )\n",
    "                        for state in SETTING_STATES\n",
    "                    ]\n",
    "                )\n",
    "            )\n",
    "\n",
    "        case Metric.RMSSE:\n",
    "            value = np.mean(\n",
    "                np.array(\n",
    "                    [\n",
    "                        rmsse(\n",
    "                            train=train[state].to_numpy(),\n",
    "                            actual=actual[state].to_numpy(),\n",
    "                            forecast=evaluated_data_frame[state].to_numpy(),\n",
    "                        )\n",
    "                        for state in SETTING_STATES\n",
    "                    ]\n",
    "                )\n",
    "            )\n",
    "\n",
    "        case Metric.WMSSE:\n",
    "            if weight is None:\n",
    "                raise ValueError(\"'weight' must be an 1D array.\")\n",
    "\n",
    "            value = np.sum(\n",
    "                weight\n",
    "                * np.array(\n",
    "                    [\n",
    "                        rmsse(\n",
    "                            train=train[state].to_numpy(),\n",
    "                            actual=actual[state].to_numpy(),\n",
    "                            forecast=evaluated_data_frame[state].to_numpy(),\n",
    "                        )\n",
    "                        for state in SETTING_STATES\n",
    "                    ]\n",
    "                )\n",
    "            )\n",
    "\n",
    "    return value\n",
    "\n",
    "\n",
    "def evaluate_result(\n",
    "    result_list: List[Result],\n",
    "    test_data_frame: pd.DataFrame,\n",
    "    metric: Metric,\n",
    "    weight: np.ndarray = None,\n",
    "):\n",
    "    for result in result_list:\n",
    "        result.metric_result_list.extend(\n",
    "            [\n",
    "                MetricResult(\n",
    "                    data_frame_name=data_frame.name,\n",
    "                    metric=metric,\n",
    "                    value=evaluate(\n",
    "                        data_frame.data_frame, test_data_frame, metric, weight\n",
    "                    ),\n",
    "                )\n",
    "                for data_frame in result.data_frame_list\n",
    "            ]\n",
    "        )"
   ]
  },
  {
   "cell_type": "markdown",
   "metadata": {},
   "source": [
    "### Revenue by year"
   ]
  },
  {
   "cell_type": "code",
   "execution_count": 469,
   "metadata": {},
   "outputs": [],
   "source": [
    "def revenue_by_year(data_frame: pd.DataFrame, year: int = None):\n",
    "    if \"date\" not in data_frame.columns:\n",
    "        raise ValueError(\n",
    "            \"Invalid argument: The DataFrame must contain a 'date' column.\"\n",
    "        )\n",
    "\n",
    "    data_frame = data_frame.copy()\n",
    "\n",
    "    # Extract the year from the 'date' column and add it as a new column\n",
    "    data_frame[\"year\"] = pd.to_datetime(data_frame[\"date\"]).dt.year\n",
    "\n",
    "    # Drop some columns\n",
    "    data_frame = data_frame.drop(columns=[\"id\", \"date\", \"d\", \"weekday\"])\n",
    "\n",
    "    if year:\n",
    "        min_year = data_frame[\"year\"].min()\n",
    "        max_year = data_frame[\"year\"].max()\n",
    "        if year < min_year or year > max_year:\n",
    "            print(\n",
    "                f\"Invalid argument: Year {year} is out of range. Range: {min_year} - {max_year}.\"\n",
    "            )\n",
    "        else:\n",
    "            data_frame = data_frame[data_frame[\"year\"] == year]\n",
    "\n",
    "    # Group by the year and sum the revenue\n",
    "    revenue = data_frame.groupby(\"year\").sum().reset_index()\n",
    "\n",
    "    return revenue"
   ]
  },
  {
   "cell_type": "markdown",
   "metadata": {},
   "source": [
    "## Main Flow"
   ]
  },
  {
   "cell_type": "markdown",
   "metadata": {},
   "source": [
    "### Create train data frame"
   ]
  },
  {
   "cell_type": "code",
   "execution_count": 470,
   "metadata": {},
   "outputs": [
    {
     "name": "stdout",
     "output_type": "stream",
     "text": [
      "Test data frame already exists at test_data_frame.csv\n"
     ]
    }
   ],
   "source": [
    "train_df = create_test_data_frame()\n",
    "train_df = train_df[train_df[\"id\"] < SETTING_FIRST_FORECAST_DAY]"
   ]
  },
  {
   "cell_type": "code",
   "execution_count": 471,
   "metadata": {},
   "outputs": [
    {
     "data": {
      "application/vnd.microsoft.datawrangler.viewer.v0+json": {
       "columns": [
        {
         "name": "index",
         "rawType": "int64",
         "type": "integer"
        },
        {
         "name": "id",
         "rawType": "int64",
         "type": "integer"
        },
        {
         "name": "date",
         "rawType": "object",
         "type": "string"
        },
        {
         "name": "d",
         "rawType": "object",
         "type": "string"
        },
        {
         "name": "weekday",
         "rawType": "object",
         "type": "string"
        },
        {
         "name": "CA_1",
         "rawType": "float64",
         "type": "float"
        },
        {
         "name": "CA_2",
         "rawType": "float64",
         "type": "float"
        },
        {
         "name": "CA_3",
         "rawType": "float64",
         "type": "float"
        },
        {
         "name": "CA_4",
         "rawType": "float64",
         "type": "float"
        },
        {
         "name": "TX_1",
         "rawType": "float64",
         "type": "float"
        },
        {
         "name": "TX_2",
         "rawType": "float64",
         "type": "float"
        },
        {
         "name": "TX_3",
         "rawType": "float64",
         "type": "float"
        },
        {
         "name": "WI_1",
         "rawType": "float64",
         "type": "float"
        },
        {
         "name": "WI_2",
         "rawType": "float64",
         "type": "float"
        },
        {
         "name": "WI_3",
         "rawType": "float64",
         "type": "float"
        }
       ],
       "conversionMethod": "pd.DataFrame",
       "ref": "b49de0cd-d381-4abe-9f93-0556259d6d4f",
       "rows": [
        [
         "0",
         "1",
         "2011-01-29",
         "d_1",
         "Saturday",
         "10933.16",
         "9101.52",
         "11679.83",
         "4561.59",
         "6586.68",
         "9915.78",
         "7597.99",
         "6454.72",
         "5451.46",
         "9367.88"
        ],
        [
         "1",
         "2",
         "2011-01-30",
         "d_2",
         "Sunday",
         "9787.06",
         "8417.53",
         "12161.46",
         "4681.41",
         "6610.6",
         "9804.54",
         "7356.54",
         "5645.77",
         "4636.86",
         "9868.8"
        ],
        [
         "2",
         "3",
         "2011-01-31",
         "d_3",
         "Monday",
         "7201.38",
         "5320.51",
         "9123.86",
         "3637.98",
         "4551.97",
         "6651.16",
         "5406.7",
         "3640.12",
         "4621.58",
         "7551.65"
        ],
        [
         "3",
         "4",
         "2011-02-01",
         "d_4",
         "Tuesday",
         "7407.74",
         "5550.56",
         "10249.78",
         "3708.92",
         "5374.39",
         "6985.6",
         "5597.97",
         "2949.96",
         "5754.75",
         "7181.53"
        ],
        [
         "4",
         "5",
         "2011-02-02",
         "d_5",
         "Wednesday",
         "6566.12",
         "5229.72",
         "9538.65",
         "3841.14",
         "4347.07",
         "6039.05",
         "4069.74",
         "2.96",
         "2679.19",
         "4646.31"
        ],
        [
         "5",
         "6",
         "2011-02-03",
         "d_6",
         "Thursday",
         "7945.73",
         "5722.88",
         "10407.26",
         "3420.46",
         "6769.82",
         "8363.24",
         "6875.96",
         "4584.89",
         "5250.77",
         "10036.37"
        ],
        [
         "6",
         "7",
         "2011-02-04",
         "d_7",
         "Friday",
         "8546.76",
         "7099.03",
         "11640.09",
         "3965.84",
         "4435.84",
         "6608.13",
         "4960.6",
         "5925.37",
         "5552.65",
         "10054.75"
        ],
        [
         "7",
         "8",
         "2011-02-05",
         "d_8",
         "Saturday",
         "13375.4",
         "10396.81",
         "13721.66",
         "4990.9",
         "7226.66",
         "9818.03",
         "6918.25",
         "7852.61",
         "6342.72",
         "12804.71"
        ],
        [
         "8",
         "9",
         "2011-02-06",
         "d_9",
         "Sunday",
         "10591.43",
         "8288.25",
         "14462.15",
         "4714.09",
         "7866.75",
         "10130.28",
         "7555.79",
         "4030.75",
         "4772.57",
         "11085.5"
        ],
        [
         "9",
         "10",
         "2011-02-07",
         "d_10",
         "Monday",
         "7704.54",
         "5987.1",
         "11940.49",
         "3985.17",
         "5456.29",
         "7874.0",
         "5920.59",
         "3788.93",
         "4688.76",
         "7818.83"
        ],
        [
         "10",
         "11",
         "2011-02-08",
         "d_11",
         "Tuesday",
         "7848.65",
         "6006.15",
         "11286.13",
         "3633.39",
         "4458.54",
         "6799.66",
         "5406.49",
         "3578.48",
         "4024.12",
         "7837.78"
        ],
        [
         "11",
         "12",
         "2011-02-09",
         "d_12",
         "Wednesday",
         "6937.64",
         "5486.01",
         "10938.55",
         "3368.97",
         "5150.65",
         "6615.14",
         "4987.9",
         "3823.02",
         "4954.99",
         "8145.82"
        ],
        [
         "12",
         "13",
         "2011-02-10",
         "d_13",
         "Thursday",
         "7759.82",
         "6223.39",
         "12148.75",
         "3877.91",
         "5093.34",
         "6811.0",
         "4482.26",
         "3789.99",
         "4724.16",
         "7831.38"
        ],
        [
         "13",
         "14",
         "2011-02-11",
         "d_14",
         "Friday",
         "8589.23",
         "7580.03",
         "11778.01",
         "3862.11",
         "5740.67",
         "7871.46",
         "5614.91",
         "5706.64",
         "5518.13",
         "9722.92"
        ],
        [
         "14",
         "15",
         "2011-02-12",
         "d_15",
         "Saturday",
         "11516.6",
         "10513.28",
         "13604.53",
         "4219.47",
         "7846.17",
         "10695.95",
         "8229.49",
         "7081.01",
         "6007.37",
         "12871.03"
        ],
        [
         "15",
         "16",
         "2011-02-13",
         "d_16",
         "Sunday",
         "12010.84",
         "10703.71",
         "15408.56",
         "5455.49",
         "9367.68",
         "13496.41",
         "9508.51",
         "5930.25",
         "6153.61",
         "12728.77"
        ],
        [
         "16",
         "17",
         "2011-02-14",
         "d_17",
         "Monday",
         "7357.19",
         "5217.48",
         "9192.63",
         "3460.92",
         "5250.06",
         "7514.52",
         "5862.15",
         "4233.86",
         "3930.46",
         "7709.62"
        ],
        [
         "17",
         "18",
         "2011-02-15",
         "d_18",
         "Tuesday",
         "6376.43",
         "5559.33",
         "9894.83",
         "3986.9",
         "5899.28",
         "7941.27",
         "6378.15",
         "3735.15",
         "5357.41",
         "9149.56"
        ],
        [
         "18",
         "19",
         "2011-02-16",
         "d_19",
         "Wednesday",
         "5993.4",
         "5421.54",
         "9895.3",
         "3528.21",
         "5348.45",
         "7306.55",
         "5571.37",
         "3898.83",
         "4341.5",
         "7680.44"
        ],
        [
         "19",
         "20",
         "2011-02-17",
         "d_20",
         "Thursday",
         "5798.32",
         "5209.19",
         "8903.18",
         "3168.0",
         "5121.75",
         "6780.45",
         "5514.03",
         "4260.88",
         "4684.15",
         "7749.04"
        ],
        [
         "20",
         "21",
         "2011-02-18",
         "d_21",
         "Friday",
         "8667.37",
         "6704.45",
         "9306.4",
         "4241.65",
         "5677.73",
         "7511.26",
         "6084.96",
         "5325.99",
         "5103.2",
         "8844.98"
        ],
        [
         "21",
         "22",
         "2011-02-19",
         "d_22",
         "Saturday",
         "11221.92",
         "9046.66",
         "13070.74",
         "4712.79",
         "7407.07",
         "10549.29",
         "7965.51",
         "7269.88",
         "5655.45",
         "10751.52"
        ],
        [
         "22",
         "23",
         "2011-02-20",
         "d_23",
         "Sunday",
         "10639.78",
         "9486.79",
         "13522.98",
         "4452.87",
         "7528.32",
         "11312.32",
         "8137.24",
         "3804.05",
         "4378.82",
         "8106.27"
        ],
        [
         "23",
         "24",
         "2011-02-21",
         "d_24",
         "Monday",
         "8847.26",
         "7926.37",
         "12338.05",
         "4425.69",
         "5311.86",
         "8108.14",
         "5941.78",
         "2529.23",
         "3739.07",
         "6380.12"
        ],
        [
         "24",
         "25",
         "2011-02-22",
         "d_25",
         "Tuesday",
         "6355.31",
         "5394.3",
         "9707.96",
         "3528.56",
         "5088.61",
         "7175.33",
         "5237.19",
         "3084.69",
         "3454.59",
         "6354.15"
        ],
        [
         "25",
         "26",
         "2011-02-23",
         "d_26",
         "Wednesday",
         "6197.29",
         "5550.77",
         "8883.16",
         "3555.49",
         "4414.97",
         "6120.26",
         "5161.41",
         "3705.03",
         "4622.56",
         "6859.33"
        ],
        [
         "26",
         "27",
         "2011-02-24",
         "d_27",
         "Thursday",
         "5991.66",
         "4855.61",
         "8966.16",
         "3090.91",
         "5122.85",
         "6642.92",
         "4859.74",
         "3935.63",
         "4119.24",
         "6401.62"
        ],
        [
         "27",
         "28",
         "2011-02-25",
         "d_28",
         "Friday",
         "7513.57",
         "6354.13",
         "10104.59",
         "3781.53",
         "4890.25",
         "6920.27",
         "5175.12",
         "5156.45",
         "4198.68",
         "7682.28"
        ],
        [
         "28",
         "29",
         "2011-02-26",
         "d_29",
         "Saturday",
         "9827.54",
         "9773.58",
         "13527.7",
         "4511.62",
         "6909.7300000000005",
         "10042.35",
         "6586.89",
         "6327.69",
         "5327.42",
         "9004.97"
        ],
        [
         "29",
         "30",
         "2011-02-27",
         "d_30",
         "Sunday",
         "9947.56",
         "8389.28",
         "12572.61",
         "4692.87",
         "7063.87",
         "10532.49",
         "7314.1",
         "5236.99",
         "4394.63",
         "9306.85"
        ],
        [
         "30",
         "31",
         "2011-02-28",
         "d_31",
         "Monday",
         "6152.81",
         "5522.2",
         "10293.09",
         "3769.12",
         "5242.16",
         "7381.18",
         "5429.12",
         "4040.03",
         "4118.63",
         "6846.32"
        ],
        [
         "31",
         "32",
         "2011-03-01",
         "d_32",
         "Tuesday",
         "7105.39",
         "5510.73",
         "10659.85",
         "3903.39",
         "5096.65",
         "8150.36",
         "5674.71",
         "4122.21",
         "4552.36",
         "7764.53"
        ],
        [
         "32",
         "33",
         "2011-03-02",
         "d_33",
         "Wednesday",
         "6679.9400000000005",
         "5575.73",
         "10591.43",
         "3624.16",
         "5002.81",
         "6845.14",
         "5001.84",
         "3553.84",
         "4529.37",
         "8592.28"
        ],
        [
         "33",
         "34",
         "2011-03-03",
         "d_34",
         "Thursday",
         "7233.0",
         "6160.62",
         "10878.99",
         "3742.89",
         "5034.9800000000005",
         "7195.16",
         "5728.4",
         "4091.21",
         "5216.52",
         "9236.21"
        ],
        [
         "34",
         "35",
         "2011-03-04",
         "d_35",
         "Friday",
         "8303.6",
         "6297.09",
         "10436.19",
         "4142.97",
         "4649.03",
         "7403.22",
         "5583.88",
         "4476.08",
         "4531.73",
         "8196.77"
        ],
        [
         "35",
         "36",
         "2011-03-05",
         "d_36",
         "Saturday",
         "10823.55",
         "9888.36",
         "13811.14",
         "4565.52",
         "7115.14",
         "10224.45",
         "7862.69",
         "5435.49",
         "5566.16",
         "10951.26"
        ],
        [
         "36",
         "37",
         "2011-03-06",
         "d_37",
         "Sunday",
         "12041.49",
         "10155.66",
         "16542.05",
         "5628.63",
         "7985.27",
         "12249.42",
         "7803.3",
         "5413.84",
         "5083.65",
         "11402.09"
        ],
        [
         "37",
         "38",
         "2011-03-07",
         "d_38",
         "Monday",
         "8182.63",
         "5738.98",
         "11756.0",
         "4245.24",
         "6145.66",
         "8404.36",
         "6369.02",
         "3848.77",
         "4487.4",
         "7805.78"
        ],
        [
         "38",
         "39",
         "2011-03-08",
         "d_39",
         "Tuesday",
         "7624.81",
         "5441.57",
         "10863.58",
         "3925.97",
         "4949.96",
         "6881.1900000000005",
         "5347.57",
         "3697.88",
         "4811.78",
         "7701.52"
        ],
        [
         "39",
         "40",
         "2011-03-09",
         "d_40",
         "Wednesday",
         "7082.99",
         "5593.31",
         "9776.68",
         "3527.26",
         "5855.31",
         "7159.33",
         "5474.74",
         "3093.65",
         "3957.53",
         "7251.02"
        ],
        [
         "40",
         "41",
         "2011-03-10",
         "d_41",
         "Thursday",
         "6738.09",
         "5759.67",
         "10846.68",
         "3895.54",
         "4851.22",
         "6892.01",
         "5191.39",
         "4085.65",
         "4279.51",
         "7564.97"
        ],
        [
         "41",
         "42",
         "2011-03-11",
         "d_42",
         "Friday",
         "8580.3",
         "7232.88",
         "10719.77",
         "4027.85",
         "5404.5",
         "7922.74",
         "5846.58",
         "5165.46",
         "4335.5",
         "8880.25"
        ],
        [
         "42",
         "43",
         "2011-03-12",
         "d_43",
         "Saturday",
         "10785.64",
         "9566.6",
         "12864.32",
         "4651.86",
         "7474.39",
         "9901.75",
         "7185.81",
         "6145.43",
         "5936.82",
         "11151.39"
        ],
        [
         "43",
         "44",
         "2011-03-13",
         "d_44",
         "Sunday",
         "10987.76",
         "9675.59",
         "14319.84",
         "4836.76",
         "7635.31",
         "10981.61",
         "7759.09",
         "5158.6",
         "4562.61",
         "10062.48"
        ],
        [
         "44",
         "45",
         "2011-03-14",
         "d_45",
         "Monday",
         "7551.39",
         "5788.02",
         "11284.29",
         "4227.43",
         "5822.35",
         "8378.45",
         "5912.21",
         "3658.69",
         "4439.99",
         "8779.12"
        ],
        [
         "45",
         "46",
         "2011-03-15",
         "d_46",
         "Tuesday",
         "6341.98",
         "5327.71",
         "9877.19",
         "3688.34",
         "6514.98",
         "7781.34",
         "5918.43",
         "4079.82",
         "4534.93",
         "8487.35"
        ],
        [
         "46",
         "47",
         "2011-03-16",
         "d_47",
         "Wednesday",
         "6861.56",
         "5724.27",
         "10111.95",
         "4017.91",
         "5116.57",
         "6934.07",
         "5728.45",
         "4293.6",
         "4218.69",
         "7069.26"
        ],
        [
         "47",
         "48",
         "2011-03-17",
         "d_48",
         "Thursday",
         "6663.34",
         "5935.47",
         "9768.25",
         "3481.41",
         "5439.55",
         "7219.36",
         "5111.26",
         "3571.52",
         "3786.34",
         "6532.84"
        ],
        [
         "48",
         "49",
         "2011-03-18",
         "d_49",
         "Friday",
         "7796.06",
         "6472.51",
         "9633.37",
         "4135.52",
         "5725.64",
         "7815.41",
         "5718.27",
         "4956.81",
         "4442.21",
         "8151.34"
        ],
        [
         "49",
         "50",
         "2011-03-19",
         "d_50",
         "Saturday",
         "11266.27",
         "10365.8",
         "14240.72",
         "4518.76",
         "6486.11",
         "9461.14",
         "6117.13",
         "6262.01",
         "5199.64",
         "9529.96"
        ]
       ],
       "shape": {
        "columns": 14,
        "rows": 1913
       }
      },
      "text/html": [
       "<div>\n",
       "<style scoped>\n",
       "    .dataframe tbody tr th:only-of-type {\n",
       "        vertical-align: middle;\n",
       "    }\n",
       "\n",
       "    .dataframe tbody tr th {\n",
       "        vertical-align: top;\n",
       "    }\n",
       "\n",
       "    .dataframe thead th {\n",
       "        text-align: right;\n",
       "    }\n",
       "</style>\n",
       "<table border=\"1\" class=\"dataframe\">\n",
       "  <thead>\n",
       "    <tr style=\"text-align: right;\">\n",
       "      <th></th>\n",
       "      <th>id</th>\n",
       "      <th>date</th>\n",
       "      <th>d</th>\n",
       "      <th>weekday</th>\n",
       "      <th>CA_1</th>\n",
       "      <th>CA_2</th>\n",
       "      <th>CA_3</th>\n",
       "      <th>CA_4</th>\n",
       "      <th>TX_1</th>\n",
       "      <th>TX_2</th>\n",
       "      <th>TX_3</th>\n",
       "      <th>WI_1</th>\n",
       "      <th>WI_2</th>\n",
       "      <th>WI_3</th>\n",
       "    </tr>\n",
       "  </thead>\n",
       "  <tbody>\n",
       "    <tr>\n",
       "      <th>0</th>\n",
       "      <td>1</td>\n",
       "      <td>2011-01-29</td>\n",
       "      <td>d_1</td>\n",
       "      <td>Saturday</td>\n",
       "      <td>10933.16</td>\n",
       "      <td>9101.52</td>\n",
       "      <td>11679.83</td>\n",
       "      <td>4561.59</td>\n",
       "      <td>6586.68</td>\n",
       "      <td>9915.78</td>\n",
       "      <td>7597.99</td>\n",
       "      <td>6454.72</td>\n",
       "      <td>5451.46</td>\n",
       "      <td>9367.88</td>\n",
       "    </tr>\n",
       "    <tr>\n",
       "      <th>1</th>\n",
       "      <td>2</td>\n",
       "      <td>2011-01-30</td>\n",
       "      <td>d_2</td>\n",
       "      <td>Sunday</td>\n",
       "      <td>9787.06</td>\n",
       "      <td>8417.53</td>\n",
       "      <td>12161.46</td>\n",
       "      <td>4681.41</td>\n",
       "      <td>6610.60</td>\n",
       "      <td>9804.54</td>\n",
       "      <td>7356.54</td>\n",
       "      <td>5645.77</td>\n",
       "      <td>4636.86</td>\n",
       "      <td>9868.80</td>\n",
       "    </tr>\n",
       "    <tr>\n",
       "      <th>2</th>\n",
       "      <td>3</td>\n",
       "      <td>2011-01-31</td>\n",
       "      <td>d_3</td>\n",
       "      <td>Monday</td>\n",
       "      <td>7201.38</td>\n",
       "      <td>5320.51</td>\n",
       "      <td>9123.86</td>\n",
       "      <td>3637.98</td>\n",
       "      <td>4551.97</td>\n",
       "      <td>6651.16</td>\n",
       "      <td>5406.70</td>\n",
       "      <td>3640.12</td>\n",
       "      <td>4621.58</td>\n",
       "      <td>7551.65</td>\n",
       "    </tr>\n",
       "    <tr>\n",
       "      <th>3</th>\n",
       "      <td>4</td>\n",
       "      <td>2011-02-01</td>\n",
       "      <td>d_4</td>\n",
       "      <td>Tuesday</td>\n",
       "      <td>7407.74</td>\n",
       "      <td>5550.56</td>\n",
       "      <td>10249.78</td>\n",
       "      <td>3708.92</td>\n",
       "      <td>5374.39</td>\n",
       "      <td>6985.60</td>\n",
       "      <td>5597.97</td>\n",
       "      <td>2949.96</td>\n",
       "      <td>5754.75</td>\n",
       "      <td>7181.53</td>\n",
       "    </tr>\n",
       "    <tr>\n",
       "      <th>4</th>\n",
       "      <td>5</td>\n",
       "      <td>2011-02-02</td>\n",
       "      <td>d_5</td>\n",
       "      <td>Wednesday</td>\n",
       "      <td>6566.12</td>\n",
       "      <td>5229.72</td>\n",
       "      <td>9538.65</td>\n",
       "      <td>3841.14</td>\n",
       "      <td>4347.07</td>\n",
       "      <td>6039.05</td>\n",
       "      <td>4069.74</td>\n",
       "      <td>2.96</td>\n",
       "      <td>2679.19</td>\n",
       "      <td>4646.31</td>\n",
       "    </tr>\n",
       "    <tr>\n",
       "      <th>...</th>\n",
       "      <td>...</td>\n",
       "      <td>...</td>\n",
       "      <td>...</td>\n",
       "      <td>...</td>\n",
       "      <td>...</td>\n",
       "      <td>...</td>\n",
       "      <td>...</td>\n",
       "      <td>...</td>\n",
       "      <td>...</td>\n",
       "      <td>...</td>\n",
       "      <td>...</td>\n",
       "      <td>...</td>\n",
       "      <td>...</td>\n",
       "      <td>...</td>\n",
       "    </tr>\n",
       "    <tr>\n",
       "      <th>1908</th>\n",
       "      <td>1909</td>\n",
       "      <td>2016-04-20</td>\n",
       "      <td>d_1909</td>\n",
       "      <td>Wednesday</td>\n",
       "      <td>12347.85</td>\n",
       "      <td>11564.22</td>\n",
       "      <td>18113.40</td>\n",
       "      <td>7978.28</td>\n",
       "      <td>8950.16</td>\n",
       "      <td>11278.96</td>\n",
       "      <td>11092.53</td>\n",
       "      <td>9949.23</td>\n",
       "      <td>12212.21</td>\n",
       "      <td>9341.89</td>\n",
       "    </tr>\n",
       "    <tr>\n",
       "      <th>1909</th>\n",
       "      <td>1910</td>\n",
       "      <td>2016-04-21</td>\n",
       "      <td>d_1910</td>\n",
       "      <td>Thursday</td>\n",
       "      <td>11687.99</td>\n",
       "      <td>10746.54</td>\n",
       "      <td>16230.51</td>\n",
       "      <td>8169.58</td>\n",
       "      <td>8260.00</td>\n",
       "      <td>11409.73</td>\n",
       "      <td>11535.43</td>\n",
       "      <td>10361.39</td>\n",
       "      <td>12796.87</td>\n",
       "      <td>9212.23</td>\n",
       "    </tr>\n",
       "    <tr>\n",
       "      <th>1910</th>\n",
       "      <td>1911</td>\n",
       "      <td>2016-04-22</td>\n",
       "      <td>d_1911</td>\n",
       "      <td>Friday</td>\n",
       "      <td>14205.08</td>\n",
       "      <td>14654.14</td>\n",
       "      <td>18491.01</td>\n",
       "      <td>8301.77</td>\n",
       "      <td>9499.88</td>\n",
       "      <td>12494.57</td>\n",
       "      <td>11889.90</td>\n",
       "      <td>12292.56</td>\n",
       "      <td>14251.83</td>\n",
       "      <td>10959.56</td>\n",
       "    </tr>\n",
       "    <tr>\n",
       "      <th>1911</th>\n",
       "      <td>1912</td>\n",
       "      <td>2016-04-23</td>\n",
       "      <td>d_1912</td>\n",
       "      <td>Saturday</td>\n",
       "      <td>18317.93</td>\n",
       "      <td>19846.12</td>\n",
       "      <td>24861.53</td>\n",
       "      <td>9911.55</td>\n",
       "      <td>11373.50</td>\n",
       "      <td>14575.46</td>\n",
       "      <td>13093.63</td>\n",
       "      <td>14332.14</td>\n",
       "      <td>15761.02</td>\n",
       "      <td>13120.79</td>\n",
       "    </tr>\n",
       "    <tr>\n",
       "      <th>1912</th>\n",
       "      <td>1913</td>\n",
       "      <td>2016-04-24</td>\n",
       "      <td>d_1913</td>\n",
       "      <td>Sunday</td>\n",
       "      <td>20029.72</td>\n",
       "      <td>20513.38</td>\n",
       "      <td>26999.77</td>\n",
       "      <td>10951.73</td>\n",
       "      <td>13011.24</td>\n",
       "      <td>14696.53</td>\n",
       "      <td>13903.61</td>\n",
       "      <td>14858.97</td>\n",
       "      <td>15066.13</td>\n",
       "      <td>12892.99</td>\n",
       "    </tr>\n",
       "  </tbody>\n",
       "</table>\n",
       "<p>1913 rows × 14 columns</p>\n",
       "</div>"
      ],
      "text/plain": [
       "        id        date       d    weekday      CA_1      CA_2      CA_3  \\\n",
       "0        1  2011-01-29     d_1   Saturday  10933.16   9101.52  11679.83   \n",
       "1        2  2011-01-30     d_2     Sunday   9787.06   8417.53  12161.46   \n",
       "2        3  2011-01-31     d_3     Monday   7201.38   5320.51   9123.86   \n",
       "3        4  2011-02-01     d_4    Tuesday   7407.74   5550.56  10249.78   \n",
       "4        5  2011-02-02     d_5  Wednesday   6566.12   5229.72   9538.65   \n",
       "...    ...         ...     ...        ...       ...       ...       ...   \n",
       "1908  1909  2016-04-20  d_1909  Wednesday  12347.85  11564.22  18113.40   \n",
       "1909  1910  2016-04-21  d_1910   Thursday  11687.99  10746.54  16230.51   \n",
       "1910  1911  2016-04-22  d_1911     Friday  14205.08  14654.14  18491.01   \n",
       "1911  1912  2016-04-23  d_1912   Saturday  18317.93  19846.12  24861.53   \n",
       "1912  1913  2016-04-24  d_1913     Sunday  20029.72  20513.38  26999.77   \n",
       "\n",
       "          CA_4      TX_1      TX_2      TX_3      WI_1      WI_2      WI_3  \n",
       "0      4561.59   6586.68   9915.78   7597.99   6454.72   5451.46   9367.88  \n",
       "1      4681.41   6610.60   9804.54   7356.54   5645.77   4636.86   9868.80  \n",
       "2      3637.98   4551.97   6651.16   5406.70   3640.12   4621.58   7551.65  \n",
       "3      3708.92   5374.39   6985.60   5597.97   2949.96   5754.75   7181.53  \n",
       "4      3841.14   4347.07   6039.05   4069.74      2.96   2679.19   4646.31  \n",
       "...        ...       ...       ...       ...       ...       ...       ...  \n",
       "1908   7978.28   8950.16  11278.96  11092.53   9949.23  12212.21   9341.89  \n",
       "1909   8169.58   8260.00  11409.73  11535.43  10361.39  12796.87   9212.23  \n",
       "1910   8301.77   9499.88  12494.57  11889.90  12292.56  14251.83  10959.56  \n",
       "1911   9911.55  11373.50  14575.46  13093.63  14332.14  15761.02  13120.79  \n",
       "1912  10951.73  13011.24  14696.53  13903.61  14858.97  15066.13  12892.99  \n",
       "\n",
       "[1913 rows x 14 columns]"
      ]
     },
     "execution_count": 471,
     "metadata": {},
     "output_type": "execute_result"
    }
   ],
   "source": [
    "train_df"
   ]
  },
  {
   "cell_type": "markdown",
   "metadata": {},
   "source": [
    "### Create test data frame"
   ]
  },
  {
   "cell_type": "code",
   "execution_count": 472,
   "metadata": {},
   "outputs": [
    {
     "name": "stdout",
     "output_type": "stream",
     "text": [
      "Test data frame already exists at test_data_frame.csv\n"
     ]
    }
   ],
   "source": [
    "test_df = create_test_data_frame()"
   ]
  },
  {
   "cell_type": "code",
   "execution_count": 473,
   "metadata": {},
   "outputs": [
    {
     "data": {
      "application/vnd.microsoft.datawrangler.viewer.v0+json": {
       "columns": [
        {
         "name": "index",
         "rawType": "int64",
         "type": "integer"
        },
        {
         "name": "id",
         "rawType": "int64",
         "type": "integer"
        },
        {
         "name": "date",
         "rawType": "object",
         "type": "string"
        },
        {
         "name": "d",
         "rawType": "object",
         "type": "string"
        },
        {
         "name": "weekday",
         "rawType": "object",
         "type": "string"
        },
        {
         "name": "CA_1",
         "rawType": "float64",
         "type": "float"
        },
        {
         "name": "CA_2",
         "rawType": "float64",
         "type": "float"
        },
        {
         "name": "CA_3",
         "rawType": "float64",
         "type": "float"
        },
        {
         "name": "CA_4",
         "rawType": "float64",
         "type": "float"
        },
        {
         "name": "TX_1",
         "rawType": "float64",
         "type": "float"
        },
        {
         "name": "TX_2",
         "rawType": "float64",
         "type": "float"
        },
        {
         "name": "TX_3",
         "rawType": "float64",
         "type": "float"
        },
        {
         "name": "WI_1",
         "rawType": "float64",
         "type": "float"
        },
        {
         "name": "WI_2",
         "rawType": "float64",
         "type": "float"
        },
        {
         "name": "WI_3",
         "rawType": "float64",
         "type": "float"
        }
       ],
       "conversionMethod": "pd.DataFrame",
       "ref": "517e6361-7546-461f-9138-1d583c66b6ca",
       "rows": [
        [
         "0",
         "1",
         "2011-01-29",
         "d_1",
         "Saturday",
         "10933.16",
         "9101.52",
         "11679.83",
         "4561.59",
         "6586.68",
         "9915.78",
         "7597.99",
         "6454.72",
         "5451.46",
         "9367.88"
        ],
        [
         "1",
         "2",
         "2011-01-30",
         "d_2",
         "Sunday",
         "9787.06",
         "8417.53",
         "12161.46",
         "4681.41",
         "6610.6",
         "9804.54",
         "7356.54",
         "5645.77",
         "4636.86",
         "9868.8"
        ],
        [
         "2",
         "3",
         "2011-01-31",
         "d_3",
         "Monday",
         "7201.38",
         "5320.51",
         "9123.86",
         "3637.98",
         "4551.97",
         "6651.16",
         "5406.7",
         "3640.12",
         "4621.58",
         "7551.65"
        ],
        [
         "3",
         "4",
         "2011-02-01",
         "d_4",
         "Tuesday",
         "7407.74",
         "5550.56",
         "10249.78",
         "3708.92",
         "5374.39",
         "6985.6",
         "5597.97",
         "2949.96",
         "5754.75",
         "7181.53"
        ],
        [
         "4",
         "5",
         "2011-02-02",
         "d_5",
         "Wednesday",
         "6566.12",
         "5229.72",
         "9538.65",
         "3841.14",
         "4347.07",
         "6039.05",
         "4069.74",
         "2.96",
         "2679.19",
         "4646.31"
        ],
        [
         "5",
         "6",
         "2011-02-03",
         "d_6",
         "Thursday",
         "7945.73",
         "5722.88",
         "10407.26",
         "3420.46",
         "6769.82",
         "8363.24",
         "6875.96",
         "4584.89",
         "5250.77",
         "10036.37"
        ],
        [
         "6",
         "7",
         "2011-02-04",
         "d_7",
         "Friday",
         "8546.76",
         "7099.03",
         "11640.09",
         "3965.84",
         "4435.84",
         "6608.13",
         "4960.6",
         "5925.37",
         "5552.65",
         "10054.75"
        ],
        [
         "7",
         "8",
         "2011-02-05",
         "d_8",
         "Saturday",
         "13375.4",
         "10396.81",
         "13721.66",
         "4990.9",
         "7226.66",
         "9818.03",
         "6918.25",
         "7852.61",
         "6342.72",
         "12804.71"
        ],
        [
         "8",
         "9",
         "2011-02-06",
         "d_9",
         "Sunday",
         "10591.43",
         "8288.25",
         "14462.15",
         "4714.09",
         "7866.75",
         "10130.28",
         "7555.79",
         "4030.75",
         "4772.57",
         "11085.5"
        ],
        [
         "9",
         "10",
         "2011-02-07",
         "d_10",
         "Monday",
         "7704.54",
         "5987.1",
         "11940.49",
         "3985.17",
         "5456.29",
         "7874.0",
         "5920.59",
         "3788.93",
         "4688.76",
         "7818.83"
        ],
        [
         "10",
         "11",
         "2011-02-08",
         "d_11",
         "Tuesday",
         "7848.65",
         "6006.15",
         "11286.13",
         "3633.39",
         "4458.54",
         "6799.66",
         "5406.49",
         "3578.48",
         "4024.12",
         "7837.78"
        ],
        [
         "11",
         "12",
         "2011-02-09",
         "d_12",
         "Wednesday",
         "6937.64",
         "5486.01",
         "10938.55",
         "3368.97",
         "5150.65",
         "6615.14",
         "4987.9",
         "3823.02",
         "4954.99",
         "8145.82"
        ],
        [
         "12",
         "13",
         "2011-02-10",
         "d_13",
         "Thursday",
         "7759.82",
         "6223.39",
         "12148.75",
         "3877.91",
         "5093.34",
         "6811.0",
         "4482.26",
         "3789.99",
         "4724.16",
         "7831.38"
        ],
        [
         "13",
         "14",
         "2011-02-11",
         "d_14",
         "Friday",
         "8589.23",
         "7580.03",
         "11778.01",
         "3862.11",
         "5740.67",
         "7871.46",
         "5614.91",
         "5706.64",
         "5518.13",
         "9722.92"
        ],
        [
         "14",
         "15",
         "2011-02-12",
         "d_15",
         "Saturday",
         "11516.6",
         "10513.28",
         "13604.53",
         "4219.47",
         "7846.17",
         "10695.95",
         "8229.49",
         "7081.01",
         "6007.37",
         "12871.03"
        ],
        [
         "15",
         "16",
         "2011-02-13",
         "d_16",
         "Sunday",
         "12010.84",
         "10703.71",
         "15408.56",
         "5455.49",
         "9367.68",
         "13496.41",
         "9508.51",
         "5930.25",
         "6153.61",
         "12728.77"
        ],
        [
         "16",
         "17",
         "2011-02-14",
         "d_17",
         "Monday",
         "7357.19",
         "5217.48",
         "9192.63",
         "3460.92",
         "5250.06",
         "7514.52",
         "5862.15",
         "4233.86",
         "3930.46",
         "7709.62"
        ],
        [
         "17",
         "18",
         "2011-02-15",
         "d_18",
         "Tuesday",
         "6376.43",
         "5559.33",
         "9894.83",
         "3986.9",
         "5899.28",
         "7941.27",
         "6378.15",
         "3735.15",
         "5357.41",
         "9149.56"
        ],
        [
         "18",
         "19",
         "2011-02-16",
         "d_19",
         "Wednesday",
         "5993.4",
         "5421.54",
         "9895.3",
         "3528.21",
         "5348.45",
         "7306.55",
         "5571.37",
         "3898.83",
         "4341.5",
         "7680.44"
        ],
        [
         "19",
         "20",
         "2011-02-17",
         "d_20",
         "Thursday",
         "5798.32",
         "5209.19",
         "8903.18",
         "3168.0",
         "5121.75",
         "6780.45",
         "5514.03",
         "4260.88",
         "4684.15",
         "7749.04"
        ],
        [
         "20",
         "21",
         "2011-02-18",
         "d_21",
         "Friday",
         "8667.37",
         "6704.45",
         "9306.4",
         "4241.65",
         "5677.73",
         "7511.26",
         "6084.96",
         "5325.99",
         "5103.2",
         "8844.98"
        ],
        [
         "21",
         "22",
         "2011-02-19",
         "d_22",
         "Saturday",
         "11221.92",
         "9046.66",
         "13070.74",
         "4712.79",
         "7407.07",
         "10549.29",
         "7965.51",
         "7269.88",
         "5655.45",
         "10751.52"
        ],
        [
         "22",
         "23",
         "2011-02-20",
         "d_23",
         "Sunday",
         "10639.78",
         "9486.79",
         "13522.98",
         "4452.87",
         "7528.32",
         "11312.32",
         "8137.24",
         "3804.05",
         "4378.82",
         "8106.27"
        ],
        [
         "23",
         "24",
         "2011-02-21",
         "d_24",
         "Monday",
         "8847.26",
         "7926.37",
         "12338.05",
         "4425.69",
         "5311.86",
         "8108.14",
         "5941.78",
         "2529.23",
         "3739.07",
         "6380.12"
        ],
        [
         "24",
         "25",
         "2011-02-22",
         "d_25",
         "Tuesday",
         "6355.31",
         "5394.3",
         "9707.96",
         "3528.56",
         "5088.61",
         "7175.33",
         "5237.19",
         "3084.69",
         "3454.59",
         "6354.15"
        ],
        [
         "25",
         "26",
         "2011-02-23",
         "d_26",
         "Wednesday",
         "6197.29",
         "5550.77",
         "8883.16",
         "3555.49",
         "4414.97",
         "6120.26",
         "5161.41",
         "3705.03",
         "4622.56",
         "6859.33"
        ],
        [
         "26",
         "27",
         "2011-02-24",
         "d_27",
         "Thursday",
         "5991.66",
         "4855.61",
         "8966.16",
         "3090.91",
         "5122.85",
         "6642.92",
         "4859.74",
         "3935.63",
         "4119.24",
         "6401.62"
        ],
        [
         "27",
         "28",
         "2011-02-25",
         "d_28",
         "Friday",
         "7513.57",
         "6354.13",
         "10104.59",
         "3781.53",
         "4890.25",
         "6920.27",
         "5175.12",
         "5156.45",
         "4198.68",
         "7682.28"
        ],
        [
         "28",
         "29",
         "2011-02-26",
         "d_29",
         "Saturday",
         "9827.54",
         "9773.58",
         "13527.7",
         "4511.62",
         "6909.7300000000005",
         "10042.35",
         "6586.89",
         "6327.69",
         "5327.42",
         "9004.97"
        ],
        [
         "29",
         "30",
         "2011-02-27",
         "d_30",
         "Sunday",
         "9947.56",
         "8389.28",
         "12572.61",
         "4692.87",
         "7063.87",
         "10532.49",
         "7314.1",
         "5236.99",
         "4394.63",
         "9306.85"
        ],
        [
         "30",
         "31",
         "2011-02-28",
         "d_31",
         "Monday",
         "6152.81",
         "5522.2",
         "10293.09",
         "3769.12",
         "5242.16",
         "7381.18",
         "5429.12",
         "4040.03",
         "4118.63",
         "6846.32"
        ],
        [
         "31",
         "32",
         "2011-03-01",
         "d_32",
         "Tuesday",
         "7105.39",
         "5510.73",
         "10659.85",
         "3903.39",
         "5096.65",
         "8150.36",
         "5674.71",
         "4122.21",
         "4552.36",
         "7764.53"
        ],
        [
         "32",
         "33",
         "2011-03-02",
         "d_33",
         "Wednesday",
         "6679.9400000000005",
         "5575.73",
         "10591.43",
         "3624.16",
         "5002.81",
         "6845.14",
         "5001.84",
         "3553.84",
         "4529.37",
         "8592.28"
        ],
        [
         "33",
         "34",
         "2011-03-03",
         "d_34",
         "Thursday",
         "7233.0",
         "6160.62",
         "10878.99",
         "3742.89",
         "5034.9800000000005",
         "7195.16",
         "5728.4",
         "4091.21",
         "5216.52",
         "9236.21"
        ],
        [
         "34",
         "35",
         "2011-03-04",
         "d_35",
         "Friday",
         "8303.6",
         "6297.09",
         "10436.19",
         "4142.97",
         "4649.03",
         "7403.22",
         "5583.88",
         "4476.08",
         "4531.73",
         "8196.77"
        ],
        [
         "35",
         "36",
         "2011-03-05",
         "d_36",
         "Saturday",
         "10823.55",
         "9888.36",
         "13811.14",
         "4565.52",
         "7115.14",
         "10224.45",
         "7862.69",
         "5435.49",
         "5566.16",
         "10951.26"
        ],
        [
         "36",
         "37",
         "2011-03-06",
         "d_37",
         "Sunday",
         "12041.49",
         "10155.66",
         "16542.05",
         "5628.63",
         "7985.27",
         "12249.42",
         "7803.3",
         "5413.84",
         "5083.65",
         "11402.09"
        ],
        [
         "37",
         "38",
         "2011-03-07",
         "d_38",
         "Monday",
         "8182.63",
         "5738.98",
         "11756.0",
         "4245.24",
         "6145.66",
         "8404.36",
         "6369.02",
         "3848.77",
         "4487.4",
         "7805.78"
        ],
        [
         "38",
         "39",
         "2011-03-08",
         "d_39",
         "Tuesday",
         "7624.81",
         "5441.57",
         "10863.58",
         "3925.97",
         "4949.96",
         "6881.1900000000005",
         "5347.57",
         "3697.88",
         "4811.78",
         "7701.52"
        ],
        [
         "39",
         "40",
         "2011-03-09",
         "d_40",
         "Wednesday",
         "7082.99",
         "5593.31",
         "9776.68",
         "3527.26",
         "5855.31",
         "7159.33",
         "5474.74",
         "3093.65",
         "3957.53",
         "7251.02"
        ],
        [
         "40",
         "41",
         "2011-03-10",
         "d_41",
         "Thursday",
         "6738.09",
         "5759.67",
         "10846.68",
         "3895.54",
         "4851.22",
         "6892.01",
         "5191.39",
         "4085.65",
         "4279.51",
         "7564.97"
        ],
        [
         "41",
         "42",
         "2011-03-11",
         "d_42",
         "Friday",
         "8580.3",
         "7232.88",
         "10719.77",
         "4027.85",
         "5404.5",
         "7922.74",
         "5846.58",
         "5165.46",
         "4335.5",
         "8880.25"
        ],
        [
         "42",
         "43",
         "2011-03-12",
         "d_43",
         "Saturday",
         "10785.64",
         "9566.6",
         "12864.32",
         "4651.86",
         "7474.39",
         "9901.75",
         "7185.81",
         "6145.43",
         "5936.82",
         "11151.39"
        ],
        [
         "43",
         "44",
         "2011-03-13",
         "d_44",
         "Sunday",
         "10987.76",
         "9675.59",
         "14319.84",
         "4836.76",
         "7635.31",
         "10981.61",
         "7759.09",
         "5158.6",
         "4562.61",
         "10062.48"
        ],
        [
         "44",
         "45",
         "2011-03-14",
         "d_45",
         "Monday",
         "7551.39",
         "5788.02",
         "11284.29",
         "4227.43",
         "5822.35",
         "8378.45",
         "5912.21",
         "3658.69",
         "4439.99",
         "8779.12"
        ],
        [
         "45",
         "46",
         "2011-03-15",
         "d_46",
         "Tuesday",
         "6341.98",
         "5327.71",
         "9877.19",
         "3688.34",
         "6514.98",
         "7781.34",
         "5918.43",
         "4079.82",
         "4534.93",
         "8487.35"
        ],
        [
         "46",
         "47",
         "2011-03-16",
         "d_47",
         "Wednesday",
         "6861.56",
         "5724.27",
         "10111.95",
         "4017.91",
         "5116.57",
         "6934.07",
         "5728.45",
         "4293.6",
         "4218.69",
         "7069.26"
        ],
        [
         "47",
         "48",
         "2011-03-17",
         "d_48",
         "Thursday",
         "6663.34",
         "5935.47",
         "9768.25",
         "3481.41",
         "5439.55",
         "7219.36",
         "5111.26",
         "3571.52",
         "3786.34",
         "6532.84"
        ],
        [
         "48",
         "49",
         "2011-03-18",
         "d_49",
         "Friday",
         "7796.06",
         "6472.51",
         "9633.37",
         "4135.52",
         "5725.64",
         "7815.41",
         "5718.27",
         "4956.81",
         "4442.21",
         "8151.34"
        ],
        [
         "49",
         "50",
         "2011-03-19",
         "d_50",
         "Saturday",
         "11266.27",
         "10365.8",
         "14240.72",
         "4518.76",
         "6486.11",
         "9461.14",
         "6117.13",
         "6262.01",
         "5199.64",
         "9529.96"
        ]
       ],
       "shape": {
        "columns": 14,
        "rows": 1941
       }
      },
      "text/html": [
       "<div>\n",
       "<style scoped>\n",
       "    .dataframe tbody tr th:only-of-type {\n",
       "        vertical-align: middle;\n",
       "    }\n",
       "\n",
       "    .dataframe tbody tr th {\n",
       "        vertical-align: top;\n",
       "    }\n",
       "\n",
       "    .dataframe thead th {\n",
       "        text-align: right;\n",
       "    }\n",
       "</style>\n",
       "<table border=\"1\" class=\"dataframe\">\n",
       "  <thead>\n",
       "    <tr style=\"text-align: right;\">\n",
       "      <th></th>\n",
       "      <th>id</th>\n",
       "      <th>date</th>\n",
       "      <th>d</th>\n",
       "      <th>weekday</th>\n",
       "      <th>CA_1</th>\n",
       "      <th>CA_2</th>\n",
       "      <th>CA_3</th>\n",
       "      <th>CA_4</th>\n",
       "      <th>TX_1</th>\n",
       "      <th>TX_2</th>\n",
       "      <th>TX_3</th>\n",
       "      <th>WI_1</th>\n",
       "      <th>WI_2</th>\n",
       "      <th>WI_3</th>\n",
       "    </tr>\n",
       "  </thead>\n",
       "  <tbody>\n",
       "    <tr>\n",
       "      <th>0</th>\n",
       "      <td>1</td>\n",
       "      <td>2011-01-29</td>\n",
       "      <td>d_1</td>\n",
       "      <td>Saturday</td>\n",
       "      <td>10933.16</td>\n",
       "      <td>9101.52</td>\n",
       "      <td>11679.83</td>\n",
       "      <td>4561.59</td>\n",
       "      <td>6586.68</td>\n",
       "      <td>9915.78</td>\n",
       "      <td>7597.99</td>\n",
       "      <td>6454.72</td>\n",
       "      <td>5451.46</td>\n",
       "      <td>9367.88</td>\n",
       "    </tr>\n",
       "    <tr>\n",
       "      <th>1</th>\n",
       "      <td>2</td>\n",
       "      <td>2011-01-30</td>\n",
       "      <td>d_2</td>\n",
       "      <td>Sunday</td>\n",
       "      <td>9787.06</td>\n",
       "      <td>8417.53</td>\n",
       "      <td>12161.46</td>\n",
       "      <td>4681.41</td>\n",
       "      <td>6610.60</td>\n",
       "      <td>9804.54</td>\n",
       "      <td>7356.54</td>\n",
       "      <td>5645.77</td>\n",
       "      <td>4636.86</td>\n",
       "      <td>9868.80</td>\n",
       "    </tr>\n",
       "    <tr>\n",
       "      <th>2</th>\n",
       "      <td>3</td>\n",
       "      <td>2011-01-31</td>\n",
       "      <td>d_3</td>\n",
       "      <td>Monday</td>\n",
       "      <td>7201.38</td>\n",
       "      <td>5320.51</td>\n",
       "      <td>9123.86</td>\n",
       "      <td>3637.98</td>\n",
       "      <td>4551.97</td>\n",
       "      <td>6651.16</td>\n",
       "      <td>5406.70</td>\n",
       "      <td>3640.12</td>\n",
       "      <td>4621.58</td>\n",
       "      <td>7551.65</td>\n",
       "    </tr>\n",
       "    <tr>\n",
       "      <th>3</th>\n",
       "      <td>4</td>\n",
       "      <td>2011-02-01</td>\n",
       "      <td>d_4</td>\n",
       "      <td>Tuesday</td>\n",
       "      <td>7407.74</td>\n",
       "      <td>5550.56</td>\n",
       "      <td>10249.78</td>\n",
       "      <td>3708.92</td>\n",
       "      <td>5374.39</td>\n",
       "      <td>6985.60</td>\n",
       "      <td>5597.97</td>\n",
       "      <td>2949.96</td>\n",
       "      <td>5754.75</td>\n",
       "      <td>7181.53</td>\n",
       "    </tr>\n",
       "    <tr>\n",
       "      <th>4</th>\n",
       "      <td>5</td>\n",
       "      <td>2011-02-02</td>\n",
       "      <td>d_5</td>\n",
       "      <td>Wednesday</td>\n",
       "      <td>6566.12</td>\n",
       "      <td>5229.72</td>\n",
       "      <td>9538.65</td>\n",
       "      <td>3841.14</td>\n",
       "      <td>4347.07</td>\n",
       "      <td>6039.05</td>\n",
       "      <td>4069.74</td>\n",
       "      <td>2.96</td>\n",
       "      <td>2679.19</td>\n",
       "      <td>4646.31</td>\n",
       "    </tr>\n",
       "    <tr>\n",
       "      <th>...</th>\n",
       "      <td>...</td>\n",
       "      <td>...</td>\n",
       "      <td>...</td>\n",
       "      <td>...</td>\n",
       "      <td>...</td>\n",
       "      <td>...</td>\n",
       "      <td>...</td>\n",
       "      <td>...</td>\n",
       "      <td>...</td>\n",
       "      <td>...</td>\n",
       "      <td>...</td>\n",
       "      <td>...</td>\n",
       "      <td>...</td>\n",
       "      <td>...</td>\n",
       "    </tr>\n",
       "    <tr>\n",
       "      <th>1936</th>\n",
       "      <td>1937</td>\n",
       "      <td>2016-05-18</td>\n",
       "      <td>d_1937</td>\n",
       "      <td>Wednesday</td>\n",
       "      <td>12920.62</td>\n",
       "      <td>12766.25</td>\n",
       "      <td>17780.83</td>\n",
       "      <td>8116.41</td>\n",
       "      <td>9851.97</td>\n",
       "      <td>11121.03</td>\n",
       "      <td>12078.07</td>\n",
       "      <td>9605.89</td>\n",
       "      <td>12928.75</td>\n",
       "      <td>9163.29</td>\n",
       "    </tr>\n",
       "    <tr>\n",
       "      <th>1937</th>\n",
       "      <td>1938</td>\n",
       "      <td>2016-05-19</td>\n",
       "      <td>d_1938</td>\n",
       "      <td>Thursday</td>\n",
       "      <td>13259.90</td>\n",
       "      <td>13432.94</td>\n",
       "      <td>18635.35</td>\n",
       "      <td>8367.57</td>\n",
       "      <td>8403.09</td>\n",
       "      <td>10474.33</td>\n",
       "      <td>11196.76</td>\n",
       "      <td>10478.86</td>\n",
       "      <td>13547.39</td>\n",
       "      <td>9660.13</td>\n",
       "    </tr>\n",
       "    <tr>\n",
       "      <th>1938</th>\n",
       "      <td>1939</td>\n",
       "      <td>2016-05-20</td>\n",
       "      <td>d_1939</td>\n",
       "      <td>Friday</td>\n",
       "      <td>13999.65</td>\n",
       "      <td>15545.28</td>\n",
       "      <td>18219.23</td>\n",
       "      <td>8960.17</td>\n",
       "      <td>11296.88</td>\n",
       "      <td>13832.01</td>\n",
       "      <td>14667.00</td>\n",
       "      <td>11358.75</td>\n",
       "      <td>14139.33</td>\n",
       "      <td>11982.37</td>\n",
       "    </tr>\n",
       "    <tr>\n",
       "      <th>1939</th>\n",
       "      <td>1940</td>\n",
       "      <td>2016-05-21</td>\n",
       "      <td>d_1940</td>\n",
       "      <td>Saturday</td>\n",
       "      <td>18637.70</td>\n",
       "      <td>24088.59</td>\n",
       "      <td>23849.52</td>\n",
       "      <td>9768.51</td>\n",
       "      <td>13137.35</td>\n",
       "      <td>15212.81</td>\n",
       "      <td>15696.64</td>\n",
       "      <td>14614.05</td>\n",
       "      <td>15020.25</td>\n",
       "      <td>12370.23</td>\n",
       "    </tr>\n",
       "    <tr>\n",
       "      <th>1940</th>\n",
       "      <td>1941</td>\n",
       "      <td>2016-05-22</td>\n",
       "      <td>d_1941</td>\n",
       "      <td>Sunday</td>\n",
       "      <td>21110.44</td>\n",
       "      <td>22019.30</td>\n",
       "      <td>27275.84</td>\n",
       "      <td>11863.05</td>\n",
       "      <td>14645.54</td>\n",
       "      <td>17631.81</td>\n",
       "      <td>17164.13</td>\n",
       "      <td>15332.95</td>\n",
       "      <td>14821.51</td>\n",
       "      <td>13432.85</td>\n",
       "    </tr>\n",
       "  </tbody>\n",
       "</table>\n",
       "<p>1941 rows × 14 columns</p>\n",
       "</div>"
      ],
      "text/plain": [
       "        id        date       d    weekday      CA_1      CA_2      CA_3  \\\n",
       "0        1  2011-01-29     d_1   Saturday  10933.16   9101.52  11679.83   \n",
       "1        2  2011-01-30     d_2     Sunday   9787.06   8417.53  12161.46   \n",
       "2        3  2011-01-31     d_3     Monday   7201.38   5320.51   9123.86   \n",
       "3        4  2011-02-01     d_4    Tuesday   7407.74   5550.56  10249.78   \n",
       "4        5  2011-02-02     d_5  Wednesday   6566.12   5229.72   9538.65   \n",
       "...    ...         ...     ...        ...       ...       ...       ...   \n",
       "1936  1937  2016-05-18  d_1937  Wednesday  12920.62  12766.25  17780.83   \n",
       "1937  1938  2016-05-19  d_1938   Thursday  13259.90  13432.94  18635.35   \n",
       "1938  1939  2016-05-20  d_1939     Friday  13999.65  15545.28  18219.23   \n",
       "1939  1940  2016-05-21  d_1940   Saturday  18637.70  24088.59  23849.52   \n",
       "1940  1941  2016-05-22  d_1941     Sunday  21110.44  22019.30  27275.84   \n",
       "\n",
       "          CA_4      TX_1      TX_2      TX_3      WI_1      WI_2      WI_3  \n",
       "0      4561.59   6586.68   9915.78   7597.99   6454.72   5451.46   9367.88  \n",
       "1      4681.41   6610.60   9804.54   7356.54   5645.77   4636.86   9868.80  \n",
       "2      3637.98   4551.97   6651.16   5406.70   3640.12   4621.58   7551.65  \n",
       "3      3708.92   5374.39   6985.60   5597.97   2949.96   5754.75   7181.53  \n",
       "4      3841.14   4347.07   6039.05   4069.74      2.96   2679.19   4646.31  \n",
       "...        ...       ...       ...       ...       ...       ...       ...  \n",
       "1936   8116.41   9851.97  11121.03  12078.07   9605.89  12928.75   9163.29  \n",
       "1937   8367.57   8403.09  10474.33  11196.76  10478.86  13547.39   9660.13  \n",
       "1938   8960.17  11296.88  13832.01  14667.00  11358.75  14139.33  11982.37  \n",
       "1939   9768.51  13137.35  15212.81  15696.64  14614.05  15020.25  12370.23  \n",
       "1940  11863.05  14645.54  17631.81  17164.13  15332.95  14821.51  13432.85  \n",
       "\n",
       "[1941 rows x 14 columns]"
      ]
     },
     "execution_count": 473,
     "metadata": {},
     "output_type": "execute_result"
    }
   ],
   "source": [
    "test_df"
   ]
  },
  {
   "cell_type": "markdown",
   "metadata": {},
   "source": [
    "### Read results"
   ]
  },
  {
   "cell_type": "code",
   "execution_count": 474,
   "metadata": {},
   "outputs": [],
   "source": [
    "result_list = read_result(SETTING_RESULT_PARENT_DIRECTORY_PATH)"
   ]
  },
  {
   "cell_type": "code",
   "execution_count": 475,
   "metadata": {},
   "outputs": [],
   "source": [
    "if not result_list:\n",
    "    raise FileNotFoundError(\"No data frame found.\")"
   ]
  },
  {
   "cell_type": "markdown",
   "metadata": {},
   "source": [
    "### Create weight values"
   ]
  },
  {
   "cell_type": "code",
   "execution_count": 476,
   "metadata": {},
   "outputs": [
    {
     "data": {
      "application/vnd.microsoft.datawrangler.viewer.v0+json": {
       "columns": [
        {
         "name": "index",
         "rawType": "int64",
         "type": "integer"
        },
        {
         "name": "year",
         "rawType": "int32",
         "type": "integer"
        },
        {
         "name": "CA_1",
         "rawType": "float64",
         "type": "float"
        },
        {
         "name": "CA_2",
         "rawType": "float64",
         "type": "float"
        },
        {
         "name": "CA_3",
         "rawType": "float64",
         "type": "float"
        },
        {
         "name": "CA_4",
         "rawType": "float64",
         "type": "float"
        },
        {
         "name": "TX_1",
         "rawType": "float64",
         "type": "float"
        },
        {
         "name": "TX_2",
         "rawType": "float64",
         "type": "float"
        },
        {
         "name": "TX_3",
         "rawType": "float64",
         "type": "float"
        },
        {
         "name": "WI_1",
         "rawType": "float64",
         "type": "float"
        },
        {
         "name": "WI_2",
         "rawType": "float64",
         "type": "float"
        },
        {
         "name": "WI_3",
         "rawType": "float64",
         "type": "float"
        }
       ],
       "conversionMethod": "pd.DataFrame",
       "ref": "23551955-88b8-4bf9-ad3e-53121db0c99e",
       "rows": [
        [
         "0",
         "2011",
         "2922245.86",
         "2411535.13",
         "4174686.87",
         "1505776.15",
         "2086062.89",
         "2864113.41",
         "2256005.47",
         "1474474.34",
         "1431217.15",
         "2765218.81"
        ],
        [
         "1",
         "2012",
         "3917812.66",
         "3063930.96",
         "5652875.0",
         "2061955.19",
         "2819059.15",
         "3902965.25",
         "2934446.29",
         "2017060.97",
         "2642317.48",
         "3636777.89"
        ],
        [
         "2",
         "2013",
         "4342793.28",
         "3298343.92",
         "6158423.62",
         "2341768.79",
         "2975205.37",
         "4169267.0100000002",
         "3091774.77",
         "2818384.7",
         "3628699.84",
         "3098712.0100000002"
        ],
        [
         "3",
         "2014",
         "4645767.19",
         "3131040.08",
         "6744344.24",
         "2565132.23",
         "3153808.79",
         "3805537.79",
         "3635085.31",
         "3362263.61",
         "3957147.69",
         "2861786.26"
        ],
        [
         "4",
         "2015",
         "5058086.52",
         "3906887.64",
         "7054105.72",
         "2782280.73",
         "3535360.24",
         "4290980.97",
         "4395218.56",
         "3789069.25",
         "4298560.96",
         "3305906.02"
        ],
        [
         "5",
         "2016",
         "1633546.87",
         "1597706.95",
         "2324284.25",
         "950233.8",
         "1159665.62",
         "1485372.69",
         "1484197.36",
         "1307982.15",
         "1732795.18",
         "1258505.12"
        ]
       ],
       "shape": {
        "columns": 11,
        "rows": 6
       }
      },
      "text/html": [
       "<div>\n",
       "<style scoped>\n",
       "    .dataframe tbody tr th:only-of-type {\n",
       "        vertical-align: middle;\n",
       "    }\n",
       "\n",
       "    .dataframe tbody tr th {\n",
       "        vertical-align: top;\n",
       "    }\n",
       "\n",
       "    .dataframe thead th {\n",
       "        text-align: right;\n",
       "    }\n",
       "</style>\n",
       "<table border=\"1\" class=\"dataframe\">\n",
       "  <thead>\n",
       "    <tr style=\"text-align: right;\">\n",
       "      <th></th>\n",
       "      <th>year</th>\n",
       "      <th>CA_1</th>\n",
       "      <th>CA_2</th>\n",
       "      <th>CA_3</th>\n",
       "      <th>CA_4</th>\n",
       "      <th>TX_1</th>\n",
       "      <th>TX_2</th>\n",
       "      <th>TX_3</th>\n",
       "      <th>WI_1</th>\n",
       "      <th>WI_2</th>\n",
       "      <th>WI_3</th>\n",
       "    </tr>\n",
       "  </thead>\n",
       "  <tbody>\n",
       "    <tr>\n",
       "      <th>0</th>\n",
       "      <td>2011</td>\n",
       "      <td>2922245.86</td>\n",
       "      <td>2411535.13</td>\n",
       "      <td>4174686.87</td>\n",
       "      <td>1505776.15</td>\n",
       "      <td>2086062.89</td>\n",
       "      <td>2864113.41</td>\n",
       "      <td>2256005.47</td>\n",
       "      <td>1474474.34</td>\n",
       "      <td>1431217.15</td>\n",
       "      <td>2765218.81</td>\n",
       "    </tr>\n",
       "    <tr>\n",
       "      <th>1</th>\n",
       "      <td>2012</td>\n",
       "      <td>3917812.66</td>\n",
       "      <td>3063930.96</td>\n",
       "      <td>5652875.00</td>\n",
       "      <td>2061955.19</td>\n",
       "      <td>2819059.15</td>\n",
       "      <td>3902965.25</td>\n",
       "      <td>2934446.29</td>\n",
       "      <td>2017060.97</td>\n",
       "      <td>2642317.48</td>\n",
       "      <td>3636777.89</td>\n",
       "    </tr>\n",
       "    <tr>\n",
       "      <th>2</th>\n",
       "      <td>2013</td>\n",
       "      <td>4342793.28</td>\n",
       "      <td>3298343.92</td>\n",
       "      <td>6158423.62</td>\n",
       "      <td>2341768.79</td>\n",
       "      <td>2975205.37</td>\n",
       "      <td>4169267.01</td>\n",
       "      <td>3091774.77</td>\n",
       "      <td>2818384.70</td>\n",
       "      <td>3628699.84</td>\n",
       "      <td>3098712.01</td>\n",
       "    </tr>\n",
       "    <tr>\n",
       "      <th>3</th>\n",
       "      <td>2014</td>\n",
       "      <td>4645767.19</td>\n",
       "      <td>3131040.08</td>\n",
       "      <td>6744344.24</td>\n",
       "      <td>2565132.23</td>\n",
       "      <td>3153808.79</td>\n",
       "      <td>3805537.79</td>\n",
       "      <td>3635085.31</td>\n",
       "      <td>3362263.61</td>\n",
       "      <td>3957147.69</td>\n",
       "      <td>2861786.26</td>\n",
       "    </tr>\n",
       "    <tr>\n",
       "      <th>4</th>\n",
       "      <td>2015</td>\n",
       "      <td>5058086.52</td>\n",
       "      <td>3906887.64</td>\n",
       "      <td>7054105.72</td>\n",
       "      <td>2782280.73</td>\n",
       "      <td>3535360.24</td>\n",
       "      <td>4290980.97</td>\n",
       "      <td>4395218.56</td>\n",
       "      <td>3789069.25</td>\n",
       "      <td>4298560.96</td>\n",
       "      <td>3305906.02</td>\n",
       "    </tr>\n",
       "    <tr>\n",
       "      <th>5</th>\n",
       "      <td>2016</td>\n",
       "      <td>1633546.87</td>\n",
       "      <td>1597706.95</td>\n",
       "      <td>2324284.25</td>\n",
       "      <td>950233.80</td>\n",
       "      <td>1159665.62</td>\n",
       "      <td>1485372.69</td>\n",
       "      <td>1484197.36</td>\n",
       "      <td>1307982.15</td>\n",
       "      <td>1732795.18</td>\n",
       "      <td>1258505.12</td>\n",
       "    </tr>\n",
       "  </tbody>\n",
       "</table>\n",
       "</div>"
      ],
      "text/plain": [
       "   year        CA_1        CA_2        CA_3        CA_4        TX_1  \\\n",
       "0  2011  2922245.86  2411535.13  4174686.87  1505776.15  2086062.89   \n",
       "1  2012  3917812.66  3063930.96  5652875.00  2061955.19  2819059.15   \n",
       "2  2013  4342793.28  3298343.92  6158423.62  2341768.79  2975205.37   \n",
       "3  2014  4645767.19  3131040.08  6744344.24  2565132.23  3153808.79   \n",
       "4  2015  5058086.52  3906887.64  7054105.72  2782280.73  3535360.24   \n",
       "5  2016  1633546.87  1597706.95  2324284.25   950233.80  1159665.62   \n",
       "\n",
       "         TX_2        TX_3        WI_1        WI_2        WI_3  \n",
       "0  2864113.41  2256005.47  1474474.34  1431217.15  2765218.81  \n",
       "1  3902965.25  2934446.29  2017060.97  2642317.48  3636777.89  \n",
       "2  4169267.01  3091774.77  2818384.70  3628699.84  3098712.01  \n",
       "3  3805537.79  3635085.31  3362263.61  3957147.69  2861786.26  \n",
       "4  4290980.97  4395218.56  3789069.25  4298560.96  3305906.02  \n",
       "5  1485372.69  1484197.36  1307982.15  1732795.18  1258505.12  "
      ]
     },
     "execution_count": 476,
     "metadata": {},
     "output_type": "execute_result"
    }
   ],
   "source": [
    "revenue_by_year_df = revenue_by_year(train_df)\n",
    "revenue_by_year_df"
   ]
  },
  {
   "cell_type": "code",
   "execution_count": 477,
   "metadata": {},
   "outputs": [],
   "source": [
    "revenue_by_year_df_2011_2015 = revenue_by_year_df[revenue_by_year_df[\"year\"] < 2016]\n",
    "revenue_by_year_df_2011 = revenue_by_year_df[revenue_by_year_df[\"year\"] == 2011]\n",
    "revenue_by_year_df_2012 = revenue_by_year_df[revenue_by_year_df[\"year\"] == 2012]\n",
    "revenue_by_year_df_2013 = revenue_by_year_df[revenue_by_year_df[\"year\"] == 2013]\n",
    "revenue_by_year_df_2014 = revenue_by_year_df[revenue_by_year_df[\"year\"] == 2014]\n",
    "revenue_by_year_df_2015 = revenue_by_year_df[revenue_by_year_df[\"year\"] == 2015]"
   ]
  },
  {
   "cell_type": "code",
   "execution_count": 478,
   "metadata": {},
   "outputs": [
    {
     "data": {
      "application/vnd.plotly.v1+json": {
       "config": {
        "plotlyServerURL": "https://plot.ly"
       },
       "data": [
        {
         "hovertemplate": "variable=CA_1<br>year=%{x}<br>value=%{y}<extra></extra>",
         "legendgroup": "CA_1",
         "line": {
          "color": "#636efa",
          "dash": "solid"
         },
         "marker": {
          "symbol": "circle"
         },
         "mode": "lines",
         "name": "CA_1",
         "orientation": "v",
         "showlegend": true,
         "type": "scatter",
         "x": {
          "bdata": "2wcAANwHAADdBwAA3gcAAN8HAAA=",
          "dtype": "i4"
         },
         "xaxis": "x",
         "y": {
          "bdata": "4XoU7oJLRkFI4XpU+uNNQR+F61ECkVBBw/UozOG4UUEUrkehiUtTQQ==",
          "dtype": "f8"
         },
         "yaxis": "y"
        },
        {
         "hovertemplate": "variable=CA_2<br>year=%{x}<br>value=%{y}<extra></extra>",
         "legendgroup": "CA_2",
         "line": {
          "color": "#EF553B",
          "dash": "solid"
         },
         "marker": {
          "symbol": "circle"
         },
         "mode": "lines",
         "name": "CA_2",
         "orientation": "v",
         "showlegend": true,
         "type": "scatter",
         "x": {
          "bdata": "2wcAANwHAADdBwAA3gcAAN8HAAA=",
          "dtype": "i4"
         },
         "xaxis": "x",
         "y": {
          "bdata": "CtejkAdmQkGuR+F6PWBHQVyPwvUTKklBpHA9ClDjR0EfhevRo85NQQ==",
          "dtype": "f8"
         },
         "yaxis": "y"
        },
        {
         "hovertemplate": "variable=CA_3<br>year=%{x}<br>value=%{y}<extra></extra>",
         "legendgroup": "CA_3",
         "line": {
          "color": "#00cc96",
          "dash": "solid"
         },
         "marker": {
          "symbol": "circle"
         },
         "mode": "lines",
         "name": "CA_3",
         "orientation": "v",
         "showlegend": true,
         "type": "scatter",
         "x": {
          "bdata": "2wcAANwHAADdBwAA3gcAAN8HAAA=",
          "dtype": "i4"
         },
         "xaxis": "x",
         "y": {
          "bdata": "9ihcb6/ZT0EAAADAYpBVQXsUrucVfldB9ihcD0a6WUHhehRuxuhaQQ==",
          "dtype": "f8"
         },
         "yaxis": "y"
        },
        {
         "hovertemplate": "variable=CA_4<br>year=%{x}<br>value=%{y}<extra></extra>",
         "legendgroup": "CA_4",
         "line": {
          "color": "#ab63fa",
          "dash": "solid"
         },
         "marker": {
          "symbol": "circle"
         },
         "mode": "lines",
         "name": "CA_4",
         "orientation": "v",
         "showlegend": true,
         "type": "scatter",
         "x": {
          "bdata": "2wcAANwHAADdBwAA3gcAAN8HAAA=",
          "dtype": "i4"
         },
         "xaxis": "x",
         "y": {
          "bdata": "ZmZmJvD5NkEK16Mwg3Y/QVK4HmXE3UFB16NwHQaSQ0HXo3BdJDpFQQ==",
          "dtype": "f8"
         },
         "yaxis": "y"
        },
        {
         "hovertemplate": "variable=TX_1<br>year=%{x}<br>value=%{y}<extra></extra>",
         "legendgroup": "TX_1",
         "line": {
          "color": "#FFA15A",
          "dash": "solid"
         },
         "marker": {
          "symbol": "circle"
         },
         "mode": "lines",
         "name": "TX_1",
         "orientation": "v",
         "showlegend": true,
         "type": "scatter",
         "x": {
          "bdata": "2wcAANwHAADdBwAA3gcAAN8HAAA=",
          "dtype": "i4"
         },
         "xaxis": "x",
         "y": {
          "bdata": "PQrX467UP0EzMzOT+YFFQfYoXK/yskZBUrgeZcgPSEHsUbgeAPlKQQ==",
          "dtype": "f8"
         },
         "yaxis": "y"
        },
        {
         "hovertemplate": "variable=TX_2<br>year=%{x}<br>value=%{y}<extra></extra>",
         "legendgroup": "TX_2",
         "line": {
          "color": "#19d3f3",
          "dash": "solid"
         },
         "marker": {
          "symbol": "circle"
         },
         "mode": "lines",
         "name": "TX_2",
         "orientation": "v",
         "showlegend": true,
         "type": "scatter",
         "x": {
          "bdata": "2wcAANwHAADdBwAA3gcAAN8HAAA=",
          "dtype": "i4"
         },
         "xaxis": "x",
         "y": {
          "bdata": "SOF6tPjZRUEAAACg+sZNQRWuR4EZz09BUrge5bAITUHhehQ+aV5QQQ==",
          "dtype": "f8"
         },
         "yaxis": "y"
        },
        {
         "hovertemplate": "variable=TX_3<br>year=%{x}<br>value=%{y}<extra></extra>",
         "legendgroup": "TX_3",
         "line": {
          "color": "#FF6692",
          "dash": "solid"
         },
         "marker": {
          "symbol": "circle"
         },
         "mode": "lines",
         "name": "TX_3",
         "orientation": "v",
         "showlegend": true,
         "type": "scatter",
         "x": {
          "bdata": "2wcAANwHAADdBwAA3gcAAN8HAAA=",
          "dtype": "i4"
         },
         "xaxis": "x",
         "y": {
          "bdata": "w/UovEI2QUFSuB4lV2NGQSlcj2KflkdBexSup8a7S0E9CtejNMRQQQ==",
          "dtype": "f8"
         },
         "yaxis": "y"
        },
        {
         "hovertemplate": "variable=WI_1<br>year=%{x}<br>value=%{y}<extra></extra>",
         "legendgroup": "WI_1",
         "line": {
          "color": "#B6E880",
          "dash": "solid"
         },
         "marker": {
          "symbol": "circle"
         },
         "mode": "lines",
         "name": "WI_1",
         "orientation": "v",
         "showlegend": true,
         "type": "scatter",
         "x": {
          "bdata": "2wcAANwHAADdBwAA3gcAAN8HAAA=",
          "dtype": "i4"
         },
         "xaxis": "x",
         "y": {
          "bdata": "cT0KV6p/NkGF61H4JMc+QZqZmVmogEVB4XoUzuumSUEAAACghuhMQQ==",
          "dtype": "f8"
         },
         "yaxis": "y"
        },
        {
         "hovertemplate": "variable=WI_2<br>year=%{x}<br>value=%{y}<extra></extra>",
         "legendgroup": "WI_2",
         "line": {
          "color": "#FF97FF",
          "dash": "solid"
         },
         "marker": {
          "symbol": "circle"
         },
         "mode": "lines",
         "name": "WI_2",
         "orientation": "v",
         "showlegend": true,
         "type": "scatter",
         "x": {
          "bdata": "2wcAANwHAADdBwAA3gcAAN8HAAA=",
          "dtype": "i4"
         },
         "xaxis": "x",
         "y": {
          "bdata": "ZmZmJrHWNUHXo3C9xihEQbgehetNr0tBhetR2M0wTkHXo3A90GVQQQ==",
          "dtype": "f8"
         },
         "yaxis": "y"
        },
        {
         "hovertemplate": "variable=WI_3<br>year=%{x}<br>value=%{y}<extra></extra>",
         "legendgroup": "WI_3",
         "line": {
          "color": "#FECB52",
          "dash": "solid"
         },
         "marker": {
          "symbol": "circle"
         },
         "mode": "lines",
         "name": "WI_3",
         "orientation": "v",
         "showlegend": true,
         "type": "scatter",
         "x": {
          "bdata": "2wcAANwHAADdBwAA3gcAAN8HAAA=",
          "dtype": "i4"
         },
         "xaxis": "x",
         "y": {
          "bdata": "exSuZ9EYRUEfhevxFL9LQRWuRwEspEdBFK5HIW3VRUEpXI8C2ThJQQ==",
          "dtype": "f8"
         },
         "yaxis": "y"
        }
       ],
       "layout": {
        "legend": {
         "title": {
          "text": "variable"
         },
         "tracegroupgap": 0
        },
        "margin": {
         "t": 60
        },
        "template": {
         "data": {
          "bar": [
           {
            "error_x": {
             "color": "#2a3f5f"
            },
            "error_y": {
             "color": "#2a3f5f"
            },
            "marker": {
             "line": {
              "color": "#E5ECF6",
              "width": 0.5
             },
             "pattern": {
              "fillmode": "overlay",
              "size": 10,
              "solidity": 0.2
             }
            },
            "type": "bar"
           }
          ],
          "barpolar": [
           {
            "marker": {
             "line": {
              "color": "#E5ECF6",
              "width": 0.5
             },
             "pattern": {
              "fillmode": "overlay",
              "size": 10,
              "solidity": 0.2
             }
            },
            "type": "barpolar"
           }
          ],
          "carpet": [
           {
            "aaxis": {
             "endlinecolor": "#2a3f5f",
             "gridcolor": "white",
             "linecolor": "white",
             "minorgridcolor": "white",
             "startlinecolor": "#2a3f5f"
            },
            "baxis": {
             "endlinecolor": "#2a3f5f",
             "gridcolor": "white",
             "linecolor": "white",
             "minorgridcolor": "white",
             "startlinecolor": "#2a3f5f"
            },
            "type": "carpet"
           }
          ],
          "choropleth": [
           {
            "colorbar": {
             "outlinewidth": 0,
             "ticks": ""
            },
            "type": "choropleth"
           }
          ],
          "contour": [
           {
            "colorbar": {
             "outlinewidth": 0,
             "ticks": ""
            },
            "colorscale": [
             [
              0,
              "#0d0887"
             ],
             [
              0.1111111111111111,
              "#46039f"
             ],
             [
              0.2222222222222222,
              "#7201a8"
             ],
             [
              0.3333333333333333,
              "#9c179e"
             ],
             [
              0.4444444444444444,
              "#bd3786"
             ],
             [
              0.5555555555555556,
              "#d8576b"
             ],
             [
              0.6666666666666666,
              "#ed7953"
             ],
             [
              0.7777777777777778,
              "#fb9f3a"
             ],
             [
              0.8888888888888888,
              "#fdca26"
             ],
             [
              1,
              "#f0f921"
             ]
            ],
            "type": "contour"
           }
          ],
          "contourcarpet": [
           {
            "colorbar": {
             "outlinewidth": 0,
             "ticks": ""
            },
            "type": "contourcarpet"
           }
          ],
          "heatmap": [
           {
            "colorbar": {
             "outlinewidth": 0,
             "ticks": ""
            },
            "colorscale": [
             [
              0,
              "#0d0887"
             ],
             [
              0.1111111111111111,
              "#46039f"
             ],
             [
              0.2222222222222222,
              "#7201a8"
             ],
             [
              0.3333333333333333,
              "#9c179e"
             ],
             [
              0.4444444444444444,
              "#bd3786"
             ],
             [
              0.5555555555555556,
              "#d8576b"
             ],
             [
              0.6666666666666666,
              "#ed7953"
             ],
             [
              0.7777777777777778,
              "#fb9f3a"
             ],
             [
              0.8888888888888888,
              "#fdca26"
             ],
             [
              1,
              "#f0f921"
             ]
            ],
            "type": "heatmap"
           }
          ],
          "histogram": [
           {
            "marker": {
             "pattern": {
              "fillmode": "overlay",
              "size": 10,
              "solidity": 0.2
             }
            },
            "type": "histogram"
           }
          ],
          "histogram2d": [
           {
            "colorbar": {
             "outlinewidth": 0,
             "ticks": ""
            },
            "colorscale": [
             [
              0,
              "#0d0887"
             ],
             [
              0.1111111111111111,
              "#46039f"
             ],
             [
              0.2222222222222222,
              "#7201a8"
             ],
             [
              0.3333333333333333,
              "#9c179e"
             ],
             [
              0.4444444444444444,
              "#bd3786"
             ],
             [
              0.5555555555555556,
              "#d8576b"
             ],
             [
              0.6666666666666666,
              "#ed7953"
             ],
             [
              0.7777777777777778,
              "#fb9f3a"
             ],
             [
              0.8888888888888888,
              "#fdca26"
             ],
             [
              1,
              "#f0f921"
             ]
            ],
            "type": "histogram2d"
           }
          ],
          "histogram2dcontour": [
           {
            "colorbar": {
             "outlinewidth": 0,
             "ticks": ""
            },
            "colorscale": [
             [
              0,
              "#0d0887"
             ],
             [
              0.1111111111111111,
              "#46039f"
             ],
             [
              0.2222222222222222,
              "#7201a8"
             ],
             [
              0.3333333333333333,
              "#9c179e"
             ],
             [
              0.4444444444444444,
              "#bd3786"
             ],
             [
              0.5555555555555556,
              "#d8576b"
             ],
             [
              0.6666666666666666,
              "#ed7953"
             ],
             [
              0.7777777777777778,
              "#fb9f3a"
             ],
             [
              0.8888888888888888,
              "#fdca26"
             ],
             [
              1,
              "#f0f921"
             ]
            ],
            "type": "histogram2dcontour"
           }
          ],
          "mesh3d": [
           {
            "colorbar": {
             "outlinewidth": 0,
             "ticks": ""
            },
            "type": "mesh3d"
           }
          ],
          "parcoords": [
           {
            "line": {
             "colorbar": {
              "outlinewidth": 0,
              "ticks": ""
             }
            },
            "type": "parcoords"
           }
          ],
          "pie": [
           {
            "automargin": true,
            "type": "pie"
           }
          ],
          "scatter": [
           {
            "fillpattern": {
             "fillmode": "overlay",
             "size": 10,
             "solidity": 0.2
            },
            "type": "scatter"
           }
          ],
          "scatter3d": [
           {
            "line": {
             "colorbar": {
              "outlinewidth": 0,
              "ticks": ""
             }
            },
            "marker": {
             "colorbar": {
              "outlinewidth": 0,
              "ticks": ""
             }
            },
            "type": "scatter3d"
           }
          ],
          "scattercarpet": [
           {
            "marker": {
             "colorbar": {
              "outlinewidth": 0,
              "ticks": ""
             }
            },
            "type": "scattercarpet"
           }
          ],
          "scattergeo": [
           {
            "marker": {
             "colorbar": {
              "outlinewidth": 0,
              "ticks": ""
             }
            },
            "type": "scattergeo"
           }
          ],
          "scattergl": [
           {
            "marker": {
             "colorbar": {
              "outlinewidth": 0,
              "ticks": ""
             }
            },
            "type": "scattergl"
           }
          ],
          "scattermap": [
           {
            "marker": {
             "colorbar": {
              "outlinewidth": 0,
              "ticks": ""
             }
            },
            "type": "scattermap"
           }
          ],
          "scattermapbox": [
           {
            "marker": {
             "colorbar": {
              "outlinewidth": 0,
              "ticks": ""
             }
            },
            "type": "scattermapbox"
           }
          ],
          "scatterpolar": [
           {
            "marker": {
             "colorbar": {
              "outlinewidth": 0,
              "ticks": ""
             }
            },
            "type": "scatterpolar"
           }
          ],
          "scatterpolargl": [
           {
            "marker": {
             "colorbar": {
              "outlinewidth": 0,
              "ticks": ""
             }
            },
            "type": "scatterpolargl"
           }
          ],
          "scatterternary": [
           {
            "marker": {
             "colorbar": {
              "outlinewidth": 0,
              "ticks": ""
             }
            },
            "type": "scatterternary"
           }
          ],
          "surface": [
           {
            "colorbar": {
             "outlinewidth": 0,
             "ticks": ""
            },
            "colorscale": [
             [
              0,
              "#0d0887"
             ],
             [
              0.1111111111111111,
              "#46039f"
             ],
             [
              0.2222222222222222,
              "#7201a8"
             ],
             [
              0.3333333333333333,
              "#9c179e"
             ],
             [
              0.4444444444444444,
              "#bd3786"
             ],
             [
              0.5555555555555556,
              "#d8576b"
             ],
             [
              0.6666666666666666,
              "#ed7953"
             ],
             [
              0.7777777777777778,
              "#fb9f3a"
             ],
             [
              0.8888888888888888,
              "#fdca26"
             ],
             [
              1,
              "#f0f921"
             ]
            ],
            "type": "surface"
           }
          ],
          "table": [
           {
            "cells": {
             "fill": {
              "color": "#EBF0F8"
             },
             "line": {
              "color": "white"
             }
            },
            "header": {
             "fill": {
              "color": "#C8D4E3"
             },
             "line": {
              "color": "white"
             }
            },
            "type": "table"
           }
          ]
         },
         "layout": {
          "annotationdefaults": {
           "arrowcolor": "#2a3f5f",
           "arrowhead": 0,
           "arrowwidth": 1
          },
          "autotypenumbers": "strict",
          "coloraxis": {
           "colorbar": {
            "outlinewidth": 0,
            "ticks": ""
           }
          },
          "colorscale": {
           "diverging": [
            [
             0,
             "#8e0152"
            ],
            [
             0.1,
             "#c51b7d"
            ],
            [
             0.2,
             "#de77ae"
            ],
            [
             0.3,
             "#f1b6da"
            ],
            [
             0.4,
             "#fde0ef"
            ],
            [
             0.5,
             "#f7f7f7"
            ],
            [
             0.6,
             "#e6f5d0"
            ],
            [
             0.7,
             "#b8e186"
            ],
            [
             0.8,
             "#7fbc41"
            ],
            [
             0.9,
             "#4d9221"
            ],
            [
             1,
             "#276419"
            ]
           ],
           "sequential": [
            [
             0,
             "#0d0887"
            ],
            [
             0.1111111111111111,
             "#46039f"
            ],
            [
             0.2222222222222222,
             "#7201a8"
            ],
            [
             0.3333333333333333,
             "#9c179e"
            ],
            [
             0.4444444444444444,
             "#bd3786"
            ],
            [
             0.5555555555555556,
             "#d8576b"
            ],
            [
             0.6666666666666666,
             "#ed7953"
            ],
            [
             0.7777777777777778,
             "#fb9f3a"
            ],
            [
             0.8888888888888888,
             "#fdca26"
            ],
            [
             1,
             "#f0f921"
            ]
           ],
           "sequentialminus": [
            [
             0,
             "#0d0887"
            ],
            [
             0.1111111111111111,
             "#46039f"
            ],
            [
             0.2222222222222222,
             "#7201a8"
            ],
            [
             0.3333333333333333,
             "#9c179e"
            ],
            [
             0.4444444444444444,
             "#bd3786"
            ],
            [
             0.5555555555555556,
             "#d8576b"
            ],
            [
             0.6666666666666666,
             "#ed7953"
            ],
            [
             0.7777777777777778,
             "#fb9f3a"
            ],
            [
             0.8888888888888888,
             "#fdca26"
            ],
            [
             1,
             "#f0f921"
            ]
           ]
          },
          "colorway": [
           "#636efa",
           "#EF553B",
           "#00cc96",
           "#ab63fa",
           "#FFA15A",
           "#19d3f3",
           "#FF6692",
           "#B6E880",
           "#FF97FF",
           "#FECB52"
          ],
          "font": {
           "color": "#2a3f5f"
          },
          "geo": {
           "bgcolor": "white",
           "lakecolor": "white",
           "landcolor": "#E5ECF6",
           "showlakes": true,
           "showland": true,
           "subunitcolor": "white"
          },
          "hoverlabel": {
           "align": "left"
          },
          "hovermode": "closest",
          "mapbox": {
           "style": "light"
          },
          "paper_bgcolor": "white",
          "plot_bgcolor": "#E5ECF6",
          "polar": {
           "angularaxis": {
            "gridcolor": "white",
            "linecolor": "white",
            "ticks": ""
           },
           "bgcolor": "#E5ECF6",
           "radialaxis": {
            "gridcolor": "white",
            "linecolor": "white",
            "ticks": ""
           }
          },
          "scene": {
           "xaxis": {
            "backgroundcolor": "#E5ECF6",
            "gridcolor": "white",
            "gridwidth": 2,
            "linecolor": "white",
            "showbackground": true,
            "ticks": "",
            "zerolinecolor": "white"
           },
           "yaxis": {
            "backgroundcolor": "#E5ECF6",
            "gridcolor": "white",
            "gridwidth": 2,
            "linecolor": "white",
            "showbackground": true,
            "ticks": "",
            "zerolinecolor": "white"
           },
           "zaxis": {
            "backgroundcolor": "#E5ECF6",
            "gridcolor": "white",
            "gridwidth": 2,
            "linecolor": "white",
            "showbackground": true,
            "ticks": "",
            "zerolinecolor": "white"
           }
          },
          "shapedefaults": {
           "line": {
            "color": "#2a3f5f"
           }
          },
          "ternary": {
           "aaxis": {
            "gridcolor": "white",
            "linecolor": "white",
            "ticks": ""
           },
           "baxis": {
            "gridcolor": "white",
            "linecolor": "white",
            "ticks": ""
           },
           "bgcolor": "#E5ECF6",
           "caxis": {
            "gridcolor": "white",
            "linecolor": "white",
            "ticks": ""
           }
          },
          "title": {
           "x": 0.05
          },
          "xaxis": {
           "automargin": true,
           "gridcolor": "white",
           "linecolor": "white",
           "ticks": "",
           "title": {
            "standoff": 15
           },
           "zerolinecolor": "white",
           "zerolinewidth": 2
          },
          "yaxis": {
           "automargin": true,
           "gridcolor": "white",
           "linecolor": "white",
           "ticks": "",
           "title": {
            "standoff": 15
           },
           "zerolinecolor": "white",
           "zerolinewidth": 2
          }
         }
        },
        "xaxis": {
         "anchor": "y",
         "domain": [
          0,
          1
         ],
         "title": {
          "text": "year"
         }
        },
        "yaxis": {
         "anchor": "x",
         "domain": [
          0,
          1
         ],
         "title": {
          "text": "value"
         }
        }
       }
      }
     },
     "metadata": {},
     "output_type": "display_data"
    }
   ],
   "source": [
    "fig = px.line(revenue_by_year_df_2011_2015, x=\"year\", y=revenue_by_year_df.columns)\n",
    "fig.show()"
   ]
  },
  {
   "cell_type": "code",
   "execution_count": 479,
   "metadata": {},
   "outputs": [
    {
     "data": {
      "application/vnd.plotly.v1+json": {
       "config": {
        "plotlyServerURL": "https://plot.ly"
       },
       "data": [
        {
         "domain": {
          "x": [
           0,
           0.16799999999999998
          ],
          "y": [
           0,
           1
          ]
         },
         "labels": [
          "CA_1",
          "CA_2",
          "CA_3",
          "CA_4",
          "TX_1",
          "TX_2",
          "TX_3",
          "WI_1",
          "WI_2",
          "WI_3"
         ],
         "type": "pie",
         "values": {
          "bdata": "4XoU7oJLRkEK16OQB2ZCQfYoXG+v2U9BZmZmJvD5NkE9CtfjrtQ/QUjherT42UVBw/UovEI2QUFxPQpXqn82QWZmZiax1jVBexSuZ9EYRUE=",
          "dtype": "f8"
         }
        },
        {
         "domain": {
          "x": [
           0.208,
           0.376
          ],
          "y": [
           0,
           1
          ]
         },
         "labels": [
          "CA_1",
          "CA_2",
          "CA_3",
          "CA_4",
          "TX_1",
          "TX_2",
          "TX_3",
          "WI_1",
          "WI_2",
          "WI_3"
         ],
         "type": "pie",
         "values": {
          "bdata": "SOF6VPrjTUGuR+F6PWBHQQAAAMBikFVBCtejMIN2P0EzMzOT+YFFQQAAAKD6xk1BUrgeJVdjRkGF61H4JMc+QdejcL3GKERBH4Xr8RS/S0E=",
          "dtype": "f8"
         }
        },
        {
         "domain": {
          "x": [
           0.416,
           0.584
          ],
          "y": [
           0,
           1
          ]
         },
         "labels": [
          "CA_1",
          "CA_2",
          "CA_3",
          "CA_4",
          "TX_1",
          "TX_2",
          "TX_3",
          "WI_1",
          "WI_2",
          "WI_3"
         ],
         "type": "pie",
         "values": {
          "bdata": "H4XrUQKRUEFcj8L1EypJQXsUrucVfldBUrgeZcTdQUH2KFyv8rJGQRWuR4EZz09BKVyPYp+WR0GamZlZqIBFQbgehetNr0tBFa5HASykR0E=",
          "dtype": "f8"
         }
        },
        {
         "domain": {
          "x": [
           0.624,
           0.792
          ],
          "y": [
           0,
           1
          ]
         },
         "labels": [
          "CA_1",
          "CA_2",
          "CA_3",
          "CA_4",
          "TX_1",
          "TX_2",
          "TX_3",
          "WI_1",
          "WI_2",
          "WI_3"
         ],
         "type": "pie",
         "values": {
          "bdata": "w/UozOG4UUGkcD0KUONHQfYoXA9GullB16NwHQaSQ0FSuB5lyA9IQVK4HuWwCE1BexSup8a7S0HhehTO66ZJQYXrUdjNME5BFK5HIW3VRUE=",
          "dtype": "f8"
         }
        },
        {
         "domain": {
          "x": [
           0.832,
           1
          ],
          "y": [
           0,
           1
          ]
         },
         "labels": [
          "CA_1",
          "CA_2",
          "CA_3",
          "CA_4",
          "TX_1",
          "TX_2",
          "TX_3",
          "WI_1",
          "WI_2",
          "WI_3"
         ],
         "type": "pie",
         "values": {
          "bdata": "FK5HoYlLU0EfhevRo85NQeF6FG7G6FpB16NwXSQ6RUHsUbgeAPlKQeF6FD5pXlBBPQrXozTEUEEAAACghuhMQdejcD3QZVBBKVyPAtk4SUE=",
          "dtype": "f8"
         }
        }
       ],
       "layout": {
        "annotations": [
         {
          "font": {
           "size": 16
          },
          "showarrow": false,
          "text": "Revenue in 2011",
          "x": 0.08399999999999999,
          "xanchor": "center",
          "xref": "paper",
          "y": 1,
          "yanchor": "bottom",
          "yref": "paper"
         },
         {
          "font": {
           "size": 16
          },
          "showarrow": false,
          "text": "Revenue in 2012",
          "x": 0.292,
          "xanchor": "center",
          "xref": "paper",
          "y": 1,
          "yanchor": "bottom",
          "yref": "paper"
         },
         {
          "font": {
           "size": 16
          },
          "showarrow": false,
          "text": "Revenue in 2013",
          "x": 0.5,
          "xanchor": "center",
          "xref": "paper",
          "y": 1,
          "yanchor": "bottom",
          "yref": "paper"
         },
         {
          "font": {
           "size": 16
          },
          "showarrow": false,
          "text": "Revenue in 2014",
          "x": 0.708,
          "xanchor": "center",
          "xref": "paper",
          "y": 1,
          "yanchor": "bottom",
          "yref": "paper"
         },
         {
          "font": {
           "size": 16
          },
          "showarrow": false,
          "text": "Revenue in 2015",
          "x": 0.9159999999999999,
          "xanchor": "center",
          "xref": "paper",
          "y": 1,
          "yanchor": "bottom",
          "yref": "paper"
         }
        ],
        "margin": {
         "b": 10,
         "l": 10,
         "r": 10,
         "t": 50
        },
        "showlegend": true,
        "template": {
         "data": {
          "bar": [
           {
            "error_x": {
             "color": "#2a3f5f"
            },
            "error_y": {
             "color": "#2a3f5f"
            },
            "marker": {
             "line": {
              "color": "#E5ECF6",
              "width": 0.5
             },
             "pattern": {
              "fillmode": "overlay",
              "size": 10,
              "solidity": 0.2
             }
            },
            "type": "bar"
           }
          ],
          "barpolar": [
           {
            "marker": {
             "line": {
              "color": "#E5ECF6",
              "width": 0.5
             },
             "pattern": {
              "fillmode": "overlay",
              "size": 10,
              "solidity": 0.2
             }
            },
            "type": "barpolar"
           }
          ],
          "carpet": [
           {
            "aaxis": {
             "endlinecolor": "#2a3f5f",
             "gridcolor": "white",
             "linecolor": "white",
             "minorgridcolor": "white",
             "startlinecolor": "#2a3f5f"
            },
            "baxis": {
             "endlinecolor": "#2a3f5f",
             "gridcolor": "white",
             "linecolor": "white",
             "minorgridcolor": "white",
             "startlinecolor": "#2a3f5f"
            },
            "type": "carpet"
           }
          ],
          "choropleth": [
           {
            "colorbar": {
             "outlinewidth": 0,
             "ticks": ""
            },
            "type": "choropleth"
           }
          ],
          "contour": [
           {
            "colorbar": {
             "outlinewidth": 0,
             "ticks": ""
            },
            "colorscale": [
             [
              0,
              "#0d0887"
             ],
             [
              0.1111111111111111,
              "#46039f"
             ],
             [
              0.2222222222222222,
              "#7201a8"
             ],
             [
              0.3333333333333333,
              "#9c179e"
             ],
             [
              0.4444444444444444,
              "#bd3786"
             ],
             [
              0.5555555555555556,
              "#d8576b"
             ],
             [
              0.6666666666666666,
              "#ed7953"
             ],
             [
              0.7777777777777778,
              "#fb9f3a"
             ],
             [
              0.8888888888888888,
              "#fdca26"
             ],
             [
              1,
              "#f0f921"
             ]
            ],
            "type": "contour"
           }
          ],
          "contourcarpet": [
           {
            "colorbar": {
             "outlinewidth": 0,
             "ticks": ""
            },
            "type": "contourcarpet"
           }
          ],
          "heatmap": [
           {
            "colorbar": {
             "outlinewidth": 0,
             "ticks": ""
            },
            "colorscale": [
             [
              0,
              "#0d0887"
             ],
             [
              0.1111111111111111,
              "#46039f"
             ],
             [
              0.2222222222222222,
              "#7201a8"
             ],
             [
              0.3333333333333333,
              "#9c179e"
             ],
             [
              0.4444444444444444,
              "#bd3786"
             ],
             [
              0.5555555555555556,
              "#d8576b"
             ],
             [
              0.6666666666666666,
              "#ed7953"
             ],
             [
              0.7777777777777778,
              "#fb9f3a"
             ],
             [
              0.8888888888888888,
              "#fdca26"
             ],
             [
              1,
              "#f0f921"
             ]
            ],
            "type": "heatmap"
           }
          ],
          "histogram": [
           {
            "marker": {
             "pattern": {
              "fillmode": "overlay",
              "size": 10,
              "solidity": 0.2
             }
            },
            "type": "histogram"
           }
          ],
          "histogram2d": [
           {
            "colorbar": {
             "outlinewidth": 0,
             "ticks": ""
            },
            "colorscale": [
             [
              0,
              "#0d0887"
             ],
             [
              0.1111111111111111,
              "#46039f"
             ],
             [
              0.2222222222222222,
              "#7201a8"
             ],
             [
              0.3333333333333333,
              "#9c179e"
             ],
             [
              0.4444444444444444,
              "#bd3786"
             ],
             [
              0.5555555555555556,
              "#d8576b"
             ],
             [
              0.6666666666666666,
              "#ed7953"
             ],
             [
              0.7777777777777778,
              "#fb9f3a"
             ],
             [
              0.8888888888888888,
              "#fdca26"
             ],
             [
              1,
              "#f0f921"
             ]
            ],
            "type": "histogram2d"
           }
          ],
          "histogram2dcontour": [
           {
            "colorbar": {
             "outlinewidth": 0,
             "ticks": ""
            },
            "colorscale": [
             [
              0,
              "#0d0887"
             ],
             [
              0.1111111111111111,
              "#46039f"
             ],
             [
              0.2222222222222222,
              "#7201a8"
             ],
             [
              0.3333333333333333,
              "#9c179e"
             ],
             [
              0.4444444444444444,
              "#bd3786"
             ],
             [
              0.5555555555555556,
              "#d8576b"
             ],
             [
              0.6666666666666666,
              "#ed7953"
             ],
             [
              0.7777777777777778,
              "#fb9f3a"
             ],
             [
              0.8888888888888888,
              "#fdca26"
             ],
             [
              1,
              "#f0f921"
             ]
            ],
            "type": "histogram2dcontour"
           }
          ],
          "mesh3d": [
           {
            "colorbar": {
             "outlinewidth": 0,
             "ticks": ""
            },
            "type": "mesh3d"
           }
          ],
          "parcoords": [
           {
            "line": {
             "colorbar": {
              "outlinewidth": 0,
              "ticks": ""
             }
            },
            "type": "parcoords"
           }
          ],
          "pie": [
           {
            "automargin": true,
            "type": "pie"
           }
          ],
          "scatter": [
           {
            "fillpattern": {
             "fillmode": "overlay",
             "size": 10,
             "solidity": 0.2
            },
            "type": "scatter"
           }
          ],
          "scatter3d": [
           {
            "line": {
             "colorbar": {
              "outlinewidth": 0,
              "ticks": ""
             }
            },
            "marker": {
             "colorbar": {
              "outlinewidth": 0,
              "ticks": ""
             }
            },
            "type": "scatter3d"
           }
          ],
          "scattercarpet": [
           {
            "marker": {
             "colorbar": {
              "outlinewidth": 0,
              "ticks": ""
             }
            },
            "type": "scattercarpet"
           }
          ],
          "scattergeo": [
           {
            "marker": {
             "colorbar": {
              "outlinewidth": 0,
              "ticks": ""
             }
            },
            "type": "scattergeo"
           }
          ],
          "scattergl": [
           {
            "marker": {
             "colorbar": {
              "outlinewidth": 0,
              "ticks": ""
             }
            },
            "type": "scattergl"
           }
          ],
          "scattermap": [
           {
            "marker": {
             "colorbar": {
              "outlinewidth": 0,
              "ticks": ""
             }
            },
            "type": "scattermap"
           }
          ],
          "scattermapbox": [
           {
            "marker": {
             "colorbar": {
              "outlinewidth": 0,
              "ticks": ""
             }
            },
            "type": "scattermapbox"
           }
          ],
          "scatterpolar": [
           {
            "marker": {
             "colorbar": {
              "outlinewidth": 0,
              "ticks": ""
             }
            },
            "type": "scatterpolar"
           }
          ],
          "scatterpolargl": [
           {
            "marker": {
             "colorbar": {
              "outlinewidth": 0,
              "ticks": ""
             }
            },
            "type": "scatterpolargl"
           }
          ],
          "scatterternary": [
           {
            "marker": {
             "colorbar": {
              "outlinewidth": 0,
              "ticks": ""
             }
            },
            "type": "scatterternary"
           }
          ],
          "surface": [
           {
            "colorbar": {
             "outlinewidth": 0,
             "ticks": ""
            },
            "colorscale": [
             [
              0,
              "#0d0887"
             ],
             [
              0.1111111111111111,
              "#46039f"
             ],
             [
              0.2222222222222222,
              "#7201a8"
             ],
             [
              0.3333333333333333,
              "#9c179e"
             ],
             [
              0.4444444444444444,
              "#bd3786"
             ],
             [
              0.5555555555555556,
              "#d8576b"
             ],
             [
              0.6666666666666666,
              "#ed7953"
             ],
             [
              0.7777777777777778,
              "#fb9f3a"
             ],
             [
              0.8888888888888888,
              "#fdca26"
             ],
             [
              1,
              "#f0f921"
             ]
            ],
            "type": "surface"
           }
          ],
          "table": [
           {
            "cells": {
             "fill": {
              "color": "#EBF0F8"
             },
             "line": {
              "color": "white"
             }
            },
            "header": {
             "fill": {
              "color": "#C8D4E3"
             },
             "line": {
              "color": "white"
             }
            },
            "type": "table"
           }
          ]
         },
         "layout": {
          "annotationdefaults": {
           "arrowcolor": "#2a3f5f",
           "arrowhead": 0,
           "arrowwidth": 1
          },
          "autotypenumbers": "strict",
          "coloraxis": {
           "colorbar": {
            "outlinewidth": 0,
            "ticks": ""
           }
          },
          "colorscale": {
           "diverging": [
            [
             0,
             "#8e0152"
            ],
            [
             0.1,
             "#c51b7d"
            ],
            [
             0.2,
             "#de77ae"
            ],
            [
             0.3,
             "#f1b6da"
            ],
            [
             0.4,
             "#fde0ef"
            ],
            [
             0.5,
             "#f7f7f7"
            ],
            [
             0.6,
             "#e6f5d0"
            ],
            [
             0.7,
             "#b8e186"
            ],
            [
             0.8,
             "#7fbc41"
            ],
            [
             0.9,
             "#4d9221"
            ],
            [
             1,
             "#276419"
            ]
           ],
           "sequential": [
            [
             0,
             "#0d0887"
            ],
            [
             0.1111111111111111,
             "#46039f"
            ],
            [
             0.2222222222222222,
             "#7201a8"
            ],
            [
             0.3333333333333333,
             "#9c179e"
            ],
            [
             0.4444444444444444,
             "#bd3786"
            ],
            [
             0.5555555555555556,
             "#d8576b"
            ],
            [
             0.6666666666666666,
             "#ed7953"
            ],
            [
             0.7777777777777778,
             "#fb9f3a"
            ],
            [
             0.8888888888888888,
             "#fdca26"
            ],
            [
             1,
             "#f0f921"
            ]
           ],
           "sequentialminus": [
            [
             0,
             "#0d0887"
            ],
            [
             0.1111111111111111,
             "#46039f"
            ],
            [
             0.2222222222222222,
             "#7201a8"
            ],
            [
             0.3333333333333333,
             "#9c179e"
            ],
            [
             0.4444444444444444,
             "#bd3786"
            ],
            [
             0.5555555555555556,
             "#d8576b"
            ],
            [
             0.6666666666666666,
             "#ed7953"
            ],
            [
             0.7777777777777778,
             "#fb9f3a"
            ],
            [
             0.8888888888888888,
             "#fdca26"
            ],
            [
             1,
             "#f0f921"
            ]
           ]
          },
          "colorway": [
           "#636efa",
           "#EF553B",
           "#00cc96",
           "#ab63fa",
           "#FFA15A",
           "#19d3f3",
           "#FF6692",
           "#B6E880",
           "#FF97FF",
           "#FECB52"
          ],
          "font": {
           "color": "#2a3f5f"
          },
          "geo": {
           "bgcolor": "white",
           "lakecolor": "white",
           "landcolor": "#E5ECF6",
           "showlakes": true,
           "showland": true,
           "subunitcolor": "white"
          },
          "hoverlabel": {
           "align": "left"
          },
          "hovermode": "closest",
          "mapbox": {
           "style": "light"
          },
          "paper_bgcolor": "white",
          "plot_bgcolor": "#E5ECF6",
          "polar": {
           "angularaxis": {
            "gridcolor": "white",
            "linecolor": "white",
            "ticks": ""
           },
           "bgcolor": "#E5ECF6",
           "radialaxis": {
            "gridcolor": "white",
            "linecolor": "white",
            "ticks": ""
           }
          },
          "scene": {
           "xaxis": {
            "backgroundcolor": "#E5ECF6",
            "gridcolor": "white",
            "gridwidth": 2,
            "linecolor": "white",
            "showbackground": true,
            "ticks": "",
            "zerolinecolor": "white"
           },
           "yaxis": {
            "backgroundcolor": "#E5ECF6",
            "gridcolor": "white",
            "gridwidth": 2,
            "linecolor": "white",
            "showbackground": true,
            "ticks": "",
            "zerolinecolor": "white"
           },
           "zaxis": {
            "backgroundcolor": "#E5ECF6",
            "gridcolor": "white",
            "gridwidth": 2,
            "linecolor": "white",
            "showbackground": true,
            "ticks": "",
            "zerolinecolor": "white"
           }
          },
          "shapedefaults": {
           "line": {
            "color": "#2a3f5f"
           }
          },
          "ternary": {
           "aaxis": {
            "gridcolor": "white",
            "linecolor": "white",
            "ticks": ""
           },
           "baxis": {
            "gridcolor": "white",
            "linecolor": "white",
            "ticks": ""
           },
           "bgcolor": "#E5ECF6",
           "caxis": {
            "gridcolor": "white",
            "linecolor": "white",
            "ticks": ""
           }
          },
          "title": {
           "x": 0.05
          },
          "xaxis": {
           "automargin": true,
           "gridcolor": "white",
           "linecolor": "white",
           "ticks": "",
           "title": {
            "standoff": 15
           },
           "zerolinecolor": "white",
           "zerolinewidth": 2
          },
          "yaxis": {
           "automargin": true,
           "gridcolor": "white",
           "linecolor": "white",
           "ticks": "",
           "title": {
            "standoff": 15
           },
           "zerolinecolor": "white",
           "zerolinewidth": 2
          }
         }
        }
       }
      }
     },
     "metadata": {},
     "output_type": "display_data"
    }
   ],
   "source": [
    "rows, cols = 1, 5\n",
    "\n",
    "fig = make_subplots(\n",
    "    rows=rows,\n",
    "    cols=cols,\n",
    "    subplot_titles=[\n",
    "        f\"Revenue in {i}\" for i in range(2011, 2016)\n",
    "    ],  # Auto-generate titles\n",
    "    specs=[\n",
    "        [{\"type\": \"pie\"} for _ in range(cols)] for _ in range(rows)\n",
    "    ],  # Generate pie types\n",
    ")\n",
    "\n",
    "count = 0\n",
    "for year in range(2011, 2016):\n",
    "    df = revenue_by_year_df.drop(columns=\"year\")[\n",
    "        revenue_by_year_df[\"year\"] == year\n",
    "    ].melt(var_name=\"state\", value_name=\"revenue\")\n",
    "\n",
    "    fig.add_trace(\n",
    "        go.Pie(\n",
    "            labels=df[\"state\"],  # Categories\n",
    "            values=df[\"revenue\"],  # Corresponding values\n",
    "            domain=dict(x=[0, 1], y=[0, 1]),  # Expands pie size\n",
    "        ),\n",
    "        row=1,\n",
    "        col=1 + count,\n",
    "    )\n",
    "    count += 1\n",
    "\n",
    "fig.update_layout(\n",
    "    showlegend=True,  # Hide legends for a cleaner look\n",
    "    margin=dict(l=10, r=10, t=50, b=10),  # Reduce margins\n",
    ")\n",
    "\n",
    "fig.show()"
   ]
  },
  {
   "cell_type": "code",
   "execution_count": 480,
   "metadata": {},
   "outputs": [
    {
     "data": {
      "application/vnd.microsoft.datawrangler.viewer.v0+json": {
       "columns": [
        {
         "name": "index",
         "rawType": "int64",
         "type": "integer"
        },
        {
         "name": "year",
         "rawType": "int32",
         "type": "integer"
        },
        {
         "name": "CA_1",
         "rawType": "float64",
         "type": "float"
        },
        {
         "name": "CA_2",
         "rawType": "float64",
         "type": "float"
        },
        {
         "name": "CA_3",
         "rawType": "float64",
         "type": "float"
        },
        {
         "name": "CA_4",
         "rawType": "float64",
         "type": "float"
        },
        {
         "name": "TX_1",
         "rawType": "float64",
         "type": "float"
        },
        {
         "name": "TX_2",
         "rawType": "float64",
         "type": "float"
        },
        {
         "name": "TX_3",
         "rawType": "float64",
         "type": "float"
        },
        {
         "name": "WI_1",
         "rawType": "float64",
         "type": "float"
        },
        {
         "name": "WI_2",
         "rawType": "float64",
         "type": "float"
        },
        {
         "name": "WI_3",
         "rawType": "float64",
         "type": "float"
        }
       ],
       "conversionMethod": "pd.DataFrame",
       "ref": "54bc5643-6e3b-4cba-ab9b-d7c01e4a347f",
       "rows": [
        [
         "0",
         "2011",
         "2922245.86",
         "2411535.13",
         "4174686.87",
         "1505776.15",
         "2086062.89",
         "2864113.41",
         "2256005.47",
         "1474474.34",
         "1431217.15",
         "2765218.81"
        ],
        [
         "1",
         "2012",
         "3917812.66",
         "3063930.96",
         "5652875.0",
         "2061955.19",
         "2819059.15",
         "3902965.25",
         "2934446.29",
         "2017060.97",
         "2642317.48",
         "3636777.89"
        ],
        [
         "2",
         "2013",
         "4342793.28",
         "3298343.92",
         "6158423.62",
         "2341768.79",
         "2975205.37",
         "4169267.0100000002",
         "3091774.77",
         "2818384.7",
         "3628699.84",
         "3098712.0100000002"
        ],
        [
         "3",
         "2014",
         "4645767.19",
         "3131040.08",
         "6744344.24",
         "2565132.23",
         "3153808.79",
         "3805537.79",
         "3635085.31",
         "3362263.61",
         "3957147.69",
         "2861786.26"
        ],
        [
         "4",
         "2015",
         "5058086.52",
         "3906887.64",
         "7054105.72",
         "2782280.73",
         "3535360.24",
         "4290980.97",
         "4395218.56",
         "3789069.25",
         "4298560.96",
         "3305906.02"
        ]
       ],
       "shape": {
        "columns": 11,
        "rows": 5
       }
      },
      "text/html": [
       "<div>\n",
       "<style scoped>\n",
       "    .dataframe tbody tr th:only-of-type {\n",
       "        vertical-align: middle;\n",
       "    }\n",
       "\n",
       "    .dataframe tbody tr th {\n",
       "        vertical-align: top;\n",
       "    }\n",
       "\n",
       "    .dataframe thead th {\n",
       "        text-align: right;\n",
       "    }\n",
       "</style>\n",
       "<table border=\"1\" class=\"dataframe\">\n",
       "  <thead>\n",
       "    <tr style=\"text-align: right;\">\n",
       "      <th></th>\n",
       "      <th>year</th>\n",
       "      <th>CA_1</th>\n",
       "      <th>CA_2</th>\n",
       "      <th>CA_3</th>\n",
       "      <th>CA_4</th>\n",
       "      <th>TX_1</th>\n",
       "      <th>TX_2</th>\n",
       "      <th>TX_3</th>\n",
       "      <th>WI_1</th>\n",
       "      <th>WI_2</th>\n",
       "      <th>WI_3</th>\n",
       "    </tr>\n",
       "  </thead>\n",
       "  <tbody>\n",
       "    <tr>\n",
       "      <th>0</th>\n",
       "      <td>2011</td>\n",
       "      <td>2922245.86</td>\n",
       "      <td>2411535.13</td>\n",
       "      <td>4174686.87</td>\n",
       "      <td>1505776.15</td>\n",
       "      <td>2086062.89</td>\n",
       "      <td>2864113.41</td>\n",
       "      <td>2256005.47</td>\n",
       "      <td>1474474.34</td>\n",
       "      <td>1431217.15</td>\n",
       "      <td>2765218.81</td>\n",
       "    </tr>\n",
       "    <tr>\n",
       "      <th>1</th>\n",
       "      <td>2012</td>\n",
       "      <td>3917812.66</td>\n",
       "      <td>3063930.96</td>\n",
       "      <td>5652875.00</td>\n",
       "      <td>2061955.19</td>\n",
       "      <td>2819059.15</td>\n",
       "      <td>3902965.25</td>\n",
       "      <td>2934446.29</td>\n",
       "      <td>2017060.97</td>\n",
       "      <td>2642317.48</td>\n",
       "      <td>3636777.89</td>\n",
       "    </tr>\n",
       "    <tr>\n",
       "      <th>2</th>\n",
       "      <td>2013</td>\n",
       "      <td>4342793.28</td>\n",
       "      <td>3298343.92</td>\n",
       "      <td>6158423.62</td>\n",
       "      <td>2341768.79</td>\n",
       "      <td>2975205.37</td>\n",
       "      <td>4169267.01</td>\n",
       "      <td>3091774.77</td>\n",
       "      <td>2818384.70</td>\n",
       "      <td>3628699.84</td>\n",
       "      <td>3098712.01</td>\n",
       "    </tr>\n",
       "    <tr>\n",
       "      <th>3</th>\n",
       "      <td>2014</td>\n",
       "      <td>4645767.19</td>\n",
       "      <td>3131040.08</td>\n",
       "      <td>6744344.24</td>\n",
       "      <td>2565132.23</td>\n",
       "      <td>3153808.79</td>\n",
       "      <td>3805537.79</td>\n",
       "      <td>3635085.31</td>\n",
       "      <td>3362263.61</td>\n",
       "      <td>3957147.69</td>\n",
       "      <td>2861786.26</td>\n",
       "    </tr>\n",
       "    <tr>\n",
       "      <th>4</th>\n",
       "      <td>2015</td>\n",
       "      <td>5058086.52</td>\n",
       "      <td>3906887.64</td>\n",
       "      <td>7054105.72</td>\n",
       "      <td>2782280.73</td>\n",
       "      <td>3535360.24</td>\n",
       "      <td>4290980.97</td>\n",
       "      <td>4395218.56</td>\n",
       "      <td>3789069.25</td>\n",
       "      <td>4298560.96</td>\n",
       "      <td>3305906.02</td>\n",
       "    </tr>\n",
       "  </tbody>\n",
       "</table>\n",
       "</div>"
      ],
      "text/plain": [
       "   year        CA_1        CA_2        CA_3        CA_4        TX_1  \\\n",
       "0  2011  2922245.86  2411535.13  4174686.87  1505776.15  2086062.89   \n",
       "1  2012  3917812.66  3063930.96  5652875.00  2061955.19  2819059.15   \n",
       "2  2013  4342793.28  3298343.92  6158423.62  2341768.79  2975205.37   \n",
       "3  2014  4645767.19  3131040.08  6744344.24  2565132.23  3153808.79   \n",
       "4  2015  5058086.52  3906887.64  7054105.72  2782280.73  3535360.24   \n",
       "\n",
       "         TX_2        TX_3        WI_1        WI_2        WI_3  \n",
       "0  2864113.41  2256005.47  1474474.34  1431217.15  2765218.81  \n",
       "1  3902965.25  2934446.29  2017060.97  2642317.48  3636777.89  \n",
       "2  4169267.01  3091774.77  2818384.70  3628699.84  3098712.01  \n",
       "3  3805537.79  3635085.31  3362263.61  3957147.69  2861786.26  \n",
       "4  4290980.97  4395218.56  3789069.25  4298560.96  3305906.02  "
      ]
     },
     "execution_count": 480,
     "metadata": {},
     "output_type": "execute_result"
    }
   ],
   "source": [
    "revenue_by_year_df_2011_2015"
   ]
  },
  {
   "cell_type": "code",
   "execution_count": 481,
   "metadata": {},
   "outputs": [
    {
     "data": {
      "application/vnd.microsoft.datawrangler.viewer.v0+json": {
       "columns": [
        {
         "name": "index",
         "rawType": "int64",
         "type": "integer"
        },
        {
         "name": "year",
         "rawType": "int32",
         "type": "integer"
        },
        {
         "name": "CA_1_percentage",
         "rawType": "float64",
         "type": "float"
        },
        {
         "name": "CA_2_percentage",
         "rawType": "float64",
         "type": "float"
        },
        {
         "name": "CA_3_percentage",
         "rawType": "float64",
         "type": "float"
        },
        {
         "name": "CA_4_percentage",
         "rawType": "float64",
         "type": "float"
        },
        {
         "name": "TX_1_percentage",
         "rawType": "float64",
         "type": "float"
        },
        {
         "name": "TX_2_percentage",
         "rawType": "float64",
         "type": "float"
        },
        {
         "name": "TX_3_percentage",
         "rawType": "float64",
         "type": "float"
        },
        {
         "name": "WI_1_percentage",
         "rawType": "float64",
         "type": "float"
        },
        {
         "name": "WI_2_percentage",
         "rawType": "float64",
         "type": "float"
        },
        {
         "name": "WI_3_percentage",
         "rawType": "float64",
         "type": "float"
        }
       ],
       "conversionMethod": "pd.DataFrame",
       "ref": "685c50d5-b5eb-4350-9e02-76fe1c985b01",
       "rows": [
        [
         "0",
         "2011",
         "12.231404096509618",
         "10.09376420776548",
         "17.47364339951975",
         "6.302603357794295",
         "8.731461827897906",
         "11.98808388283323",
         "9.442776504611459",
         "6.171585946732872",
         "5.990527885119433",
         "11.574148891215968"
        ],
        [
         "1",
         "2012",
         "11.99971992943886",
         "9.384398028653248",
         "17.313976619833245",
         "6.315484412940994",
         "8.634389441306766",
         "11.954244359997633",
         "8.987804339776913",
         "6.177979607785096",
         "8.093054077950903",
         "11.138949182316342"
        ],
        [
         "2",
         "2013",
         "12.089046433707537",
         "9.181609676621985",
         "17.143221954285895",
         "6.518788672187756",
         "8.282087944040018",
         "11.60600084524746",
         "8.606582525865804",
         "7.845545783461949",
         "10.10122242331256",
         "8.625893741269032"
        ],
        [
         "3",
         "2014",
         "12.270291695737736",
         "8.269629863360848",
         "17.81300434068213",
         "6.774967279459869",
         "8.329766047936998",
         "10.051097446932793",
         "9.600902341512132",
         "8.880332045365403",
         "10.451525970550144",
         "7.558482968461953"
        ],
        [
         "4",
         "2015",
         "11.924820987539816",
         "9.210782682584858",
         "16.630587002727008",
         "6.559436955287906",
         "8.334878777136025",
         "10.11631171706212",
         "10.362059708127044",
         "8.933016929817514",
         "10.134182115972841",
         "7.793923123744871"
        ]
       ],
       "shape": {
        "columns": 11,
        "rows": 5
       }
      },
      "text/html": [
       "<div>\n",
       "<style scoped>\n",
       "    .dataframe tbody tr th:only-of-type {\n",
       "        vertical-align: middle;\n",
       "    }\n",
       "\n",
       "    .dataframe tbody tr th {\n",
       "        vertical-align: top;\n",
       "    }\n",
       "\n",
       "    .dataframe thead th {\n",
       "        text-align: right;\n",
       "    }\n",
       "</style>\n",
       "<table border=\"1\" class=\"dataframe\">\n",
       "  <thead>\n",
       "    <tr style=\"text-align: right;\">\n",
       "      <th></th>\n",
       "      <th>year</th>\n",
       "      <th>CA_1_percentage</th>\n",
       "      <th>CA_2_percentage</th>\n",
       "      <th>CA_3_percentage</th>\n",
       "      <th>CA_4_percentage</th>\n",
       "      <th>TX_1_percentage</th>\n",
       "      <th>TX_2_percentage</th>\n",
       "      <th>TX_3_percentage</th>\n",
       "      <th>WI_1_percentage</th>\n",
       "      <th>WI_2_percentage</th>\n",
       "      <th>WI_3_percentage</th>\n",
       "    </tr>\n",
       "  </thead>\n",
       "  <tbody>\n",
       "    <tr>\n",
       "      <th>0</th>\n",
       "      <td>2011</td>\n",
       "      <td>12.231404</td>\n",
       "      <td>10.093764</td>\n",
       "      <td>17.473643</td>\n",
       "      <td>6.302603</td>\n",
       "      <td>8.731462</td>\n",
       "      <td>11.988084</td>\n",
       "      <td>9.442777</td>\n",
       "      <td>6.171586</td>\n",
       "      <td>5.990528</td>\n",
       "      <td>11.574149</td>\n",
       "    </tr>\n",
       "    <tr>\n",
       "      <th>1</th>\n",
       "      <td>2012</td>\n",
       "      <td>11.999720</td>\n",
       "      <td>9.384398</td>\n",
       "      <td>17.313977</td>\n",
       "      <td>6.315484</td>\n",
       "      <td>8.634389</td>\n",
       "      <td>11.954244</td>\n",
       "      <td>8.987804</td>\n",
       "      <td>6.177980</td>\n",
       "      <td>8.093054</td>\n",
       "      <td>11.138949</td>\n",
       "    </tr>\n",
       "    <tr>\n",
       "      <th>2</th>\n",
       "      <td>2013</td>\n",
       "      <td>12.089046</td>\n",
       "      <td>9.181610</td>\n",
       "      <td>17.143222</td>\n",
       "      <td>6.518789</td>\n",
       "      <td>8.282088</td>\n",
       "      <td>11.606001</td>\n",
       "      <td>8.606583</td>\n",
       "      <td>7.845546</td>\n",
       "      <td>10.101222</td>\n",
       "      <td>8.625894</td>\n",
       "    </tr>\n",
       "    <tr>\n",
       "      <th>3</th>\n",
       "      <td>2014</td>\n",
       "      <td>12.270292</td>\n",
       "      <td>8.269630</td>\n",
       "      <td>17.813004</td>\n",
       "      <td>6.774967</td>\n",
       "      <td>8.329766</td>\n",
       "      <td>10.051097</td>\n",
       "      <td>9.600902</td>\n",
       "      <td>8.880332</td>\n",
       "      <td>10.451526</td>\n",
       "      <td>7.558483</td>\n",
       "    </tr>\n",
       "    <tr>\n",
       "      <th>4</th>\n",
       "      <td>2015</td>\n",
       "      <td>11.924821</td>\n",
       "      <td>9.210783</td>\n",
       "      <td>16.630587</td>\n",
       "      <td>6.559437</td>\n",
       "      <td>8.334879</td>\n",
       "      <td>10.116312</td>\n",
       "      <td>10.362060</td>\n",
       "      <td>8.933017</td>\n",
       "      <td>10.134182</td>\n",
       "      <td>7.793923</td>\n",
       "    </tr>\n",
       "  </tbody>\n",
       "</table>\n",
       "</div>"
      ],
      "text/plain": [
       "   year  CA_1_percentage  CA_2_percentage  CA_3_percentage  CA_4_percentage  \\\n",
       "0  2011        12.231404        10.093764        17.473643         6.302603   \n",
       "1  2012        11.999720         9.384398        17.313977         6.315484   \n",
       "2  2013        12.089046         9.181610        17.143222         6.518789   \n",
       "3  2014        12.270292         8.269630        17.813004         6.774967   \n",
       "4  2015        11.924821         9.210783        16.630587         6.559437   \n",
       "\n",
       "   TX_1_percentage  TX_2_percentage  TX_3_percentage  WI_1_percentage  \\\n",
       "0         8.731462        11.988084         9.442777         6.171586   \n",
       "1         8.634389        11.954244         8.987804         6.177980   \n",
       "2         8.282088        11.606001         8.606583         7.845546   \n",
       "3         8.329766        10.051097         9.600902         8.880332   \n",
       "4         8.334879        10.116312        10.362060         8.933017   \n",
       "\n",
       "   WI_2_percentage  WI_3_percentage  \n",
       "0         5.990528        11.574149  \n",
       "1         8.093054        11.138949  \n",
       "2        10.101222         8.625894  \n",
       "3        10.451526         7.558483  \n",
       "4        10.134182         7.793923  "
      ]
     },
     "execution_count": 481,
     "metadata": {},
     "output_type": "execute_result"
    }
   ],
   "source": [
    "# Create a copy of the original DataFrame with only the 'year' column\n",
    "revenue_by_year_df_2011_2015_percentage = revenue_by_year_df_2011_2015[[\"year\"]].copy()\n",
    "\n",
    "# Compute total revenue for each year\n",
    "total_revenue = revenue_by_year_df_2011_2015.iloc[:, 1:].sum(axis=1)\n",
    "\n",
    "# Calculate percentage for each state efficiently\n",
    "state_columns = revenue_by_year_df_2011_2015.columns[1:]\n",
    "revenue_by_year_df_2011_2015_percentage[state_columns + \"_percentage\"] = (\n",
    "    revenue_by_year_df_2011_2015[state_columns].div(total_revenue, axis=0) * 100\n",
    ")\n",
    "\n",
    "# Display the result\n",
    "revenue_by_year_df_2011_2015_percentage"
   ]
  },
  {
   "cell_type": "code",
   "execution_count": 482,
   "metadata": {},
   "outputs": [
    {
     "data": {
      "text/plain": [
       "array([0.12103057, 0.09228037, 0.17274887, 0.06494256, 0.08462517,\n",
       "       0.11143148, 0.09400025, 0.07601692, 0.08954102, 0.0933828 ])"
      ]
     },
     "execution_count": 482,
     "metadata": {},
     "output_type": "execute_result"
    }
   ],
   "source": [
    "revenue_by_year_df_2011_2015_weight = revenue_by_year_df_2011_2015_percentage.drop(\n",
    "    columns=\"year\"\n",
    ").sum(axis=0)\n",
    "total_revenue = revenue_by_year_df_2011_2015_weight.sum()\n",
    "revenue_by_year_df_2011_2015_weight = (\n",
    "    revenue_by_year_df_2011_2015_weight / total_revenue\n",
    ").to_numpy()\n",
    "revenue_by_year_df_2011_2015_weight"
   ]
  },
  {
   "cell_type": "markdown",
   "metadata": {},
   "source": [
    "### Evaluate models"
   ]
  },
  {
   "cell_type": "markdown",
   "metadata": {},
   "source": [
    "#### Metric: Mean Absolute Scaled Error"
   ]
  },
  {
   "cell_type": "code",
   "execution_count": 483,
   "metadata": {},
   "outputs": [],
   "source": [
    "evaluate_result(result_list=result_list, test_data_frame=test_df, metric=Metric.MASE)"
   ]
  },
  {
   "cell_type": "markdown",
   "metadata": {},
   "source": [
    "#### Metric: Root Mean Squared Scaled Error"
   ]
  },
  {
   "cell_type": "code",
   "execution_count": 484,
   "metadata": {},
   "outputs": [],
   "source": [
    "evaluate_result(result_list=result_list, test_data_frame=test_df, metric=Metric.RMSSE)"
   ]
  },
  {
   "cell_type": "markdown",
   "metadata": {},
   "source": [
    "#### Metric: Weighted Root Mean Squared Scaled Error"
   ]
  },
  {
   "cell_type": "code",
   "execution_count": 485,
   "metadata": {},
   "outputs": [],
   "source": [
    "evaluate_result(\n",
    "    result_list=result_list,\n",
    "    test_data_frame=test_df,\n",
    "    metric=Metric.WMSSE,\n",
    "    weight=revenue_by_year_df_2011_2015_weight,\n",
    ")"
   ]
  },
  {
   "cell_type": "code",
   "execution_count": 486,
   "metadata": {},
   "outputs": [
    {
     "data": {
      "text/plain": [
       "[Result(author='Duc', data_frame_list=[], metric_result_list=[]),\n",
       " Result(author='Huong', data_frame_list=[], metric_result_list=[]),\n",
       " Result(author='Phuong', data_frame_list=[], metric_result_list=[]),\n",
       " Result(author='Trung', data_frame_list=[Data_Frame(name='revenue_sample_data.csv', data_frame=      id        date       d   CA_1   CA_2   CA_3   CA_4   TX_1   TX_2   TX_3  \\\n",
       " 0   1914  2016-04-25  d_1914  14361  14361  14361  14361  14361  14361  14361   \n",
       " 1   1915  2016-04-26  d_1915   5533   5533   5533   5533   5533   5533   5533   \n",
       " 2   1916  2016-04-27  d_1916  12026  12026  12026  12026  12026  12026  12026   \n",
       " 3   1917  2016-04-28  d_1917  12906  12906  12906  12906  12906  12906  12906   \n",
       " 4   1918  2016-04-29  d_1918  14471  14471  14471  14471  14471  14471  14471   \n",
       " 5   1919  2016-04-30  d_1919   5243   5243   5243   5243   5243   5243   5243   \n",
       " 6   1920  2016-05-01  d_1920   8376   8376   8376   8376   8376   8376   8376   \n",
       " 7   1921  2016-05-02  d_1921  12578  12578  12578  12578  12578  12578  12578   \n",
       " 8   1922  2016-05-03  d_1922  18325  18325  18325  18325  18325  18325  18325   \n",
       " 9   1923  2016-05-04  d_1923  13049  13049  13049  13049  13049  13049  13049   \n",
       " 10  1924  2016-05-05  d_1924  18493  18493  18493  18493  18493  18493  18493   \n",
       " 11  1925  2016-05-06  d_1925   9546   9546   9546   9546   9546   9546   9546   \n",
       " 12  1926  2016-05-07  d_1926  15706  15706  15706  15706  15706  15706  15706   \n",
       " 13  1927  2016-05-08  d_1927  18281  18281  18281  18281  18281  18281  18281   \n",
       " 14  1928  2016-05-09  d_1928   7625   7625   7625   7625   7625   7625   7625   \n",
       " 15  1929  2016-05-10  d_1929   5563   5563   5563   5563   5563   5563   5563   \n",
       " 16  1930  2016-05-11  d_1930  13530  13530  13530  13530  13530  13530  13530   \n",
       " 17  1931  2016-05-12  d_1931  13029  13029  13029  13029  13029  13029  13029   \n",
       " 18  1932  2016-05-13  d_1932  10370  10370  10370  10370  10370  10370  10370   \n",
       " 19  1933  2016-05-14  d_1933   6246   6246   6246   6246   6246   6246   6246   \n",
       " 20  1934  2016-05-15  d_1934   9095   9095   9095   9095   9095   9095   9095   \n",
       " 21  1935  2016-05-16  d_1935  17215  17215  17215  17215  17215  17215  17215   \n",
       " 22  1936  2016-05-17  d_1936  10917  10917  10917  10917  10917  10917  10917   \n",
       " 23  1937  2016-05-18  d_1937   5730   5730   5730   5730   5730   5730   5730   \n",
       " 24  1938  2016-05-19  d_1938  11887  11887  11887  11887  11887  11887  11887   \n",
       " 25  1939  2016-05-20  d_1939  19092  19092  19092  19092  19092  19092  19092   \n",
       " 26  1940  2016-05-21  d_1940   7272   7272   7272   7272   7272   7272   7272   \n",
       " 27  1941  2016-05-22  d_1941  14882  14882  14882  14882  14882  14882  14882   \n",
       " \n",
       "      WI_1   WI_2   WI_3  \n",
       " 0   14361  14361  14361  \n",
       " 1    5533   5533   5533  \n",
       " 2   12026  12026  12026  \n",
       " 3   12906  12906  12906  \n",
       " 4   14471  14471  14471  \n",
       " 5    5243   5243   5243  \n",
       " 6    8376   8376   8376  \n",
       " 7   12578  12578  12578  \n",
       " 8   18325  18325  18325  \n",
       " 9   13049  13049  13049  \n",
       " 10  18493  18493  18493  \n",
       " 11   9546   9546   9546  \n",
       " 12  15706  15706  15706  \n",
       " 13  18281  18281  18281  \n",
       " 14   7625   7625   7625  \n",
       " 15   5563   5563   5563  \n",
       " 16  13530  13530  13530  \n",
       " 17  13029  13029  13029  \n",
       " 18  10370  10370  10370  \n",
       " 19   6246   6246   6246  \n",
       " 20   9095   9095   9095  \n",
       " 21  17215  17215  17215  \n",
       " 22  10917  10917  10917  \n",
       " 23   5730   5730   5730  \n",
       " 24  11887  11887  11887  \n",
       " 25  19092  19092  19092  \n",
       " 26   7272   7272   7272  \n",
       " 27  14882  14882  14882  )], metric_result_list=[MetricResult(data_frame_name='revenue_sample_data.csv', metric=<Metric.MASE: 0>, value=np.float64(1.8723955154121428)), MetricResult(data_frame_name='revenue_sample_data.csv', metric=<Metric.RMSSE: 1>, value=np.float64(3.1487100807961648)), MetricResult(data_frame_name='revenue_sample_data.csv', metric=<Metric.WMSSE: 2>, value=np.float64(3.116334550581167))]),\n",
       " Result(author='Uyen', data_frame_list=[], metric_result_list=[])]"
      ]
     },
     "execution_count": 486,
     "metadata": {},
     "output_type": "execute_result"
    }
   ],
   "source": [
    "result_list"
   ]
  }
 ],
 "metadata": {
  "kernelspec": {
   "display_name": "Python 3",
   "language": "python",
   "name": "python3"
  },
  "language_info": {
   "codemirror_mode": {
    "name": "ipython",
    "version": 3
   },
   "file_extension": ".py",
   "mimetype": "text/x-python",
   "name": "python",
   "nbconvert_exporter": "python",
   "pygments_lexer": "ipython3",
   "version": "3.12.7"
  }
 },
 "nbformat": 4,
 "nbformat_minor": 2
}
