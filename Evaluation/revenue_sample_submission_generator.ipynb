{
 "cells": [
  {
   "cell_type": "markdown",
   "metadata": {},
   "source": [
    "# Revenue sample submission generator"
   ]
  },
  {
   "cell_type": "markdown",
   "metadata": {},
   "source": [
    "## Import libraries"
   ]
  },
  {
   "cell_type": "code",
   "execution_count": 35,
   "metadata": {},
   "outputs": [],
   "source": [
    "import pandas as pd\n",
    "from enum import Enum"
   ]
  },
  {
   "cell_type": "code",
   "execution_count": 36,
   "metadata": {},
   "outputs": [],
   "source": [
    "class State(Enum):\n",
    "    CA_1 = \"CA_1\"\n",
    "    CA_2 = \"CA_2\"\n",
    "    CA_3 = \"CA_3\"\n",
    "    CA_4 = \"CA_4\"\n",
    "    TX_1 = \"TX_1\"\n",
    "    TX_2 = \"TX_2\"\n",
    "    TX_3 = \"TX_3\"\n",
    "    WI_1 = \"WI_1\"\n",
    "    WI_2 = \"WI_2\"\n",
    "    WI_3 = \"WI_3\""
   ]
  },
  {
   "cell_type": "code",
   "execution_count": 37,
   "metadata": {},
   "outputs": [],
   "source": [
    "MODEL_NAME: str = \"model_name\"\n",
    "STATE_NAME: State = State.CA_1"
   ]
  },
  {
   "cell_type": "code",
   "execution_count": 38,
   "metadata": {},
   "outputs": [],
   "source": [
    "# Generate data\n",
    "id_range = [(1914 + i) for i in range(28)]\n",
    "date_range = pd.date_range(start=\"2016-04-25\", periods=28, freq=\"D\")\n",
    "d_values = [f\"d_{1914 + i}\" for i in range(28)]\n",
    "zero_values = [0] * 28\n",
    "\n",
    "# Create DataFrame\n",
    "df = pd.DataFrame(\n",
    "    {\n",
    "        \"id\": id_range,\n",
    "        \"date\": date_range,\n",
    "        \"d\": d_values,\n",
    "        f\"{STATE_NAME.value}\": zero_values,\n",
    "    }\n",
    ")"
   ]
  },
  {
   "cell_type": "code",
   "execution_count": 39,
   "metadata": {},
   "outputs": [
    {
     "data": {
      "application/vnd.microsoft.datawrangler.viewer.v0+json": {
       "columns": [
        {
         "name": "index",
         "rawType": "int64",
         "type": "integer"
        },
        {
         "name": "id",
         "rawType": "int64",
         "type": "integer"
        },
        {
         "name": "date",
         "rawType": "datetime64[ns]",
         "type": "datetime"
        },
        {
         "name": "d",
         "rawType": "object",
         "type": "string"
        },
        {
         "name": "CA_1",
         "rawType": "int64",
         "type": "integer"
        }
       ],
       "conversionMethod": "pd.DataFrame",
       "ref": "f791444f-dc91-4de2-b8b4-227b5e29a446",
       "rows": [
        [
         "0",
         "1914",
         "2016-04-25 00:00:00",
         "d_1914",
         "0"
        ],
        [
         "1",
         "1915",
         "2016-04-26 00:00:00",
         "d_1915",
         "0"
        ],
        [
         "2",
         "1916",
         "2016-04-27 00:00:00",
         "d_1916",
         "0"
        ],
        [
         "3",
         "1917",
         "2016-04-28 00:00:00",
         "d_1917",
         "0"
        ],
        [
         "4",
         "1918",
         "2016-04-29 00:00:00",
         "d_1918",
         "0"
        ],
        [
         "5",
         "1919",
         "2016-04-30 00:00:00",
         "d_1919",
         "0"
        ],
        [
         "6",
         "1920",
         "2016-05-01 00:00:00",
         "d_1920",
         "0"
        ],
        [
         "7",
         "1921",
         "2016-05-02 00:00:00",
         "d_1921",
         "0"
        ],
        [
         "8",
         "1922",
         "2016-05-03 00:00:00",
         "d_1922",
         "0"
        ],
        [
         "9",
         "1923",
         "2016-05-04 00:00:00",
         "d_1923",
         "0"
        ],
        [
         "10",
         "1924",
         "2016-05-05 00:00:00",
         "d_1924",
         "0"
        ],
        [
         "11",
         "1925",
         "2016-05-06 00:00:00",
         "d_1925",
         "0"
        ],
        [
         "12",
         "1926",
         "2016-05-07 00:00:00",
         "d_1926",
         "0"
        ],
        [
         "13",
         "1927",
         "2016-05-08 00:00:00",
         "d_1927",
         "0"
        ],
        [
         "14",
         "1928",
         "2016-05-09 00:00:00",
         "d_1928",
         "0"
        ],
        [
         "15",
         "1929",
         "2016-05-10 00:00:00",
         "d_1929",
         "0"
        ],
        [
         "16",
         "1930",
         "2016-05-11 00:00:00",
         "d_1930",
         "0"
        ],
        [
         "17",
         "1931",
         "2016-05-12 00:00:00",
         "d_1931",
         "0"
        ],
        [
         "18",
         "1932",
         "2016-05-13 00:00:00",
         "d_1932",
         "0"
        ],
        [
         "19",
         "1933",
         "2016-05-14 00:00:00",
         "d_1933",
         "0"
        ],
        [
         "20",
         "1934",
         "2016-05-15 00:00:00",
         "d_1934",
         "0"
        ],
        [
         "21",
         "1935",
         "2016-05-16 00:00:00",
         "d_1935",
         "0"
        ],
        [
         "22",
         "1936",
         "2016-05-17 00:00:00",
         "d_1936",
         "0"
        ],
        [
         "23",
         "1937",
         "2016-05-18 00:00:00",
         "d_1937",
         "0"
        ],
        [
         "24",
         "1938",
         "2016-05-19 00:00:00",
         "d_1938",
         "0"
        ],
        [
         "25",
         "1939",
         "2016-05-20 00:00:00",
         "d_1939",
         "0"
        ],
        [
         "26",
         "1940",
         "2016-05-21 00:00:00",
         "d_1940",
         "0"
        ],
        [
         "27",
         "1941",
         "2016-05-22 00:00:00",
         "d_1941",
         "0"
        ]
       ],
       "shape": {
        "columns": 4,
        "rows": 28
       }
      },
      "text/html": [
       "<div>\n",
       "<style scoped>\n",
       "    .dataframe tbody tr th:only-of-type {\n",
       "        vertical-align: middle;\n",
       "    }\n",
       "\n",
       "    .dataframe tbody tr th {\n",
       "        vertical-align: top;\n",
       "    }\n",
       "\n",
       "    .dataframe thead th {\n",
       "        text-align: right;\n",
       "    }\n",
       "</style>\n",
       "<table border=\"1\" class=\"dataframe\">\n",
       "  <thead>\n",
       "    <tr style=\"text-align: right;\">\n",
       "      <th></th>\n",
       "      <th>id</th>\n",
       "      <th>date</th>\n",
       "      <th>d</th>\n",
       "      <th>CA_1</th>\n",
       "    </tr>\n",
       "  </thead>\n",
       "  <tbody>\n",
       "    <tr>\n",
       "      <th>0</th>\n",
       "      <td>1914</td>\n",
       "      <td>2016-04-25</td>\n",
       "      <td>d_1914</td>\n",
       "      <td>0</td>\n",
       "    </tr>\n",
       "    <tr>\n",
       "      <th>1</th>\n",
       "      <td>1915</td>\n",
       "      <td>2016-04-26</td>\n",
       "      <td>d_1915</td>\n",
       "      <td>0</td>\n",
       "    </tr>\n",
       "    <tr>\n",
       "      <th>2</th>\n",
       "      <td>1916</td>\n",
       "      <td>2016-04-27</td>\n",
       "      <td>d_1916</td>\n",
       "      <td>0</td>\n",
       "    </tr>\n",
       "    <tr>\n",
       "      <th>3</th>\n",
       "      <td>1917</td>\n",
       "      <td>2016-04-28</td>\n",
       "      <td>d_1917</td>\n",
       "      <td>0</td>\n",
       "    </tr>\n",
       "    <tr>\n",
       "      <th>4</th>\n",
       "      <td>1918</td>\n",
       "      <td>2016-04-29</td>\n",
       "      <td>d_1918</td>\n",
       "      <td>0</td>\n",
       "    </tr>\n",
       "    <tr>\n",
       "      <th>5</th>\n",
       "      <td>1919</td>\n",
       "      <td>2016-04-30</td>\n",
       "      <td>d_1919</td>\n",
       "      <td>0</td>\n",
       "    </tr>\n",
       "    <tr>\n",
       "      <th>6</th>\n",
       "      <td>1920</td>\n",
       "      <td>2016-05-01</td>\n",
       "      <td>d_1920</td>\n",
       "      <td>0</td>\n",
       "    </tr>\n",
       "    <tr>\n",
       "      <th>7</th>\n",
       "      <td>1921</td>\n",
       "      <td>2016-05-02</td>\n",
       "      <td>d_1921</td>\n",
       "      <td>0</td>\n",
       "    </tr>\n",
       "    <tr>\n",
       "      <th>8</th>\n",
       "      <td>1922</td>\n",
       "      <td>2016-05-03</td>\n",
       "      <td>d_1922</td>\n",
       "      <td>0</td>\n",
       "    </tr>\n",
       "    <tr>\n",
       "      <th>9</th>\n",
       "      <td>1923</td>\n",
       "      <td>2016-05-04</td>\n",
       "      <td>d_1923</td>\n",
       "      <td>0</td>\n",
       "    </tr>\n",
       "    <tr>\n",
       "      <th>10</th>\n",
       "      <td>1924</td>\n",
       "      <td>2016-05-05</td>\n",
       "      <td>d_1924</td>\n",
       "      <td>0</td>\n",
       "    </tr>\n",
       "    <tr>\n",
       "      <th>11</th>\n",
       "      <td>1925</td>\n",
       "      <td>2016-05-06</td>\n",
       "      <td>d_1925</td>\n",
       "      <td>0</td>\n",
       "    </tr>\n",
       "    <tr>\n",
       "      <th>12</th>\n",
       "      <td>1926</td>\n",
       "      <td>2016-05-07</td>\n",
       "      <td>d_1926</td>\n",
       "      <td>0</td>\n",
       "    </tr>\n",
       "    <tr>\n",
       "      <th>13</th>\n",
       "      <td>1927</td>\n",
       "      <td>2016-05-08</td>\n",
       "      <td>d_1927</td>\n",
       "      <td>0</td>\n",
       "    </tr>\n",
       "    <tr>\n",
       "      <th>14</th>\n",
       "      <td>1928</td>\n",
       "      <td>2016-05-09</td>\n",
       "      <td>d_1928</td>\n",
       "      <td>0</td>\n",
       "    </tr>\n",
       "    <tr>\n",
       "      <th>15</th>\n",
       "      <td>1929</td>\n",
       "      <td>2016-05-10</td>\n",
       "      <td>d_1929</td>\n",
       "      <td>0</td>\n",
       "    </tr>\n",
       "    <tr>\n",
       "      <th>16</th>\n",
       "      <td>1930</td>\n",
       "      <td>2016-05-11</td>\n",
       "      <td>d_1930</td>\n",
       "      <td>0</td>\n",
       "    </tr>\n",
       "    <tr>\n",
       "      <th>17</th>\n",
       "      <td>1931</td>\n",
       "      <td>2016-05-12</td>\n",
       "      <td>d_1931</td>\n",
       "      <td>0</td>\n",
       "    </tr>\n",
       "    <tr>\n",
       "      <th>18</th>\n",
       "      <td>1932</td>\n",
       "      <td>2016-05-13</td>\n",
       "      <td>d_1932</td>\n",
       "      <td>0</td>\n",
       "    </tr>\n",
       "    <tr>\n",
       "      <th>19</th>\n",
       "      <td>1933</td>\n",
       "      <td>2016-05-14</td>\n",
       "      <td>d_1933</td>\n",
       "      <td>0</td>\n",
       "    </tr>\n",
       "    <tr>\n",
       "      <th>20</th>\n",
       "      <td>1934</td>\n",
       "      <td>2016-05-15</td>\n",
       "      <td>d_1934</td>\n",
       "      <td>0</td>\n",
       "    </tr>\n",
       "    <tr>\n",
       "      <th>21</th>\n",
       "      <td>1935</td>\n",
       "      <td>2016-05-16</td>\n",
       "      <td>d_1935</td>\n",
       "      <td>0</td>\n",
       "    </tr>\n",
       "    <tr>\n",
       "      <th>22</th>\n",
       "      <td>1936</td>\n",
       "      <td>2016-05-17</td>\n",
       "      <td>d_1936</td>\n",
       "      <td>0</td>\n",
       "    </tr>\n",
       "    <tr>\n",
       "      <th>23</th>\n",
       "      <td>1937</td>\n",
       "      <td>2016-05-18</td>\n",
       "      <td>d_1937</td>\n",
       "      <td>0</td>\n",
       "    </tr>\n",
       "    <tr>\n",
       "      <th>24</th>\n",
       "      <td>1938</td>\n",
       "      <td>2016-05-19</td>\n",
       "      <td>d_1938</td>\n",
       "      <td>0</td>\n",
       "    </tr>\n",
       "    <tr>\n",
       "      <th>25</th>\n",
       "      <td>1939</td>\n",
       "      <td>2016-05-20</td>\n",
       "      <td>d_1939</td>\n",
       "      <td>0</td>\n",
       "    </tr>\n",
       "    <tr>\n",
       "      <th>26</th>\n",
       "      <td>1940</td>\n",
       "      <td>2016-05-21</td>\n",
       "      <td>d_1940</td>\n",
       "      <td>0</td>\n",
       "    </tr>\n",
       "    <tr>\n",
       "      <th>27</th>\n",
       "      <td>1941</td>\n",
       "      <td>2016-05-22</td>\n",
       "      <td>d_1941</td>\n",
       "      <td>0</td>\n",
       "    </tr>\n",
       "  </tbody>\n",
       "</table>\n",
       "</div>"
      ],
      "text/plain": [
       "      id       date       d  CA_1\n",
       "0   1914 2016-04-25  d_1914     0\n",
       "1   1915 2016-04-26  d_1915     0\n",
       "2   1916 2016-04-27  d_1916     0\n",
       "3   1917 2016-04-28  d_1917     0\n",
       "4   1918 2016-04-29  d_1918     0\n",
       "5   1919 2016-04-30  d_1919     0\n",
       "6   1920 2016-05-01  d_1920     0\n",
       "7   1921 2016-05-02  d_1921     0\n",
       "8   1922 2016-05-03  d_1922     0\n",
       "9   1923 2016-05-04  d_1923     0\n",
       "10  1924 2016-05-05  d_1924     0\n",
       "11  1925 2016-05-06  d_1925     0\n",
       "12  1926 2016-05-07  d_1926     0\n",
       "13  1927 2016-05-08  d_1927     0\n",
       "14  1928 2016-05-09  d_1928     0\n",
       "15  1929 2016-05-10  d_1929     0\n",
       "16  1930 2016-05-11  d_1930     0\n",
       "17  1931 2016-05-12  d_1931     0\n",
       "18  1932 2016-05-13  d_1932     0\n",
       "19  1933 2016-05-14  d_1933     0\n",
       "20  1934 2016-05-15  d_1934     0\n",
       "21  1935 2016-05-16  d_1935     0\n",
       "22  1936 2016-05-17  d_1936     0\n",
       "23  1937 2016-05-18  d_1937     0\n",
       "24  1938 2016-05-19  d_1938     0\n",
       "25  1939 2016-05-20  d_1939     0\n",
       "26  1940 2016-05-21  d_1940     0\n",
       "27  1941 2016-05-22  d_1941     0"
      ]
     },
     "execution_count": 39,
     "metadata": {},
     "output_type": "execute_result"
    }
   ],
   "source": [
    "# Display DataFrame\n",
    "df"
   ]
  },
  {
   "cell_type": "code",
   "execution_count": 40,
   "metadata": {},
   "outputs": [],
   "source": [
    "df.to_csv(f\"{STATE_NAME.value}_{MODEL_NAME}.csv\", index=False)"
   ]
  }
 ],
 "metadata": {
  "kernelspec": {
   "display_name": "Python 3",
   "language": "python",
   "name": "python3"
  },
  "language_info": {
   "codemirror_mode": {
    "name": "ipython",
    "version": 3
   },
   "file_extension": ".py",
   "mimetype": "text/x-python",
   "name": "python",
   "nbconvert_exporter": "python",
   "pygments_lexer": "ipython3",
   "version": "3.12.7"
  }
 },
 "nbformat": 4,
 "nbformat_minor": 2
}
